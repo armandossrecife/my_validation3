{
  "nbformat": 4,
  "nbformat_minor": 0,
  "metadata": {
    "colab": {
      "provenance": [],
      "collapsed_sections": [
        "3VXzbRhyK7hH",
        "YTZHqwoh8KSf"
      ],
      "authorship_tag": "ABX9TyN9zf0ZyJ0a5eJUBpeV07ru",
      "include_colab_link": true
    },
    "kernelspec": {
      "name": "python3",
      "display_name": "Python 3"
    },
    "language_info": {
      "name": "python"
    }
  },
  "cells": [
    {
      "cell_type": "markdown",
      "metadata": {
        "id": "view-in-github",
        "colab_type": "text"
      },
      "source": [
        "<a href=\"https://colab.research.google.com/github/armandossrecife/my_validation3/blob/main/my_analysis_cassandra.ipynb\" target=\"_parent\"><img src=\"https://colab.research.google.com/assets/colab-badge.svg\" alt=\"Open In Colab\"/></a>"
      ]
    },
    {
      "cell_type": "markdown",
      "source": [
        "# Setup do Ambiente de Análise"
      ],
      "metadata": {
        "id": "3VXzbRhyK7hH"
      }
    },
    {
      "cell_type": "code",
      "source": [
        "!rm -rf *.log\n",
        "!rm -rf *.txt\n",
        "!rm -rf *.xlsx\n",
        "!rm -rf my_issues\n",
        "!rm -rf cassandra"
      ],
      "metadata": {
        "id": "nPHCWuAukPhs"
      },
      "execution_count": 222,
      "outputs": []
    },
    {
      "cell_type": "code",
      "source": [
        "print('Install Pydriller.')\n",
        "!pip install pydriller > install_pydriller.log\n",
        "print('Install gitpython.')\n",
        "!pip3 install gitpython > install_gitpython.log\n",
        "print('Install Jira Python lib.')\n",
        "!pip install jira > install_jira_python.log\n",
        "print('Install SQLite in Linux')\n",
        "!sudo apt install -y sqlite3 > install_sqlite.log\n",
        "print('All depenpencies installed!')\n",
        "!cat *.log > install.log\n",
        "print('Details in install.log')"
      ],
      "metadata": {
        "colab": {
          "base_uri": "https://localhost:8080/"
        },
        "id": "2wQ-xzYG4nqN",
        "outputId": "fe605f32-35f4-43fa-ed62-8e681571350b"
      },
      "execution_count": 223,
      "outputs": [
        {
          "output_type": "stream",
          "name": "stdout",
          "text": [
            "Install Pydriller.\n",
            "Install gitpython.\n",
            "Install Jira Python lib.\n",
            "Install SQLite in Linux\n",
            "\n",
            "WARNING: apt does not have a stable CLI interface. Use with caution in scripts.\n",
            "\n",
            "All depenpencies installed!\n",
            "Details in install.log\n"
          ]
        }
      ]
    },
    {
      "cell_type": "markdown",
      "source": [
        "## Importa bibliotecas necessárias"
      ],
      "metadata": {
        "id": "eZ-7Eh0v7euY"
      }
    },
    {
      "cell_type": "code",
      "execution_count": 224,
      "metadata": {
        "id": "XUVu8pQm4ifo"
      },
      "outputs": [],
      "source": [
        "import os\n",
        "from datetime import datetime, timedelta\n",
        "import tqdm\n",
        "from pydriller import Repository\n",
        "from jira import JIRA\n",
        "import pandas as pd\n",
        "import re\n",
        "import scipy.stats as stats\n",
        "import random\n",
        "import shutil\n",
        "import time"
      ]
    },
    {
      "cell_type": "markdown",
      "source": [
        "## Variáveis Globais"
      ],
      "metadata": {
        "id": "aln3JNKYAVgb"
      }
    },
    {
      "cell_type": "code",
      "source": [
        "my_repository = 'cassandra'\n",
        "url_to_repository = 'https://github.com/apache/cassandra.git'\n",
        "os.environ['MY_REPOSITORY'] = url_to_repository\n",
        "\n",
        "JIRA_SERVER = 'https://issues.apache.org/jira'\n",
        "ISSUE_TRACKER_PROJECT = 'CASSANDRA'\n",
        "\n",
        "# Credentials\n",
        "os.environ['USERNAME'] = 'armandossrecife'\n",
        "os.environ['PASSWORD'] = 'sky1979#ce'\n",
        "username = os.environ.get('USERNAME')\n",
        "password = os.environ.get('PASSWORD')\n",
        "\n",
        "lista_arquivos_criticos = ['StorageService.java', 'ColumnFamilyStore.java','DatabaseDescriptor.java','CompactionManager.java','StorageProxy.java','SSTableReader.java','Config.java','CassandraDaemon.java','SelectStatement.java','SinglePartitionReadCommand.java','NodeProbe.java','MessagingService.java']"
      ],
      "metadata": {
        "id": "OEbrNLLn5wq5"
      },
      "execution_count": 225,
      "outputs": []
    },
    {
      "cell_type": "markdown",
      "source": [
        "## Clona o Repositório"
      ],
      "metadata": {
        "id": "Ti5lAYXOAY1z"
      }
    },
    {
      "cell_type": "code",
      "source": [
        "print(f'Clona o repositório : {url_to_repository}')\n",
        "!git clone $MY_REPOSITORY"
      ],
      "metadata": {
        "colab": {
          "base_uri": "https://localhost:8080/"
        },
        "id": "MWfNScS_5uvT",
        "outputId": "9461bc6c-16bd-4e8f-ed12-ee7cb7871d90"
      },
      "execution_count": 226,
      "outputs": [
        {
          "output_type": "stream",
          "name": "stdout",
          "text": [
            "Clona o repositório : https://github.com/apache/cassandra.git\n",
            "Cloning into 'cassandra'...\n",
            "remote: Enumerating objects: 405556, done.\u001b[K\n",
            "remote: Counting objects: 100% (1119/1119), done.\u001b[K\n",
            "remote: Compressing objects: 100% (737/737), done.\u001b[K\n",
            "remote: Total 405556 (delta 391), reused 765 (delta 235), pack-reused 404437\u001b[K\n",
            "Receiving objects: 100% (405556/405556), 406.33 MiB | 17.96 MiB/s, done.\n",
            "Resolving deltas: 100% (236498/236498), done.\n",
            "Updating files: 100% (6212/6212), done.\n"
          ]
        }
      ]
    },
    {
      "cell_type": "markdown",
      "source": [
        "## Funções de apoio"
      ],
      "metadata": {
        "id": "YTZHqwoh8KSf"
      }
    },
    {
      "cell_type": "code",
      "source": [
        "def get_all_commits_by_range(initial_date, final_date, repository_name):\n",
        "  \"\"\"Extracts information from a date range of commits\n",
        "  Args:\n",
        "      initial_date: inicial date of commits\n",
        "      final_date: final date of commits\n",
        "  Returns:\n",
        "        A dictionary of commits, where the keys are the commit hashes and the\n",
        "        values are tuples containing the commit message, commit's date, commit's line, commit's file, a list of files modified in the commit, a list of all diffs from modified files\n",
        "  \"\"\"\n",
        "  dict_commit_modified_files = {}\n",
        "  print('Wait...')\n",
        "  my_traverser_commits = Repository(repository_name, since=initial_date, to=final_date).traverse_commits()\n",
        "  total_commits = len(list(my_traverser_commits))\n",
        "  try:\n",
        "    for commit in tqdm.tqdm(Repository(repository_name, since=initial_date, to=final_date).traverse_commits(), total=total_commits, desc=\"Progress commit anlysis\"):\n",
        "      list_of_modified_files = []\n",
        "      list_dict_of_diff_modified_files = []\n",
        "      for m in commit.modified_files:\n",
        "        dict_m_diff = {}\n",
        "        if m is not None:\n",
        "          list_of_modified_files.append(m.filename)\n",
        "          dict_m_diff[m.filename] = m.diff\n",
        "          list_dict_of_diff_modified_files.append(dict_m_diff)\n",
        "      data_commit = str(commit.committer_date.day) + '/' + str(commit.committer_date.month) + '/' + str(commit.committer_date.year)\n",
        "      element = commit.msg, data_commit, commit.lines, commit.files, list_of_modified_files, list_dict_of_diff_modified_files\n",
        "      dict_commit_modified_files[commit.hash] = element\n",
        "  except Exception as ex:\n",
        "    print(f'Erro during travesse commits: {str(ex)}')\n",
        "  return dict_commit_modified_files, total_commits\n",
        "\n",
        "def get_commits_by_range_and_critical_files(initial_date, final_date, critical_files, repository_name):\n",
        "  \"\"\"Extracts information from a date range of commits, focusing on critical files.\n",
        "  Args:\n",
        "      initial_date: inicial date of commits\n",
        "      final_date: final date of commits\n",
        "      critical_files: A list of critical file paths. ex: ['StorageService.java', 'ColumnFamilyStore.java']\n",
        "  Returns:\n",
        "        A dictionary of commits, where the keys are the commit hashes and the\n",
        "        values are tuples containing the commit message, commits's date, commit's line, commit's file, a list of critical files modified in the commit, a list_of_modified_files, a dictionary of diff [filename]:filename.diff, a list of all diffs from modified files\n",
        "        commit.msg, data_commit, commit.lines, commit.files, list_of_critical_files_modified, list_of_modified_files, list_dict_of_diff_files, list_dict_of_diff_modified_files\n",
        "  \"\"\"\n",
        "\n",
        "  dict_commit_modified_files = {}\n",
        "  print('Wait...')\n",
        "  my_traverser_commits = Repository(repository_name, since=initial_date, to=final_date).traverse_commits()\n",
        "  total_commits = len(list(my_traverser_commits))\n",
        "  try:\n",
        "    for commit in tqdm.tqdm(Repository(repository_name, since=initial_date, to=final_date).traverse_commits(), total=total_commits, desc=\"Progress critical files commit anlysis\"):\n",
        "      list_of_critical_files_modified = []\n",
        "      list_of_modified_files = []\n",
        "      list_dict_of_diff_files = []\n",
        "      list_dict_of_diff_modified_files = []\n",
        "      for m in commit.modified_files:\n",
        "        dict_diff_file = {}\n",
        "        list_of_modified_files.append(m.filename)\n",
        "        list_dict_of_diff_modified_files.append(m.diff)\n",
        "        if m.filename in critical_files:\n",
        "          list_of_critical_files_modified.append(m.filename)\n",
        "          dict_diff_file[m.filename] = m.diff\n",
        "          list_dict_of_diff_files.append(dict_diff_file)\n",
        "      if len(list_of_critical_files_modified) > 0:\n",
        "        data_commit = str(commit.committer_date.day) + '/' + str(commit.committer_date.month) + '/' + str(commit.committer_date.year)\n",
        "        element = commit.msg, data_commit, commit.lines, commit.files, list_of_critical_files_modified, list_of_modified_files, list_dict_of_diff_files, list_dict_of_diff_modified_files\n",
        "        dict_commit_modified_files[commit.hash] = element\n",
        "  except Exception as ex:\n",
        "    print(f'Erro during travesse commits: {str(ex)}')\n",
        "  return dict_commit_modified_files, total_commits"
      ],
      "metadata": {
        "id": "blFSkQG57Uwo"
      },
      "execution_count": 227,
      "outputs": []
    },
    {
      "cell_type": "code",
      "source": [
        "class JiraIssue:\n",
        "  def __init__(self, key, summary, issue_type, status, priority, description, comments):\n",
        "    self.key = key\n",
        "    self.summary = summary\n",
        "    self.issue_type = issue_type\n",
        "    self.status = status\n",
        "    self.priority = priority\n",
        "    self.description = description\n",
        "    self.comments = comments\n",
        "\n",
        "  def get_comments(self):\n",
        "    return self.comments\n",
        "\n",
        "  def __str__(self):\n",
        "    return (f'Key: {self.key}, Summary: {self.summary}, Type: {self.issue_type}, Status: {self.status}')\n",
        "\n",
        "class JiraIssues:\n",
        "  def __init__(self,project, issues):\n",
        "    self.project = project\n",
        "    self.issues = issues\n",
        "\n",
        "  def add_issue(self, issue):\n",
        "    self.issues.append(issue)\n",
        "\n",
        "  def get_issues(self) -> list:\n",
        "    return self.issues\n",
        "\n",
        "  def update_issues(self, issues):\n",
        "    self.issues = issues\n",
        "\n",
        "  def __str__(self):\n",
        "    str_issues = \"\"\n",
        "    for issue in self.get_issues():\n",
        "      str_issues = str_issues + str(issue)\n",
        "      str_issues = str_issues + ', '\n",
        "    str_issues = '[' + str_issues + ']'\n",
        "    return (f'Project: {self.project}, Qdt of issues: {len(self.issues)}, Issues: {str_issues}')\n",
        "\n",
        "# Classe de utilidades para manipular o servidor Jira\n",
        "class JiraUtils:\n",
        "  def __init__(self, project, jira_instance):\n",
        "    self.project = project\n",
        "    self.jira_jira_instance = jira_instance\n",
        "\n",
        "  def generate_intervals_between_dates(self, date1: tuple, date2: tuple, distance=120) -> list:\n",
        "    start_date = datetime(date1[0], date1[1], date1[2])\n",
        "    end_date = datetime(date2[0], date2[1], date2[2])\n",
        "    interval_days = distance\n",
        "    # Initialize a list to store the intervals\n",
        "    intervals = []\n",
        "    # Initialize the current date as the start date\n",
        "    current_date = start_date\n",
        "    # Loop to generate intervals until the current date is less than or equal to the end date\n",
        "    while current_date < end_date:\n",
        "        interval = (current_date, current_date + timedelta(days=interval_days - 1))\n",
        "        intervals.append(interval)\n",
        "        current_date += timedelta(days=interval_days)\n",
        "    return intervals\n",
        "\n",
        "  def convert_interval_dates(self, dates: list) -> list:\n",
        "    list_interval_dates = []\n",
        "    for each in dates:\n",
        "      date1 = each[0]\n",
        "      # Convert the date to a string in the format \"YYYY/MM/DD\".\n",
        "      str_date1 = date1.strftime(\"%Y/%m/%d\")\n",
        "      date2 = each[1]\n",
        "      str_date2 = date2.strftime(\"%Y/%m/%d\")\n",
        "      elemento = str_date1, str_date2\n",
        "      list_interval_dates.append(elemento)\n",
        "    return list_interval_dates\n",
        "\n",
        "  def generate_list_of_sentences(self, dates: list) -> list:\n",
        "    lista_sentencas = []\n",
        "    for each in dates:\n",
        "      str_date1 = each[0].strftime(\"%Y/%m/%d\")\n",
        "      str_date2 = each[1].strftime(\"%Y/%m/%d\")\n",
        "      sentenca = f'project={self.project.upper()} and created>=\"{str_date1}\" and created<=\"{str_date2}\"'\n",
        "      lista_sentencas.append(sentenca)\n",
        "    return lista_sentencas\n",
        "\n",
        "  def get_list_of_block_issues_by_dates(self,date1, date2, distance=120) -> list:\n",
        "    print('Aguarde...')\n",
        "    t1 = datetime.now()\n",
        "    list_of_dates = self.generate_intervals_between_dates(date1,date2,distance)\n",
        "    lista_sentencas = self.generate_list_of_sentences(list_of_dates)\n",
        "    lista_bloco_issues_by_date = []\n",
        "    total_items = len(lista_sentencas)\n",
        "    i = 0\n",
        "    iterable_lista_sentencas = tqdm.tqdm(lista_sentencas, total=total_items)\n",
        "    for each in iterable_lista_sentencas:\n",
        "      issues_by_date_temp = self.jira_jira_instance.search_issues(each,maxResults=1000)\n",
        "      print(f'Range: {each}, qtd issues: {len(issues_by_date_temp)}')\n",
        "      lista_bloco_issues_by_date.append(issues_by_date_temp)\n",
        "      percentage = (i + 1) / total_items * 100\n",
        "      iterable_lista_sentencas.set_description(f\"Progress Message Analysis\")\n",
        "    i += 1\n",
        "    t2 = datetime.now()\n",
        "    print(t2)\n",
        "    print(f'Tempo da consulta: {t2-t1}')\n",
        "    return lista_bloco_issues_by_date\n",
        "\n",
        "  def concatenate_block_of_issues(self,block_of_issues):\n",
        "    concatenated_list = [item for sublist in block_of_issues for item in sublist]\n",
        "    print(f'Total de issues recuperados: {len(concatenated_list)}')\n",
        "    return concatenated_list"
      ],
      "metadata": {
        "id": "SBj01vqNGR6L"
      },
      "execution_count": 228,
      "outputs": []
    },
    {
      "cell_type": "code",
      "source": [
        "def analyze_jira_all_issues(project, all_issues):\n",
        "    \"\"\"Extracts all issues from Issue Tracker\n",
        "        Args:\n",
        "          project: Issue Tracker Project name, example: CASSANDRA\n",
        "          all_issues: a block of issues\n",
        "        Returns:\n",
        "          A list of JiraIssues\n",
        "    \"\"\"\n",
        "    # Create an instance of JiraIssues to manage all issues\n",
        "    my_all_issues = JiraIssues(project, [])\n",
        "    total_items = len(all_issues)\n",
        "\n",
        "    # Iterate through the fetched issues\n",
        "    for issue in tqdm.tqdm(all_issues, total=total_items, desc='Progress jira all issues analysis'):\n",
        "        issue_key = issue.key\n",
        "        issue_summary = issue.fields.summary\n",
        "        issue_description = issue.fields.description\n",
        "        issue_comments = [comment.body for comment in issue.fields.comment.comments]\n",
        "\n",
        "        # Check for SATD keywords in the issue's summary, description, and comments\n",
        "        if issue_summary is None:\n",
        "            issue_summary = \"\"\n",
        "        if issue_description is None:\n",
        "            issue_description = \"\"\n",
        "        if issue_comments is None:\n",
        "            issue_comments = \"\"\n",
        "\n",
        "        issue_type = issue.fields.issuetype.name\n",
        "        issue_status = issue.fields.status.name\n",
        "        issue_priority = issue.fields.priority.name\n",
        "\n",
        "        # Create a JiraIssue instance for the SATD issue\n",
        "        my_issue = JiraIssue(issue_key, issue_summary, issue_type, issue_status, issue_priority, issue_description, issue_comments)\n",
        "\n",
        "        my_all_issues.add_issue(my_issue)\n",
        "\n",
        "    return my_all_issues"
      ],
      "metadata": {
        "id": "4dB8DTcvIHQP"
      },
      "execution_count": 229,
      "outputs": []
    },
    {
      "cell_type": "code",
      "source": [
        "def convert_issues_to_dataframe(all_real_issues):\n",
        "  l_issue_key_aux, l_issue_type_aux, l_issue_summary_aux, l_issue_description_aux, l_issue_status_aux, l_issue_priority_aux, l_issue_comments_aux = [], [], [], [], [], [], []\n",
        "\n",
        "  for issue in all_real_issues.get_issues():\n",
        "    l_issue_key_aux.append(issue.key)\n",
        "    l_issue_type_aux.append(issue.issue_type)\n",
        "    l_issue_summary_aux.append(issue.summary)\n",
        "    l_issue_description_aux.append(issue.description)\n",
        "    l_issue_status_aux.append(issue.status)\n",
        "    l_issue_priority_aux.append(issue.priority)\n",
        "    texto_aux = \"\"\n",
        "    for item in issue.get_comments():\n",
        "      texto_aux = texto_aux + str(item) + \"\\n\"\n",
        "    l_issue_comments_aux.append(texto_aux)\n",
        "\n",
        "  dict_all_reall_issues_in_commits_detailed = {\n",
        "  'issue_key': l_issue_key_aux,\n",
        "  'issue_type':l_issue_type_aux,\n",
        "  'status':l_issue_status_aux,\n",
        "  'priority':l_issue_priority_aux,\n",
        "  'summary':l_issue_summary_aux,\n",
        "  'description':l_issue_description_aux,\n",
        "  'comments':l_issue_comments_aux\n",
        "  }\n",
        "\n",
        "  df_all_reall_issues_in_commits_detailed = pd.DataFrame(dict_all_reall_issues_in_commits_detailed)\n",
        "  return df_all_reall_issues_in_commits_detailed\n",
        "\n",
        "def convert_commits_to_dataframe(dict_of_commits):\n",
        "  '''\n",
        "  v[0] = commit.msg,\n",
        "  v[1] = data_commit,\n",
        "  v[2] = commit.lines,\n",
        "  v[3] = commit.files,\n",
        "  v[4] = list_of_critical_files_modified,\n",
        "  v[5] = list_of_modified_files,\n",
        "  v[6] = list_dict_of_diff_files,\n",
        "  v[7] = list_dict_of_diff_modified_files\n",
        "  '''\n",
        "  l_commit_hash, l_commit_msg, l_commit_data, l_commit_lines, l_commit_files, l_commit_critical_files, l_commit_modified_fies, l_commit_diff_files, l_commit_diff_modified_files = [], [], [], [], [], [], [], [], []\n",
        "  for k, v in dict_of_commits.items():\n",
        "    l_commit_hash.append(k)\n",
        "    l_commit_msg.append(v[0])\n",
        "    l_commit_data.append(v[1])\n",
        "    l_commit_lines.append(v[2])\n",
        "    l_commit_files.append(v[3])\n",
        "    l_commit_critical_files.append(v[4])\n",
        "    l_commit_modified_fies.append(v[5])\n",
        "    l_commit_diff_files.append(v[6])\n",
        "    l_commit_diff_modified_files.append(v[7])\n",
        "\n",
        "  dict_of_commits_aux = {\n",
        "      'hash': l_commit_hash,\n",
        "      'msg': l_commit_msg,\n",
        "      'date': l_commit_data,\n",
        "      'lines': l_commit_lines,\n",
        "      'files': l_commit_files,\n",
        "      'critical_files': l_commit_critical_files,\n",
        "      'modified_files': l_commit_modified_fies,\n",
        "      'diff_files': l_commit_diff_files,\n",
        "      'diff_files_modified_files': l_commit_diff_modified_files\n",
        "  }\n",
        "\n",
        "  df_commits = pd.DataFrame(dict_of_commits_aux)\n",
        "  return df_commits"
      ],
      "metadata": {
        "id": "_VIhIXRaNtVr"
      },
      "execution_count": 230,
      "outputs": []
    },
    {
      "cell_type": "code",
      "source": [
        "def find_issues_id_by_project(input_string: str, project: str) -> list[str]:\n",
        "    \"\"\"Finds all Cassandra issue ID patterns in the input string.\n",
        "    Args:\n",
        "        input_string: The input string.\n",
        "        project: The pattern related to project name, for example: CASSANDRA project name\n",
        "    Returns:\n",
        "        A list of project issue IDs, if found; otherwise, an empty list.\n",
        "    \"\"\"\n",
        "    # Try to find all Cassandra issue ID patterns in the input string\n",
        "    matches = re.findall(r\"({0}-\\d+)\".format(project), input_string)\n",
        "    # Return an empty list if no matches are found\n",
        "    if not matches:\n",
        "        return []\n",
        "    # Convert the list of matches to a set to remove duplicates\n",
        "    set_matches = set(matches)\n",
        "    # Convert the set of matches back to a list\n",
        "    list_unique_matches = list(set_matches)\n",
        "\n",
        "    # Return the list of matched Cassandra issue IDs\n",
        "    return list_unique_matches\n",
        "\n",
        "def get_commits_with_critical_files_and_issues_in_this_commits(df_commits_with_critical_files):\n",
        "  dict_issues_in_commits = {}\n",
        "  for index in df_commits_with_critical_files.index:\n",
        "    l_issues_in_commit = find_issues_id_by_project(input_string=df_commits_with_critical_files.msg[index], project=ISSUE_TRACKER_PROJECT)\n",
        "    if len(l_issues_in_commit) > 0:\n",
        "      commit_hash = df_commits_with_critical_files.hash[index]\n",
        "      dict_issues_in_commits[commit_hash] = l_issues_in_commit\n",
        "\n",
        "  list_issue_commits, list_issue_issues = [], []\n",
        "  for k, v in dict_issues_in_commits.items():\n",
        "    list_issue_commits.append(k)\n",
        "    for issue in v:\n",
        "      if issue not in list_issue_issues:\n",
        "        list_issue_issues.append(issue)\n",
        "\n",
        "  df_aux  = df_all_reall_issues_in_commits_detailed.copy()\n",
        "  df_issues_in_commits_with_critical_classes = df_aux[df_aux['issue_key'].isin(list_issue_issues)]\n",
        "\n",
        "  return dict_issues_in_commits, df_issues_in_commits_with_critical_classes\n",
        "\n",
        "def calculate_sample_size(confidence_level, margin_of_error, population_proportion, population_size):\n",
        "    # Calculate the Z-score for the given confidence level\n",
        "    z_score = stats.norm.ppf(1 - (1 - confidence_level) / 2)\n",
        "\n",
        "    # Calculate the sample size formula\n",
        "    sample_size = ((z_score**2) * population_proportion * (1 - population_proportion)) / (margin_of_error**2)\n",
        "\n",
        "    # Adjust for finite population\n",
        "    if population_size:\n",
        "        sample_size = sample_size / (1 + ((sample_size - 1) / population_size))\n",
        "\n",
        "    return int(sample_size)"
      ],
      "metadata": {
        "id": "6nD0K5spOxBC"
      },
      "execution_count": 231,
      "outputs": []
    },
    {
      "cell_type": "code",
      "source": [
        "def get_max_n_chars(text, max_n):\n",
        "  text_length = len(text)\n",
        "  if text_length <= max_n:\n",
        "    return text\n",
        "  else:\n",
        "    return text[:max_n]\n",
        "\n",
        "def create_new_file(filename, dir_name, issue_type, summary, description, status, comments):\n",
        "  try:\n",
        "    filename = dir_name + '/' + filename\n",
        "\n",
        "    if issue_type is None:\n",
        "      issue_type = ''\n",
        "    if summary is None:\n",
        "      summary = ''\n",
        "    if description is None:\n",
        "      description = ''\n",
        "    if status is None:\n",
        "      status = ''\n",
        "    if comments is None:\n",
        "      comments = ''\n",
        "\n",
        "    with open(filename, mode='w') as f_issue:\n",
        "      f_issue.write(f'issue_type: {issue_type} \\n')\n",
        "      f_issue.write(f'summary: {summary} \\n')\n",
        "      f_issue.write(f'description: {get_max_n_chars(text=description, max_n=1000)} \\n')\n",
        "      f_issue.write(f'status: {status} \\n')\n",
        "      f_issue.write(f'comments: {get_max_n_chars(text=comments, max_n=4000)} \\n')\n",
        "    print(f'File {filename} created with success!')\n",
        "\n",
        "  except Exception as ex:\n",
        "    print(f'Erro ao criar arquivo: {str(ex)}')\n"
      ],
      "metadata": {
        "id": "1wdhaFJxZMYF"
      },
      "execution_count": 232,
      "outputs": []
    },
    {
      "cell_type": "code",
      "source": [
        "# Seleciona randomicamente os issues para inspeção\n",
        "def select_issues_to_inspection(sample_size, df_issues_in_commits_with_critical_classes, my_date='02/11/2023'):\n",
        "  lista_issues_inspecao = []\n",
        "  dict_issues_para_inspecao = {}\n",
        "  list_issue_key = df_issues_in_commits_with_critical_classes.issue_key.to_list()\n",
        "  list_issue_key = list(set(list_issue_key))\n",
        "  sample_issues = random.choices(list_issue_key, k=sample_size)\n",
        "  dict_issues_para_inspecao['02/11/2023'] = sample_issues\n",
        "  print(f'{len(sample_issues)} para inspeção manual')\n",
        "\n",
        "  date_file_name = my_date.split('/')\n",
        "  date_file_name = date_file_name[0] + date_file_name[1] + date_file_name[2]\n",
        "  file_name = 'issues_inspecao_' + date_file_name + '.txt'\n",
        "  with open(file_name, mode='w') as f_temp:\n",
        "    for v in dict_issues_para_inspecao[my_date]:\n",
        "      elemento = v + ','\n",
        "      f_temp.write(elemento)\n",
        "  print(f'Relação de Issues salvos em {my_date} para inspeção.')\n",
        "  return sample_issues\n",
        "\n",
        "# Gera os arquivos .txt de cada issue selecionado para inspeção\n",
        "def generate_files_issues_to_inspection(sample_issues, df_issues_in_commits_with_critical_classes):\n",
        "  contador = 0\n",
        "  my_dir_name = 'my_issues'\n",
        "  if not os.path.exists(my_dir_name):\n",
        "    os.makedirs(my_dir_name)\n",
        "\n",
        "  total_of_issues = df_issues_in_commits_with_critical_classes.shape[0]\n",
        "  for index in tqdm.tqdm(df_issues_in_commits_with_critical_classes.index, total=total_of_issues, desc='Analyzing issues'):\n",
        "    for issue in sample_issues:\n",
        "      if df_issues_in_commits_with_critical_classes.issue_key[index] == issue:\n",
        "        create_new_file(filename=df_issues_in_commits_with_critical_classes.issue_key[index], dir_name=my_dir_name, issue_type=df_issues_in_commits_with_critical_classes.issue_type[index], summary=df_issues_in_commits_with_critical_classes.summary[index], description=df_issues_in_commits_with_critical_classes.description[index], status=df_issues_in_commits_with_critical_classes.status[index], comments=df_issues_in_commits_with_critical_classes.comments[index])\n",
        "        contador += 1\n",
        "  print(f'Foram criados {contador} arquivos para inspeção')"
      ],
      "metadata": {
        "id": "6Tow6aFWiqXK"
      },
      "execution_count": 233,
      "outputs": []
    },
    {
      "cell_type": "markdown",
      "source": [
        "# 1. Extrai commits de um repositório de código"
      ],
      "metadata": {
        "id": "Mu4GQlBW4jTM"
      }
    },
    {
      "cell_type": "code",
      "source": [
        "start_date = datetime(2009, 3, 2, 0, 0, 0)\n",
        "end_date = datetime(2023, 10, 4, 0, 0, 0)\n",
        "extract_all_commits = get_all_commits_by_range(initial_date=start_date, final_date=end_date, repository_name=my_repository)\n",
        "\n",
        "all_commits = extract_all_commits[0]\n",
        "total_all_commits = extract_all_commits[1]\n",
        "\n",
        "print(f'Total de commits extraídos: {total_all_commits}')"
      ],
      "metadata": {
        "colab": {
          "base_uri": "https://localhost:8080/"
        },
        "id": "PPY1F6V77MIW",
        "outputId": "4986fab3-bbd5-4b05-fd8a-6083fb15f835"
      },
      "execution_count": 234,
      "outputs": [
        {
          "output_type": "stream",
          "name": "stdout",
          "text": [
            "Wait...\n"
          ]
        },
        {
          "output_type": "stream",
          "name": "stderr",
          "text": [
            "Progress commit anlysis: 100%|██████████| 29230/29230 [13:39<00:00, 35.69it/s]"
          ]
        },
        {
          "output_type": "stream",
          "name": "stdout",
          "text": [
            "Total de commits extraídos: 29230\n"
          ]
        },
        {
          "output_type": "stream",
          "name": "stderr",
          "text": [
            "\n"
          ]
        }
      ]
    },
    {
      "cell_type": "markdown",
      "source": [
        "## Filtra os commits com classes críticas"
      ],
      "metadata": {
        "id": "bWPoDyA1Ld38"
      }
    },
    {
      "cell_type": "code",
      "source": [
        "print(f'Analisa a faixa de commits entre: initial_date={str(start_date)}, final_date={str(end_date)}')\n",
        "print('Registra apenas os commits que contem pelo menos um arquivo crítico')\n",
        "filter_commits_with_critical_files = get_commits_by_range_and_critical_files(initial_date=start_date, final_date=end_date, critical_files=lista_arquivos_criticos, repository_name=my_repository)\n",
        "commits_with_critical_files = filter_commits_with_critical_files[0]\n",
        "total_of_commits_with_critical_files = filter_commits_with_critical_files[1]\n",
        "\n",
        "print(f'Total de commits com classes críticas: {total_of_commits_with_critical_files}')"
      ],
      "metadata": {
        "colab": {
          "base_uri": "https://localhost:8080/"
        },
        "id": "xsFZ_4-PBMqb",
        "outputId": "97c82238-410b-4024-dbc5-af1240ee06a5"
      },
      "execution_count": 235,
      "outputs": [
        {
          "output_type": "stream",
          "name": "stdout",
          "text": [
            "Analisa a faixa de commits entre: initial_date=2009-03-02 00:00:00, final_date=2023-10-04 00:00:00\n",
            "Registra apenas os commits que contem pelo menos um arquivo crítico\n",
            "Wait...\n"
          ]
        },
        {
          "output_type": "stream",
          "name": "stderr",
          "text": [
            "Progress critical files commit anlysis: 100%|██████████| 29230/29230 [06:33<00:00, 74.31it/s]"
          ]
        },
        {
          "output_type": "stream",
          "name": "stdout",
          "text": [
            "Total de commits com classes críticas: 29230\n"
          ]
        },
        {
          "output_type": "stream",
          "name": "stderr",
          "text": [
            "\n"
          ]
        }
      ]
    },
    {
      "cell_type": "markdown",
      "source": [
        "### Converte os commits com classes críticas para dataframe"
      ],
      "metadata": {
        "id": "bWaZoj8hPxk4"
      }
    },
    {
      "cell_type": "code",
      "source": [
        "df_commits_with_critical_files = convert_commits_to_dataframe(dict_of_commits=commits_with_critical_files)\n",
        "df_commits_with_critical_files"
      ],
      "metadata": {
        "colab": {
          "base_uri": "https://localhost:8080/",
          "height": 652
        },
        "id": "8hxQYo8uSXgf",
        "outputId": "3fad01be-2f0b-419a-c1ed-a270be31db80"
      },
      "execution_count": 236,
      "outputs": [
        {
          "output_type": "execute_result",
          "data": {
            "text/plain": [
              "                                          hash  \\\n",
              "0     1f91e99223b0d1b7ed8390400d4a06ac08e4aa85   \n",
              "1     cf56f8f3acbeac0ddff9ee3131ad7abe2a919ba3   \n",
              "2     5bea7e1772e9fd042b10abebb1e0c78579942b26   \n",
              "3     f4f3ca50d84e165a909dca5608babb32df199f44   \n",
              "4     39d3f833f9c4e154eb157336f5e7b2a1ce9a79a3   \n",
              "...                                        ...   \n",
              "4517  6708499e4c930f7733894e6076b925fb151d9251   \n",
              "4518  20d80118ac02d853d501e3f5c24a63a12d4010f5   \n",
              "4519  d16e8d3653dce8ed767a040c06dbaabc47a9b474   \n",
              "4520  b9586501a6b6cdfe465302448018785652c9b966   \n",
              "4521  164fa7949d1437528363465d14ed20898f1daa9e   \n",
              "\n",
              "                                                    msg       date  lines  \\\n",
              "0     git-svn-id: https://svn.apache.org/repos/asf/i...   2/3/2009  74502   \n",
              "1     Add build script and make sure it works\\n\\ngit...   2/3/2009    156   \n",
              "2     Removed references to JDK7 specific things.\\n\\...  20/3/2009     82   \n",
              "3     rename serializer2 -> serializerWithIndexers\\n...  27/3/2009     26   \n",
              "4     add SuperColumn support to forceFlush.  split ...  27/3/2009     89   \n",
              "...                                                 ...        ...    ...   \n",
              "4517  Remove metrics-reporter-config dependency\\n\\np...  12/9/2023    105   \n",
              "4518  Add the ability to disable bulk loading of SST...  19/9/2023    289   \n",
              "4519  Do not create sstable files before registering...  25/9/2023    724   \n",
              "4520  Internode legacy SSL storage port certificate ...  25/9/2023    237   \n",
              "4521  Add support for repair coordinator to retry me...  27/9/2023   8533   \n",
              "\n",
              "      files                                     critical_files  \\\n",
              "0       344  [DatabaseDescriptor.java, ColumnFamilyStore.ja...   \n",
              "1         4                              [StorageService.java]   \n",
              "2         2                           [ColumnFamilyStore.java]   \n",
              "3         4                           [ColumnFamilyStore.java]   \n",
              "4         5                           [ColumnFamilyStore.java]   \n",
              "...     ...                                                ...   \n",
              "4517     10                             [CassandraDaemon.java]   \n",
              "4518     11                                      [Config.java]   \n",
              "4519     18                           [CompactionManager.java]   \n",
              "4520     13                            [MessagingService.java]   \n",
              "4521    140  [Config.java, DatabaseDescriptor.java, ColumnF...   \n",
              "\n",
              "                                         modified_files  \\\n",
              "0     [JSAP-2.1.jar, activation.jar, antlr-2.7.6.jar...   \n",
              "1     [build.xml, StorageService.java, DBTest.java, ...   \n",
              "2                  [ColumnFamilyStore.java, Table.java]   \n",
              "3     [ColumnFamily.java, ColumnFamilyStore.java, Me...   \n",
              "4     [ColumnFamilyStore.java, HintedHandOffManager....   \n",
              "...                                                 ...   \n",
              "4517  [build-rat.xml, CHANGES.txt, NEWS.txt, jvm-ser...   \n",
              "4518  [CHANGES.txt, NEWS.txt, cassandra.yaml, Config...   \n",
              "4519  [CHANGES.txt, CompactionManager.java, Upgrader...   \n",
              "4520  [CHANGES.txt, InboundConnectionInitiator.java,...   \n",
              "4521  [CHANGES.txt, cassandra.yaml, Stage.java, Conf...   \n",
              "\n",
              "                                             diff_files  \\\n",
              "0     [{'DatabaseDescriptor.java': '@@ -0,0 +1,743 @...   \n",
              "1     [{'StorageService.java': '@@ -70,11 +70,6 @@ i...   \n",
              "2     [{'ColumnFamilyStore.java': '@@ -20,7 +20,6 @@...   \n",
              "3     [{'ColumnFamilyStore.java': '@@ -22,10 +22,7 @...   \n",
              "4     [{'ColumnFamilyStore.java': '@@ -395,11 +395,1...   \n",
              "...                                                 ...   \n",
              "4517  [{'CassandraDaemon.java': '@@ -21,7 +21,6 @@ i...   \n",
              "4518  [{'Config.java': '@@ -860,6 +860,7 @@ public c...   \n",
              "4519  [{'CompactionManager.java': '@@ -1624,7 +1624,...   \n",
              "4520  [{'MessagingService.java': '@@ -213,6 +213,7 @...   \n",
              "4521  [{'Config.java': '@@ -1105,6 +1105,8 @@ public...   \n",
              "\n",
              "                              diff_files_modified_files  \n",
              "0     [Binary files /dev/null and b/lib/JSAP-2.1.jar...  \n",
              "1     [@@ -0,0 +1,133 @@\\n+<?xml version=\"1.0\" encod...  \n",
              "2     [@@ -20,7 +20,6 @@ package org.apache.cassandr...  \n",
              "3     [@@ -70,7 +70,7 @@ public final class ColumnFa...  \n",
              "4     [@@ -395,11 +395,11 @@ public class ColumnFami...  \n",
              "...                                                 ...  \n",
              "4517  [@@ -43,7 +43,6 @@\\n                  <!-- Con...  \n",
              "4518  [@@ -1,4 +1,5 @@\\n 5.1\\n+ * Add the ability to...  \n",
              "4519  [@@ -1,4 +1,5 @@\\n 5.0-alpha2\\n+ * Do not crea...  \n",
              "4520  [@@ -1,4 +1,5 @@\\n 4.1.4\\n+ * Internode legacy...  \n",
              "4521  [@@ -1,4 +1,5 @@\\n 5.0-alpha2\\n+ * Add support...  \n",
              "\n",
              "[4522 rows x 9 columns]"
            ],
            "text/html": [
              "\n",
              "  <div id=\"df-f3baf9c4-af63-496e-83d6-b2c5d03ac51c\" class=\"colab-df-container\">\n",
              "    <div>\n",
              "<style scoped>\n",
              "    .dataframe tbody tr th:only-of-type {\n",
              "        vertical-align: middle;\n",
              "    }\n",
              "\n",
              "    .dataframe tbody tr th {\n",
              "        vertical-align: top;\n",
              "    }\n",
              "\n",
              "    .dataframe thead th {\n",
              "        text-align: right;\n",
              "    }\n",
              "</style>\n",
              "<table border=\"1\" class=\"dataframe\">\n",
              "  <thead>\n",
              "    <tr style=\"text-align: right;\">\n",
              "      <th></th>\n",
              "      <th>hash</th>\n",
              "      <th>msg</th>\n",
              "      <th>date</th>\n",
              "      <th>lines</th>\n",
              "      <th>files</th>\n",
              "      <th>critical_files</th>\n",
              "      <th>modified_files</th>\n",
              "      <th>diff_files</th>\n",
              "      <th>diff_files_modified_files</th>\n",
              "    </tr>\n",
              "  </thead>\n",
              "  <tbody>\n",
              "    <tr>\n",
              "      <th>0</th>\n",
              "      <td>1f91e99223b0d1b7ed8390400d4a06ac08e4aa85</td>\n",
              "      <td>git-svn-id: https://svn.apache.org/repos/asf/i...</td>\n",
              "      <td>2/3/2009</td>\n",
              "      <td>74502</td>\n",
              "      <td>344</td>\n",
              "      <td>[DatabaseDescriptor.java, ColumnFamilyStore.ja...</td>\n",
              "      <td>[JSAP-2.1.jar, activation.jar, antlr-2.7.6.jar...</td>\n",
              "      <td>[{'DatabaseDescriptor.java': '@@ -0,0 +1,743 @...</td>\n",
              "      <td>[Binary files /dev/null and b/lib/JSAP-2.1.jar...</td>\n",
              "    </tr>\n",
              "    <tr>\n",
              "      <th>1</th>\n",
              "      <td>cf56f8f3acbeac0ddff9ee3131ad7abe2a919ba3</td>\n",
              "      <td>Add build script and make sure it works\\n\\ngit...</td>\n",
              "      <td>2/3/2009</td>\n",
              "      <td>156</td>\n",
              "      <td>4</td>\n",
              "      <td>[StorageService.java]</td>\n",
              "      <td>[build.xml, StorageService.java, DBTest.java, ...</td>\n",
              "      <td>[{'StorageService.java': '@@ -70,11 +70,6 @@ i...</td>\n",
              "      <td>[@@ -0,0 +1,133 @@\\n+&lt;?xml version=\"1.0\" encod...</td>\n",
              "    </tr>\n",
              "    <tr>\n",
              "      <th>2</th>\n",
              "      <td>5bea7e1772e9fd042b10abebb1e0c78579942b26</td>\n",
              "      <td>Removed references to JDK7 specific things.\\n\\...</td>\n",
              "      <td>20/3/2009</td>\n",
              "      <td>82</td>\n",
              "      <td>2</td>\n",
              "      <td>[ColumnFamilyStore.java]</td>\n",
              "      <td>[ColumnFamilyStore.java, Table.java]</td>\n",
              "      <td>[{'ColumnFamilyStore.java': '@@ -20,7 +20,6 @@...</td>\n",
              "      <td>[@@ -20,7 +20,6 @@ package org.apache.cassandr...</td>\n",
              "    </tr>\n",
              "    <tr>\n",
              "      <th>3</th>\n",
              "      <td>f4f3ca50d84e165a909dca5608babb32df199f44</td>\n",
              "      <td>rename serializer2 -&gt; serializerWithIndexers\\n...</td>\n",
              "      <td>27/3/2009</td>\n",
              "      <td>26</td>\n",
              "      <td>4</td>\n",
              "      <td>[ColumnFamilyStore.java]</td>\n",
              "      <td>[ColumnFamily.java, ColumnFamilyStore.java, Me...</td>\n",
              "      <td>[{'ColumnFamilyStore.java': '@@ -22,10 +22,7 @...</td>\n",
              "      <td>[@@ -70,7 +70,7 @@ public final class ColumnFa...</td>\n",
              "    </tr>\n",
              "    <tr>\n",
              "      <th>4</th>\n",
              "      <td>39d3f833f9c4e154eb157336f5e7b2a1ce9a79a3</td>\n",
              "      <td>add SuperColumn support to forceFlush.  split ...</td>\n",
              "      <td>27/3/2009</td>\n",
              "      <td>89</td>\n",
              "      <td>5</td>\n",
              "      <td>[ColumnFamilyStore.java]</td>\n",
              "      <td>[ColumnFamilyStore.java, HintedHandOffManager....</td>\n",
              "      <td>[{'ColumnFamilyStore.java': '@@ -395,11 +395,1...</td>\n",
              "      <td>[@@ -395,11 +395,11 @@ public class ColumnFami...</td>\n",
              "    </tr>\n",
              "    <tr>\n",
              "      <th>...</th>\n",
              "      <td>...</td>\n",
              "      <td>...</td>\n",
              "      <td>...</td>\n",
              "      <td>...</td>\n",
              "      <td>...</td>\n",
              "      <td>...</td>\n",
              "      <td>...</td>\n",
              "      <td>...</td>\n",
              "      <td>...</td>\n",
              "    </tr>\n",
              "    <tr>\n",
              "      <th>4517</th>\n",
              "      <td>6708499e4c930f7733894e6076b925fb151d9251</td>\n",
              "      <td>Remove metrics-reporter-config dependency\\n\\np...</td>\n",
              "      <td>12/9/2023</td>\n",
              "      <td>105</td>\n",
              "      <td>10</td>\n",
              "      <td>[CassandraDaemon.java]</td>\n",
              "      <td>[build-rat.xml, CHANGES.txt, NEWS.txt, jvm-ser...</td>\n",
              "      <td>[{'CassandraDaemon.java': '@@ -21,7 +21,6 @@ i...</td>\n",
              "      <td>[@@ -43,7 +43,6 @@\\n                  &lt;!-- Con...</td>\n",
              "    </tr>\n",
              "    <tr>\n",
              "      <th>4518</th>\n",
              "      <td>20d80118ac02d853d501e3f5c24a63a12d4010f5</td>\n",
              "      <td>Add the ability to disable bulk loading of SST...</td>\n",
              "      <td>19/9/2023</td>\n",
              "      <td>289</td>\n",
              "      <td>11</td>\n",
              "      <td>[Config.java]</td>\n",
              "      <td>[CHANGES.txt, NEWS.txt, cassandra.yaml, Config...</td>\n",
              "      <td>[{'Config.java': '@@ -860,6 +860,7 @@ public c...</td>\n",
              "      <td>[@@ -1,4 +1,5 @@\\n 5.1\\n+ * Add the ability to...</td>\n",
              "    </tr>\n",
              "    <tr>\n",
              "      <th>4519</th>\n",
              "      <td>d16e8d3653dce8ed767a040c06dbaabc47a9b474</td>\n",
              "      <td>Do not create sstable files before registering...</td>\n",
              "      <td>25/9/2023</td>\n",
              "      <td>724</td>\n",
              "      <td>18</td>\n",
              "      <td>[CompactionManager.java]</td>\n",
              "      <td>[CHANGES.txt, CompactionManager.java, Upgrader...</td>\n",
              "      <td>[{'CompactionManager.java': '@@ -1624,7 +1624,...</td>\n",
              "      <td>[@@ -1,4 +1,5 @@\\n 5.0-alpha2\\n+ * Do not crea...</td>\n",
              "    </tr>\n",
              "    <tr>\n",
              "      <th>4520</th>\n",
              "      <td>b9586501a6b6cdfe465302448018785652c9b966</td>\n",
              "      <td>Internode legacy SSL storage port certificate ...</td>\n",
              "      <td>25/9/2023</td>\n",
              "      <td>237</td>\n",
              "      <td>13</td>\n",
              "      <td>[MessagingService.java]</td>\n",
              "      <td>[CHANGES.txt, InboundConnectionInitiator.java,...</td>\n",
              "      <td>[{'MessagingService.java': '@@ -213,6 +213,7 @...</td>\n",
              "      <td>[@@ -1,4 +1,5 @@\\n 4.1.4\\n+ * Internode legacy...</td>\n",
              "    </tr>\n",
              "    <tr>\n",
              "      <th>4521</th>\n",
              "      <td>164fa7949d1437528363465d14ed20898f1daa9e</td>\n",
              "      <td>Add support for repair coordinator to retry me...</td>\n",
              "      <td>27/9/2023</td>\n",
              "      <td>8533</td>\n",
              "      <td>140</td>\n",
              "      <td>[Config.java, DatabaseDescriptor.java, ColumnF...</td>\n",
              "      <td>[CHANGES.txt, cassandra.yaml, Stage.java, Conf...</td>\n",
              "      <td>[{'Config.java': '@@ -1105,6 +1105,8 @@ public...</td>\n",
              "      <td>[@@ -1,4 +1,5 @@\\n 5.0-alpha2\\n+ * Add support...</td>\n",
              "    </tr>\n",
              "  </tbody>\n",
              "</table>\n",
              "<p>4522 rows × 9 columns</p>\n",
              "</div>\n",
              "    <div class=\"colab-df-buttons\">\n",
              "\n",
              "  <div class=\"colab-df-container\">\n",
              "    <button class=\"colab-df-convert\" onclick=\"convertToInteractive('df-f3baf9c4-af63-496e-83d6-b2c5d03ac51c')\"\n",
              "            title=\"Convert this dataframe to an interactive table.\"\n",
              "            style=\"display:none;\">\n",
              "\n",
              "  <svg xmlns=\"http://www.w3.org/2000/svg\" height=\"24px\" viewBox=\"0 -960 960 960\">\n",
              "    <path d=\"M120-120v-720h720v720H120Zm60-500h600v-160H180v160Zm220 220h160v-160H400v160Zm0 220h160v-160H400v160ZM180-400h160v-160H180v160Zm440 0h160v-160H620v160ZM180-180h160v-160H180v160Zm440 0h160v-160H620v160Z\"/>\n",
              "  </svg>\n",
              "    </button>\n",
              "\n",
              "  <style>\n",
              "    .colab-df-container {\n",
              "      display:flex;\n",
              "      gap: 12px;\n",
              "    }\n",
              "\n",
              "    .colab-df-convert {\n",
              "      background-color: #E8F0FE;\n",
              "      border: none;\n",
              "      border-radius: 50%;\n",
              "      cursor: pointer;\n",
              "      display: none;\n",
              "      fill: #1967D2;\n",
              "      height: 32px;\n",
              "      padding: 0 0 0 0;\n",
              "      width: 32px;\n",
              "    }\n",
              "\n",
              "    .colab-df-convert:hover {\n",
              "      background-color: #E2EBFA;\n",
              "      box-shadow: 0px 1px 2px rgba(60, 64, 67, 0.3), 0px 1px 3px 1px rgba(60, 64, 67, 0.15);\n",
              "      fill: #174EA6;\n",
              "    }\n",
              "\n",
              "    .colab-df-buttons div {\n",
              "      margin-bottom: 4px;\n",
              "    }\n",
              "\n",
              "    [theme=dark] .colab-df-convert {\n",
              "      background-color: #3B4455;\n",
              "      fill: #D2E3FC;\n",
              "    }\n",
              "\n",
              "    [theme=dark] .colab-df-convert:hover {\n",
              "      background-color: #434B5C;\n",
              "      box-shadow: 0px 1px 3px 1px rgba(0, 0, 0, 0.15);\n",
              "      filter: drop-shadow(0px 1px 2px rgba(0, 0, 0, 0.3));\n",
              "      fill: #FFFFFF;\n",
              "    }\n",
              "  </style>\n",
              "\n",
              "    <script>\n",
              "      const buttonEl =\n",
              "        document.querySelector('#df-f3baf9c4-af63-496e-83d6-b2c5d03ac51c button.colab-df-convert');\n",
              "      buttonEl.style.display =\n",
              "        google.colab.kernel.accessAllowed ? 'block' : 'none';\n",
              "\n",
              "      async function convertToInteractive(key) {\n",
              "        const element = document.querySelector('#df-f3baf9c4-af63-496e-83d6-b2c5d03ac51c');\n",
              "        const dataTable =\n",
              "          await google.colab.kernel.invokeFunction('convertToInteractive',\n",
              "                                                    [key], {});\n",
              "        if (!dataTable) return;\n",
              "\n",
              "        const docLinkHtml = 'Like what you see? Visit the ' +\n",
              "          '<a target=\"_blank\" href=https://colab.research.google.com/notebooks/data_table.ipynb>data table notebook</a>'\n",
              "          + ' to learn more about interactive tables.';\n",
              "        element.innerHTML = '';\n",
              "        dataTable['output_type'] = 'display_data';\n",
              "        await google.colab.output.renderOutput(dataTable, element);\n",
              "        const docLink = document.createElement('div');\n",
              "        docLink.innerHTML = docLinkHtml;\n",
              "        element.appendChild(docLink);\n",
              "      }\n",
              "    </script>\n",
              "  </div>\n",
              "\n",
              "\n",
              "<div id=\"df-9358ff69-7d2f-4d18-b278-a0976e4da43b\">\n",
              "  <button class=\"colab-df-quickchart\" onclick=\"quickchart('df-9358ff69-7d2f-4d18-b278-a0976e4da43b')\"\n",
              "            title=\"Suggest charts.\"\n",
              "            style=\"display:none;\">\n",
              "\n",
              "<svg xmlns=\"http://www.w3.org/2000/svg\" height=\"24px\"viewBox=\"0 0 24 24\"\n",
              "     width=\"24px\">\n",
              "    <g>\n",
              "        <path d=\"M19 3H5c-1.1 0-2 .9-2 2v14c0 1.1.9 2 2 2h14c1.1 0 2-.9 2-2V5c0-1.1-.9-2-2-2zM9 17H7v-7h2v7zm4 0h-2V7h2v10zm4 0h-2v-4h2v4z\"/>\n",
              "    </g>\n",
              "</svg>\n",
              "  </button>\n",
              "\n",
              "<style>\n",
              "  .colab-df-quickchart {\n",
              "      --bg-color: #E8F0FE;\n",
              "      --fill-color: #1967D2;\n",
              "      --hover-bg-color: #E2EBFA;\n",
              "      --hover-fill-color: #174EA6;\n",
              "      --disabled-fill-color: #AAA;\n",
              "      --disabled-bg-color: #DDD;\n",
              "  }\n",
              "\n",
              "  [theme=dark] .colab-df-quickchart {\n",
              "      --bg-color: #3B4455;\n",
              "      --fill-color: #D2E3FC;\n",
              "      --hover-bg-color: #434B5C;\n",
              "      --hover-fill-color: #FFFFFF;\n",
              "      --disabled-bg-color: #3B4455;\n",
              "      --disabled-fill-color: #666;\n",
              "  }\n",
              "\n",
              "  .colab-df-quickchart {\n",
              "    background-color: var(--bg-color);\n",
              "    border: none;\n",
              "    border-radius: 50%;\n",
              "    cursor: pointer;\n",
              "    display: none;\n",
              "    fill: var(--fill-color);\n",
              "    height: 32px;\n",
              "    padding: 0;\n",
              "    width: 32px;\n",
              "  }\n",
              "\n",
              "  .colab-df-quickchart:hover {\n",
              "    background-color: var(--hover-bg-color);\n",
              "    box-shadow: 0 1px 2px rgba(60, 64, 67, 0.3), 0 1px 3px 1px rgba(60, 64, 67, 0.15);\n",
              "    fill: var(--button-hover-fill-color);\n",
              "  }\n",
              "\n",
              "  .colab-df-quickchart-complete:disabled,\n",
              "  .colab-df-quickchart-complete:disabled:hover {\n",
              "    background-color: var(--disabled-bg-color);\n",
              "    fill: var(--disabled-fill-color);\n",
              "    box-shadow: none;\n",
              "  }\n",
              "\n",
              "  .colab-df-spinner {\n",
              "    border: 2px solid var(--fill-color);\n",
              "    border-color: transparent;\n",
              "    border-bottom-color: var(--fill-color);\n",
              "    animation:\n",
              "      spin 1s steps(1) infinite;\n",
              "  }\n",
              "\n",
              "  @keyframes spin {\n",
              "    0% {\n",
              "      border-color: transparent;\n",
              "      border-bottom-color: var(--fill-color);\n",
              "      border-left-color: var(--fill-color);\n",
              "    }\n",
              "    20% {\n",
              "      border-color: transparent;\n",
              "      border-left-color: var(--fill-color);\n",
              "      border-top-color: var(--fill-color);\n",
              "    }\n",
              "    30% {\n",
              "      border-color: transparent;\n",
              "      border-left-color: var(--fill-color);\n",
              "      border-top-color: var(--fill-color);\n",
              "      border-right-color: var(--fill-color);\n",
              "    }\n",
              "    40% {\n",
              "      border-color: transparent;\n",
              "      border-right-color: var(--fill-color);\n",
              "      border-top-color: var(--fill-color);\n",
              "    }\n",
              "    60% {\n",
              "      border-color: transparent;\n",
              "      border-right-color: var(--fill-color);\n",
              "    }\n",
              "    80% {\n",
              "      border-color: transparent;\n",
              "      border-right-color: var(--fill-color);\n",
              "      border-bottom-color: var(--fill-color);\n",
              "    }\n",
              "    90% {\n",
              "      border-color: transparent;\n",
              "      border-bottom-color: var(--fill-color);\n",
              "    }\n",
              "  }\n",
              "</style>\n",
              "\n",
              "  <script>\n",
              "    async function quickchart(key) {\n",
              "      const quickchartButtonEl =\n",
              "        document.querySelector('#' + key + ' button');\n",
              "      quickchartButtonEl.disabled = true;  // To prevent multiple clicks.\n",
              "      quickchartButtonEl.classList.add('colab-df-spinner');\n",
              "      try {\n",
              "        const charts = await google.colab.kernel.invokeFunction(\n",
              "            'suggestCharts', [key], {});\n",
              "      } catch (error) {\n",
              "        console.error('Error during call to suggestCharts:', error);\n",
              "      }\n",
              "      quickchartButtonEl.classList.remove('colab-df-spinner');\n",
              "      quickchartButtonEl.classList.add('colab-df-quickchart-complete');\n",
              "    }\n",
              "    (() => {\n",
              "      let quickchartButtonEl =\n",
              "        document.querySelector('#df-9358ff69-7d2f-4d18-b278-a0976e4da43b button');\n",
              "      quickchartButtonEl.style.display =\n",
              "        google.colab.kernel.accessAllowed ? 'block' : 'none';\n",
              "    })();\n",
              "  </script>\n",
              "</div>\n",
              "    </div>\n",
              "  </div>\n"
            ]
          },
          "metadata": {},
          "execution_count": 236
        }
      ]
    },
    {
      "cell_type": "code",
      "source": [
        "df_commits_with_critical_files.info()"
      ],
      "metadata": {
        "colab": {
          "base_uri": "https://localhost:8080/"
        },
        "id": "lK1eaZ7Cmkot",
        "outputId": "be836bff-a9d8-4ada-ba60-e999f4a233bb"
      },
      "execution_count": 237,
      "outputs": [
        {
          "output_type": "stream",
          "name": "stdout",
          "text": [
            "<class 'pandas.core.frame.DataFrame'>\n",
            "RangeIndex: 4522 entries, 0 to 4521\n",
            "Data columns (total 9 columns):\n",
            " #   Column                     Non-Null Count  Dtype \n",
            "---  ------                     --------------  ----- \n",
            " 0   hash                       4522 non-null   object\n",
            " 1   msg                        4522 non-null   object\n",
            " 2   date                       4522 non-null   object\n",
            " 3   lines                      4522 non-null   int64 \n",
            " 4   files                      4522 non-null   int64 \n",
            " 5   critical_files             4522 non-null   object\n",
            " 6   modified_files             4522 non-null   object\n",
            " 7   diff_files                 4522 non-null   object\n",
            " 8   diff_files_modified_files  4522 non-null   object\n",
            "dtypes: int64(2), object(7)\n",
            "memory usage: 318.1+ KB\n"
          ]
        }
      ]
    },
    {
      "cell_type": "markdown",
      "source": [
        "# 2. Extrai issues de um issue tracker"
      ],
      "metadata": {
        "id": "xEXo9gvEFMOW"
      }
    },
    {
      "cell_type": "markdown",
      "source": [
        "## Configura ambiente para acessar Issue Tracker"
      ],
      "metadata": {
        "id": "m3Sj7vZBFZO7"
      }
    },
    {
      "cell_type": "code",
      "source": [
        "# Initialize the Jira connection\n",
        "print('Initialize the Jira connection')\n",
        "jira = JIRA(JIRA_SERVER, basic_auth=(username, password))\n",
        "\n",
        "# Create a JiraUtils instance\n",
        "print('Create a JiraUtils instance')\n",
        "jira_utils = JiraUtils(ISSUE_TRACKER_PROJECT, jira)\n",
        "\n",
        "date1 = (2009, 3, 2)\n",
        "date2 = (2023, 10, 4)\n",
        "distance = 120\n",
        "print('Define date intervals')\n",
        "print(f'From: {str(date1)} to: {date2}, by: {distance} days of distance.')"
      ],
      "metadata": {
        "colab": {
          "base_uri": "https://localhost:8080/"
        },
        "id": "OGz4teVIFcig",
        "outputId": "373cd96a-d989-48f1-aff4-92fff40f695d"
      },
      "execution_count": 238,
      "outputs": [
        {
          "output_type": "stream",
          "name": "stdout",
          "text": [
            "Initialize the Jira connection\n",
            "Create a JiraUtils instance\n",
            "Define date intervals\n",
            "From: (2009, 3, 2) to: (2023, 10, 4), by: 120 days of distance.\n"
          ]
        }
      ]
    },
    {
      "cell_type": "markdown",
      "source": [
        "## Recupera os issues do período dado"
      ],
      "metadata": {
        "id": "22RGuRI7JSjE"
      }
    },
    {
      "cell_type": "code",
      "source": [
        "# Fetch issues using date intervals\n",
        "print('Fetch issues using date intervals')\n",
        "block_of_issues = jira_utils.get_list_of_block_issues_by_dates(date1, date2, distance)"
      ],
      "metadata": {
        "colab": {
          "base_uri": "https://localhost:8080/"
        },
        "id": "iiTmhFaIC5Mg",
        "outputId": "f3f34bc0-36f1-4f55-8a38-1eead91356f9"
      },
      "execution_count": 239,
      "outputs": [
        {
          "output_type": "stream",
          "name": "stdout",
          "text": [
            "Fetch issues using date intervals\n",
            "Aguarde...\n"
          ]
        },
        {
          "output_type": "stream",
          "name": "stderr",
          "text": [
            "Progress Message Analysis:   2%|▏         | 1/45 [00:03<02:29,  3.40s/it]"
          ]
        },
        {
          "output_type": "stream",
          "name": "stdout",
          "text": [
            "Range: project=CASSANDRA and created>=\"2009/03/02\" and created<=\"2009/06/29\", qtd issues: 263\n"
          ]
        },
        {
          "output_type": "stream",
          "name": "stderr",
          "text": [
            "Progress Message Analysis:   4%|▍         | 2/45 [00:06<02:18,  3.21s/it]"
          ]
        },
        {
          "output_type": "stream",
          "name": "stdout",
          "text": [
            "Range: project=CASSANDRA and created>=\"2009/06/30\" and created<=\"2009/10/27\", qtd issues: 251\n"
          ]
        },
        {
          "output_type": "stream",
          "name": "stderr",
          "text": [
            "Progress Message Analysis:   7%|▋         | 3/45 [00:10<02:38,  3.77s/it]"
          ]
        },
        {
          "output_type": "stream",
          "name": "stdout",
          "text": [
            "Range: project=CASSANDRA and created>=\"2009/10/28\" and created<=\"2010/02/24\", qtd issues: 310\n"
          ]
        },
        {
          "output_type": "stream",
          "name": "stderr",
          "text": [
            "Progress Message Analysis:   9%|▉         | 4/45 [00:15<02:49,  4.12s/it]"
          ]
        },
        {
          "output_type": "stream",
          "name": "stdout",
          "text": [
            "Range: project=CASSANDRA and created>=\"2010/02/25\" and created<=\"2010/06/24\", qtd issues: 388\n"
          ]
        },
        {
          "output_type": "stream",
          "name": "stderr",
          "text": [
            "Progress Message Analysis:  11%|█         | 5/45 [00:21<03:03,  4.59s/it]"
          ]
        },
        {
          "output_type": "stream",
          "name": "stdout",
          "text": [
            "Range: project=CASSANDRA and created>=\"2010/06/25\" and created<=\"2010/10/22\", qtd issues: 419\n"
          ]
        },
        {
          "output_type": "stream",
          "name": "stderr",
          "text": [
            "Progress Message Analysis:  13%|█▎        | 6/45 [00:27<03:28,  5.35s/it]"
          ]
        },
        {
          "output_type": "stream",
          "name": "stdout",
          "text": [
            "Range: project=CASSANDRA and created>=\"2010/10/23\" and created<=\"2011/02/19\", qtd issues: 545\n"
          ]
        },
        {
          "output_type": "stream",
          "name": "stderr",
          "text": [
            "Progress Message Analysis:  16%|█▌        | 7/45 [00:34<03:44,  5.92s/it]"
          ]
        },
        {
          "output_type": "stream",
          "name": "stdout",
          "text": [
            "Range: project=CASSANDRA and created>=\"2011/02/20\" and created<=\"2011/06/19\", qtd issues: 593\n"
          ]
        },
        {
          "output_type": "stream",
          "name": "stderr",
          "text": [
            "Progress Message Analysis:  18%|█▊        | 8/45 [00:42<03:55,  6.38s/it]"
          ]
        },
        {
          "output_type": "stream",
          "name": "stdout",
          "text": [
            "Range: project=CASSANDRA and created>=\"2011/06/20\" and created<=\"2011/10/17\", qtd issues: 573\n"
          ]
        },
        {
          "output_type": "stream",
          "name": "stderr",
          "text": [
            "Progress Message Analysis:  20%|██        | 9/45 [00:48<03:48,  6.34s/it]"
          ]
        },
        {
          "output_type": "stream",
          "name": "stdout",
          "text": [
            "Range: project=CASSANDRA and created>=\"2011/10/18\" and created<=\"2012/02/14\", qtd issues: 532\n"
          ]
        },
        {
          "output_type": "stream",
          "name": "stderr",
          "text": [
            "Progress Message Analysis:  22%|██▏       | 10/45 [00:53<03:27,  5.94s/it]"
          ]
        },
        {
          "output_type": "stream",
          "name": "stdout",
          "text": [
            "Range: project=CASSANDRA and created>=\"2012/02/15\" and created<=\"2012/06/13\", qtd issues: 423\n"
          ]
        },
        {
          "output_type": "stream",
          "name": "stderr",
          "text": [
            "Progress Message Analysis:  24%|██▍       | 11/45 [00:59<03:16,  5.78s/it]"
          ]
        },
        {
          "output_type": "stream",
          "name": "stdout",
          "text": [
            "Range: project=CASSANDRA and created>=\"2012/06/14\" and created<=\"2012/10/11\", qtd issues: 441\n"
          ]
        },
        {
          "output_type": "stream",
          "name": "stderr",
          "text": [
            "Progress Message Analysis:  27%|██▋       | 12/45 [01:04<03:11,  5.80s/it]"
          ]
        },
        {
          "output_type": "stream",
          "name": "stdout",
          "text": [
            "Range: project=CASSANDRA and created>=\"2012/10/12\" and created<=\"2013/02/08\", qtd issues: 433\n"
          ]
        },
        {
          "output_type": "stream",
          "name": "stderr",
          "text": [
            "Progress Message Analysis:  29%|██▉       | 13/45 [01:09<02:53,  5.41s/it]"
          ]
        },
        {
          "output_type": "stream",
          "name": "stdout",
          "text": [
            "Range: project=CASSANDRA and created>=\"2013/02/09\" and created<=\"2013/06/08\", qtd issues: 386\n"
          ]
        },
        {
          "output_type": "stream",
          "name": "stderr",
          "text": [
            "Progress Message Analysis:  31%|███       | 14/45 [01:15<02:53,  5.59s/it]"
          ]
        },
        {
          "output_type": "stream",
          "name": "stdout",
          "text": [
            "Range: project=CASSANDRA and created>=\"2013/06/09\" and created<=\"2013/10/06\", qtd issues: 522\n"
          ]
        },
        {
          "output_type": "stream",
          "name": "stderr",
          "text": [
            "Progress Message Analysis:  33%|███▎      | 15/45 [01:21<02:52,  5.73s/it]"
          ]
        },
        {
          "output_type": "stream",
          "name": "stdout",
          "text": [
            "Range: project=CASSANDRA and created>=\"2013/10/07\" and created<=\"2014/02/03\", qtd issues: 492\n"
          ]
        },
        {
          "output_type": "stream",
          "name": "stderr",
          "text": [
            "Progress Message Analysis:  36%|███▌      | 16/45 [01:32<03:29,  7.22s/it]"
          ]
        },
        {
          "output_type": "stream",
          "name": "stdout",
          "text": [
            "Range: project=CASSANDRA and created>=\"2014/02/04\" and created<=\"2014/06/03\", qtd issues: 690\n"
          ]
        },
        {
          "output_type": "stream",
          "name": "stderr",
          "text": [
            "Progress Message Analysis:  38%|███▊      | 17/45 [01:40<03:35,  7.68s/it]"
          ]
        },
        {
          "output_type": "stream",
          "name": "stdout",
          "text": [
            "Range: project=CASSANDRA and created>=\"2014/06/04\" and created<=\"2014/10/01\", qtd issues: 680\n"
          ]
        },
        {
          "output_type": "stream",
          "name": "stderr",
          "text": [
            "Progress Message Analysis:  40%|████      | 18/45 [01:49<03:35,  7.97s/it]"
          ]
        },
        {
          "output_type": "stream",
          "name": "stdout",
          "text": [
            "Range: project=CASSANDRA and created>=\"2014/10/02\" and created<=\"2015/01/29\", qtd issues: 655\n"
          ]
        },
        {
          "output_type": "stream",
          "name": "stderr",
          "text": [
            "Progress Message Analysis:  42%|████▏     | 19/45 [02:00<03:51,  8.90s/it]"
          ]
        },
        {
          "output_type": "stream",
          "name": "stdout",
          "text": [
            "Range: project=CASSANDRA and created>=\"2015/01/30\" and created<=\"2015/05/29\", qtd issues: 802\n"
          ]
        },
        {
          "output_type": "stream",
          "name": "stderr",
          "text": [
            "Progress Message Analysis:  44%|████▍     | 20/45 [02:11<03:55,  9.42s/it]"
          ]
        },
        {
          "output_type": "stream",
          "name": "stdout",
          "text": [
            "Range: project=CASSANDRA and created>=\"2015/05/30\" and created<=\"2015/09/26\", qtd issues: 875\n"
          ]
        },
        {
          "output_type": "stream",
          "name": "stderr",
          "text": [
            "Progress Message Analysis:  47%|████▋     | 21/45 [02:20<03:42,  9.28s/it]"
          ]
        },
        {
          "output_type": "stream",
          "name": "stdout",
          "text": [
            "Range: project=CASSANDRA and created>=\"2015/09/27\" and created<=\"2016/01/24\", qtd issues: 659\n"
          ]
        },
        {
          "output_type": "stream",
          "name": "stderr",
          "text": [
            "Progress Message Analysis:  49%|████▉     | 22/45 [02:28<03:30,  9.14s/it]"
          ]
        },
        {
          "output_type": "stream",
          "name": "stdout",
          "text": [
            "Range: project=CASSANDRA and created>=\"2016/01/25\" and created<=\"2016/05/23\", qtd issues: 769\n"
          ]
        },
        {
          "output_type": "stream",
          "name": "stderr",
          "text": [
            "Progress Message Analysis:  51%|█████     | 23/45 [02:39<03:32,  9.67s/it]"
          ]
        },
        {
          "output_type": "stream",
          "name": "stdout",
          "text": [
            "Range: project=CASSANDRA and created>=\"2016/05/24\" and created<=\"2016/09/20\", qtd issues: 787\n"
          ]
        },
        {
          "output_type": "stream",
          "name": "stderr",
          "text": [
            "Progress Message Analysis:  53%|█████▎    | 24/45 [02:45<02:56,  8.38s/it]"
          ]
        },
        {
          "output_type": "stream",
          "name": "stdout",
          "text": [
            "Range: project=CASSANDRA and created>=\"2016/09/21\" and created<=\"2017/01/18\", qtd issues: 453\n"
          ]
        },
        {
          "output_type": "stream",
          "name": "stderr",
          "text": [
            "Progress Message Analysis:  56%|█████▌    | 25/45 [02:49<02:25,  7.28s/it]"
          ]
        },
        {
          "output_type": "stream",
          "name": "stdout",
          "text": [
            "Range: project=CASSANDRA and created>=\"2017/01/19\" and created<=\"2017/05/18\", qtd issues: 403\n"
          ]
        },
        {
          "output_type": "stream",
          "name": "stderr",
          "text": [
            "Progress Message Analysis:  58%|█████▊    | 26/45 [02:53<01:59,  6.29s/it]"
          ]
        },
        {
          "output_type": "stream",
          "name": "stdout",
          "text": [
            "Range: project=CASSANDRA and created>=\"2017/05/19\" and created<=\"2017/09/15\", qtd issues: 338\n"
          ]
        },
        {
          "output_type": "stream",
          "name": "stderr",
          "text": [
            "Progress Message Analysis:  60%|██████    | 27/45 [02:57<01:38,  5.45s/it]"
          ]
        },
        {
          "output_type": "stream",
          "name": "stdout",
          "text": [
            "Range: project=CASSANDRA and created>=\"2017/09/16\" and created<=\"2018/01/13\", qtd issues: 282\n"
          ]
        },
        {
          "output_type": "stream",
          "name": "stderr",
          "text": [
            "Progress Message Analysis:  62%|██████▏   | 28/45 [03:00<01:21,  4.79s/it]"
          ]
        },
        {
          "output_type": "stream",
          "name": "stdout",
          "text": [
            "Range: project=CASSANDRA and created>=\"2018/01/14\" and created<=\"2018/05/13\", qtd issues: 277\n"
          ]
        },
        {
          "output_type": "stream",
          "name": "stderr",
          "text": [
            "Progress Message Analysis:  64%|██████▍   | 29/45 [03:03<01:07,  4.25s/it]"
          ]
        },
        {
          "output_type": "stream",
          "name": "stdout",
          "text": [
            "Range: project=CASSANDRA and created>=\"2018/05/14\" and created<=\"2018/09/10\", qtd issues: 265\n"
          ]
        },
        {
          "output_type": "stream",
          "name": "stderr",
          "text": [
            "Progress Message Analysis:  67%|██████▋   | 30/45 [03:07<00:59,  3.98s/it]"
          ]
        },
        {
          "output_type": "stream",
          "name": "stdout",
          "text": [
            "Range: project=CASSANDRA and created>=\"2018/09/11\" and created<=\"2019/01/08\", qtd issues: 250\n"
          ]
        },
        {
          "output_type": "stream",
          "name": "stderr",
          "text": [
            "Progress Message Analysis:  69%|██████▉   | 31/45 [03:08<00:46,  3.35s/it]"
          ]
        },
        {
          "output_type": "stream",
          "name": "stdout",
          "text": [
            "Range: project=CASSANDRA and created>=\"2019/01/09\" and created<=\"2019/05/08\", qtd issues: 143\n"
          ]
        },
        {
          "output_type": "stream",
          "name": "stderr",
          "text": [
            "Progress Message Analysis:  71%|███████   | 32/45 [03:11<00:39,  3.05s/it]"
          ]
        },
        {
          "output_type": "stream",
          "name": "stdout",
          "text": [
            "Range: project=CASSANDRA and created>=\"2019/05/09\" and created<=\"2019/09/05\", qtd issues: 177\n"
          ]
        },
        {
          "output_type": "stream",
          "name": "stderr",
          "text": [
            "Progress Message Analysis:  73%|███████▎  | 33/45 [03:13<00:33,  2.83s/it]"
          ]
        },
        {
          "output_type": "stream",
          "name": "stdout",
          "text": [
            "Range: project=CASSANDRA and created>=\"2019/09/06\" and created<=\"2020/01/03\", qtd issues: 164\n"
          ]
        },
        {
          "output_type": "stream",
          "name": "stderr",
          "text": [
            "Progress Message Analysis:  76%|███████▌  | 34/45 [03:17<00:34,  3.14s/it]"
          ]
        },
        {
          "output_type": "stream",
          "name": "stdout",
          "text": [
            "Range: project=CASSANDRA and created>=\"2020/01/04\" and created<=\"2020/05/02\", qtd issues: 306\n"
          ]
        },
        {
          "output_type": "stream",
          "name": "stderr",
          "text": [
            "Progress Message Analysis:  78%|███████▊  | 35/45 [03:21<00:33,  3.32s/it]"
          ]
        },
        {
          "output_type": "stream",
          "name": "stdout",
          "text": [
            "Range: project=CASSANDRA and created>=\"2020/05/03\" and created<=\"2020/08/30\", qtd issues: 300\n"
          ]
        },
        {
          "output_type": "stream",
          "name": "stderr",
          "text": [
            "Progress Message Analysis:  80%|████████  | 36/45 [03:24<00:30,  3.43s/it]"
          ]
        },
        {
          "output_type": "stream",
          "name": "stdout",
          "text": [
            "Range: project=CASSANDRA and created>=\"2020/08/31\" and created<=\"2020/12/28\", qtd issues: 284\n"
          ]
        },
        {
          "output_type": "stream",
          "name": "stderr",
          "text": [
            "Progress Message Analysis:  82%|████████▏ | 37/45 [03:28<00:27,  3.44s/it]"
          ]
        },
        {
          "output_type": "stream",
          "name": "stdout",
          "text": [
            "Range: project=CASSANDRA and created>=\"2020/12/29\" and created<=\"2021/04/27\", qtd issues: 262\n"
          ]
        },
        {
          "output_type": "stream",
          "name": "stderr",
          "text": [
            "Progress Message Analysis:  84%|████████▍ | 38/45 [03:33<00:28,  4.06s/it]"
          ]
        },
        {
          "output_type": "stream",
          "name": "stdout",
          "text": [
            "Range: project=CASSANDRA and created>=\"2021/04/28\" and created<=\"2021/08/25\", qtd issues: 244\n"
          ]
        },
        {
          "output_type": "stream",
          "name": "stderr",
          "text": [
            "Progress Message Analysis:  87%|████████▋ | 39/45 [03:38<00:24,  4.09s/it]"
          ]
        },
        {
          "output_type": "stream",
          "name": "stdout",
          "text": [
            "Range: project=CASSANDRA and created>=\"2021/08/26\" and created<=\"2021/12/23\", qtd issues: 342\n"
          ]
        },
        {
          "output_type": "stream",
          "name": "stderr",
          "text": [
            "Progress Message Analysis:  89%|████████▉ | 40/45 [03:42<00:20,  4.09s/it]"
          ]
        },
        {
          "output_type": "stream",
          "name": "stdout",
          "text": [
            "Range: project=CASSANDRA and created>=\"2021/12/24\" and created<=\"2022/04/22\", qtd issues: 340\n"
          ]
        },
        {
          "output_type": "stream",
          "name": "stderr",
          "text": [
            "Progress Message Analysis:  91%|█████████ | 41/45 [03:45<00:15,  3.87s/it]"
          ]
        },
        {
          "output_type": "stream",
          "name": "stdout",
          "text": [
            "Range: project=CASSANDRA and created>=\"2022/04/23\" and created<=\"2022/08/20\", qtd issues: 267\n"
          ]
        },
        {
          "output_type": "stream",
          "name": "stderr",
          "text": [
            "Progress Message Analysis:  93%|█████████▎| 42/45 [03:49<00:11,  3.79s/it]"
          ]
        },
        {
          "output_type": "stream",
          "name": "stdout",
          "text": [
            "Range: project=CASSANDRA and created>=\"2022/08/21\" and created<=\"2022/12/18\", qtd issues: 273\n"
          ]
        },
        {
          "output_type": "stream",
          "name": "stderr",
          "text": [
            "Progress Message Analysis:  96%|█████████▌| 43/45 [03:53<00:07,  3.84s/it]"
          ]
        },
        {
          "output_type": "stream",
          "name": "stdout",
          "text": [
            "Range: project=CASSANDRA and created>=\"2022/12/19\" and created<=\"2023/04/17\", qtd issues: 328\n"
          ]
        },
        {
          "output_type": "stream",
          "name": "stderr",
          "text": [
            "Progress Message Analysis:  98%|█████████▊| 44/45 [03:56<00:03,  3.74s/it]"
          ]
        },
        {
          "output_type": "stream",
          "name": "stdout",
          "text": [
            "Range: project=CASSANDRA and created>=\"2023/04/18\" and created<=\"2023/08/15\", qtd issues: 298\n"
          ]
        },
        {
          "output_type": "stream",
          "name": "stderr",
          "text": [
            "Progress Message Analysis: 100%|██████████| 45/45 [03:59<00:00,  5.32s/it]"
          ]
        },
        {
          "output_type": "stream",
          "name": "stdout",
          "text": [
            "Range: project=CASSANDRA and created>=\"2023/08/16\" and created<=\"2023/12/13\", qtd issues: 230\n",
            "2023-11-02 15:52:22.266570\n",
            "Tempo da consulta: 0:03:59.277637\n"
          ]
        },
        {
          "output_type": "stream",
          "name": "stderr",
          "text": [
            "\n"
          ]
        }
      ]
    },
    {
      "cell_type": "code",
      "source": [
        "# Concatenate the block of issues into a single list\n",
        "print('Concatenate the block of issues into a single list')\n",
        "all_issues = jira_utils.concatenate_block_of_issues(block_of_issues)"
      ],
      "metadata": {
        "colab": {
          "base_uri": "https://localhost:8080/"
        },
        "id": "3tOVa-DkJBci",
        "outputId": "95366e2f-14bd-4cd4-fb7f-d8f831dfea25"
      },
      "execution_count": 240,
      "outputs": [
        {
          "output_type": "stream",
          "name": "stdout",
          "text": [
            "Concatenate the block of issues into a single list\n",
            "Total de issues recuperados: 18714\n"
          ]
        }
      ]
    },
    {
      "cell_type": "code",
      "source": [
        "all_real_issues = analyze_jira_all_issues(ISSUE_TRACKER_PROJECT, all_issues)"
      ],
      "metadata": {
        "colab": {
          "base_uri": "https://localhost:8080/"
        },
        "id": "G7YEk2oZI1lL",
        "outputId": "85b38329-dc57-4ff3-c84d-d7c6b6abb73e"
      },
      "execution_count": 241,
      "outputs": [
        {
          "output_type": "stream",
          "name": "stderr",
          "text": [
            "Progress jira all issues analysis: 100%|██████████| 18714/18714 [00:00<00:00, 80394.83it/s]\n"
          ]
        }
      ]
    },
    {
      "cell_type": "markdown",
      "source": [
        "### Converte os issues recuperados para um dataframe"
      ],
      "metadata": {
        "id": "zNu-uRpoKtzy"
      }
    },
    {
      "cell_type": "code",
      "source": [
        "df_all_reall_issues_in_commits_detailed = convert_issues_to_dataframe(all_real_issues)\n",
        "df_all_reall_issues_in_commits_detailed"
      ],
      "metadata": {
        "colab": {
          "base_uri": "https://localhost:8080/",
          "height": 423
        },
        "id": "pg9TMgmwJgNY",
        "outputId": "aa50f32a-5094-4aab-d13d-d18002f7a853"
      },
      "execution_count": 242,
      "outputs": [
        {
          "output_type": "execute_result",
          "data": {
            "text/plain": [
              "             issue_key   issue_type         status priority  \\\n",
              "0        CASSANDRA-263          Bug       Resolved   Normal   \n",
              "1        CASSANDRA-262          Bug       Resolved   Normal   \n",
              "2        CASSANDRA-261          Bug       Resolved   Normal   \n",
              "3        CASSANDRA-260          Bug       Resolved   Normal   \n",
              "4        CASSANDRA-259  New Feature       Resolved   Normal   \n",
              "...                ...          ...            ...      ...   \n",
              "18709  CASSANDRA-18769          Bug       Resolved   Normal   \n",
              "18710  CASSANDRA-18768  New Feature  Triage Needed   Normal   \n",
              "18711  CASSANDRA-18767          Bug       Resolved   Normal   \n",
              "18712  CASSANDRA-18766          Bug           Open   Normal   \n",
              "18713  CASSANDRA-18765          Bug       Resolved   Normal   \n",
              "\n",
              "                                                 summary  \\\n",
              "0       get_slice needs to support desc from last column   \n",
              "1         get_slice needs to allow returning all columns   \n",
              "2                         get_slice needs offset + limit   \n",
              "3      Unable to read all columns in a column family ...   \n",
              "4                            LRU cache for key positions   \n",
              "...                                                  ...   \n",
              "18709  Fix flaky test: org.apache.cassandra.cql3.Memt...   \n",
              "18710  Harry changes required for CEP-21 testing (NTS...   \n",
              "18711         tablestats should show speculative retries   \n",
              "18712                 high speculative retries on v4.1.3   \n",
              "18713       Add CASSANDRA-14227 to 5.0 new features page   \n",
              "\n",
              "                                             description  \\\n",
              "0      At the moment there's no way to ask for a slic...   \n",
              "1      Right now get_slice requires you to enter a 'l...   \n",
              "2      Right now get_slice does not allow you to prov...   \n",
              "3      Since r788516 the typical 'get all columns for...   \n",
              "4      add cache like the old touch cache, but workin...   \n",
              "...                                                  ...   \n",
              "18709  {noformat}\\r\\njava.lang.reflect.InaccessibleOb...   \n",
              "18710                                                      \n",
              "18711  NodeProbe makes [provisions|https://github.com...   \n",
              "18712  There are up to 10+ times higher speculative r...   \n",
              "18713  The [page|https://cassandra.apache.org/doc/tru...   \n",
              "\n",
              "                                                comments  \n",
              "0      Is the problem that you don't know what the la...  \n",
              "1      How about if we add a configuration parameter ...  \n",
              "2      Me, explaining new get_slice: so now you would...  \n",
              "3      fixed in patch for CASSANDRA-277 (to be applie...  \n",
              "4      LinkedHashMap is a nonstarter though.  This wa...  \n",
              "...                                                  ...  \n",
              "18709  I think this is a duplicate of CASSANDRA-18447...  \n",
              "18710                                                     \n",
              "18711  ||Branch||CI||\\r\\n|[3.0|https://github.com/dri...  \n",
              "18712  These are changes between 4.1.2 and 4.1.3 \\r\\n...  \n",
              "18713  +1\\nCreated CASSANDRA-18794 for adding the res...  \n",
              "\n",
              "[18714 rows x 7 columns]"
            ],
            "text/html": [
              "\n",
              "  <div id=\"df-0da03998-5f15-44ae-898e-7e6822d0a5e8\" class=\"colab-df-container\">\n",
              "    <div>\n",
              "<style scoped>\n",
              "    .dataframe tbody tr th:only-of-type {\n",
              "        vertical-align: middle;\n",
              "    }\n",
              "\n",
              "    .dataframe tbody tr th {\n",
              "        vertical-align: top;\n",
              "    }\n",
              "\n",
              "    .dataframe thead th {\n",
              "        text-align: right;\n",
              "    }\n",
              "</style>\n",
              "<table border=\"1\" class=\"dataframe\">\n",
              "  <thead>\n",
              "    <tr style=\"text-align: right;\">\n",
              "      <th></th>\n",
              "      <th>issue_key</th>\n",
              "      <th>issue_type</th>\n",
              "      <th>status</th>\n",
              "      <th>priority</th>\n",
              "      <th>summary</th>\n",
              "      <th>description</th>\n",
              "      <th>comments</th>\n",
              "    </tr>\n",
              "  </thead>\n",
              "  <tbody>\n",
              "    <tr>\n",
              "      <th>0</th>\n",
              "      <td>CASSANDRA-263</td>\n",
              "      <td>Bug</td>\n",
              "      <td>Resolved</td>\n",
              "      <td>Normal</td>\n",
              "      <td>get_slice needs to support desc from last column</td>\n",
              "      <td>At the moment there's no way to ask for a slic...</td>\n",
              "      <td>Is the problem that you don't know what the la...</td>\n",
              "    </tr>\n",
              "    <tr>\n",
              "      <th>1</th>\n",
              "      <td>CASSANDRA-262</td>\n",
              "      <td>Bug</td>\n",
              "      <td>Resolved</td>\n",
              "      <td>Normal</td>\n",
              "      <td>get_slice needs to allow returning all columns</td>\n",
              "      <td>Right now get_slice requires you to enter a 'l...</td>\n",
              "      <td>How about if we add a configuration parameter ...</td>\n",
              "    </tr>\n",
              "    <tr>\n",
              "      <th>2</th>\n",
              "      <td>CASSANDRA-261</td>\n",
              "      <td>Bug</td>\n",
              "      <td>Resolved</td>\n",
              "      <td>Normal</td>\n",
              "      <td>get_slice needs offset + limit</td>\n",
              "      <td>Right now get_slice does not allow you to prov...</td>\n",
              "      <td>Me, explaining new get_slice: so now you would...</td>\n",
              "    </tr>\n",
              "    <tr>\n",
              "      <th>3</th>\n",
              "      <td>CASSANDRA-260</td>\n",
              "      <td>Bug</td>\n",
              "      <td>Resolved</td>\n",
              "      <td>Normal</td>\n",
              "      <td>Unable to read all columns in a column family ...</td>\n",
              "      <td>Since r788516 the typical 'get all columns for...</td>\n",
              "      <td>fixed in patch for CASSANDRA-277 (to be applie...</td>\n",
              "    </tr>\n",
              "    <tr>\n",
              "      <th>4</th>\n",
              "      <td>CASSANDRA-259</td>\n",
              "      <td>New Feature</td>\n",
              "      <td>Resolved</td>\n",
              "      <td>Normal</td>\n",
              "      <td>LRU cache for key positions</td>\n",
              "      <td>add cache like the old touch cache, but workin...</td>\n",
              "      <td>LinkedHashMap is a nonstarter though.  This wa...</td>\n",
              "    </tr>\n",
              "    <tr>\n",
              "      <th>...</th>\n",
              "      <td>...</td>\n",
              "      <td>...</td>\n",
              "      <td>...</td>\n",
              "      <td>...</td>\n",
              "      <td>...</td>\n",
              "      <td>...</td>\n",
              "      <td>...</td>\n",
              "    </tr>\n",
              "    <tr>\n",
              "      <th>18709</th>\n",
              "      <td>CASSANDRA-18769</td>\n",
              "      <td>Bug</td>\n",
              "      <td>Resolved</td>\n",
              "      <td>Normal</td>\n",
              "      <td>Fix flaky test: org.apache.cassandra.cql3.Memt...</td>\n",
              "      <td>{noformat}\\r\\njava.lang.reflect.InaccessibleOb...</td>\n",
              "      <td>I think this is a duplicate of CASSANDRA-18447...</td>\n",
              "    </tr>\n",
              "    <tr>\n",
              "      <th>18710</th>\n",
              "      <td>CASSANDRA-18768</td>\n",
              "      <td>New Feature</td>\n",
              "      <td>Triage Needed</td>\n",
              "      <td>Normal</td>\n",
              "      <td>Harry changes required for CEP-21 testing (NTS...</td>\n",
              "      <td></td>\n",
              "      <td></td>\n",
              "    </tr>\n",
              "    <tr>\n",
              "      <th>18711</th>\n",
              "      <td>CASSANDRA-18767</td>\n",
              "      <td>Bug</td>\n",
              "      <td>Resolved</td>\n",
              "      <td>Normal</td>\n",
              "      <td>tablestats should show speculative retries</td>\n",
              "      <td>NodeProbe makes [provisions|https://github.com...</td>\n",
              "      <td>||Branch||CI||\\r\\n|[3.0|https://github.com/dri...</td>\n",
              "    </tr>\n",
              "    <tr>\n",
              "      <th>18712</th>\n",
              "      <td>CASSANDRA-18766</td>\n",
              "      <td>Bug</td>\n",
              "      <td>Open</td>\n",
              "      <td>Normal</td>\n",
              "      <td>high speculative retries on v4.1.3</td>\n",
              "      <td>There are up to 10+ times higher speculative r...</td>\n",
              "      <td>These are changes between 4.1.2 and 4.1.3 \\r\\n...</td>\n",
              "    </tr>\n",
              "    <tr>\n",
              "      <th>18713</th>\n",
              "      <td>CASSANDRA-18765</td>\n",
              "      <td>Bug</td>\n",
              "      <td>Resolved</td>\n",
              "      <td>Normal</td>\n",
              "      <td>Add CASSANDRA-14227 to 5.0 new features page</td>\n",
              "      <td>The [page|https://cassandra.apache.org/doc/tru...</td>\n",
              "      <td>+1\\nCreated CASSANDRA-18794 for adding the res...</td>\n",
              "    </tr>\n",
              "  </tbody>\n",
              "</table>\n",
              "<p>18714 rows × 7 columns</p>\n",
              "</div>\n",
              "    <div class=\"colab-df-buttons\">\n",
              "\n",
              "  <div class=\"colab-df-container\">\n",
              "    <button class=\"colab-df-convert\" onclick=\"convertToInteractive('df-0da03998-5f15-44ae-898e-7e6822d0a5e8')\"\n",
              "            title=\"Convert this dataframe to an interactive table.\"\n",
              "            style=\"display:none;\">\n",
              "\n",
              "  <svg xmlns=\"http://www.w3.org/2000/svg\" height=\"24px\" viewBox=\"0 -960 960 960\">\n",
              "    <path d=\"M120-120v-720h720v720H120Zm60-500h600v-160H180v160Zm220 220h160v-160H400v160Zm0 220h160v-160H400v160ZM180-400h160v-160H180v160Zm440 0h160v-160H620v160ZM180-180h160v-160H180v160Zm440 0h160v-160H620v160Z\"/>\n",
              "  </svg>\n",
              "    </button>\n",
              "\n",
              "  <style>\n",
              "    .colab-df-container {\n",
              "      display:flex;\n",
              "      gap: 12px;\n",
              "    }\n",
              "\n",
              "    .colab-df-convert {\n",
              "      background-color: #E8F0FE;\n",
              "      border: none;\n",
              "      border-radius: 50%;\n",
              "      cursor: pointer;\n",
              "      display: none;\n",
              "      fill: #1967D2;\n",
              "      height: 32px;\n",
              "      padding: 0 0 0 0;\n",
              "      width: 32px;\n",
              "    }\n",
              "\n",
              "    .colab-df-convert:hover {\n",
              "      background-color: #E2EBFA;\n",
              "      box-shadow: 0px 1px 2px rgba(60, 64, 67, 0.3), 0px 1px 3px 1px rgba(60, 64, 67, 0.15);\n",
              "      fill: #174EA6;\n",
              "    }\n",
              "\n",
              "    .colab-df-buttons div {\n",
              "      margin-bottom: 4px;\n",
              "    }\n",
              "\n",
              "    [theme=dark] .colab-df-convert {\n",
              "      background-color: #3B4455;\n",
              "      fill: #D2E3FC;\n",
              "    }\n",
              "\n",
              "    [theme=dark] .colab-df-convert:hover {\n",
              "      background-color: #434B5C;\n",
              "      box-shadow: 0px 1px 3px 1px rgba(0, 0, 0, 0.15);\n",
              "      filter: drop-shadow(0px 1px 2px rgba(0, 0, 0, 0.3));\n",
              "      fill: #FFFFFF;\n",
              "    }\n",
              "  </style>\n",
              "\n",
              "    <script>\n",
              "      const buttonEl =\n",
              "        document.querySelector('#df-0da03998-5f15-44ae-898e-7e6822d0a5e8 button.colab-df-convert');\n",
              "      buttonEl.style.display =\n",
              "        google.colab.kernel.accessAllowed ? 'block' : 'none';\n",
              "\n",
              "      async function convertToInteractive(key) {\n",
              "        const element = document.querySelector('#df-0da03998-5f15-44ae-898e-7e6822d0a5e8');\n",
              "        const dataTable =\n",
              "          await google.colab.kernel.invokeFunction('convertToInteractive',\n",
              "                                                    [key], {});\n",
              "        if (!dataTable) return;\n",
              "\n",
              "        const docLinkHtml = 'Like what you see? Visit the ' +\n",
              "          '<a target=\"_blank\" href=https://colab.research.google.com/notebooks/data_table.ipynb>data table notebook</a>'\n",
              "          + ' to learn more about interactive tables.';\n",
              "        element.innerHTML = '';\n",
              "        dataTable['output_type'] = 'display_data';\n",
              "        await google.colab.output.renderOutput(dataTable, element);\n",
              "        const docLink = document.createElement('div');\n",
              "        docLink.innerHTML = docLinkHtml;\n",
              "        element.appendChild(docLink);\n",
              "      }\n",
              "    </script>\n",
              "  </div>\n",
              "\n",
              "\n",
              "<div id=\"df-3fe8c41c-654c-4b78-b61c-42ae4efb4629\">\n",
              "  <button class=\"colab-df-quickchart\" onclick=\"quickchart('df-3fe8c41c-654c-4b78-b61c-42ae4efb4629')\"\n",
              "            title=\"Suggest charts.\"\n",
              "            style=\"display:none;\">\n",
              "\n",
              "<svg xmlns=\"http://www.w3.org/2000/svg\" height=\"24px\"viewBox=\"0 0 24 24\"\n",
              "     width=\"24px\">\n",
              "    <g>\n",
              "        <path d=\"M19 3H5c-1.1 0-2 .9-2 2v14c0 1.1.9 2 2 2h14c1.1 0 2-.9 2-2V5c0-1.1-.9-2-2-2zM9 17H7v-7h2v7zm4 0h-2V7h2v10zm4 0h-2v-4h2v4z\"/>\n",
              "    </g>\n",
              "</svg>\n",
              "  </button>\n",
              "\n",
              "<style>\n",
              "  .colab-df-quickchart {\n",
              "      --bg-color: #E8F0FE;\n",
              "      --fill-color: #1967D2;\n",
              "      --hover-bg-color: #E2EBFA;\n",
              "      --hover-fill-color: #174EA6;\n",
              "      --disabled-fill-color: #AAA;\n",
              "      --disabled-bg-color: #DDD;\n",
              "  }\n",
              "\n",
              "  [theme=dark] .colab-df-quickchart {\n",
              "      --bg-color: #3B4455;\n",
              "      --fill-color: #D2E3FC;\n",
              "      --hover-bg-color: #434B5C;\n",
              "      --hover-fill-color: #FFFFFF;\n",
              "      --disabled-bg-color: #3B4455;\n",
              "      --disabled-fill-color: #666;\n",
              "  }\n",
              "\n",
              "  .colab-df-quickchart {\n",
              "    background-color: var(--bg-color);\n",
              "    border: none;\n",
              "    border-radius: 50%;\n",
              "    cursor: pointer;\n",
              "    display: none;\n",
              "    fill: var(--fill-color);\n",
              "    height: 32px;\n",
              "    padding: 0;\n",
              "    width: 32px;\n",
              "  }\n",
              "\n",
              "  .colab-df-quickchart:hover {\n",
              "    background-color: var(--hover-bg-color);\n",
              "    box-shadow: 0 1px 2px rgba(60, 64, 67, 0.3), 0 1px 3px 1px rgba(60, 64, 67, 0.15);\n",
              "    fill: var(--button-hover-fill-color);\n",
              "  }\n",
              "\n",
              "  .colab-df-quickchart-complete:disabled,\n",
              "  .colab-df-quickchart-complete:disabled:hover {\n",
              "    background-color: var(--disabled-bg-color);\n",
              "    fill: var(--disabled-fill-color);\n",
              "    box-shadow: none;\n",
              "  }\n",
              "\n",
              "  .colab-df-spinner {\n",
              "    border: 2px solid var(--fill-color);\n",
              "    border-color: transparent;\n",
              "    border-bottom-color: var(--fill-color);\n",
              "    animation:\n",
              "      spin 1s steps(1) infinite;\n",
              "  }\n",
              "\n",
              "  @keyframes spin {\n",
              "    0% {\n",
              "      border-color: transparent;\n",
              "      border-bottom-color: var(--fill-color);\n",
              "      border-left-color: var(--fill-color);\n",
              "    }\n",
              "    20% {\n",
              "      border-color: transparent;\n",
              "      border-left-color: var(--fill-color);\n",
              "      border-top-color: var(--fill-color);\n",
              "    }\n",
              "    30% {\n",
              "      border-color: transparent;\n",
              "      border-left-color: var(--fill-color);\n",
              "      border-top-color: var(--fill-color);\n",
              "      border-right-color: var(--fill-color);\n",
              "    }\n",
              "    40% {\n",
              "      border-color: transparent;\n",
              "      border-right-color: var(--fill-color);\n",
              "      border-top-color: var(--fill-color);\n",
              "    }\n",
              "    60% {\n",
              "      border-color: transparent;\n",
              "      border-right-color: var(--fill-color);\n",
              "    }\n",
              "    80% {\n",
              "      border-color: transparent;\n",
              "      border-right-color: var(--fill-color);\n",
              "      border-bottom-color: var(--fill-color);\n",
              "    }\n",
              "    90% {\n",
              "      border-color: transparent;\n",
              "      border-bottom-color: var(--fill-color);\n",
              "    }\n",
              "  }\n",
              "</style>\n",
              "\n",
              "  <script>\n",
              "    async function quickchart(key) {\n",
              "      const quickchartButtonEl =\n",
              "        document.querySelector('#' + key + ' button');\n",
              "      quickchartButtonEl.disabled = true;  // To prevent multiple clicks.\n",
              "      quickchartButtonEl.classList.add('colab-df-spinner');\n",
              "      try {\n",
              "        const charts = await google.colab.kernel.invokeFunction(\n",
              "            'suggestCharts', [key], {});\n",
              "      } catch (error) {\n",
              "        console.error('Error during call to suggestCharts:', error);\n",
              "      }\n",
              "      quickchartButtonEl.classList.remove('colab-df-spinner');\n",
              "      quickchartButtonEl.classList.add('colab-df-quickchart-complete');\n",
              "    }\n",
              "    (() => {\n",
              "      let quickchartButtonEl =\n",
              "        document.querySelector('#df-3fe8c41c-654c-4b78-b61c-42ae4efb4629 button');\n",
              "      quickchartButtonEl.style.display =\n",
              "        google.colab.kernel.accessAllowed ? 'block' : 'none';\n",
              "    })();\n",
              "  </script>\n",
              "</div>\n",
              "    </div>\n",
              "  </div>\n"
            ]
          },
          "metadata": {},
          "execution_count": 242
        }
      ]
    },
    {
      "cell_type": "markdown",
      "source": [
        "### Recupera Issues com referência nos commits com classes críticas"
      ],
      "metadata": {
        "id": "0AGqE-DqPgBC"
      }
    },
    {
      "cell_type": "code",
      "source": [
        "dict_issues_in_commits, df_issues_in_commits_with_critical_classes = get_commits_with_critical_files_and_issues_in_this_commits(df_commits_with_critical_files)\n",
        "df_issues_in_commits_with_critical_classes"
      ],
      "metadata": {
        "colab": {
          "base_uri": "https://localhost:8080/",
          "height": 423
        },
        "id": "s2Sdfa0pTrGd",
        "outputId": "a2405f8b-61f4-452b-9279-4de7e0a7717d"
      },
      "execution_count": 243,
      "outputs": [
        {
          "output_type": "execute_result",
          "data": {
            "text/plain": [
              "             issue_key   issue_type    status priority  \\\n",
              "2        CASSANDRA-261          Bug  Resolved   Normal   \n",
              "4        CASSANDRA-259  New Feature  Resolved   Normal   \n",
              "9        CASSANDRA-254  Improvement  Resolved   Normal   \n",
              "12       CASSANDRA-251  Improvement  Resolved   Normal   \n",
              "15       CASSANDRA-248  Improvement  Resolved   Normal   \n",
              "...                ...          ...       ...      ...   \n",
              "18434  CASSANDRA-18504  Improvement  Resolved   Normal   \n",
              "18438  CASSANDRA-18500  New Feature  Resolved   Normal   \n",
              "18662  CASSANDRA-18816  Improvement  Resolved   Normal   \n",
              "18675  CASSANDRA-18803          Bug  Resolved   Normal   \n",
              "18697  CASSANDRA-18781  Improvement  Resolved   Normal   \n",
              "\n",
              "                                                 summary  \\\n",
              "2                         get_slice needs offset + limit   \n",
              "4                            LRU cache for key positions   \n",
              "9                          clean up sstable constructors   \n",
              "12       Restore ColumnSort=Time on Super Columnfamilies   \n",
              "15     Replace factory method based on explicit locks...   \n",
              "...                                                  ...   \n",
              "18434     Added support for type VECTOR<type, dimension>   \n",
              "18438                   Add guardrail for partition size   \n",
              "18662  Add support for repair coordinator to retry me...   \n",
              "18675  Refactor validation logic in StorageService.re...   \n",
              "18697  Add the ability to disable bulk loading of SST...   \n",
              "\n",
              "                                             description  \\\n",
              "2      Right now get_slice does not allow you to prov...   \n",
              "4      add cache like the old touch cache, but workin...   \n",
              "9                                                          \n",
              "12     Setting ColumnSort=Time on a Super Columnfamil...   \n",
              "15     Replace factory method based on explicit locks...   \n",
              "...                                                  ...   \n",
              "18434  Based off several mailing list threads (see \"[...   \n",
              "18438  Add a guardrail for max partition size, for ex...   \n",
              "18662  Now that CASSANDRA-15399 is in, most of the re...   \n",
              "18675      This is a follow-up ticket of CASSANDRA-14319   \n",
              "18697  Currently, Cassandra database users can use ss...   \n",
              "\n",
              "                                                comments  \n",
              "2      Me, explaining new get_slice: so now you would...  \n",
              "4      LinkedHashMap is a nonstarter though.  This wa...  \n",
              "9      +1\\ncommitted\\nIntegrated in Cassandra #120 (S...  \n",
              "12     Sorry, I got a little rattled by the \"oh crap ...  \n",
              "15     Patch submitted.\\nThis is double-checked locki...  \n",
              "...                                                  ...  \n",
              "18434  having a hard time fixing CQL3TypeLiteralTest ...  \n",
              "18438  The proposed patch adds a new guardrail for pa...  \n",
              "18662  scope slightly increased due to bugs found by ...  \n",
              "18675  [~aweisberg] would you mind to take a look? Su...  \n",
              "18697  This might be implemented by a guardrail. You ...  \n",
              "\n",
              "[2912 rows x 7 columns]"
            ],
            "text/html": [
              "\n",
              "  <div id=\"df-2298d9f9-5566-4c37-8c5f-8d4372077106\" class=\"colab-df-container\">\n",
              "    <div>\n",
              "<style scoped>\n",
              "    .dataframe tbody tr th:only-of-type {\n",
              "        vertical-align: middle;\n",
              "    }\n",
              "\n",
              "    .dataframe tbody tr th {\n",
              "        vertical-align: top;\n",
              "    }\n",
              "\n",
              "    .dataframe thead th {\n",
              "        text-align: right;\n",
              "    }\n",
              "</style>\n",
              "<table border=\"1\" class=\"dataframe\">\n",
              "  <thead>\n",
              "    <tr style=\"text-align: right;\">\n",
              "      <th></th>\n",
              "      <th>issue_key</th>\n",
              "      <th>issue_type</th>\n",
              "      <th>status</th>\n",
              "      <th>priority</th>\n",
              "      <th>summary</th>\n",
              "      <th>description</th>\n",
              "      <th>comments</th>\n",
              "    </tr>\n",
              "  </thead>\n",
              "  <tbody>\n",
              "    <tr>\n",
              "      <th>2</th>\n",
              "      <td>CASSANDRA-261</td>\n",
              "      <td>Bug</td>\n",
              "      <td>Resolved</td>\n",
              "      <td>Normal</td>\n",
              "      <td>get_slice needs offset + limit</td>\n",
              "      <td>Right now get_slice does not allow you to prov...</td>\n",
              "      <td>Me, explaining new get_slice: so now you would...</td>\n",
              "    </tr>\n",
              "    <tr>\n",
              "      <th>4</th>\n",
              "      <td>CASSANDRA-259</td>\n",
              "      <td>New Feature</td>\n",
              "      <td>Resolved</td>\n",
              "      <td>Normal</td>\n",
              "      <td>LRU cache for key positions</td>\n",
              "      <td>add cache like the old touch cache, but workin...</td>\n",
              "      <td>LinkedHashMap is a nonstarter though.  This wa...</td>\n",
              "    </tr>\n",
              "    <tr>\n",
              "      <th>9</th>\n",
              "      <td>CASSANDRA-254</td>\n",
              "      <td>Improvement</td>\n",
              "      <td>Resolved</td>\n",
              "      <td>Normal</td>\n",
              "      <td>clean up sstable constructors</td>\n",
              "      <td></td>\n",
              "      <td>+1\\ncommitted\\nIntegrated in Cassandra #120 (S...</td>\n",
              "    </tr>\n",
              "    <tr>\n",
              "      <th>12</th>\n",
              "      <td>CASSANDRA-251</td>\n",
              "      <td>Improvement</td>\n",
              "      <td>Resolved</td>\n",
              "      <td>Normal</td>\n",
              "      <td>Restore ColumnSort=Time on Super Columnfamilies</td>\n",
              "      <td>Setting ColumnSort=Time on a Super Columnfamil...</td>\n",
              "      <td>Sorry, I got a little rattled by the \"oh crap ...</td>\n",
              "    </tr>\n",
              "    <tr>\n",
              "      <th>15</th>\n",
              "      <td>CASSANDRA-248</td>\n",
              "      <td>Improvement</td>\n",
              "      <td>Resolved</td>\n",
              "      <td>Normal</td>\n",
              "      <td>Replace factory method based on explicit locks...</td>\n",
              "      <td>Replace factory method based on explicit locks...</td>\n",
              "      <td>Patch submitted.\\nThis is double-checked locki...</td>\n",
              "    </tr>\n",
              "    <tr>\n",
              "      <th>...</th>\n",
              "      <td>...</td>\n",
              "      <td>...</td>\n",
              "      <td>...</td>\n",
              "      <td>...</td>\n",
              "      <td>...</td>\n",
              "      <td>...</td>\n",
              "      <td>...</td>\n",
              "    </tr>\n",
              "    <tr>\n",
              "      <th>18434</th>\n",
              "      <td>CASSANDRA-18504</td>\n",
              "      <td>Improvement</td>\n",
              "      <td>Resolved</td>\n",
              "      <td>Normal</td>\n",
              "      <td>Added support for type VECTOR&lt;type, dimension&gt;</td>\n",
              "      <td>Based off several mailing list threads (see \"[...</td>\n",
              "      <td>having a hard time fixing CQL3TypeLiteralTest ...</td>\n",
              "    </tr>\n",
              "    <tr>\n",
              "      <th>18438</th>\n",
              "      <td>CASSANDRA-18500</td>\n",
              "      <td>New Feature</td>\n",
              "      <td>Resolved</td>\n",
              "      <td>Normal</td>\n",
              "      <td>Add guardrail for partition size</td>\n",
              "      <td>Add a guardrail for max partition size, for ex...</td>\n",
              "      <td>The proposed patch adds a new guardrail for pa...</td>\n",
              "    </tr>\n",
              "    <tr>\n",
              "      <th>18662</th>\n",
              "      <td>CASSANDRA-18816</td>\n",
              "      <td>Improvement</td>\n",
              "      <td>Resolved</td>\n",
              "      <td>Normal</td>\n",
              "      <td>Add support for repair coordinator to retry me...</td>\n",
              "      <td>Now that CASSANDRA-15399 is in, most of the re...</td>\n",
              "      <td>scope slightly increased due to bugs found by ...</td>\n",
              "    </tr>\n",
              "    <tr>\n",
              "      <th>18675</th>\n",
              "      <td>CASSANDRA-18803</td>\n",
              "      <td>Bug</td>\n",
              "      <td>Resolved</td>\n",
              "      <td>Normal</td>\n",
              "      <td>Refactor validation logic in StorageService.re...</td>\n",
              "      <td>This is a follow-up ticket of CASSANDRA-14319</td>\n",
              "      <td>[~aweisberg] would you mind to take a look? Su...</td>\n",
              "    </tr>\n",
              "    <tr>\n",
              "      <th>18697</th>\n",
              "      <td>CASSANDRA-18781</td>\n",
              "      <td>Improvement</td>\n",
              "      <td>Resolved</td>\n",
              "      <td>Normal</td>\n",
              "      <td>Add the ability to disable bulk loading of SST...</td>\n",
              "      <td>Currently, Cassandra database users can use ss...</td>\n",
              "      <td>This might be implemented by a guardrail. You ...</td>\n",
              "    </tr>\n",
              "  </tbody>\n",
              "</table>\n",
              "<p>2912 rows × 7 columns</p>\n",
              "</div>\n",
              "    <div class=\"colab-df-buttons\">\n",
              "\n",
              "  <div class=\"colab-df-container\">\n",
              "    <button class=\"colab-df-convert\" onclick=\"convertToInteractive('df-2298d9f9-5566-4c37-8c5f-8d4372077106')\"\n",
              "            title=\"Convert this dataframe to an interactive table.\"\n",
              "            style=\"display:none;\">\n",
              "\n",
              "  <svg xmlns=\"http://www.w3.org/2000/svg\" height=\"24px\" viewBox=\"0 -960 960 960\">\n",
              "    <path d=\"M120-120v-720h720v720H120Zm60-500h600v-160H180v160Zm220 220h160v-160H400v160Zm0 220h160v-160H400v160ZM180-400h160v-160H180v160Zm440 0h160v-160H620v160ZM180-180h160v-160H180v160Zm440 0h160v-160H620v160Z\"/>\n",
              "  </svg>\n",
              "    </button>\n",
              "\n",
              "  <style>\n",
              "    .colab-df-container {\n",
              "      display:flex;\n",
              "      gap: 12px;\n",
              "    }\n",
              "\n",
              "    .colab-df-convert {\n",
              "      background-color: #E8F0FE;\n",
              "      border: none;\n",
              "      border-radius: 50%;\n",
              "      cursor: pointer;\n",
              "      display: none;\n",
              "      fill: #1967D2;\n",
              "      height: 32px;\n",
              "      padding: 0 0 0 0;\n",
              "      width: 32px;\n",
              "    }\n",
              "\n",
              "    .colab-df-convert:hover {\n",
              "      background-color: #E2EBFA;\n",
              "      box-shadow: 0px 1px 2px rgba(60, 64, 67, 0.3), 0px 1px 3px 1px rgba(60, 64, 67, 0.15);\n",
              "      fill: #174EA6;\n",
              "    }\n",
              "\n",
              "    .colab-df-buttons div {\n",
              "      margin-bottom: 4px;\n",
              "    }\n",
              "\n",
              "    [theme=dark] .colab-df-convert {\n",
              "      background-color: #3B4455;\n",
              "      fill: #D2E3FC;\n",
              "    }\n",
              "\n",
              "    [theme=dark] .colab-df-convert:hover {\n",
              "      background-color: #434B5C;\n",
              "      box-shadow: 0px 1px 3px 1px rgba(0, 0, 0, 0.15);\n",
              "      filter: drop-shadow(0px 1px 2px rgba(0, 0, 0, 0.3));\n",
              "      fill: #FFFFFF;\n",
              "    }\n",
              "  </style>\n",
              "\n",
              "    <script>\n",
              "      const buttonEl =\n",
              "        document.querySelector('#df-2298d9f9-5566-4c37-8c5f-8d4372077106 button.colab-df-convert');\n",
              "      buttonEl.style.display =\n",
              "        google.colab.kernel.accessAllowed ? 'block' : 'none';\n",
              "\n",
              "      async function convertToInteractive(key) {\n",
              "        const element = document.querySelector('#df-2298d9f9-5566-4c37-8c5f-8d4372077106');\n",
              "        const dataTable =\n",
              "          await google.colab.kernel.invokeFunction('convertToInteractive',\n",
              "                                                    [key], {});\n",
              "        if (!dataTable) return;\n",
              "\n",
              "        const docLinkHtml = 'Like what you see? Visit the ' +\n",
              "          '<a target=\"_blank\" href=https://colab.research.google.com/notebooks/data_table.ipynb>data table notebook</a>'\n",
              "          + ' to learn more about interactive tables.';\n",
              "        element.innerHTML = '';\n",
              "        dataTable['output_type'] = 'display_data';\n",
              "        await google.colab.output.renderOutput(dataTable, element);\n",
              "        const docLink = document.createElement('div');\n",
              "        docLink.innerHTML = docLinkHtml;\n",
              "        element.appendChild(docLink);\n",
              "      }\n",
              "    </script>\n",
              "  </div>\n",
              "\n",
              "\n",
              "<div id=\"df-39ee7e8e-ce2b-4795-8c62-4f34bbd478e0\">\n",
              "  <button class=\"colab-df-quickchart\" onclick=\"quickchart('df-39ee7e8e-ce2b-4795-8c62-4f34bbd478e0')\"\n",
              "            title=\"Suggest charts.\"\n",
              "            style=\"display:none;\">\n",
              "\n",
              "<svg xmlns=\"http://www.w3.org/2000/svg\" height=\"24px\"viewBox=\"0 0 24 24\"\n",
              "     width=\"24px\">\n",
              "    <g>\n",
              "        <path d=\"M19 3H5c-1.1 0-2 .9-2 2v14c0 1.1.9 2 2 2h14c1.1 0 2-.9 2-2V5c0-1.1-.9-2-2-2zM9 17H7v-7h2v7zm4 0h-2V7h2v10zm4 0h-2v-4h2v4z\"/>\n",
              "    </g>\n",
              "</svg>\n",
              "  </button>\n",
              "\n",
              "<style>\n",
              "  .colab-df-quickchart {\n",
              "      --bg-color: #E8F0FE;\n",
              "      --fill-color: #1967D2;\n",
              "      --hover-bg-color: #E2EBFA;\n",
              "      --hover-fill-color: #174EA6;\n",
              "      --disabled-fill-color: #AAA;\n",
              "      --disabled-bg-color: #DDD;\n",
              "  }\n",
              "\n",
              "  [theme=dark] .colab-df-quickchart {\n",
              "      --bg-color: #3B4455;\n",
              "      --fill-color: #D2E3FC;\n",
              "      --hover-bg-color: #434B5C;\n",
              "      --hover-fill-color: #FFFFFF;\n",
              "      --disabled-bg-color: #3B4455;\n",
              "      --disabled-fill-color: #666;\n",
              "  }\n",
              "\n",
              "  .colab-df-quickchart {\n",
              "    background-color: var(--bg-color);\n",
              "    border: none;\n",
              "    border-radius: 50%;\n",
              "    cursor: pointer;\n",
              "    display: none;\n",
              "    fill: var(--fill-color);\n",
              "    height: 32px;\n",
              "    padding: 0;\n",
              "    width: 32px;\n",
              "  }\n",
              "\n",
              "  .colab-df-quickchart:hover {\n",
              "    background-color: var(--hover-bg-color);\n",
              "    box-shadow: 0 1px 2px rgba(60, 64, 67, 0.3), 0 1px 3px 1px rgba(60, 64, 67, 0.15);\n",
              "    fill: var(--button-hover-fill-color);\n",
              "  }\n",
              "\n",
              "  .colab-df-quickchart-complete:disabled,\n",
              "  .colab-df-quickchart-complete:disabled:hover {\n",
              "    background-color: var(--disabled-bg-color);\n",
              "    fill: var(--disabled-fill-color);\n",
              "    box-shadow: none;\n",
              "  }\n",
              "\n",
              "  .colab-df-spinner {\n",
              "    border: 2px solid var(--fill-color);\n",
              "    border-color: transparent;\n",
              "    border-bottom-color: var(--fill-color);\n",
              "    animation:\n",
              "      spin 1s steps(1) infinite;\n",
              "  }\n",
              "\n",
              "  @keyframes spin {\n",
              "    0% {\n",
              "      border-color: transparent;\n",
              "      border-bottom-color: var(--fill-color);\n",
              "      border-left-color: var(--fill-color);\n",
              "    }\n",
              "    20% {\n",
              "      border-color: transparent;\n",
              "      border-left-color: var(--fill-color);\n",
              "      border-top-color: var(--fill-color);\n",
              "    }\n",
              "    30% {\n",
              "      border-color: transparent;\n",
              "      border-left-color: var(--fill-color);\n",
              "      border-top-color: var(--fill-color);\n",
              "      border-right-color: var(--fill-color);\n",
              "    }\n",
              "    40% {\n",
              "      border-color: transparent;\n",
              "      border-right-color: var(--fill-color);\n",
              "      border-top-color: var(--fill-color);\n",
              "    }\n",
              "    60% {\n",
              "      border-color: transparent;\n",
              "      border-right-color: var(--fill-color);\n",
              "    }\n",
              "    80% {\n",
              "      border-color: transparent;\n",
              "      border-right-color: var(--fill-color);\n",
              "      border-bottom-color: var(--fill-color);\n",
              "    }\n",
              "    90% {\n",
              "      border-color: transparent;\n",
              "      border-bottom-color: var(--fill-color);\n",
              "    }\n",
              "  }\n",
              "</style>\n",
              "\n",
              "  <script>\n",
              "    async function quickchart(key) {\n",
              "      const quickchartButtonEl =\n",
              "        document.querySelector('#' + key + ' button');\n",
              "      quickchartButtonEl.disabled = true;  // To prevent multiple clicks.\n",
              "      quickchartButtonEl.classList.add('colab-df-spinner');\n",
              "      try {\n",
              "        const charts = await google.colab.kernel.invokeFunction(\n",
              "            'suggestCharts', [key], {});\n",
              "      } catch (error) {\n",
              "        console.error('Error during call to suggestCharts:', error);\n",
              "      }\n",
              "      quickchartButtonEl.classList.remove('colab-df-spinner');\n",
              "      quickchartButtonEl.classList.add('colab-df-quickchart-complete');\n",
              "    }\n",
              "    (() => {\n",
              "      let quickchartButtonEl =\n",
              "        document.querySelector('#df-39ee7e8e-ce2b-4795-8c62-4f34bbd478e0 button');\n",
              "      quickchartButtonEl.style.display =\n",
              "        google.colab.kernel.accessAllowed ? 'block' : 'none';\n",
              "    })();\n",
              "  </script>\n",
              "</div>\n",
              "    </div>\n",
              "  </div>\n"
            ]
          },
          "metadata": {},
          "execution_count": 243
        }
      ]
    },
    {
      "cell_type": "code",
      "source": [
        "df_issues_in_commits_with_critical_classes.info()"
      ],
      "metadata": {
        "colab": {
          "base_uri": "https://localhost:8080/"
        },
        "id": "fGu-1BkUmbEx",
        "outputId": "4b289c7e-f357-479f-b9f7-07fb888a3062"
      },
      "execution_count": 244,
      "outputs": [
        {
          "output_type": "stream",
          "name": "stdout",
          "text": [
            "<class 'pandas.core.frame.DataFrame'>\n",
            "Int64Index: 2912 entries, 2 to 18697\n",
            "Data columns (total 7 columns):\n",
            " #   Column       Non-Null Count  Dtype \n",
            "---  ------       --------------  ----- \n",
            " 0   issue_key    2912 non-null   object\n",
            " 1   issue_type   2912 non-null   object\n",
            " 2   status       2912 non-null   object\n",
            " 3   priority     2912 non-null   object\n",
            " 4   summary      2912 non-null   object\n",
            " 5   description  2912 non-null   object\n",
            " 6   comments     2912 non-null   object\n",
            "dtypes: object(7)\n",
            "memory usage: 182.0+ KB\n"
          ]
        }
      ]
    },
    {
      "cell_type": "markdown",
      "source": [
        "# Seleciona amostra dos Issues"
      ],
      "metadata": {
        "id": "tSu8U-M7XJdg"
      }
    },
    {
      "cell_type": "code",
      "source": [
        "confidence_level = 0.95\n",
        "margin_of_error = 0.05\n",
        "population_proportion = 0.8\n",
        "population_size = len(df_issues_in_commits_with_critical_classes)\n",
        "\n",
        "sample_size = calculate_sample_size(confidence_level, margin_of_error, population_proportion, population_size)\n",
        "print(f'População de issues: {population_size}')\n",
        "print(f\"Sample size para inspeção: {sample_size}\")"
      ],
      "metadata": {
        "colab": {
          "base_uri": "https://localhost:8080/"
        },
        "id": "YsrUjy68VaC_",
        "outputId": "5a789dea-f39b-4798-99fa-854802555002"
      },
      "execution_count": 245,
      "outputs": [
        {
          "output_type": "stream",
          "name": "stdout",
          "text": [
            "População de issues: 2912\n",
            "Sample size para inspeção: 226\n"
          ]
        }
      ]
    },
    {
      "cell_type": "code",
      "source": [
        "sample_issues = select_issues_to_inspection(sample_size, df_issues_in_commits_with_critical_classes, my_date='02/11/2023')"
      ],
      "metadata": {
        "colab": {
          "base_uri": "https://localhost:8080/"
        },
        "id": "bBfy--OYYLWS",
        "outputId": "b8f147f0-1f02-4056-abc0-74b06f8ee13e"
      },
      "execution_count": 246,
      "outputs": [
        {
          "output_type": "stream",
          "name": "stdout",
          "text": [
            "226 para inspeção manual\n",
            "Relação de Issues salvos em 02/11/2023 para inspeção.\n"
          ]
        }
      ]
    },
    {
      "cell_type": "code",
      "source": [
        "generate_files_issues_to_inspection(sample_issues, df_issues_in_commits_with_critical_classes)"
      ],
      "metadata": {
        "colab": {
          "base_uri": "https://localhost:8080/"
        },
        "id": "g5-WsdGzfQpH",
        "outputId": "d7ffa8f6-c90b-4493-f820-eec4adf8d9d2"
      },
      "execution_count": 247,
      "outputs": [
        {
          "output_type": "stream",
          "name": "stderr",
          "text": [
            "Analyzing issues:   2%|▏         | 49/2912 [00:00<00:05, 487.39it/s]"
          ]
        },
        {
          "output_type": "stream",
          "name": "stdout",
          "text": [
            "File my_issues/CASSANDRA-185 created with success!\n",
            "File my_issues/CASSANDRA-124 created with success!\n",
            "File my_issues/CASSANDRA-475 created with success!\n"
          ]
        },
        {
          "output_type": "stream",
          "name": "stderr",
          "text": [
            "\rAnalyzing issues:   3%|▎         | 98/2912 [00:00<00:05, 470.14it/s]"
          ]
        },
        {
          "output_type": "stream",
          "name": "stdout",
          "text": [
            "File my_issues/CASSANDRA-437 created with success!\n",
            "File my_issues/CASSANDRA-402 created with success!\n"
          ]
        },
        {
          "output_type": "stream",
          "name": "stderr",
          "text": [
            "\rAnalyzing issues:   5%|▌         | 146/2912 [00:00<00:06, 459.40it/s]"
          ]
        },
        {
          "output_type": "stream",
          "name": "stdout",
          "text": [
            "File my_issues/CASSANDRA-379 created with success!\n",
            "File my_issues/CASSANDRA-361 created with success!\n",
            "File my_issues/CASSANDRA-359 created with success!\n",
            "File my_issues/CASSANDRA-356 created with success!\n",
            "File my_issues/CASSANDRA-287 created with success!\n",
            "File my_issues/CASSANDRA-827 created with success!\n"
          ]
        },
        {
          "output_type": "stream",
          "name": "stderr",
          "text": [
            "\rAnalyzing issues:   7%|▋         | 192/2912 [00:00<00:06, 447.08it/s]"
          ]
        },
        {
          "output_type": "stream",
          "name": "stdout",
          "text": [
            "File my_issues/CASSANDRA-746 created with success!\n",
            "File my_issues/CASSANDRA-705 created with success!\n"
          ]
        },
        {
          "output_type": "stream",
          "name": "stderr",
          "text": [
            "Analyzing issues:  10%|▉         | 286/2912 [00:00<00:05, 457.05it/s]"
          ]
        },
        {
          "output_type": "stream",
          "name": "stdout",
          "text": [
            "File my_issues/CASSANDRA-669 created with success!\n",
            "File my_issues/CASSANDRA-667 created with success!\n",
            "File my_issues/CASSANDRA-568 created with success!\n"
          ]
        },
        {
          "output_type": "stream",
          "name": "stderr",
          "text": [
            "Analyzing issues:  15%|█▍        | 423/2912 [00:00<00:05, 442.87it/s]"
          ]
        },
        {
          "output_type": "stream",
          "name": "stdout",
          "text": [
            "File my_issues/CASSANDRA-861 created with success!\n",
            "File my_issues/CASSANDRA-1637 created with success!\n",
            "File my_issues/CASSANDRA-1631 created with success!\n",
            "File my_issues/CASSANDRA-1588 created with success!\n",
            "File my_issues/CASSANDRA-1588 created with success!\n",
            "File my_issues/CASSANDRA-1545 created with success!\n",
            "File my_issues/CASSANDRA-1519 created with success!\n",
            "File my_issues/CASSANDRA-1499 created with success!\n",
            "File my_issues/CASSANDRA-1433 created with success!\n",
            "File my_issues/CASSANDRA-1415 created with success!\n",
            "File my_issues/CASSANDRA-1414 created with success!\n",
            "File my_issues/CASSANDRA-1405 created with success!\n",
            "File my_issues/CASSANDRA-1367 created with success!\n"
          ]
        },
        {
          "output_type": "stream",
          "name": "stderr",
          "text": [
            "Analyzing issues:  18%|█▊        | 513/2912 [00:01<00:05, 443.55it/s]"
          ]
        },
        {
          "output_type": "stream",
          "name": "stdout",
          "text": [
            "File my_issues/CASSANDRA-1313 created with success!\n",
            "File my_issues/CASSANDRA-1258 created with success!\n",
            "File my_issues/CASSANDRA-2082 created with success!\n",
            "File my_issues/CASSANDRA-1986 created with success!\n",
            "File my_issues/CASSANDRA-1963 created with success!\n",
            "File my_issues/CASSANDRA-1954 created with success!\n",
            "File my_issues/CASSANDRA-1902 created with success!\n"
          ]
        },
        {
          "output_type": "stream",
          "name": "stderr",
          "text": [
            "Analyzing issues:  21%|██        | 605/2912 [00:01<00:05, 446.83it/s]"
          ]
        },
        {
          "output_type": "stream",
          "name": "stdout",
          "text": [
            "File my_issues/CASSANDRA-1862 created with success!\n",
            "File my_issues/CASSANDRA-1829 created with success!\n",
            "File my_issues/CASSANDRA-1666 created with success!\n",
            "File my_issues/CASSANDRA-2784 created with success!\n",
            "File my_issues/CASSANDRA-2778 created with success!\n",
            "File my_issues/CASSANDRA-2718 created with success!\n",
            "File my_issues/CASSANDRA-2606 created with success!\n",
            "File my_issues/CASSANDRA-2575 created with success!\n"
          ]
        },
        {
          "output_type": "stream",
          "name": "stderr",
          "text": [
            "Analyzing issues:  24%|██▍       | 696/2912 [00:01<00:04, 450.18it/s]"
          ]
        },
        {
          "output_type": "stream",
          "name": "stdout",
          "text": [
            "File my_issues/CASSANDRA-2457 created with success!\n",
            "File my_issues/CASSANDRA-2447 created with success!\n",
            "File my_issues/CASSANDRA-2425 created with success!\n",
            "File my_issues/CASSANDRA-2367 created with success!\n",
            "File my_issues/CASSANDRA-2320 created with success!\n",
            "File my_issues/CASSANDRA-2283 created with success!\n",
            "File my_issues/CASSANDRA-3318 created with success!\n",
            "File my_issues/CASSANDRA-3229 created with success!\n"
          ]
        },
        {
          "output_type": "stream",
          "name": "stderr",
          "text": [
            "Analyzing issues:  29%|██▊       | 837/2912 [00:01<00:04, 454.18it/s]"
          ]
        },
        {
          "output_type": "stream",
          "name": "stdout",
          "text": [
            "File my_issues/CASSANDRA-3165 created with success!\n",
            "File my_issues/CASSANDRA-3163 created with success!\n",
            "File my_issues/CASSANDRA-3063 created with success!\n",
            "File my_issues/CASSANDRA-2943 created with success!\n",
            "File my_issues/CASSANDRA-2933 created with success!\n",
            "File my_issues/CASSANDRA-2858 created with success!\n"
          ]
        },
        {
          "output_type": "stream",
          "name": "stderr",
          "text": [
            "Analyzing issues:  32%|███▏      | 931/2912 [00:02<00:04, 458.29it/s]"
          ]
        },
        {
          "output_type": "stream",
          "name": "stdout",
          "text": [
            "File my_issues/CASSANDRA-3806 created with success!\n",
            "File my_issues/CASSANDRA-3791 created with success!\n",
            "File my_issues/CASSANDRA-3721 created with success!\n",
            "File my_issues/CASSANDRA-3667 created with success!\n",
            "File my_issues/CASSANDRA-3639 created with success!\n",
            "File my_issues/CASSANDRA-3562 created with success!\n",
            "File my_issues/CASSANDRA-3530 created with success!\n",
            "File my_issues/CASSANDRA-3472 created with success!\n",
            "File my_issues/CASSANDRA-3389 created with success!\n"
          ]
        },
        {
          "output_type": "stream",
          "name": "stderr",
          "text": [
            "Analyzing issues:  35%|███▌      | 1026/2912 [00:02<00:04, 462.86it/s]"
          ]
        },
        {
          "output_type": "stream",
          "name": "stdout",
          "text": [
            "File my_issues/CASSANDRA-4230 created with success!\n",
            "File my_issues/CASSANDRA-4150 created with success!\n",
            "File my_issues/CASSANDRA-4070 created with success!\n",
            "File my_issues/CASSANDRA-4063 created with success!\n",
            "File my_issues/CASSANDRA-3997 created with success!\n",
            "File my_issues/CASSANDRA-3956 created with success!\n",
            "File my_issues/CASSANDRA-4790 created with success!\n",
            "File my_issues/CASSANDRA-4747 created with success!\n"
          ]
        },
        {
          "output_type": "stream",
          "name": "stderr",
          "text": [
            "Analyzing issues:  40%|███▉      | 1163/2912 [00:02<00:03, 439.81it/s]"
          ]
        },
        {
          "output_type": "stream",
          "name": "stdout",
          "text": [
            "File my_issues/CASSANDRA-4612 created with success!\n",
            "File my_issues/CASSANDRA-4456 created with success!\n",
            "File my_issues/CASSANDRA-5197 created with success!\n",
            "File my_issues/CASSANDRA-5175 created with success!\n",
            "File my_issues/CASSANDRA-5149 created with success!\n",
            "File my_issues/CASSANDRA-5131 created with success!\n",
            "File my_issues/CASSANDRA-5125 created with success!\n",
            "File my_issues/CASSANDRA-5122 created with success!\n",
            "File my_issues/CASSANDRA-5075 created with success!\n"
          ]
        },
        {
          "output_type": "stream",
          "name": "stderr",
          "text": [
            "Analyzing issues:  43%|████▎     | 1252/2912 [00:02<00:03, 436.72it/s]"
          ]
        },
        {
          "output_type": "stream",
          "name": "stdout",
          "text": [
            "File my_issues/CASSANDRA-5065 created with success!\n",
            "File my_issues/CASSANDRA-5057 created with success!\n",
            "File my_issues/CASSANDRA-5036 created with success!\n",
            "File my_issues/CASSANDRA-4949 created with success!\n",
            "File my_issues/CASSANDRA-4893 created with success!\n",
            "File my_issues/CASSANDRA-4876 created with success!\n",
            "File my_issues/CASSANDRA-4874 created with success!\n",
            "File my_issues/CASSANDRA-4802 created with success!\n"
          ]
        },
        {
          "output_type": "stream",
          "name": "stderr",
          "text": [
            "Analyzing issues:  46%|████▌     | 1344/2912 [00:03<00:03, 445.65it/s]"
          ]
        },
        {
          "output_type": "stream",
          "name": "stdout",
          "text": [
            "File my_issues/CASSANDRA-5424 created with success!\n",
            "File my_issues/CASSANDRA-5368 created with success!\n",
            "File my_issues/CASSANDRA-6109 created with success!\n",
            "File my_issues/CASSANDRA-6016 created with success!\n",
            "File my_issues/CASSANDRA-6013 created with success!\n",
            "File my_issues/CASSANDRA-6008 created with success!\n",
            "File my_issues/CASSANDRA-5981 created with success!\n",
            "File my_issues/CASSANDRA-5916 created with success!\n",
            "File my_issues/CASSANDRA-5865 created with success!\n",
            "File my_issues/CASSANDRA-5838 created with success!\n"
          ]
        },
        {
          "output_type": "stream",
          "name": "stderr",
          "text": [
            "Analyzing issues:  49%|████▉     | 1437/2912 [00:03<00:03, 453.26it/s]"
          ]
        },
        {
          "output_type": "stream",
          "name": "stdout",
          "text": [
            "File my_issues/CASSANDRA-5668 created with success!\n",
            "File my_issues/CASSANDRA-5668 created with success!\n",
            "File my_issues/CASSANDRA-6510 created with success!\n",
            "File my_issues/CASSANDRA-6351 created with success!\n",
            "File my_issues/CASSANDRA-6205 created with success!\n"
          ]
        },
        {
          "output_type": "stream",
          "name": "stderr",
          "text": [
            "Analyzing issues:  53%|█████▎    | 1530/2912 [00:03<00:03, 450.59it/s]"
          ]
        },
        {
          "output_type": "stream",
          "name": "stdout",
          "text": [
            "File my_issues/CASSANDRA-7336 created with success!\n",
            "File my_issues/CASSANDRA-7304 created with success!\n",
            "File my_issues/CASSANDRA-7272 created with success!\n",
            "File my_issues/CASSANDRA-7242 created with success!\n",
            "File my_issues/CASSANDRA-7144 created with success!\n",
            "File my_issues/CASSANDRA-7139 created with success!\n",
            "File my_issues/CASSANDRA-7069 created with success!\n",
            "File my_issues/CASSANDRA-6996 created with success!\n",
            "File my_issues/CASSANDRA-6907 created with success!\n",
            "File my_issues/CASSANDRA-6882 created with success!\n",
            "File my_issues/CASSANDRA-6875 created with success!\n"
          ]
        },
        {
          "output_type": "stream",
          "name": "stderr",
          "text": [
            "Analyzing issues:  57%|█████▋    | 1672/2912 [00:03<00:02, 465.43it/s]"
          ]
        },
        {
          "output_type": "stream",
          "name": "stdout",
          "text": [
            "File my_issues/CASSANDRA-6689 created with success!\n",
            "File my_issues/CASSANDRA-6689 created with success!\n",
            "File my_issues/CASSANDRA-7970 created with success!\n",
            "File my_issues/CASSANDRA-7909 created with success!\n",
            "File my_issues/CASSANDRA-7836 created with success!\n",
            "File my_issues/CASSANDRA-7801 created with success!\n",
            "File my_issues/CASSANDRA-7638 created with success!\n",
            "File my_issues/CASSANDRA-7635 created with success!\n",
            "File my_issues/CASSANDRA-7525 created with success!\n"
          ]
        },
        {
          "output_type": "stream",
          "name": "stderr",
          "text": [
            "Analyzing issues:  61%|██████    | 1768/2912 [00:03<00:02, 457.96it/s]"
          ]
        },
        {
          "output_type": "stream",
          "name": "stdout",
          "text": [
            "File my_issues/CASSANDRA-7450 created with success!\n",
            "File my_issues/CASSANDRA-7386 created with success!\n",
            "File my_issues/CASSANDRA-8537 created with success!\n",
            "File my_issues/CASSANDRA-8514 created with success!\n",
            "File my_issues/CASSANDRA-8490 created with success!\n",
            "File my_issues/CASSANDRA-8348 created with success!\n",
            "File my_issues/CASSANDRA-8267 created with success!\n"
          ]
        },
        {
          "output_type": "stream",
          "name": "stderr",
          "text": [
            "Analyzing issues:  64%|██████▍   | 1862/2912 [00:04<00:02, 461.33it/s]"
          ]
        },
        {
          "output_type": "stream",
          "name": "stdout",
          "text": [
            "File my_issues/CASSANDRA-8116 created with success!\n",
            "File my_issues/CASSANDRA-8103 created with success!\n",
            "File my_issues/CASSANDRA-8084 created with success!\n",
            "File my_issues/CASSANDRA-9499 created with success!\n",
            "File my_issues/CASSANDRA-9352 created with success!\n",
            "File my_issues/CASSANDRA-9076 created with success!\n",
            "File my_issues/CASSANDRA-8976 created with success!\n",
            "File my_issues/CASSANDRA-8936 created with success!\n",
            "File my_issues/CASSANDRA-8912 created with success!\n"
          ]
        },
        {
          "output_type": "stream",
          "name": "stderr",
          "text": [
            "Analyzing issues:  67%|██████▋   | 1956/2912 [00:04<00:02, 461.42it/s]"
          ]
        },
        {
          "output_type": "stream",
          "name": "stdout",
          "text": [
            "File my_issues/CASSANDRA-8797 created with success!\n",
            "File my_issues/CASSANDRA-8722 created with success!\n",
            "File my_issues/CASSANDRA-8714 created with success!\n",
            "File my_issues/CASSANDRA-10293 created with success!\n",
            "File my_issues/CASSANDRA-10222 created with success!\n",
            "File my_issues/CASSANDRA-10130 created with success!\n",
            "File my_issues/CASSANDRA-10112 created with success!\n",
            "File my_issues/CASSANDRA-10025 created with success!\n",
            "File my_issues/CASSANDRA-10018 created with success!\n",
            "File my_issues/CASSANDRA-9993 created with success!\n",
            "File my_issues/CASSANDRA-9908 created with success!\n",
            "File my_issues/CASSANDRA-9908 created with success!\n",
            "File my_issues/CASSANDRA-9880 created with success!\n",
            "File my_issues/CASSANDRA-9876 created with success!\n"
          ]
        },
        {
          "output_type": "stream",
          "name": "stderr",
          "text": [
            "Analyzing issues:  72%|███████▏  | 2100/2912 [00:04<00:01, 465.22it/s]"
          ]
        },
        {
          "output_type": "stream",
          "name": "stdout",
          "text": [
            "File my_issues/CASSANDRA-9704 created with success!\n",
            "File my_issues/CASSANDRA-9669 created with success!\n",
            "File my_issues/CASSANDRA-10992 created with success!\n",
            "File my_issues/CASSANDRA-10816 created with success!\n",
            "File my_issues/CASSANDRA-10676 created with success!\n",
            "File my_issues/CASSANDRA-10572 created with success!\n"
          ]
        },
        {
          "output_type": "stream",
          "name": "stderr",
          "text": [
            "Analyzing issues:  75%|███████▌  | 2194/2912 [00:04<00:01, 452.99it/s]"
          ]
        },
        {
          "output_type": "stream",
          "name": "stdout",
          "text": [
            "File my_issues/CASSANDRA-10404 created with success!\n",
            "File my_issues/CASSANDRA-11555 created with success!\n",
            "File my_issues/CASSANDRA-11529 created with success!\n",
            "File my_issues/CASSANDRA-11529 created with success!\n",
            "File my_issues/CASSANDRA-11529 created with success!\n",
            "File my_issues/CASSANDRA-11217 created with success!\n",
            "File my_issues/CASSANDRA-11120 created with success!\n",
            "File my_issues/CASSANDRA-12649 created with success!\n"
          ]
        },
        {
          "output_type": "stream",
          "name": "stderr",
          "text": [
            "Analyzing issues:  79%|███████▊  | 2286/2912 [00:05<00:01, 449.80it/s]"
          ]
        },
        {
          "output_type": "stream",
          "name": "stdout",
          "text": [
            "File my_issues/CASSANDRA-12436 created with success!\n",
            "File my_issues/CASSANDRA-12366 created with success!\n",
            "File my_issues/CASSANDRA-12351 created with success!\n",
            "File my_issues/CASSANDRA-12199 created with success!\n",
            "File my_issues/CASSANDRA-12192 created with success!\n",
            "File my_issues/CASSANDRA-13025 created with success!\n",
            "File my_issues/CASSANDRA-12786 created with success!\n"
          ]
        },
        {
          "output_type": "stream",
          "name": "stderr",
          "text": [
            "Analyzing issues:  82%|████████▏ | 2382/2912 [00:05<00:01, 456.03it/s]"
          ]
        },
        {
          "output_type": "stream",
          "name": "stdout",
          "text": [
            "File my_issues/CASSANDRA-12716 created with success!\n",
            "File my_issues/CASSANDRA-13528 created with success!\n",
            "File my_issues/CASSANDRA-13521 created with success!\n",
            "File my_issues/CASSANDRA-13482 created with success!\n",
            "File my_issues/CASSANDRA-13426 created with success!\n",
            "File my_issues/CASSANDRA-14118 created with success!\n",
            "File my_issues/CASSANDRA-13987 created with success!\n"
          ]
        },
        {
          "output_type": "stream",
          "name": "stderr",
          "text": [
            "Analyzing issues:  85%|████████▌ | 2476/2912 [00:05<00:00, 453.86it/s]"
          ]
        },
        {
          "output_type": "stream",
          "name": "stdout",
          "text": [
            "File my_issues/CASSANDRA-13948 created with success!\n",
            "File my_issues/CASSANDRA-13883 created with success!\n",
            "File my_issues/CASSANDRA-14417 created with success!\n",
            "File my_issues/CASSANDRA-14354 created with success!\n",
            "File my_issues/CASSANDRA-14232 created with success!\n",
            "File my_issues/CASSANDRA-14201 created with success!\n",
            "File my_issues/CASSANDRA-14190 created with success!\n",
            "File my_issues/CASSANDRA-14795 created with success!\n"
          ]
        },
        {
          "output_type": "stream",
          "name": "stderr",
          "text": [
            "Analyzing issues:  88%|████████▊ | 2569/2912 [00:05<00:00, 458.42it/s]"
          ]
        },
        {
          "output_type": "stream",
          "name": "stdout",
          "text": [
            "File my_issues/CASSANDRA-14716 created with success!\n",
            "File my_issues/CASSANDRA-15120 created with success!\n",
            "File my_issues/CASSANDRA-15369 created with success!\n",
            "File my_issues/CASSANDRA-15748 created with success!\n",
            "File my_issues/CASSANDRA-15519 created with success!\n",
            "File my_issues/CASSANDRA-15967 created with success!\n"
          ]
        },
        {
          "output_type": "stream",
          "name": "stderr",
          "text": [
            "Analyzing issues:  93%|█████████▎| 2706/2912 [00:06<00:00, 448.59it/s]"
          ]
        },
        {
          "output_type": "stream",
          "name": "stdout",
          "text": [
            "File my_issues/CASSANDRA-16300 created with success!\n",
            "File my_issues/CASSANDRA-16146 created with success!\n",
            "File my_issues/CASSANDRA-16127 created with success!\n",
            "File my_issues/CASSANDRA-16425 created with success!\n",
            "File my_issues/CASSANDRA-16404 created with success!\n",
            "File my_issues/CASSANDRA-16872 created with success!\n",
            "File my_issues/CASSANDRA-16725 created with success!\n",
            "File my_issues/CASSANDRA-17197 created with success!\n",
            "File my_issues/CASSANDRA-17166 created with success!\n"
          ]
        },
        {
          "output_type": "stream",
          "name": "stderr",
          "text": [
            "Analyzing issues:  96%|█████████▌| 2795/2912 [00:06<00:00, 372.10it/s]"
          ]
        },
        {
          "output_type": "stream",
          "name": "stdout",
          "text": [
            "File my_issues/CASSANDRA-16944 created with success!\n",
            "File my_issues/CASSANDRA-17493 created with success!\n",
            "File my_issues/CASSANDRA-17352 created with success!\n",
            "File my_issues/CASSANDRA-17318 created with success!\n",
            "File my_issues/CASSANDRA-17280 created with success!\n"
          ]
        },
        {
          "output_type": "stream",
          "name": "stderr",
          "text": [
            "\rAnalyzing issues:  97%|█████████▋| 2834/2912 [00:06<00:00, 309.67it/s]"
          ]
        },
        {
          "output_type": "stream",
          "name": "stdout",
          "text": [
            "File my_issues/CASSANDRA-17805 created with success!\n",
            "File my_issues/CASSANDRA-17795 created with success!\n",
            "File my_issues/CASSANDRA-17752 created with success!\n",
            "File my_issues/CASSANDRA-17593 created with success!\n",
            "File my_issues/CASSANDRA-17581 created with success!\n",
            "File my_issues/CASSANDRA-18022 created with success!\n"
          ]
        },
        {
          "output_type": "stream",
          "name": "stderr",
          "text": [
            "Analyzing issues: 100%|██████████| 2912/2912 [00:06<00:00, 430.20it/s]"
          ]
        },
        {
          "output_type": "stream",
          "name": "stdout",
          "text": [
            "File my_issues/CASSANDRA-17874 created with success!\n",
            "File my_issues/CASSANDRA-18314 created with success!\n",
            "File my_issues/CASSANDRA-18155 created with success!\n",
            "File my_issues/CASSANDRA-18743 created with success!\n",
            "File my_issues/CASSANDRA-18743 created with success!\n",
            "File my_issues/CASSANDRA-18500 created with success!\n",
            "File my_issues/CASSANDRA-18500 created with success!\n",
            "Foram criados 226 arquivos para inspeção\n"
          ]
        },
        {
          "output_type": "stream",
          "name": "stderr",
          "text": [
            "\n"
          ]
        }
      ]
    },
    {
      "cell_type": "code",
      "source": [
        "!zip -r my_issues.zip my_issues"
      ],
      "metadata": {
        "colab": {
          "base_uri": "https://localhost:8080/"
        },
        "id": "JJfW2I7Jm_8T",
        "outputId": "45196751-0550-40e2-ed96-f94b985fd5c5"
      },
      "execution_count": 248,
      "outputs": [
        {
          "output_type": "stream",
          "name": "stdout",
          "text": [
            "updating: my_issues/ (stored 0%)\n",
            "updating: my_issues/CASSANDRA-18500 (deflated 55%)\n",
            "updating: my_issues/CASSANDRA-18155 (deflated 50%)\n",
            "updating: my_issues/CASSANDRA-18743 (deflated 58%)\n",
            "updating: my_issues/CASSANDRA-18314 (deflated 49%)\n",
            "  adding: my_issues/CASSANDRA-1405 (deflated 55%)\n",
            "  adding: my_issues/CASSANDRA-1631 (deflated 61%)\n",
            "  adding: my_issues/CASSANDRA-5075 (deflated 49%)\n",
            "  adding: my_issues/CASSANDRA-5122 (deflated 59%)\n",
            "  adding: my_issues/CASSANDRA-16404 (deflated 62%)\n",
            "  adding: my_issues/CASSANDRA-1829 (deflated 44%)\n",
            "  adding: my_issues/CASSANDRA-5368 (deflated 52%)\n",
            "  adding: my_issues/CASSANDRA-2367 (deflated 50%)\n",
            "  adding: my_issues/CASSANDRA-12192 (deflated 78%)\n",
            "  adding: my_issues/CASSANDRA-2606 (deflated 59%)\n",
            "  adding: my_issues/CASSANDRA-1902 (deflated 52%)\n",
            "  adding: my_issues/CASSANDRA-5065 (deflated 40%)\n",
            "  adding: my_issues/CASSANDRA-3997 (deflated 66%)\n",
            "  adding: my_issues/CASSANDRA-1414 (deflated 38%)\n",
            "  adding: my_issues/CASSANDRA-17352 (deflated 63%)\n",
            "  adding: my_issues/CASSANDRA-6689 (deflated 50%)\n",
            "  adding: my_issues/CASSANDRA-5981 (deflated 58%)\n",
            "  adding: my_issues/CASSANDRA-16300 (deflated 55%)\n",
            "  adding: my_issues/CASSANDRA-1415 (deflated 54%)\n",
            "  adding: my_issues/CASSANDRA-7336 (deflated 48%)\n",
            "  adding: my_issues/CASSANDRA-5916 (deflated 60%)\n",
            "  adding: my_issues/CASSANDRA-8714 (deflated 50%)\n",
            "  adding: my_issues/CASSANDRA-17166 (deflated 56%)\n",
            "  adding: my_issues/CASSANDRA-13025 (deflated 55%)\n",
            "  adding: my_issues/CASSANDRA-15519 (deflated 49%)\n",
            "  adding: my_issues/CASSANDRA-4874 (deflated 61%)\n",
            "  adding: my_issues/CASSANDRA-5175 (deflated 52%)\n",
            "  adding: my_issues/CASSANDRA-6109 (deflated 58%)\n",
            "  adding: my_issues/CASSANDRA-3318 (deflated 51%)\n",
            "  adding: my_issues/CASSANDRA-359 (deflated 33%)\n",
            "  adding: my_issues/CASSANDRA-1313 (deflated 54%)\n",
            "  adding: my_issues/CASSANDRA-746 (deflated 35%)\n",
            "  adding: my_issues/CASSANDRA-7304 (deflated 59%)\n",
            "  adding: my_issues/CASSANDRA-2784 (deflated 28%)\n",
            "  adding: my_issues/CASSANDRA-1258 (deflated 52%)\n",
            "  adding: my_issues/CASSANDRA-17581 (deflated 55%)\n",
            "  adding: my_issues/CASSANDRA-12366 (deflated 53%)\n",
            "  adding: my_issues/CASSANDRA-17493 (deflated 67%)\n",
            "  adding: my_issues/CASSANDRA-124 (deflated 57%)\n",
            "  adding: my_issues/CASSANDRA-11529 (deflated 69%)\n",
            "  adding: my_issues/CASSANDRA-1963 (deflated 44%)\n",
            "  adding: my_issues/CASSANDRA-1637 (deflated 28%)\n",
            "  adding: my_issues/CASSANDRA-8537 (deflated 68%)\n",
            "  adding: my_issues/CASSANDRA-14716 (deflated 50%)\n",
            "  adding: my_issues/CASSANDRA-7525 (deflated 67%)\n",
            "  adding: my_issues/CASSANDRA-10676 (deflated 67%)\n",
            "  adding: my_issues/CASSANDRA-17318 (deflated 41%)\n",
            "  adding: my_issues/CASSANDRA-287 (deflated 50%)\n",
            "  adding: my_issues/CASSANDRA-3389 (deflated 48%)\n",
            "  adding: my_issues/CASSANDRA-4456 (deflated 56%)\n",
            "  adding: my_issues/CASSANDRA-14118 (deflated 55%)\n",
            "  adding: my_issues/CASSANDRA-7450 (deflated 49%)\n",
            "  adding: my_issues/CASSANDRA-8490 (deflated 59%)\n",
            "  adding: my_issues/CASSANDRA-6875 (deflated 53%)\n",
            "  adding: my_issues/CASSANDRA-11555 (deflated 52%)\n",
            "  adding: my_issues/CASSANDRA-9704 (deflated 51%)\n",
            "  adding: my_issues/CASSANDRA-2778 (deflated 42%)\n",
            "  adding: my_issues/CASSANDRA-10404 (deflated 58%)\n",
            "  adding: my_issues/CASSANDRA-9076 (deflated 45%)\n",
            "  adding: my_issues/CASSANDRA-5865 (deflated 47%)\n",
            "  adding: my_issues/CASSANDRA-14232 (deflated 44%)\n",
            "  adding: my_issues/CASSANDRA-2425 (deflated 33%)\n",
            "  adding: my_issues/CASSANDRA-5057 (deflated 38%)\n",
            "  adding: my_issues/CASSANDRA-15967 (deflated 51%)\n",
            "  adding: my_issues/CASSANDRA-16725 (deflated 53%)\n",
            "  adding: my_issues/CASSANDRA-18022 (deflated 51%)\n",
            "  adding: my_issues/CASSANDRA-4949 (deflated 41%)\n",
            "  adding: my_issues/CASSANDRA-14417 (deflated 55%)\n",
            "  adding: my_issues/CASSANDRA-13521 (deflated 44%)\n",
            "  adding: my_issues/CASSANDRA-185 (deflated 41%)\n",
            "  adding: my_issues/CASSANDRA-5668 (deflated 59%)\n",
            "  adding: my_issues/CASSANDRA-12716 (deflated 54%)\n",
            "  adding: my_issues/CASSANDRA-667 (deflated 40%)\n",
            "  adding: my_issues/CASSANDRA-7836 (deflated 40%)\n",
            "  adding: my_issues/CASSANDRA-7635 (deflated 47%)\n",
            "  adding: my_issues/CASSANDRA-14795 (deflated 52%)\n",
            "  adding: my_issues/CASSANDRA-17795 (deflated 42%)\n",
            "  adding: my_issues/CASSANDRA-3165 (deflated 47%)\n",
            "  adding: my_issues/CASSANDRA-2575 (deflated 50%)\n",
            "  adding: my_issues/CASSANDRA-3956 (deflated 21%)\n",
            "  adding: my_issues/CASSANDRA-12786 (deflated 65%)\n",
            "  adding: my_issues/CASSANDRA-475 (deflated 51%)\n",
            "  adding: my_issues/CASSANDRA-4747 (deflated 47%)\n",
            "  adding: my_issues/CASSANDRA-2283 (deflated 53%)\n",
            "  adding: my_issues/CASSANDRA-17593 (deflated 64%)\n",
            "  adding: my_issues/CASSANDRA-7144 (deflated 52%)\n",
            "  adding: my_issues/CASSANDRA-402 (deflated 34%)\n",
            "  adding: my_issues/CASSANDRA-10992 (deflated 67%)\n",
            "  adding: my_issues/CASSANDRA-10018 (deflated 58%)\n",
            "  adding: my_issues/CASSANDRA-12436 (deflated 52%)\n",
            "  adding: my_issues/CASSANDRA-6008 (deflated 64%)\n",
            "  adding: my_issues/CASSANDRA-3639 (deflated 48%)\n",
            "  adding: my_issues/CASSANDRA-2447 (deflated 49%)\n",
            "  adding: my_issues/CASSANDRA-8912 (deflated 48%)\n",
            "  adding: my_issues/CASSANDRA-16944 (deflated 51%)\n",
            "  adding: my_issues/CASSANDRA-7242 (deflated 47%)\n",
            "  adding: my_issues/CASSANDRA-1545 (deflated 52%)\n",
            "  adding: my_issues/CASSANDRA-8267 (deflated 58%)\n",
            "  adding: my_issues/CASSANDRA-3530 (deflated 56%)\n",
            "  adding: my_issues/CASSANDRA-2933 (deflated 50%)\n",
            "  adding: my_issues/CASSANDRA-8103 (deflated 52%)\n",
            "  adding: my_issues/CASSANDRA-861 (deflated 39%)\n",
            "  adding: my_issues/CASSANDRA-6996 (deflated 36%)\n",
            "  adding: my_issues/CASSANDRA-16127 (deflated 54%)\n",
            "  adding: my_issues/CASSANDRA-379 (deflated 37%)\n",
            "  adding: my_issues/CASSANDRA-12351 (deflated 62%)\n",
            "  adding: my_issues/CASSANDRA-7386 (deflated 53%)\n",
            "  adding: my_issues/CASSANDRA-6351 (deflated 42%)\n",
            "  adding: my_issues/CASSANDRA-13426 (deflated 50%)\n",
            "  adding: my_issues/CASSANDRA-16146 (deflated 61%)\n",
            "  adding: my_issues/CASSANDRA-10130 (deflated 56%)\n",
            "  adding: my_issues/CASSANDRA-13948 (deflated 66%)\n",
            "  adding: my_issues/CASSANDRA-5036 (deflated 48%)\n",
            "  adding: my_issues/CASSANDRA-3063 (deflated 65%)\n",
            "  adding: my_issues/CASSANDRA-13883 (deflated 62%)\n",
            "  adding: my_issues/CASSANDRA-7909 (deflated 60%)\n",
            "  adding: my_issues/CASSANDRA-5125 (deflated 60%)\n",
            "  adding: my_issues/CASSANDRA-17805 (deflated 50%)\n",
            "  adding: my_issues/CASSANDRA-3806 (deflated 62%)\n",
            "  adding: my_issues/CASSANDRA-7272 (deflated 53%)\n",
            "  adding: my_issues/CASSANDRA-7069 (deflated 59%)\n",
            "  adding: my_issues/CASSANDRA-10816 (deflated 47%)\n",
            "  adding: my_issues/CASSANDRA-8348 (deflated 59%)\n",
            "  adding: my_issues/CASSANDRA-4790 (deflated 43%)\n",
            "  adding: my_issues/CASSANDRA-827 (deflated 54%)\n",
            "  adding: my_issues/CASSANDRA-5149 (deflated 55%)\n",
            "  adding: my_issues/CASSANDRA-3721 (deflated 55%)\n",
            "  adding: my_issues/CASSANDRA-8084 (deflated 68%)\n",
            "  adding: my_issues/CASSANDRA-6907 (deflated 45%)\n",
            "  adding: my_issues/CASSANDRA-11217 (deflated 67%)\n",
            "  adding: my_issues/CASSANDRA-17197 (deflated 57%)\n",
            "  adding: my_issues/CASSANDRA-356 (deflated 49%)\n",
            "  adding: my_issues/CASSANDRA-15369 (deflated 58%)\n",
            "  adding: my_issues/CASSANDRA-9499 (deflated 51%)\n",
            "  adding: my_issues/CASSANDRA-1367 (deflated 52%)\n",
            "  adding: my_issues/CASSANDRA-7970 (deflated 57%)\n",
            "  adding: my_issues/CASSANDRA-1862 (deflated 48%)\n",
            "  adding: my_issues/CASSANDRA-669 (deflated 70%)\n",
            "  adding: my_issues/CASSANDRA-13987 (deflated 56%)\n",
            "  adding: my_issues/CASSANDRA-2718 (deflated 57%)\n",
            "  adding: my_issues/CASSANDRA-10025 (deflated 41%)\n",
            "  adding: my_issues/CASSANDRA-2943 (deflated 43%)\n",
            "  adding: my_issues/CASSANDRA-12199 (deflated 49%)\n",
            "  adding: my_issues/CASSANDRA-4876 (deflated 41%)\n",
            "  adding: my_issues/CASSANDRA-5424 (deflated 58%)\n",
            "  adding: my_issues/CASSANDRA-6205 (deflated 53%)\n",
            "  adding: my_issues/CASSANDRA-437 (deflated 45%)\n",
            "  adding: my_issues/CASSANDRA-4070 (deflated 48%)\n",
            "  adding: my_issues/CASSANDRA-1954 (deflated 55%)\n",
            "  adding: my_issues/CASSANDRA-6016 (deflated 44%)\n",
            "  adding: my_issues/CASSANDRA-5838 (deflated 51%)\n",
            "  adding: my_issues/CASSANDRA-4063 (deflated 46%)\n",
            "  adding: my_issues/CASSANDRA-9352 (deflated 42%)\n",
            "  adding: my_issues/CASSANDRA-7638 (deflated 50%)\n",
            "  adding: my_issues/CASSANDRA-3562 (deflated 29%)\n",
            "  adding: my_issues/CASSANDRA-9876 (deflated 58%)\n",
            "  adding: my_issues/CASSANDRA-6882 (deflated 48%)\n",
            "  adding: my_issues/CASSANDRA-14354 (deflated 33%)\n",
            "  adding: my_issues/CASSANDRA-16425 (deflated 62%)\n",
            "  adding: my_issues/CASSANDRA-13528 (deflated 61%)\n",
            "  adding: my_issues/CASSANDRA-11120 (deflated 73%)\n",
            "  adding: my_issues/CASSANDRA-3229 (deflated 51%)\n",
            "  adding: my_issues/CASSANDRA-5197 (deflated 61%)\n",
            "  adding: my_issues/CASSANDRA-17874 (deflated 43%)\n",
            "  adding: my_issues/CASSANDRA-8514 (deflated 50%)\n",
            "  adding: my_issues/CASSANDRA-10112 (deflated 59%)\n",
            "  adding: my_issues/CASSANDRA-1986 (deflated 39%)\n",
            "  adding: my_issues/CASSANDRA-6510 (deflated 48%)\n",
            "  adding: my_issues/CASSANDRA-3163 (deflated 40%)\n",
            "  adding: my_issues/CASSANDRA-1433 (deflated 34%)\n",
            "  adding: my_issues/CASSANDRA-9669 (deflated 54%)\n",
            "  adding: my_issues/CASSANDRA-9880 (deflated 68%)\n",
            "  adding: my_issues/CASSANDRA-8116 (deflated 53%)\n",
            "  adding: my_issues/CASSANDRA-7139 (deflated 51%)\n",
            "  adding: my_issues/CASSANDRA-361 (deflated 38%)\n",
            "  adding: my_issues/CASSANDRA-8722 (deflated 51%)\n",
            "  adding: my_issues/CASSANDRA-8976 (deflated 40%)\n",
            "  adding: my_issues/CASSANDRA-4230 (deflated 56%)\n",
            "  adding: my_issues/CASSANDRA-2457 (deflated 60%)\n",
            "  adding: my_issues/CASSANDRA-5131 (deflated 44%)\n",
            "  adding: my_issues/CASSANDRA-4150 (deflated 56%)\n",
            "  adding: my_issues/CASSANDRA-1666 (deflated 45%)\n",
            "  adding: my_issues/CASSANDRA-4802 (deflated 50%)\n",
            "  adding: my_issues/CASSANDRA-17752 (deflated 59%)\n",
            "  adding: my_issues/CASSANDRA-4612 (deflated 52%)\n",
            "  adding: my_issues/CASSANDRA-14201 (deflated 57%)\n",
            "  adding: my_issues/CASSANDRA-9993 (deflated 18%)\n",
            "  adding: my_issues/CASSANDRA-10572 (deflated 55%)\n",
            "  adding: my_issues/CASSANDRA-1519 (deflated 49%)\n",
            "  adding: my_issues/CASSANDRA-15748 (deflated 61%)\n",
            "  adding: my_issues/CASSANDRA-14190 (deflated 54%)\n",
            "  adding: my_issues/CASSANDRA-2082 (deflated 44%)\n",
            "  adding: my_issues/CASSANDRA-2320 (deflated 42%)\n",
            "  adding: my_issues/CASSANDRA-8936 (deflated 32%)\n",
            "  adding: my_issues/CASSANDRA-3667 (deflated 49%)\n",
            "  adding: my_issues/CASSANDRA-1588 (deflated 29%)\n",
            "  adding: my_issues/CASSANDRA-1499 (deflated 41%)\n",
            "  adding: my_issues/CASSANDRA-10293 (deflated 54%)\n",
            "  adding: my_issues/CASSANDRA-3791 (deflated 59%)\n",
            "  adding: my_issues/CASSANDRA-12649 (deflated 58%)\n",
            "  adding: my_issues/CASSANDRA-705 (deflated 51%)\n",
            "  adding: my_issues/CASSANDRA-2858 (deflated 53%)\n",
            "  adding: my_issues/CASSANDRA-17280 (deflated 50%)\n",
            "  adding: my_issues/CASSANDRA-6013 (deflated 57%)\n",
            "  adding: my_issues/CASSANDRA-9908 (deflated 62%)\n",
            "  adding: my_issues/CASSANDRA-4893 (deflated 48%)\n",
            "  adding: my_issues/CASSANDRA-568 (deflated 58%)\n",
            "  adding: my_issues/CASSANDRA-8797 (deflated 50%)\n",
            "  adding: my_issues/CASSANDRA-16872 (deflated 37%)\n",
            "  adding: my_issues/CASSANDRA-15120 (deflated 53%)\n",
            "  adding: my_issues/CASSANDRA-13482 (deflated 65%)\n",
            "  adding: my_issues/CASSANDRA-7801 (deflated 54%)\n",
            "  adding: my_issues/CASSANDRA-10222 (deflated 58%)\n",
            "  adding: my_issues/CASSANDRA-3472 (deflated 46%)\n"
          ]
        }
      ]
    }
  ]
}