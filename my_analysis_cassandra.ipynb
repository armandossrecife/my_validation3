{
  "nbformat": 4,
  "nbformat_minor": 0,
  "metadata": {
    "colab": {
      "provenance": [],
      "collapsed_sections": [
        "3VXzbRhyK7hH",
        "YTZHqwoh8KSf"
      ],
      "include_colab_link": true
    },
    "kernelspec": {
      "name": "python3",
      "display_name": "Python 3"
    },
    "language_info": {
      "name": "python"
    }
  },
  "cells": [
    {
      "cell_type": "markdown",
      "metadata": {
        "id": "view-in-github",
        "colab_type": "text"
      },
      "source": [
        "<a href=\"https://colab.research.google.com/github/armandossrecife/my_validation3/blob/main/my_analysis_cassandra.ipynb\" target=\"_parent\"><img src=\"https://colab.research.google.com/assets/colab-badge.svg\" alt=\"Open In Colab\"/></a>"
      ]
    },
    {
      "cell_type": "markdown",
      "source": [
        "# Setup do Ambiente de Análise"
      ],
      "metadata": {
        "id": "3VXzbRhyK7hH"
      }
    },
    {
      "cell_type": "code",
      "source": [
        "!rm -rf *.log\n",
        "!rm -rf *.txt\n",
        "!rm -rf *.xlsx\n",
        "!rm -rf my_issues\n",
        "!rm -rf cassandra"
      ],
      "metadata": {
        "id": "nPHCWuAukPhs"
      },
      "execution_count": 1,
      "outputs": []
    },
    {
      "cell_type": "code",
      "source": [
        "print('Install Pydriller.')\n",
        "!pip install pydriller > install_pydriller.log\n",
        "print('Install gitpython.')\n",
        "!pip3 install gitpython > install_gitpython.log\n",
        "print('Install Jira Python lib.')\n",
        "!pip install jira > install_jira_python.log\n",
        "print('Install SQLite in Linux')\n",
        "!sudo apt install -y sqlite3 > install_sqlite.log\n",
        "print('All depenpencies installed!')\n",
        "!cat *.log > install.log\n",
        "print('Details in install.log')"
      ],
      "metadata": {
        "colab": {
          "base_uri": "https://localhost:8080/"
        },
        "id": "2wQ-xzYG4nqN",
        "outputId": "6d1d8213-9389-41fa-9330-5a125bca68ff"
      },
      "execution_count": 2,
      "outputs": [
        {
          "output_type": "stream",
          "name": "stdout",
          "text": [
            "Install Pydriller.\n",
            "Install gitpython.\n",
            "Install Jira Python lib.\n",
            "Install SQLite in Linux\n",
            "\n",
            "WARNING: apt does not have a stable CLI interface. Use with caution in scripts.\n",
            "\n",
            "debconf: unable to initialize frontend: Dialog\n",
            "debconf: (No usable dialog-like program is installed, so the dialog based frontend cannot be used. at /usr/share/perl5/Debconf/FrontEnd/Dialog.pm line 78, <> line 1.)\n",
            "debconf: falling back to frontend: Readline\n",
            "debconf: unable to initialize frontend: Readline\n",
            "debconf: (This frontend requires a controlling tty.)\n",
            "debconf: falling back to frontend: Teletype\n",
            "dpkg-preconfigure: unable to re-open stdin: \n",
            "All depenpencies installed!\n",
            "Details in install.log\n"
          ]
        }
      ]
    },
    {
      "cell_type": "markdown",
      "source": [
        "## Importa bibliotecas necessárias"
      ],
      "metadata": {
        "id": "eZ-7Eh0v7euY"
      }
    },
    {
      "cell_type": "code",
      "execution_count": 58,
      "metadata": {
        "id": "XUVu8pQm4ifo"
      },
      "outputs": [],
      "source": [
        "import os\n",
        "from datetime import datetime, timedelta\n",
        "import tqdm\n",
        "from pydriller import Repository\n",
        "from jira import JIRA\n",
        "import pandas as pd\n",
        "import re\n",
        "import scipy.stats as stats\n",
        "import random\n",
        "import shutil\n",
        "import time\n",
        "from matplotlib import pyplot"
      ]
    },
    {
      "cell_type": "markdown",
      "source": [
        "## Variáveis Globais"
      ],
      "metadata": {
        "id": "aln3JNKYAVgb"
      }
    },
    {
      "cell_type": "code",
      "source": [
        "my_repository = 'cassandra'\n",
        "url_to_repository = 'https://github.com/apache/cassandra.git'\n",
        "os.environ['MY_REPOSITORY'] = url_to_repository\n",
        "\n",
        "JIRA_SERVER = 'https://issues.apache.org/jira'\n",
        "ISSUE_TRACKER_PROJECT = 'CASSANDRA'\n",
        "\n",
        "# Credentials\n",
        "os.environ['USERNAME'] = 'armandossrecife'\n",
        "os.environ['PASSWORD'] = 'sky1979#ce'\n",
        "username = os.environ.get('USERNAME')\n",
        "password = os.environ.get('PASSWORD')\n",
        "\n",
        "path_to_repository = 'cassandra'\n",
        "\n",
        "lista_arquivos_criticos = ['StorageService.java', 'ColumnFamilyStore.java','DatabaseDescriptor.java','CompactionManager.java','StorageProxy.java','SSTableReader.java','Config.java','CassandraDaemon.java','SelectStatement.java','SinglePartitionReadCommand.java','NodeProbe.java','MessagingService.java']"
      ],
      "metadata": {
        "id": "OEbrNLLn5wq5"
      },
      "execution_count": 37,
      "outputs": []
    },
    {
      "cell_type": "markdown",
      "source": [
        "## Clona o Repositório"
      ],
      "metadata": {
        "id": "Ti5lAYXOAY1z"
      }
    },
    {
      "cell_type": "code",
      "source": [
        "print(f'Clona o repositório : {url_to_repository}')\n",
        "!git clone $MY_REPOSITORY"
      ],
      "metadata": {
        "colab": {
          "base_uri": "https://localhost:8080/"
        },
        "id": "MWfNScS_5uvT",
        "outputId": "76f908a0-0f1f-4618-df93-f2f418b25394"
      },
      "execution_count": 5,
      "outputs": [
        {
          "output_type": "stream",
          "name": "stdout",
          "text": [
            "Clona o repositório : https://github.com/apache/cassandra.git\n",
            "Cloning into 'cassandra'...\n",
            "remote: Enumerating objects: 411440, done.\u001b[K\n",
            "remote: Counting objects: 100% (137/137), done.\u001b[K\n",
            "remote: Compressing objects: 100% (95/95), done.\u001b[K\n",
            "remote: Total 411440 (delta 34), reused 106 (delta 23), pack-reused 411303\u001b[K\n",
            "Receiving objects: 100% (411440/411440), 409.77 MiB | 16.06 MiB/s, done.\n",
            "Resolving deltas: 100% (240275/240275), done.\n",
            "Updating files: 100% (6260/6260), done.\n"
          ]
        }
      ]
    },
    {
      "cell_type": "markdown",
      "source": [
        "## Funções de apoio"
      ],
      "metadata": {
        "id": "YTZHqwoh8KSf"
      }
    },
    {
      "cell_type": "code",
      "source": [
        "def get_all_commits_by_range(initial_date, final_date, repository_name):\n",
        "  \"\"\"Extracts information from a date range of commits\n",
        "  Args:\n",
        "      initial_date: inicial date of commits\n",
        "      final_date: final date of commits\n",
        "  Returns:\n",
        "        A dictionary of commits, where the keys are the commit hashes and the\n",
        "        values are tuples containing the commit message, commit's date, commit's line, commit's file, a list of files modified in the commit, a list of all diffs from modified files\n",
        "  \"\"\"\n",
        "  dict_commit_modified_files = {}\n",
        "  print('Wait...')\n",
        "  my_traverser_commits = Repository(repository_name, since=initial_date, to=final_date).traverse_commits()\n",
        "  total_commits = len(list(my_traverser_commits))\n",
        "  try:\n",
        "    for commit in tqdm.tqdm(Repository(repository_name, since=initial_date, to=final_date).traverse_commits(), total=total_commits, desc=\"Progress commit anlysis\"):\n",
        "      list_of_modified_files = []\n",
        "      list_dict_of_diff_modified_files = []\n",
        "      for m in commit.modified_files:\n",
        "        dict_m_diff = {}\n",
        "        if m is not None:\n",
        "          list_of_modified_files.append(m.filename)\n",
        "          dict_m_diff[m.filename] = m.diff\n",
        "          list_dict_of_diff_modified_files.append(dict_m_diff)\n",
        "      data_commit = str(commit.committer_date.day) + '/' + str(commit.committer_date.month) + '/' + str(commit.committer_date.year)\n",
        "      element = commit.msg, data_commit, commit.lines, commit.files, list_of_modified_files, list_dict_of_diff_modified_files\n",
        "      dict_commit_modified_files[commit.hash] = element\n",
        "  except Exception as ex:\n",
        "    print(f'Erro during travesse commits: {str(ex)}')\n",
        "  return dict_commit_modified_files, total_commits\n",
        "\n",
        "def get_commits_by_range_and_critical_files(initial_date, final_date, critical_files, repository_name):\n",
        "  \"\"\"Extracts information from a date range of commits, focusing on critical files.\n",
        "  Args:\n",
        "      initial_date: inicial date of commits\n",
        "      final_date: final date of commits\n",
        "      critical_files: A list of critical file paths. ex: ['StorageService.java', 'ColumnFamilyStore.java']\n",
        "  Returns:\n",
        "        A dictionary of commits, where the keys are the commit hashes and the\n",
        "        values are tuples containing the commit message, commits's date, commit's line, commit's file, a list of critical files modified in the commit, a list_of_modified_files, a dictionary of diff [filename]:filename.diff, a list of all diffs from modified files\n",
        "        commit.msg, data_commit, commit.lines, commit.files, list_of_critical_files_modified, list_of_modified_files, list_dict_of_diff_files, list_dict_of_diff_modified_files\n",
        "  \"\"\"\n",
        "\n",
        "  dict_commit_modified_files = {}\n",
        "  print('Wait...')\n",
        "  my_traverser_commits = Repository(repository_name, since=initial_date, to=final_date).traverse_commits()\n",
        "  total_commits = len(list(my_traverser_commits))\n",
        "  try:\n",
        "    for commit in tqdm.tqdm(Repository(repository_name, since=initial_date, to=final_date).traverse_commits(), total=total_commits, desc=\"Progress critical files commit anlysis\"):\n",
        "      list_of_critical_files_modified = []\n",
        "      list_of_modified_files = []\n",
        "      list_dict_of_diff_files = []\n",
        "      list_dict_of_diff_modified_files = []\n",
        "      for m in commit.modified_files:\n",
        "        dict_diff_file = {}\n",
        "        list_of_modified_files.append(m.filename)\n",
        "        list_dict_of_diff_modified_files.append(m.diff)\n",
        "        if m.filename in critical_files:\n",
        "          list_of_critical_files_modified.append(m.filename)\n",
        "          dict_diff_file[m.filename] = m.diff\n",
        "          list_dict_of_diff_files.append(dict_diff_file)\n",
        "      if len(list_of_critical_files_modified) > 0:\n",
        "        data_commit = str(commit.committer_date.day) + '/' + str(commit.committer_date.month) + '/' + str(commit.committer_date.year)\n",
        "        element = commit.msg, data_commit, commit.lines, commit.files, list_of_critical_files_modified, list_of_modified_files, list_dict_of_diff_files, list_dict_of_diff_modified_files\n",
        "        dict_commit_modified_files[commit.hash] = element\n",
        "  except Exception as ex:\n",
        "    print(f'Erro during travesse commits: {str(ex)}')\n",
        "  return dict_commit_modified_files, total_commits\n",
        "\n",
        "class JiraIssue:\n",
        "  def __init__(self, key, summary, issue_type, status, priority, description, comments, created_date=None, updated_date=None, resolved_date=None):\n",
        "    self.key = key\n",
        "    self.summary = summary\n",
        "    self.issue_type = issue_type\n",
        "    self.status = status\n",
        "    self.priority = priority\n",
        "    self.description = description\n",
        "    self.comments = comments\n",
        "    self.created_date = created_date\n",
        "    self.updated_date = updated_date\n",
        "    self.resolved_date = resolved_date\n",
        "\n",
        "  def get_comments(self):\n",
        "    return self.comments\n",
        "\n",
        "  def __str__(self):\n",
        "    return (f'Key: {self.key}, Summary: {self.summary}, Type: {self.issue_type}, Status: {self.status}')\n",
        "\n",
        "class JiraIssues:\n",
        "  def __init__(self,project, issues):\n",
        "    self.project = project\n",
        "    self.issues = issues\n",
        "\n",
        "  def add_issue(self, issue):\n",
        "    self.issues.append(issue)\n",
        "\n",
        "  def get_issues(self) -> list:\n",
        "    return self.issues\n",
        "\n",
        "  def update_issues(self, issues):\n",
        "    self.issues = issues\n",
        "\n",
        "  def __str__(self):\n",
        "    str_issues = \"\"\n",
        "    for issue in self.get_issues():\n",
        "      str_issues = str_issues + str(issue)\n",
        "      str_issues = str_issues + ', '\n",
        "    str_issues = '[' + str_issues + ']'\n",
        "    return (f'Project: {self.project}, Qdt of issues: {len(self.issues)}, Issues: {str_issues}')\n",
        "\n",
        "# Classe de utilidades para manipular o servidor Jira\n",
        "class JiraUtils:\n",
        "  def __init__(self, project, jira_instance):\n",
        "    self.project = project\n",
        "    self.jira_jira_instance = jira_instance\n",
        "\n",
        "  def generate_intervals_between_dates(self, date1: tuple, date2: tuple, distance=120) -> list:\n",
        "    start_date = datetime(date1[0], date1[1], date1[2])\n",
        "    end_date = datetime(date2[0], date2[1], date2[2])\n",
        "    interval_days = distance\n",
        "    # Initialize a list to store the intervals\n",
        "    intervals = []\n",
        "    # Initialize the current date as the start date\n",
        "    current_date = start_date\n",
        "    # Loop to generate intervals until the current date is less than or equal to the end date\n",
        "    while current_date < end_date:\n",
        "        interval = (current_date, current_date + timedelta(days=interval_days - 1))\n",
        "        intervals.append(interval)\n",
        "        current_date += timedelta(days=interval_days)\n",
        "    return intervals\n",
        "\n",
        "  def convert_interval_dates(self, dates: list) -> list:\n",
        "    list_interval_dates = []\n",
        "    for each in dates:\n",
        "      date1 = each[0]\n",
        "      # Convert the date to a string in the format \"YYYY/MM/DD\".\n",
        "      str_date1 = date1.strftime(\"%Y/%m/%d\")\n",
        "      date2 = each[1]\n",
        "      str_date2 = date2.strftime(\"%Y/%m/%d\")\n",
        "      elemento = str_date1, str_date2\n",
        "      list_interval_dates.append(elemento)\n",
        "    return list_interval_dates\n",
        "\n",
        "  def generate_list_of_sentences(self, dates: list) -> list:\n",
        "    lista_sentencas = []\n",
        "    for each in dates:\n",
        "      str_date1 = each[0].strftime(\"%Y/%m/%d\")\n",
        "      str_date2 = each[1].strftime(\"%Y/%m/%d\")\n",
        "      sentenca = f'project={self.project.upper()} and created>=\"{str_date1}\" and created<=\"{str_date2}\"'\n",
        "      lista_sentencas.append(sentenca)\n",
        "    return lista_sentencas\n",
        "\n",
        "  def get_list_of_block_issues_by_dates(self,date1, date2, distance=120) -> list:\n",
        "    print('Aguarde...')\n",
        "    t1 = datetime.now()\n",
        "    list_of_dates = self.generate_intervals_between_dates(date1,date2,distance)\n",
        "    lista_sentencas = self.generate_list_of_sentences(list_of_dates)\n",
        "    lista_bloco_issues_by_date = []\n",
        "    total_items = len(lista_sentencas)\n",
        "    i = 0\n",
        "    iterable_lista_sentencas = tqdm.tqdm(lista_sentencas, total=total_items)\n",
        "    for each in iterable_lista_sentencas:\n",
        "      issues_by_date_temp = self.jira_jira_instance.search_issues(each,maxResults=1000)\n",
        "      print(f'Range: {each}, qtd issues: {len(issues_by_date_temp)}')\n",
        "      lista_bloco_issues_by_date.append(issues_by_date_temp)\n",
        "      percentage = (i + 1) / total_items * 100\n",
        "      iterable_lista_sentencas.set_description(f\"Progress Message Analysis\")\n",
        "    i += 1\n",
        "    t2 = datetime.now()\n",
        "    print(t2)\n",
        "    print(f'Tempo da consulta: {t2-t1}')\n",
        "    return lista_bloco_issues_by_date\n",
        "\n",
        "  def concatenate_block_of_issues(self,block_of_issues):\n",
        "    concatenated_list = [item for sublist in block_of_issues for item in sublist]\n",
        "    print(f'Total de issues recuperados: {len(concatenated_list)}')\n",
        "    return concatenated_list\n",
        "\n",
        "def analyze_jira_all_issues(project, all_issues):\n",
        "    \"\"\"Extracts all issues from Issue Tracker\n",
        "        Args:\n",
        "          project: Issue Tracker Project name, example: CASSANDRA\n",
        "          all_issues: a block of issues\n",
        "        Returns:\n",
        "          A list of JiraIssues\n",
        "    \"\"\"\n",
        "    # Create an instance of JiraIssues to manage all issues\n",
        "    my_all_issues = JiraIssues(project, [])\n",
        "    total_items = len(all_issues)\n",
        "\n",
        "    # Iterate through the fetched issues\n",
        "    for issue in tqdm.tqdm(all_issues, total=total_items, desc='Progress jira all issues analysis'):\n",
        "        issue_key = issue.key\n",
        "        issue_summary = issue.fields.summary\n",
        "        issue_description = issue.fields.description\n",
        "        issue_comments = [comment.body for comment in issue.fields.comment.comments]\n",
        "        issue_created_date = issue.fields.created\n",
        "        issue_updated_date = None\n",
        "        issue_resolved_date = issue.fields.resolutiondate\n",
        "\n",
        "        # Check for SATD keywords in the issue's summary, description, and comments\n",
        "        if issue_summary is None:\n",
        "            issue_summary = \"\"\n",
        "        if issue_description is None:\n",
        "            issue_description = \"\"\n",
        "        if issue_comments is None:\n",
        "            issue_comments = \"\"\n",
        "        if issue_created_date == None:\n",
        "            issue_created_date = \"\"\n",
        "        if issue_updated_date == None:\n",
        "            issue_updated_date = \"\"\n",
        "        if issue_resolved_date == None:\n",
        "            issue_resolved_date = \"\"\n",
        "\n",
        "        issue_type = issue.fields.issuetype.name\n",
        "        issue_status = issue.fields.status.name\n",
        "        issue_priority = issue.fields.priority.name\n",
        "\n",
        "        # Create a JiraIssue instance for the SATD issue\n",
        "        my_issue = JiraIssue(issue_key, issue_summary, issue_type, issue_status, issue_priority, issue_description, issue_comments, issue_created_date, issue_updated_date, issue_resolved_date)\n",
        "\n",
        "        my_all_issues.add_issue(my_issue)\n",
        "\n",
        "    return my_all_issues\n",
        "\n",
        "def convert_date_jira_to_datetime(jira_date):\n",
        "  regex = r\"(\\d{4})-(\\d{2})-(\\d{2})\"\n",
        "  match = re.match(regex, jira_date)\n",
        "\n",
        "  if match:\n",
        "      year, month, day = match.groups()\n",
        "      datetime_object = datetime(year=int(year), month=int(month), day=int(day))\n",
        "      return datetime_object\n",
        "  else:\n",
        "      return None\n",
        "\n",
        "def convert_issues_to_dataframe(all_real_issues):\n",
        "  l_issue_key_aux, l_issue_type_aux, l_issue_summary_aux, l_issue_description_aux, l_issue_status_aux, l_issue_priority_aux, l_issue_comments_aux = [], [], [], [], [], [], []\n",
        "  l_issue_created_date, l_issue_resolved_date = [], []\n",
        "\n",
        "  for issue in all_real_issues.get_issues():\n",
        "    l_issue_key_aux.append(issue.key)\n",
        "    l_issue_type_aux.append(issue.issue_type)\n",
        "    l_issue_summary_aux.append(issue.summary)\n",
        "    l_issue_description_aux.append(issue.description)\n",
        "    l_issue_status_aux.append(issue.status)\n",
        "    l_issue_priority_aux.append(issue.priority)\n",
        "    texto_aux = \"\"\n",
        "    for item in issue.get_comments():\n",
        "      texto_aux = texto_aux + str(item) + \"\\n\"\n",
        "    l_issue_comments_aux.append(texto_aux)\n",
        "    created_date_temp = convert_date_jira_to_datetime(issue.created_date)\n",
        "    l_issue_created_date.append(created_date_temp)\n",
        "    resolved_date_temp = convert_date_jira_to_datetime(issue.resolved_date)\n",
        "    l_issue_resolved_date.append(resolved_date_temp)\n",
        "\n",
        "  dict_all_reall_issues_in_commits_detailed = {\n",
        "  'issue_key': l_issue_key_aux,\n",
        "  'issue_type':l_issue_type_aux,\n",
        "  'status':l_issue_status_aux,\n",
        "  'priority':l_issue_priority_aux,\n",
        "  'summary':l_issue_summary_aux,\n",
        "  'description':l_issue_description_aux,\n",
        "  'comments':l_issue_comments_aux,\n",
        "  'created_date': l_issue_created_date,\n",
        "  'resolved_date': l_issue_resolved_date\n",
        "  }\n",
        "\n",
        "  df_all_reall_issues_in_commits_detailed = pd.DataFrame(dict_all_reall_issues_in_commits_detailed)\n",
        "  return df_all_reall_issues_in_commits_detailed\n",
        "\n",
        "def convert_commits_to_dataframe(dict_of_commits):\n",
        "  '''\n",
        "  v[0] = commit.msg,\n",
        "  v[1] = data_commit,\n",
        "  v[2] = commit.lines,\n",
        "  v[3] = commit.files,\n",
        "  v[4] = list_of_critical_files_modified,\n",
        "  v[5] = list_of_modified_files,\n",
        "  v[6] = list_dict_of_diff_files,\n",
        "  v[7] = list_dict_of_diff_modified_files\n",
        "  '''\n",
        "  l_commit_hash, l_commit_msg, l_commit_data, l_commit_lines, l_commit_files, l_commit_critical_files, l_commit_modified_fies, l_commit_diff_files, l_commit_diff_modified_files = [], [], [], [], [], [], [], [], []\n",
        "  for k, v in dict_of_commits.items():\n",
        "    l_commit_hash.append(k)\n",
        "    l_commit_msg.append(v[0])\n",
        "    l_commit_data.append(v[1])\n",
        "    l_commit_lines.append(v[2])\n",
        "    l_commit_files.append(v[3])\n",
        "    l_commit_critical_files.append(v[4])\n",
        "    l_commit_modified_fies.append(v[5])\n",
        "    l_commit_diff_files.append(v[6])\n",
        "    l_commit_diff_modified_files.append(v[7])\n",
        "\n",
        "  dict_of_commits_aux = {\n",
        "      'hash': l_commit_hash,\n",
        "      'msg': l_commit_msg,\n",
        "      'date': l_commit_data,\n",
        "      'lines': l_commit_lines,\n",
        "      'files': l_commit_files,\n",
        "      'critical_files': l_commit_critical_files,\n",
        "      'modified_files': l_commit_modified_fies,\n",
        "      'diff_files': l_commit_diff_files,\n",
        "      'diff_files_modified_files': l_commit_diff_modified_files\n",
        "  }\n",
        "\n",
        "  df_commits = pd.DataFrame(dict_of_commits_aux)\n",
        "  return df_commits\n",
        "\n",
        "def find_issues_id_by_project(input_string: str, project: str) -> list[str]:\n",
        "    \"\"\"Finds all Cassandra issue ID patterns in the input string.\n",
        "    Args:\n",
        "        input_string: The input string.\n",
        "        project: The pattern related to project name, for example: CASSANDRA project name\n",
        "    Returns:\n",
        "        A list of project issue IDs, if found; otherwise, an empty list.\n",
        "    \"\"\"\n",
        "    # Try to find all Cassandra issue ID patterns in the input string\n",
        "    matches = re.findall(r\"({0}-\\d+)\".format(project), input_string)\n",
        "    # Return an empty list if no matches are found\n",
        "    if not matches:\n",
        "        return []\n",
        "    # Convert the list of matches to a set to remove duplicates\n",
        "    set_matches = set(matches)\n",
        "    # Convert the set of matches back to a list\n",
        "    list_unique_matches = list(set_matches)\n",
        "\n",
        "    # Return the list of matched Cassandra issue IDs\n",
        "    return list_unique_matches\n",
        "\n",
        "def get_commits_with_critical_files_and_issues_in_this_commits(df_commits_with_critical_files):\n",
        "  dict_issues_in_commits = {}\n",
        "  for index in df_commits_with_critical_files.index:\n",
        "    l_issues_in_commit = find_issues_id_by_project(input_string=df_commits_with_critical_files.msg[index], project=ISSUE_TRACKER_PROJECT)\n",
        "    if len(l_issues_in_commit) > 0:\n",
        "      commit_hash = df_commits_with_critical_files.hash[index]\n",
        "      dict_issues_in_commits[commit_hash] = l_issues_in_commit\n",
        "\n",
        "  list_issue_commits, list_issue_issues = [], []\n",
        "  for k, v in dict_issues_in_commits.items():\n",
        "    list_issue_commits.append(k)\n",
        "    for issue in v:\n",
        "      if issue not in list_issue_issues:\n",
        "        list_issue_issues.append(issue)\n",
        "\n",
        "  df_aux  = df_all_reall_issues_in_commits_detailed.copy()\n",
        "  df_issues_in_commits_with_critical_classes = df_aux[df_aux['issue_key'].isin(list_issue_issues)]\n",
        "\n",
        "  return dict_issues_in_commits, df_issues_in_commits_with_critical_classes\n",
        "\n",
        "def calculate_sample_size(confidence_level, margin_of_error, population_proportion, population_size):\n",
        "    # Calculate the Z-score for the given confidence level\n",
        "    z_score = stats.norm.ppf(1 - (1 - confidence_level) / 2)\n",
        "\n",
        "    # Calculate the sample size formula\n",
        "    sample_size = ((z_score**2) * population_proportion * (1 - population_proportion)) / (margin_of_error**2)\n",
        "\n",
        "    # Adjust for finite population\n",
        "    if population_size:\n",
        "        sample_size = sample_size / (1 + ((sample_size - 1) / population_size))\n",
        "\n",
        "    return int(sample_size)\n",
        "\n",
        "def get_max_n_chars(text, max_n):\n",
        "  text_length = len(text)\n",
        "  if text_length <= max_n:\n",
        "    return text\n",
        "  else:\n",
        "    return text[:max_n]\n",
        "\n",
        "def create_new_file(filename, dir_name, issue_type, summary, description, status, comments):\n",
        "  try:\n",
        "    filename = dir_name + '/' + filename\n",
        "\n",
        "    if issue_type is None:\n",
        "      issue_type = ''\n",
        "    if summary is None:\n",
        "      summary = ''\n",
        "    if description is None:\n",
        "      description = ''\n",
        "    if status is None:\n",
        "      status = ''\n",
        "    if comments is None:\n",
        "      comments = ''\n",
        "\n",
        "    with open(filename, mode='w') as f_issue:\n",
        "      f_issue.write(f'issue_type: {issue_type} \\n')\n",
        "      f_issue.write(f'summary: {summary} \\n')\n",
        "      f_issue.write(f'description: {get_max_n_chars(text=description, max_n=1000)} \\n')\n",
        "      f_issue.write(f'status: {status} \\n')\n",
        "      f_issue.write(f'comments: {get_max_n_chars(text=comments, max_n=4000)} \\n')\n",
        "    print(f'File {filename} created with success!')\n",
        "\n",
        "  except Exception as ex:\n",
        "    print(f'Erro ao criar arquivo: {str(ex)}')\n",
        "\n",
        "# Seleciona randomicamente os issues para inspeção\n",
        "def select_issues_to_inspection(sample_size, df_issues_in_commits_with_critical_classes, my_date='02/11/2023'):\n",
        "  lista_issues_inspecao = []\n",
        "  dict_issues_para_inspecao = {}\n",
        "  list_issue_key = df_issues_in_commits_with_critical_classes.issue_key.to_list()\n",
        "  list_issue_key = list(set(list_issue_key))\n",
        "  sample_issues = random.choices(list_issue_key, k=sample_size)\n",
        "  dict_issues_para_inspecao['02/11/2023'] = sample_issues\n",
        "  print(f'{len(sample_issues)} para inspeção manual')\n",
        "\n",
        "  date_file_name = my_date.split('/')\n",
        "  date_file_name = date_file_name[0] + date_file_name[1] + date_file_name[2]\n",
        "  file_name = 'issues_inspecao_' + date_file_name + '.txt'\n",
        "  with open(file_name, mode='w') as f_temp:\n",
        "    for v in dict_issues_para_inspecao[my_date]:\n",
        "      elemento = v + ','\n",
        "      f_temp.write(elemento)\n",
        "  print(f'Relação de Issues salvos em {my_date} para inspeção.')\n",
        "  return sample_issues\n",
        "\n",
        "# Gera os arquivos .txt de cada issue selecionado para inspeção\n",
        "def generate_files_issues_to_inspection(sample_issues, df_issues_in_commits_with_critical_classes):\n",
        "  contador = 0\n",
        "  my_dir_name = 'my_issues'\n",
        "  if not os.path.exists(my_dir_name):\n",
        "    os.makedirs(my_dir_name)\n",
        "\n",
        "  total_of_issues = df_issues_in_commits_with_critical_classes.shape[0]\n",
        "  for index in tqdm.tqdm(df_issues_in_commits_with_critical_classes.index, total=total_of_issues, desc='Analyzing issues'):\n",
        "    for issue in sample_issues:\n",
        "      if df_issues_in_commits_with_critical_classes.issue_key[index] == issue:\n",
        "        create_new_file(filename=df_issues_in_commits_with_critical_classes.issue_key[index], dir_name=my_dir_name, issue_type=df_issues_in_commits_with_critical_classes.issue_type[index], summary=df_issues_in_commits_with_critical_classes.summary[index], description=df_issues_in_commits_with_critical_classes.description[index], status=df_issues_in_commits_with_critical_classes.status[index], comments=df_issues_in_commits_with_critical_classes.comments[index])\n",
        "        contador += 1\n",
        "  print(f'Foram criados {contador} arquivos para inspeção')\n",
        "\n",
        "class SATDCommitAnalyzer:\n",
        "    def __init__(self, path_to_repository):\n",
        "        self.path_to_repository = path_to_repository\n",
        "\n",
        "    @staticmethod\n",
        "    def is_java_comment(line):\n",
        "        \"\"\"Checks if a line is a single-line Java comment.\n",
        "        Args:\n",
        "          line: The line to check.\n",
        "        Returns:\n",
        "          True if the line is a single-line Java comment, False otherwise.\n",
        "        \"\"\"\n",
        "        # Regular expression pattern to match Java comments\n",
        "        comment_pattern = r'^\\s*//|^\\s*/\\*|^\\s*\\*|^\\s*\\*/'\n",
        "        # Use the re.match function to check if the line matches the comment pattern\n",
        "        return bool(re.match(comment_pattern, line))\n",
        "\n",
        "    def analyze_commits_for_satd(self, start_date, end_date, satd_keywords):\n",
        "        \"\"\"Analyzes commits for SATD by checking if the commit message contains any of the specified SATD keywords.\n",
        "        Args:\n",
        "          start_date: The start date of the date range to analyze commits within.\n",
        "          end_date: The end date of the date range to analyze commits within.\n",
        "          satd_keywords: A list of SATD keywords to search for in commit messages.\n",
        "        Returns:\n",
        "          A tuple containing two sets:\n",
        "            * A set of commit hashes that contain SATD keywords in their commit messages.\n",
        "            * A dictionary mapping commit hashes to their associated commit messages.\n",
        "        \"\"\"\n",
        "        # Initialize sets to store commits and their associated SATD keywords\n",
        "        commits_with_satd = set()\n",
        "        dict_commit_msg = {}\n",
        "\n",
        "        # Traverse commits within the specified date range\n",
        "        print('Aguarde...')\n",
        "        my_traverser_commits = Repository(self.path_to_repository, since=start_date, to=end_date).traverse_commits()\n",
        "        total_commits = len(list(my_traverser_commits))\n",
        "\n",
        "        for commit in tqdm.tqdm(Repository(self.path_to_repository, since=start_date, to=end_date).traverse_commits(), total=total_commits, desc=\"Progress SATD message commit analysis\"):\n",
        "            for keyword in satd_keywords:\n",
        "                if keyword in commit.msg:\n",
        "                    commits_with_satd.add(commit.hash)\n",
        "                    dict_commit_msg[commit.hash] = commit.msg\n",
        "\n",
        "        return commits_with_satd, dict_commit_msg\n",
        "\n",
        "    def analyze_commits_for_no_satd(self, start_date, end_date, satd_keywords):\n",
        "        \"\"\"Analyzes commits for NO SATD by checking if the commit message does contain any of the specified SATD keywords.\n",
        "        Args:\n",
        "          start_date: The start date of the date range to analyze commits within.\n",
        "          end_date: The end date of the date range to analyze commits within.\n",
        "          satd_keywords: A list of SATD keywords to search for in commit messages.\n",
        "        Returns:\n",
        "          A tuple containing two sets:\n",
        "            * A set of commit hashes that contain SATD keywords in their commit messages.\n",
        "            * A dictionary mapping commit hashes to their associated commit messages.\n",
        "        \"\"\"\n",
        "        # Initialize sets to store commits and their associated SATD keywords\n",
        "        commits_with_satd = set()\n",
        "        dict_commit_msg = {}\n",
        "\n",
        "        # Traverse commits within the specified date range\n",
        "        print('Aguarde...')\n",
        "        my_traverser_commits = Repository(self.path_to_repository, since=start_date, to=end_date).traverse_commits()\n",
        "        total_commits = len(list(my_traverser_commits))\n",
        "\n",
        "        for commit in tqdm.tqdm(Repository(self.path_to_repository, since=start_date, to=end_date).traverse_commits(), total=total_commits, desc=\"Progress SATD message commit analysis\"):\n",
        "          if self.testa_keywords_not_in_text(list(satd_keywords), commit.msg) is not None:\n",
        "            commits_with_satd.add(commit.hash)\n",
        "            dict_commit_msg[commit.hash] = commit.msg\n",
        "\n",
        "        return commits_with_satd, dict_commit_msg\n",
        "\n",
        "    def analyze_commit_diffs_for_satd(self, start_date, end_date, satd_keywords):\n",
        "        \"\"\"Analyzes commit diffs for SATD by checking if any of the specified SATD keywords are found in any of the added lines of the diff.\n",
        "        Args:\n",
        "          start_date: The start date of the date range to analyze commit diffs within.\n",
        "          end_date: The end date of the date range to analyze commit diffs within.\n",
        "          satd_keywords: A list of SATD keywords to search for in commit diffs.\n",
        "        Returns:\n",
        "          A dictionary mapping commit hashes to lists of tuples, where each tuple contains a SATD keyword and the corresponding line of the diff where the keyword was found.\n",
        "        \"\"\"\n",
        "        # Initialize a dictionary to store commit hashes and their associated SATD keywords and diff content\n",
        "        dict_commit_diffs = {}\n",
        "\n",
        "        # Traverse commits within the specified date range\n",
        "        print('Aguarde...')\n",
        "        my_traverser_commits = Repository(self.path_to_repository, since=start_date, to=end_date).traverse_commits()\n",
        "        total_commits = len(list(my_traverser_commits))\n",
        "\n",
        "        for commit in tqdm.tqdm(Repository(self.path_to_repository, since=start_date, to=end_date).traverse_commits(), total=total_commits, desc=\"Progress SATD diff commit analysis\"):\n",
        "            list_keywords_by_commit = []\n",
        "            list_diff_content_by_commit = []\n",
        "\n",
        "            for modification in commit.modified_files:\n",
        "                for line in modification.diff_parsed['added']:\n",
        "                    valor_linha = line[0]\n",
        "                    conteudo_linha = line[1]\n",
        "\n",
        "                    for keyword in satd_keywords:\n",
        "                        if SATDCommitAnalyzer.is_java_comment(conteudo_linha):\n",
        "                            if keyword in conteudo_linha:\n",
        "                                list_keywords_by_commit.append(keyword)\n",
        "                                list_diff_content_by_commit.append(conteudo_linha)\n",
        "\n",
        "            if list_keywords_by_commit:\n",
        "                elemento = commit.msg, commit.lines, commit.files, list_keywords_by_commit, list_diff_content_by_commit\n",
        "                dict_commit_diffs[commit.hash] = elemento\n",
        "\n",
        "        return dict_commit_diffs\n",
        "\n",
        "    def analyze_commit_diffs_for_no_satd(self, start_date, end_date, satd_keywords):\n",
        "        \"\"\"Analyzes commit diffs for NO SATD by checking if any of the specified SATD keywords are found in any of the added lines of the diff.\n",
        "        Args:\n",
        "          start_date: The start date of the date range to analyze commit diffs within.\n",
        "          end_date: The end date of the date range to analyze commit diffs within.\n",
        "          satd_keywords: A list of SATD keywords to search for in commit diffs.\n",
        "        Returns:\n",
        "          A dictionary mapping commit hashes to lists of tuples, where each tuple contains a SATD keyword and the corresponding line of the diff where the keyword was found.\n",
        "        \"\"\"\n",
        "        # Initialize a dictionary to store commit hashes and their associated SATD keywords and diff content\n",
        "        dict_commit_diffs = {}\n",
        "\n",
        "        # Traverse commits within the specified date range\n",
        "        print('Aguarde...')\n",
        "        my_traverser_commits = Repository(self.path_to_repository, since=start_date, to=end_date).traverse_commits()\n",
        "        total_commits = len(list(my_traverser_commits))\n",
        "\n",
        "        for commit in tqdm.tqdm(Repository(self.path_to_repository, since=start_date, to=end_date).traverse_commits(), total=total_commits, desc=\"Progress SATD diff commit analysis\"):\n",
        "            list_diff_content_by_commit = []\n",
        "\n",
        "            for modification in commit.modified_files:\n",
        "                for line in modification.diff_parsed['added']:\n",
        "                    valor_linha = line[0]\n",
        "                    conteudo_linha = line[1]\n",
        "                    if SATDCommitAnalyzer.is_java_comment(conteudo_linha):\n",
        "                        if self.testa_keywords_not_in_text(list(satd_keywords), conteudo_linha) is not None:\n",
        "                            list_diff_content_by_commit.append(conteudo_linha)\n",
        "            dict_commit_diffs[commit.hash] = commit.msg, commit.lines, commit.files,list_diff_content_by_commit\n",
        "        return dict_commit_diffs\n",
        "\n",
        "    def total_of_commits(self, start_date, end_date):\n",
        "        # Traverse commits within the specified date range\n",
        "        print('Aguarde...')\n",
        "        my_traverser_commits = Repository(self.path_to_repository, since=start_date, to=end_date).traverse_commits()\n",
        "        total_commits = len(list(my_traverser_commits))\n",
        "        lista_hash_commits = []\n",
        "        for commit in tqdm.tqdm(Repository(self.path_to_repository, since=start_date, to=end_date).traverse_commits(), total=total_commits, desc=\"Progress messagem commit analysis\"):\n",
        "            lista_hash_commits.append(commit.hash)\n",
        "        return total_commits, lista_hash_commits\n",
        "\n",
        "    def testa_keywords_not_in_text(self,keywords, my_text):\n",
        "      qtd_itens = len(keywords)\n",
        "      lista_checa = []\n",
        "      for i, each in enumerate(keywords):\n",
        "        if keywords[i] not in my_text:\n",
        "          lista_checa.append(0)\n",
        "      if len(lista_checa)==qtd_itens and sum(lista_checa) == 0:\n",
        "        return my_text\n",
        "      return None\n",
        "\n",
        "def create_df_commits_diffs_satd(dict_commit_diffs_satd):\n",
        "  l_commits, l_msgs, l_lines, l_files, l_keywords, l_comments = [], [], [], [], [], []\n",
        "\n",
        "  for k, v in dict_commit_diffs_satd.items():\n",
        "    l_commits.append(k)\n",
        "    l_msgs.append(v[0])\n",
        "    l_lines.append(v[1])\n",
        "    l_files.append(v[2])\n",
        "    l_keywords.append(v[3])\n",
        "    l_comments.append(v[4])\n",
        "\n",
        "  dict_commit_diffs_satd_aux = {\n",
        "      'commit': l_commits,\n",
        "      'msg': l_msgs,\n",
        "      'lines': l_lines,\n",
        "      'files': l_files,\n",
        "      'keywords': l_keywords,\n",
        "      'comments': l_comments\n",
        "  }\n",
        "\n",
        "  df_commit_diffs_aux = pd.DataFrame(dict_commit_diffs_satd_aux)\n",
        "  return df_commit_diffs_aux\n",
        "\n",
        "def create_df_commits_diffs_no_satd(dict_commit_diffs_no_satd):\n",
        "  l_commits_no_satd, l_msg_no_satd, l_lines_no_satd, l_files_no_satd, l_comments_no_satd = [], [], [], [], []\n",
        "\n",
        "  for k, v in dict_commit_diffs_no_satd.items():\n",
        "    if len(v[3]) > 0:\n",
        "      l_commits_no_satd.append(k)\n",
        "      l_msg_no_satd.append(v[0])\n",
        "      l_lines_no_satd.append(v[1])\n",
        "      l_files_no_satd.append(v[2])\n",
        "      l_comments_no_satd.append(v[3])\n",
        "\n",
        "  dict_commit_diffs_aux_no_satd = {\n",
        "      'commits': l_commits_no_satd,\n",
        "      'msg': l_msg_no_satd,\n",
        "      'lines': l_lines_no_satd,\n",
        "      'files': l_files_no_satd,\n",
        "      'comments': l_comments_no_satd\n",
        "  }\n",
        "\n",
        "  df_commit_diffs_aux_no_satd = pd.DataFrame(dict_commit_diffs_aux_no_satd)\n",
        "\n",
        "  return df_commit_diffs_aux_no_satd"
      ],
      "metadata": {
        "id": "blFSkQG57Uwo"
      },
      "execution_count": 52,
      "outputs": []
    },
    {
      "cell_type": "markdown",
      "source": [
        "# 1. Extrai commits de um repositório de código"
      ],
      "metadata": {
        "id": "Mu4GQlBW4jTM"
      }
    },
    {
      "cell_type": "code",
      "source": [
        "start_date = datetime(2009, 3, 2, 0, 0, 0)\n",
        "end_date = datetime(2023, 10, 4, 0, 0, 0)\n",
        "extract_all_commits = get_all_commits_by_range(initial_date=start_date, final_date=end_date, repository_name=my_repository)\n",
        "\n",
        "all_commits = extract_all_commits[0]\n",
        "total_all_commits = extract_all_commits[1]\n",
        "\n",
        "print(f'Total de commits extraídos: {total_all_commits}')"
      ],
      "metadata": {
        "colab": {
          "base_uri": "https://localhost:8080/"
        },
        "id": "PPY1F6V77MIW",
        "outputId": "2035dc2a-8e09-4237-9d31-445f66c6d970"
      },
      "execution_count": 12,
      "outputs": [
        {
          "output_type": "stream",
          "name": "stdout",
          "text": [
            "Wait...\n"
          ]
        },
        {
          "output_type": "stream",
          "name": "stderr",
          "text": [
            "Progress commit anlysis: 100%|██████████| 29230/29230 [15:48<00:00, 30.82it/s]"
          ]
        },
        {
          "output_type": "stream",
          "name": "stdout",
          "text": [
            "Total de commits extraídos: 29230\n"
          ]
        },
        {
          "output_type": "stream",
          "name": "stderr",
          "text": [
            "\n"
          ]
        }
      ]
    },
    {
      "cell_type": "markdown",
      "source": [
        "## Filtra os commits com classes críticas"
      ],
      "metadata": {
        "id": "bWPoDyA1Ld38"
      }
    },
    {
      "cell_type": "code",
      "source": [
        "print(f'Analisa a faixa de commits entre: initial_date={str(start_date)}, final_date={str(end_date)}')\n",
        "print('Registra apenas os commits que contem pelo menos um arquivo crítico')\n",
        "filter_commits_with_critical_files = get_commits_by_range_and_critical_files(initial_date=start_date, final_date=end_date, critical_files=lista_arquivos_criticos, repository_name=my_repository)\n",
        "commits_with_critical_files = filter_commits_with_critical_files[0]\n",
        "total_of_commits_with_critical_files = filter_commits_with_critical_files[1]\n",
        "\n",
        "print(f'Total de commits com classes críticas: {total_of_commits_with_critical_files}')"
      ],
      "metadata": {
        "colab": {
          "base_uri": "https://localhost:8080/"
        },
        "id": "xsFZ_4-PBMqb",
        "outputId": "73532351-b35c-4e85-cb6e-2871863a3f26"
      },
      "execution_count": 13,
      "outputs": [
        {
          "output_type": "stream",
          "name": "stdout",
          "text": [
            "Analisa a faixa de commits entre: initial_date=2009-03-02 00:00:00, final_date=2023-10-04 00:00:00\n",
            "Registra apenas os commits que contem pelo menos um arquivo crítico\n",
            "Wait...\n"
          ]
        },
        {
          "output_type": "stream",
          "name": "stderr",
          "text": [
            "Progress critical files commit anlysis: 100%|██████████| 29230/29230 [07:43<00:00, 63.08it/s]"
          ]
        },
        {
          "output_type": "stream",
          "name": "stdout",
          "text": [
            "Total de commits com classes críticas: 29230\n"
          ]
        },
        {
          "output_type": "stream",
          "name": "stderr",
          "text": [
            "\n"
          ]
        }
      ]
    },
    {
      "cell_type": "markdown",
      "source": [
        "### Converte os commits com classes críticas para dataframe"
      ],
      "metadata": {
        "id": "bWaZoj8hPxk4"
      }
    },
    {
      "cell_type": "code",
      "source": [
        "df_commits_with_critical_files = convert_commits_to_dataframe(dict_of_commits=commits_with_critical_files)\n",
        "df_commits_with_critical_files"
      ],
      "metadata": {
        "colab": {
          "base_uri": "https://localhost:8080/",
          "height": 652
        },
        "id": "8hxQYo8uSXgf",
        "outputId": "2cb95b83-f015-4cb6-df06-424e584e6380"
      },
      "execution_count": 14,
      "outputs": [
        {
          "output_type": "execute_result",
          "data": {
            "text/plain": [
              "                                          hash  \\\n",
              "0     1f91e99223b0d1b7ed8390400d4a06ac08e4aa85   \n",
              "1     cf56f8f3acbeac0ddff9ee3131ad7abe2a919ba3   \n",
              "2     5bea7e1772e9fd042b10abebb1e0c78579942b26   \n",
              "3     f4f3ca50d84e165a909dca5608babb32df199f44   \n",
              "4     39d3f833f9c4e154eb157336f5e7b2a1ce9a79a3   \n",
              "...                                        ...   \n",
              "4517  6708499e4c930f7733894e6076b925fb151d9251   \n",
              "4518  20d80118ac02d853d501e3f5c24a63a12d4010f5   \n",
              "4519  d16e8d3653dce8ed767a040c06dbaabc47a9b474   \n",
              "4520  b9586501a6b6cdfe465302448018785652c9b966   \n",
              "4521  164fa7949d1437528363465d14ed20898f1daa9e   \n",
              "\n",
              "                                                    msg       date  lines  \\\n",
              "0     git-svn-id: https://svn.apache.org/repos/asf/i...   2/3/2009  74502   \n",
              "1     Add build script and make sure it works\\n\\ngit...   2/3/2009    156   \n",
              "2     Removed references to JDK7 specific things.\\n\\...  20/3/2009     82   \n",
              "3     rename serializer2 -> serializerWithIndexers\\n...  27/3/2009     26   \n",
              "4     add SuperColumn support to forceFlush.  split ...  27/3/2009     89   \n",
              "...                                                 ...        ...    ...   \n",
              "4517  Remove metrics-reporter-config dependency\\n\\np...  12/9/2023    105   \n",
              "4518  Add the ability to disable bulk loading of SST...  19/9/2023    289   \n",
              "4519  Do not create sstable files before registering...  25/9/2023    724   \n",
              "4520  Internode legacy SSL storage port certificate ...  25/9/2023    237   \n",
              "4521  Add support for repair coordinator to retry me...  27/9/2023   8533   \n",
              "\n",
              "      files                                     critical_files  \\\n",
              "0       344  [DatabaseDescriptor.java, ColumnFamilyStore.ja...   \n",
              "1         4                              [StorageService.java]   \n",
              "2         2                           [ColumnFamilyStore.java]   \n",
              "3         4                           [ColumnFamilyStore.java]   \n",
              "4         5                           [ColumnFamilyStore.java]   \n",
              "...     ...                                                ...   \n",
              "4517     10                             [CassandraDaemon.java]   \n",
              "4518     11                                      [Config.java]   \n",
              "4519     18                           [CompactionManager.java]   \n",
              "4520     13                            [MessagingService.java]   \n",
              "4521    140  [Config.java, DatabaseDescriptor.java, ColumnF...   \n",
              "\n",
              "                                         modified_files  \\\n",
              "0     [JSAP-2.1.jar, activation.jar, antlr-2.7.6.jar...   \n",
              "1     [build.xml, StorageService.java, DBTest.java, ...   \n",
              "2                  [ColumnFamilyStore.java, Table.java]   \n",
              "3     [ColumnFamily.java, ColumnFamilyStore.java, Me...   \n",
              "4     [ColumnFamilyStore.java, HintedHandOffManager....   \n",
              "...                                                 ...   \n",
              "4517  [build-rat.xml, CHANGES.txt, NEWS.txt, jvm-ser...   \n",
              "4518  [CHANGES.txt, NEWS.txt, cassandra.yaml, Config...   \n",
              "4519  [CHANGES.txt, CompactionManager.java, Upgrader...   \n",
              "4520  [CHANGES.txt, InboundConnectionInitiator.java,...   \n",
              "4521  [CHANGES.txt, cassandra.yaml, Stage.java, Conf...   \n",
              "\n",
              "                                             diff_files  \\\n",
              "0     [{'DatabaseDescriptor.java': '@@ -0,0 +1,743 @...   \n",
              "1     [{'StorageService.java': '@@ -70,11 +70,6 @@ i...   \n",
              "2     [{'ColumnFamilyStore.java': '@@ -20,7 +20,6 @@...   \n",
              "3     [{'ColumnFamilyStore.java': '@@ -22,10 +22,7 @...   \n",
              "4     [{'ColumnFamilyStore.java': '@@ -395,11 +395,1...   \n",
              "...                                                 ...   \n",
              "4517  [{'CassandraDaemon.java': '@@ -21,7 +21,6 @@ i...   \n",
              "4518  [{'Config.java': '@@ -860,6 +860,7 @@ public c...   \n",
              "4519  [{'CompactionManager.java': '@@ -1624,7 +1624,...   \n",
              "4520  [{'MessagingService.java': '@@ -213,6 +213,7 @...   \n",
              "4521  [{'Config.java': '@@ -1105,6 +1105,8 @@ public...   \n",
              "\n",
              "                              diff_files_modified_files  \n",
              "0     [Binary files /dev/null and b/lib/JSAP-2.1.jar...  \n",
              "1     [@@ -0,0 +1,133 @@\\n+<?xml version=\"1.0\" encod...  \n",
              "2     [@@ -20,7 +20,6 @@ package org.apache.cassandr...  \n",
              "3     [@@ -70,7 +70,7 @@ public final class ColumnFa...  \n",
              "4     [@@ -395,11 +395,11 @@ public class ColumnFami...  \n",
              "...                                                 ...  \n",
              "4517  [@@ -43,7 +43,6 @@\\n                  <!-- Con...  \n",
              "4518  [@@ -1,4 +1,5 @@\\n 5.1\\n+ * Add the ability to...  \n",
              "4519  [@@ -1,4 +1,5 @@\\n 5.0-alpha2\\n+ * Do not crea...  \n",
              "4520  [@@ -1,4 +1,5 @@\\n 4.1.4\\n+ * Internode legacy...  \n",
              "4521  [@@ -1,4 +1,5 @@\\n 5.0-alpha2\\n+ * Add support...  \n",
              "\n",
              "[4522 rows x 9 columns]"
            ],
            "text/html": [
              "\n",
              "  <div id=\"df-3e633d10-7083-4292-9f11-427191159a42\" class=\"colab-df-container\">\n",
              "    <div>\n",
              "<style scoped>\n",
              "    .dataframe tbody tr th:only-of-type {\n",
              "        vertical-align: middle;\n",
              "    }\n",
              "\n",
              "    .dataframe tbody tr th {\n",
              "        vertical-align: top;\n",
              "    }\n",
              "\n",
              "    .dataframe thead th {\n",
              "        text-align: right;\n",
              "    }\n",
              "</style>\n",
              "<table border=\"1\" class=\"dataframe\">\n",
              "  <thead>\n",
              "    <tr style=\"text-align: right;\">\n",
              "      <th></th>\n",
              "      <th>hash</th>\n",
              "      <th>msg</th>\n",
              "      <th>date</th>\n",
              "      <th>lines</th>\n",
              "      <th>files</th>\n",
              "      <th>critical_files</th>\n",
              "      <th>modified_files</th>\n",
              "      <th>diff_files</th>\n",
              "      <th>diff_files_modified_files</th>\n",
              "    </tr>\n",
              "  </thead>\n",
              "  <tbody>\n",
              "    <tr>\n",
              "      <th>0</th>\n",
              "      <td>1f91e99223b0d1b7ed8390400d4a06ac08e4aa85</td>\n",
              "      <td>git-svn-id: https://svn.apache.org/repos/asf/i...</td>\n",
              "      <td>2/3/2009</td>\n",
              "      <td>74502</td>\n",
              "      <td>344</td>\n",
              "      <td>[DatabaseDescriptor.java, ColumnFamilyStore.ja...</td>\n",
              "      <td>[JSAP-2.1.jar, activation.jar, antlr-2.7.6.jar...</td>\n",
              "      <td>[{'DatabaseDescriptor.java': '@@ -0,0 +1,743 @...</td>\n",
              "      <td>[Binary files /dev/null and b/lib/JSAP-2.1.jar...</td>\n",
              "    </tr>\n",
              "    <tr>\n",
              "      <th>1</th>\n",
              "      <td>cf56f8f3acbeac0ddff9ee3131ad7abe2a919ba3</td>\n",
              "      <td>Add build script and make sure it works\\n\\ngit...</td>\n",
              "      <td>2/3/2009</td>\n",
              "      <td>156</td>\n",
              "      <td>4</td>\n",
              "      <td>[StorageService.java]</td>\n",
              "      <td>[build.xml, StorageService.java, DBTest.java, ...</td>\n",
              "      <td>[{'StorageService.java': '@@ -70,11 +70,6 @@ i...</td>\n",
              "      <td>[@@ -0,0 +1,133 @@\\n+&lt;?xml version=\"1.0\" encod...</td>\n",
              "    </tr>\n",
              "    <tr>\n",
              "      <th>2</th>\n",
              "      <td>5bea7e1772e9fd042b10abebb1e0c78579942b26</td>\n",
              "      <td>Removed references to JDK7 specific things.\\n\\...</td>\n",
              "      <td>20/3/2009</td>\n",
              "      <td>82</td>\n",
              "      <td>2</td>\n",
              "      <td>[ColumnFamilyStore.java]</td>\n",
              "      <td>[ColumnFamilyStore.java, Table.java]</td>\n",
              "      <td>[{'ColumnFamilyStore.java': '@@ -20,7 +20,6 @@...</td>\n",
              "      <td>[@@ -20,7 +20,6 @@ package org.apache.cassandr...</td>\n",
              "    </tr>\n",
              "    <tr>\n",
              "      <th>3</th>\n",
              "      <td>f4f3ca50d84e165a909dca5608babb32df199f44</td>\n",
              "      <td>rename serializer2 -&gt; serializerWithIndexers\\n...</td>\n",
              "      <td>27/3/2009</td>\n",
              "      <td>26</td>\n",
              "      <td>4</td>\n",
              "      <td>[ColumnFamilyStore.java]</td>\n",
              "      <td>[ColumnFamily.java, ColumnFamilyStore.java, Me...</td>\n",
              "      <td>[{'ColumnFamilyStore.java': '@@ -22,10 +22,7 @...</td>\n",
              "      <td>[@@ -70,7 +70,7 @@ public final class ColumnFa...</td>\n",
              "    </tr>\n",
              "    <tr>\n",
              "      <th>4</th>\n",
              "      <td>39d3f833f9c4e154eb157336f5e7b2a1ce9a79a3</td>\n",
              "      <td>add SuperColumn support to forceFlush.  split ...</td>\n",
              "      <td>27/3/2009</td>\n",
              "      <td>89</td>\n",
              "      <td>5</td>\n",
              "      <td>[ColumnFamilyStore.java]</td>\n",
              "      <td>[ColumnFamilyStore.java, HintedHandOffManager....</td>\n",
              "      <td>[{'ColumnFamilyStore.java': '@@ -395,11 +395,1...</td>\n",
              "      <td>[@@ -395,11 +395,11 @@ public class ColumnFami...</td>\n",
              "    </tr>\n",
              "    <tr>\n",
              "      <th>...</th>\n",
              "      <td>...</td>\n",
              "      <td>...</td>\n",
              "      <td>...</td>\n",
              "      <td>...</td>\n",
              "      <td>...</td>\n",
              "      <td>...</td>\n",
              "      <td>...</td>\n",
              "      <td>...</td>\n",
              "      <td>...</td>\n",
              "    </tr>\n",
              "    <tr>\n",
              "      <th>4517</th>\n",
              "      <td>6708499e4c930f7733894e6076b925fb151d9251</td>\n",
              "      <td>Remove metrics-reporter-config dependency\\n\\np...</td>\n",
              "      <td>12/9/2023</td>\n",
              "      <td>105</td>\n",
              "      <td>10</td>\n",
              "      <td>[CassandraDaemon.java]</td>\n",
              "      <td>[build-rat.xml, CHANGES.txt, NEWS.txt, jvm-ser...</td>\n",
              "      <td>[{'CassandraDaemon.java': '@@ -21,7 +21,6 @@ i...</td>\n",
              "      <td>[@@ -43,7 +43,6 @@\\n                  &lt;!-- Con...</td>\n",
              "    </tr>\n",
              "    <tr>\n",
              "      <th>4518</th>\n",
              "      <td>20d80118ac02d853d501e3f5c24a63a12d4010f5</td>\n",
              "      <td>Add the ability to disable bulk loading of SST...</td>\n",
              "      <td>19/9/2023</td>\n",
              "      <td>289</td>\n",
              "      <td>11</td>\n",
              "      <td>[Config.java]</td>\n",
              "      <td>[CHANGES.txt, NEWS.txt, cassandra.yaml, Config...</td>\n",
              "      <td>[{'Config.java': '@@ -860,6 +860,7 @@ public c...</td>\n",
              "      <td>[@@ -1,4 +1,5 @@\\n 5.1\\n+ * Add the ability to...</td>\n",
              "    </tr>\n",
              "    <tr>\n",
              "      <th>4519</th>\n",
              "      <td>d16e8d3653dce8ed767a040c06dbaabc47a9b474</td>\n",
              "      <td>Do not create sstable files before registering...</td>\n",
              "      <td>25/9/2023</td>\n",
              "      <td>724</td>\n",
              "      <td>18</td>\n",
              "      <td>[CompactionManager.java]</td>\n",
              "      <td>[CHANGES.txt, CompactionManager.java, Upgrader...</td>\n",
              "      <td>[{'CompactionManager.java': '@@ -1624,7 +1624,...</td>\n",
              "      <td>[@@ -1,4 +1,5 @@\\n 5.0-alpha2\\n+ * Do not crea...</td>\n",
              "    </tr>\n",
              "    <tr>\n",
              "      <th>4520</th>\n",
              "      <td>b9586501a6b6cdfe465302448018785652c9b966</td>\n",
              "      <td>Internode legacy SSL storage port certificate ...</td>\n",
              "      <td>25/9/2023</td>\n",
              "      <td>237</td>\n",
              "      <td>13</td>\n",
              "      <td>[MessagingService.java]</td>\n",
              "      <td>[CHANGES.txt, InboundConnectionInitiator.java,...</td>\n",
              "      <td>[{'MessagingService.java': '@@ -213,6 +213,7 @...</td>\n",
              "      <td>[@@ -1,4 +1,5 @@\\n 4.1.4\\n+ * Internode legacy...</td>\n",
              "    </tr>\n",
              "    <tr>\n",
              "      <th>4521</th>\n",
              "      <td>164fa7949d1437528363465d14ed20898f1daa9e</td>\n",
              "      <td>Add support for repair coordinator to retry me...</td>\n",
              "      <td>27/9/2023</td>\n",
              "      <td>8533</td>\n",
              "      <td>140</td>\n",
              "      <td>[Config.java, DatabaseDescriptor.java, ColumnF...</td>\n",
              "      <td>[CHANGES.txt, cassandra.yaml, Stage.java, Conf...</td>\n",
              "      <td>[{'Config.java': '@@ -1105,6 +1105,8 @@ public...</td>\n",
              "      <td>[@@ -1,4 +1,5 @@\\n 5.0-alpha2\\n+ * Add support...</td>\n",
              "    </tr>\n",
              "  </tbody>\n",
              "</table>\n",
              "<p>4522 rows × 9 columns</p>\n",
              "</div>\n",
              "    <div class=\"colab-df-buttons\">\n",
              "\n",
              "  <div class=\"colab-df-container\">\n",
              "    <button class=\"colab-df-convert\" onclick=\"convertToInteractive('df-3e633d10-7083-4292-9f11-427191159a42')\"\n",
              "            title=\"Convert this dataframe to an interactive table.\"\n",
              "            style=\"display:none;\">\n",
              "\n",
              "  <svg xmlns=\"http://www.w3.org/2000/svg\" height=\"24px\" viewBox=\"0 -960 960 960\">\n",
              "    <path d=\"M120-120v-720h720v720H120Zm60-500h600v-160H180v160Zm220 220h160v-160H400v160Zm0 220h160v-160H400v160ZM180-400h160v-160H180v160Zm440 0h160v-160H620v160ZM180-180h160v-160H180v160Zm440 0h160v-160H620v160Z\"/>\n",
              "  </svg>\n",
              "    </button>\n",
              "\n",
              "  <style>\n",
              "    .colab-df-container {\n",
              "      display:flex;\n",
              "      gap: 12px;\n",
              "    }\n",
              "\n",
              "    .colab-df-convert {\n",
              "      background-color: #E8F0FE;\n",
              "      border: none;\n",
              "      border-radius: 50%;\n",
              "      cursor: pointer;\n",
              "      display: none;\n",
              "      fill: #1967D2;\n",
              "      height: 32px;\n",
              "      padding: 0 0 0 0;\n",
              "      width: 32px;\n",
              "    }\n",
              "\n",
              "    .colab-df-convert:hover {\n",
              "      background-color: #E2EBFA;\n",
              "      box-shadow: 0px 1px 2px rgba(60, 64, 67, 0.3), 0px 1px 3px 1px rgba(60, 64, 67, 0.15);\n",
              "      fill: #174EA6;\n",
              "    }\n",
              "\n",
              "    .colab-df-buttons div {\n",
              "      margin-bottom: 4px;\n",
              "    }\n",
              "\n",
              "    [theme=dark] .colab-df-convert {\n",
              "      background-color: #3B4455;\n",
              "      fill: #D2E3FC;\n",
              "    }\n",
              "\n",
              "    [theme=dark] .colab-df-convert:hover {\n",
              "      background-color: #434B5C;\n",
              "      box-shadow: 0px 1px 3px 1px rgba(0, 0, 0, 0.15);\n",
              "      filter: drop-shadow(0px 1px 2px rgba(0, 0, 0, 0.3));\n",
              "      fill: #FFFFFF;\n",
              "    }\n",
              "  </style>\n",
              "\n",
              "    <script>\n",
              "      const buttonEl =\n",
              "        document.querySelector('#df-3e633d10-7083-4292-9f11-427191159a42 button.colab-df-convert');\n",
              "      buttonEl.style.display =\n",
              "        google.colab.kernel.accessAllowed ? 'block' : 'none';\n",
              "\n",
              "      async function convertToInteractive(key) {\n",
              "        const element = document.querySelector('#df-3e633d10-7083-4292-9f11-427191159a42');\n",
              "        const dataTable =\n",
              "          await google.colab.kernel.invokeFunction('convertToInteractive',\n",
              "                                                    [key], {});\n",
              "        if (!dataTable) return;\n",
              "\n",
              "        const docLinkHtml = 'Like what you see? Visit the ' +\n",
              "          '<a target=\"_blank\" href=https://colab.research.google.com/notebooks/data_table.ipynb>data table notebook</a>'\n",
              "          + ' to learn more about interactive tables.';\n",
              "        element.innerHTML = '';\n",
              "        dataTable['output_type'] = 'display_data';\n",
              "        await google.colab.output.renderOutput(dataTable, element);\n",
              "        const docLink = document.createElement('div');\n",
              "        docLink.innerHTML = docLinkHtml;\n",
              "        element.appendChild(docLink);\n",
              "      }\n",
              "    </script>\n",
              "  </div>\n",
              "\n",
              "\n",
              "<div id=\"df-2e9d23a4-958a-4a44-bafb-e430ae207653\">\n",
              "  <button class=\"colab-df-quickchart\" onclick=\"quickchart('df-2e9d23a4-958a-4a44-bafb-e430ae207653')\"\n",
              "            title=\"Suggest charts\"\n",
              "            style=\"display:none;\">\n",
              "\n",
              "<svg xmlns=\"http://www.w3.org/2000/svg\" height=\"24px\"viewBox=\"0 0 24 24\"\n",
              "     width=\"24px\">\n",
              "    <g>\n",
              "        <path d=\"M19 3H5c-1.1 0-2 .9-2 2v14c0 1.1.9 2 2 2h14c1.1 0 2-.9 2-2V5c0-1.1-.9-2-2-2zM9 17H7v-7h2v7zm4 0h-2V7h2v10zm4 0h-2v-4h2v4z\"/>\n",
              "    </g>\n",
              "</svg>\n",
              "  </button>\n",
              "\n",
              "<style>\n",
              "  .colab-df-quickchart {\n",
              "      --bg-color: #E8F0FE;\n",
              "      --fill-color: #1967D2;\n",
              "      --hover-bg-color: #E2EBFA;\n",
              "      --hover-fill-color: #174EA6;\n",
              "      --disabled-fill-color: #AAA;\n",
              "      --disabled-bg-color: #DDD;\n",
              "  }\n",
              "\n",
              "  [theme=dark] .colab-df-quickchart {\n",
              "      --bg-color: #3B4455;\n",
              "      --fill-color: #D2E3FC;\n",
              "      --hover-bg-color: #434B5C;\n",
              "      --hover-fill-color: #FFFFFF;\n",
              "      --disabled-bg-color: #3B4455;\n",
              "      --disabled-fill-color: #666;\n",
              "  }\n",
              "\n",
              "  .colab-df-quickchart {\n",
              "    background-color: var(--bg-color);\n",
              "    border: none;\n",
              "    border-radius: 50%;\n",
              "    cursor: pointer;\n",
              "    display: none;\n",
              "    fill: var(--fill-color);\n",
              "    height: 32px;\n",
              "    padding: 0;\n",
              "    width: 32px;\n",
              "  }\n",
              "\n",
              "  .colab-df-quickchart:hover {\n",
              "    background-color: var(--hover-bg-color);\n",
              "    box-shadow: 0 1px 2px rgba(60, 64, 67, 0.3), 0 1px 3px 1px rgba(60, 64, 67, 0.15);\n",
              "    fill: var(--button-hover-fill-color);\n",
              "  }\n",
              "\n",
              "  .colab-df-quickchart-complete:disabled,\n",
              "  .colab-df-quickchart-complete:disabled:hover {\n",
              "    background-color: var(--disabled-bg-color);\n",
              "    fill: var(--disabled-fill-color);\n",
              "    box-shadow: none;\n",
              "  }\n",
              "\n",
              "  .colab-df-spinner {\n",
              "    border: 2px solid var(--fill-color);\n",
              "    border-color: transparent;\n",
              "    border-bottom-color: var(--fill-color);\n",
              "    animation:\n",
              "      spin 1s steps(1) infinite;\n",
              "  }\n",
              "\n",
              "  @keyframes spin {\n",
              "    0% {\n",
              "      border-color: transparent;\n",
              "      border-bottom-color: var(--fill-color);\n",
              "      border-left-color: var(--fill-color);\n",
              "    }\n",
              "    20% {\n",
              "      border-color: transparent;\n",
              "      border-left-color: var(--fill-color);\n",
              "      border-top-color: var(--fill-color);\n",
              "    }\n",
              "    30% {\n",
              "      border-color: transparent;\n",
              "      border-left-color: var(--fill-color);\n",
              "      border-top-color: var(--fill-color);\n",
              "      border-right-color: var(--fill-color);\n",
              "    }\n",
              "    40% {\n",
              "      border-color: transparent;\n",
              "      border-right-color: var(--fill-color);\n",
              "      border-top-color: var(--fill-color);\n",
              "    }\n",
              "    60% {\n",
              "      border-color: transparent;\n",
              "      border-right-color: var(--fill-color);\n",
              "    }\n",
              "    80% {\n",
              "      border-color: transparent;\n",
              "      border-right-color: var(--fill-color);\n",
              "      border-bottom-color: var(--fill-color);\n",
              "    }\n",
              "    90% {\n",
              "      border-color: transparent;\n",
              "      border-bottom-color: var(--fill-color);\n",
              "    }\n",
              "  }\n",
              "</style>\n",
              "\n",
              "  <script>\n",
              "    async function quickchart(key) {\n",
              "      const quickchartButtonEl =\n",
              "        document.querySelector('#' + key + ' button');\n",
              "      quickchartButtonEl.disabled = true;  // To prevent multiple clicks.\n",
              "      quickchartButtonEl.classList.add('colab-df-spinner');\n",
              "      try {\n",
              "        const charts = await google.colab.kernel.invokeFunction(\n",
              "            'suggestCharts', [key], {});\n",
              "      } catch (error) {\n",
              "        console.error('Error during call to suggestCharts:', error);\n",
              "      }\n",
              "      quickchartButtonEl.classList.remove('colab-df-spinner');\n",
              "      quickchartButtonEl.classList.add('colab-df-quickchart-complete');\n",
              "    }\n",
              "    (() => {\n",
              "      let quickchartButtonEl =\n",
              "        document.querySelector('#df-2e9d23a4-958a-4a44-bafb-e430ae207653 button');\n",
              "      quickchartButtonEl.style.display =\n",
              "        google.colab.kernel.accessAllowed ? 'block' : 'none';\n",
              "    })();\n",
              "  </script>\n",
              "</div>\n",
              "    </div>\n",
              "  </div>\n"
            ]
          },
          "metadata": {},
          "execution_count": 14
        }
      ]
    },
    {
      "cell_type": "code",
      "source": [
        "df_commits_with_critical_files.info()"
      ],
      "metadata": {
        "colab": {
          "base_uri": "https://localhost:8080/"
        },
        "id": "lK1eaZ7Cmkot",
        "outputId": "551f4109-e4cf-45d0-ba29-0289153f4299"
      },
      "execution_count": 15,
      "outputs": [
        {
          "output_type": "stream",
          "name": "stdout",
          "text": [
            "<class 'pandas.core.frame.DataFrame'>\n",
            "RangeIndex: 4522 entries, 0 to 4521\n",
            "Data columns (total 9 columns):\n",
            " #   Column                     Non-Null Count  Dtype \n",
            "---  ------                     --------------  ----- \n",
            " 0   hash                       4522 non-null   object\n",
            " 1   msg                        4522 non-null   object\n",
            " 2   date                       4522 non-null   object\n",
            " 3   lines                      4522 non-null   int64 \n",
            " 4   files                      4522 non-null   int64 \n",
            " 5   critical_files             4522 non-null   object\n",
            " 6   modified_files             4522 non-null   object\n",
            " 7   diff_files                 4522 non-null   object\n",
            " 8   diff_files_modified_files  4522 non-null   object\n",
            "dtypes: int64(2), object(7)\n",
            "memory usage: 318.1+ KB\n"
          ]
        }
      ]
    },
    {
      "cell_type": "markdown",
      "source": [
        "## Filtra commits sem classes críticas"
      ],
      "metadata": {
        "id": "vgbrPcUIxevD"
      }
    },
    {
      "cell_type": "markdown",
      "source": [
        "### Lista todos os commits extraídos"
      ],
      "metadata": {
        "id": "FEo38q4xyAsx"
      }
    },
    {
      "cell_type": "code",
      "source": [
        "list_all_commits_hash = []\n",
        "for k, v in all_commits.items():\n",
        "  list_all_commits_hash.append(k)\n",
        "\n",
        "print(len(list_all_commits_hash))"
      ],
      "metadata": {
        "colab": {
          "base_uri": "https://localhost:8080/"
        },
        "id": "wbe5_xQYxjrH",
        "outputId": "26a31137-0cb0-4556-b868-6dcf79dd61b4"
      },
      "execution_count": 31,
      "outputs": [
        {
          "output_type": "stream",
          "name": "stdout",
          "text": [
            "29230\n"
          ]
        }
      ]
    },
    {
      "cell_type": "markdown",
      "source": [
        "### Lista apenas os hash commits com classes críticas"
      ],
      "metadata": {
        "id": "9C4OFMTlyXKp"
      }
    },
    {
      "cell_type": "code",
      "source": [
        "list_only_commits_critical_classes = df_commits_with_critical_files.hash.to_list()\n",
        "print(len(list_only_commits_critical_classes))"
      ],
      "metadata": {
        "colab": {
          "base_uri": "https://localhost:8080/"
        },
        "id": "pkpJ25BSycSO",
        "outputId": "fcb7bfae-b2cc-4fc0-d431-5cf3f71e391e"
      },
      "execution_count": 32,
      "outputs": [
        {
          "output_type": "stream",
          "name": "stdout",
          "text": [
            "4522\n"
          ]
        }
      ]
    },
    {
      "cell_type": "markdown",
      "source": [
        "### Lista os commits sem classes críticas"
      ],
      "metadata": {
        "id": "HbSrSBL5ypGm"
      }
    },
    {
      "cell_type": "code",
      "source": [
        "list_commits_no_critical_classes = []\n",
        "set_all_commits_hash =  set(list_all_commits_hash)\n",
        "set_only_commits_critical_classes = set(list_only_commits_critical_classes)\n",
        "\n",
        "set_commits_no_critical_classes = set_all_commits_hash.difference(set_only_commits_critical_classes)\n",
        "list_commits_no_critical_classes = list(set_commits_no_critical_classes)\n",
        "\n",
        "print(len(list_commits_no_critical_classes))"
      ],
      "metadata": {
        "colab": {
          "base_uri": "https://localhost:8080/"
        },
        "id": "7EE4keyXyseH",
        "outputId": "af01be06-639e-4177-de97-7d973a72ddd4"
      },
      "execution_count": 34,
      "outputs": [
        {
          "output_type": "stream",
          "name": "stdout",
          "text": [
            "24708\n"
          ]
        }
      ]
    },
    {
      "cell_type": "markdown",
      "source": [
        "# 2. Extrai issues de um issue tracker"
      ],
      "metadata": {
        "id": "xEXo9gvEFMOW"
      }
    },
    {
      "cell_type": "markdown",
      "source": [
        "## Configura ambiente para acessar Issue Tracker"
      ],
      "metadata": {
        "id": "m3Sj7vZBFZO7"
      }
    },
    {
      "cell_type": "code",
      "source": [
        "# Initialize the Jira connection\n",
        "print('Initialize the Jira connection')\n",
        "jira = JIRA(JIRA_SERVER, basic_auth=(username, password))\n",
        "\n",
        "# Create a JiraUtils instance\n",
        "print('Create a JiraUtils instance')\n",
        "jira_utils = JiraUtils(ISSUE_TRACKER_PROJECT, jira)\n",
        "\n",
        "date1 = (2009, 3, 2)\n",
        "date2 = (2023, 10, 4)\n",
        "distance = 120\n",
        "print('Define date intervals')\n",
        "print(f'From: {str(date1)} to: {date2}, by: {distance} days of distance.')"
      ],
      "metadata": {
        "colab": {
          "base_uri": "https://localhost:8080/"
        },
        "id": "OGz4teVIFcig",
        "outputId": "558671b4-8772-444d-957f-d6cfe4f2c6de"
      },
      "execution_count": 16,
      "outputs": [
        {
          "output_type": "stream",
          "name": "stdout",
          "text": [
            "Initialize the Jira connection\n",
            "Create a JiraUtils instance\n",
            "Define date intervals\n",
            "From: (2009, 3, 2) to: (2023, 10, 4), by: 120 days of distance.\n"
          ]
        }
      ]
    },
    {
      "cell_type": "markdown",
      "source": [
        "## Recupera os issues do período dado"
      ],
      "metadata": {
        "id": "22RGuRI7JSjE"
      }
    },
    {
      "cell_type": "code",
      "source": [
        "# Fetch issues using date intervals\n",
        "print('Fetch issues using date intervals')\n",
        "block_of_issues = jira_utils.get_list_of_block_issues_by_dates(date1, date2, distance)"
      ],
      "metadata": {
        "colab": {
          "base_uri": "https://localhost:8080/"
        },
        "id": "iiTmhFaIC5Mg",
        "outputId": "dcd471c3-6f71-463d-950a-a7ed114fe399"
      },
      "execution_count": 17,
      "outputs": [
        {
          "output_type": "stream",
          "name": "stdout",
          "text": [
            "Fetch issues using date intervals\n",
            "Aguarde...\n"
          ]
        },
        {
          "output_type": "stream",
          "name": "stderr",
          "text": [
            "Progress Message Analysis:   2%|▏         | 1/45 [00:03<02:17,  3.13s/it]"
          ]
        },
        {
          "output_type": "stream",
          "name": "stdout",
          "text": [
            "Range: project=CASSANDRA and created>=\"2009/03/02\" and created<=\"2009/06/29\", qtd issues: 263\n"
          ]
        },
        {
          "output_type": "stream",
          "name": "stderr",
          "text": [
            "Progress Message Analysis:   4%|▍         | 2/45 [00:05<02:02,  2.86s/it]"
          ]
        },
        {
          "output_type": "stream",
          "name": "stdout",
          "text": [
            "Range: project=CASSANDRA and created>=\"2009/06/30\" and created<=\"2009/10/27\", qtd issues: 251\n"
          ]
        },
        {
          "output_type": "stream",
          "name": "stderr",
          "text": [
            "Progress Message Analysis:   7%|▋         | 3/45 [00:08<02:05,  2.99s/it]"
          ]
        },
        {
          "output_type": "stream",
          "name": "stdout",
          "text": [
            "Range: project=CASSANDRA and created>=\"2009/10/28\" and created<=\"2010/02/24\", qtd issues: 310\n"
          ]
        },
        {
          "output_type": "stream",
          "name": "stderr",
          "text": [
            "Progress Message Analysis:   9%|▉         | 4/45 [00:12<02:10,  3.18s/it]"
          ]
        },
        {
          "output_type": "stream",
          "name": "stdout",
          "text": [
            "Range: project=CASSANDRA and created>=\"2010/02/25\" and created<=\"2010/06/24\", qtd issues: 388\n"
          ]
        },
        {
          "output_type": "stream",
          "name": "stderr",
          "text": [
            "Progress Message Analysis:  11%|█         | 5/45 [00:16<02:24,  3.61s/it]"
          ]
        },
        {
          "output_type": "stream",
          "name": "stdout",
          "text": [
            "Range: project=CASSANDRA and created>=\"2010/06/25\" and created<=\"2010/10/22\", qtd issues: 419\n"
          ]
        },
        {
          "output_type": "stream",
          "name": "stderr",
          "text": [
            "Progress Message Analysis:  13%|█▎        | 6/45 [00:21<02:32,  3.90s/it]"
          ]
        },
        {
          "output_type": "stream",
          "name": "stdout",
          "text": [
            "Range: project=CASSANDRA and created>=\"2010/10/23\" and created<=\"2011/02/19\", qtd issues: 545\n"
          ]
        },
        {
          "output_type": "stream",
          "name": "stderr",
          "text": [
            "Progress Message Analysis:  16%|█▌        | 7/45 [00:26<02:46,  4.39s/it]"
          ]
        },
        {
          "output_type": "stream",
          "name": "stdout",
          "text": [
            "Range: project=CASSANDRA and created>=\"2011/02/20\" and created<=\"2011/06/19\", qtd issues: 593\n"
          ]
        },
        {
          "output_type": "stream",
          "name": "stderr",
          "text": [
            "Progress Message Analysis:  18%|█▊        | 8/45 [00:32<02:53,  4.70s/it]"
          ]
        },
        {
          "output_type": "stream",
          "name": "stdout",
          "text": [
            "Range: project=CASSANDRA and created>=\"2011/06/20\" and created<=\"2011/10/17\", qtd issues: 573\n"
          ]
        },
        {
          "output_type": "stream",
          "name": "stderr",
          "text": [
            "Progress Message Analysis:  20%|██        | 9/45 [00:37<02:53,  4.82s/it]"
          ]
        },
        {
          "output_type": "stream",
          "name": "stdout",
          "text": [
            "Range: project=CASSANDRA and created>=\"2011/10/18\" and created<=\"2012/02/14\", qtd issues: 532\n"
          ]
        },
        {
          "output_type": "stream",
          "name": "stderr",
          "text": [
            "Progress Message Analysis:  22%|██▏       | 10/45 [00:40<02:34,  4.42s/it]"
          ]
        },
        {
          "output_type": "stream",
          "name": "stdout",
          "text": [
            "Range: project=CASSANDRA and created>=\"2012/02/15\" and created<=\"2012/06/13\", qtd issues: 423\n"
          ]
        },
        {
          "output_type": "stream",
          "name": "stderr",
          "text": [
            "Progress Message Analysis:  24%|██▍       | 11/45 [00:45<02:30,  4.41s/it]"
          ]
        },
        {
          "output_type": "stream",
          "name": "stdout",
          "text": [
            "Range: project=CASSANDRA and created>=\"2012/06/14\" and created<=\"2012/10/11\", qtd issues: 441\n"
          ]
        },
        {
          "output_type": "stream",
          "name": "stderr",
          "text": [
            "Progress Message Analysis:  27%|██▋       | 12/45 [00:48<02:17,  4.18s/it]"
          ]
        },
        {
          "output_type": "stream",
          "name": "stdout",
          "text": [
            "Range: project=CASSANDRA and created>=\"2012/10/12\" and created<=\"2013/02/08\", qtd issues: 433\n"
          ]
        },
        {
          "output_type": "stream",
          "name": "stderr",
          "text": [
            "Progress Message Analysis:  29%|██▉       | 13/45 [00:53<02:16,  4.27s/it]"
          ]
        },
        {
          "output_type": "stream",
          "name": "stdout",
          "text": [
            "Range: project=CASSANDRA and created>=\"2013/02/09\" and created<=\"2013/06/08\", qtd issues: 386\n"
          ]
        },
        {
          "output_type": "stream",
          "name": "stderr",
          "text": [
            "Progress Message Analysis:  31%|███       | 14/45 [00:57<02:16,  4.41s/it]"
          ]
        },
        {
          "output_type": "stream",
          "name": "stdout",
          "text": [
            "Range: project=CASSANDRA and created>=\"2013/06/09\" and created<=\"2013/10/06\", qtd issues: 522\n"
          ]
        },
        {
          "output_type": "stream",
          "name": "stderr",
          "text": [
            "Progress Message Analysis:  33%|███▎      | 15/45 [01:02<02:09,  4.32s/it]"
          ]
        },
        {
          "output_type": "stream",
          "name": "stdout",
          "text": [
            "Range: project=CASSANDRA and created>=\"2013/10/07\" and created<=\"2014/02/03\", qtd issues: 492\n"
          ]
        },
        {
          "output_type": "stream",
          "name": "stderr",
          "text": [
            "Progress Message Analysis:  36%|███▌      | 16/45 [01:09<02:31,  5.22s/it]"
          ]
        },
        {
          "output_type": "stream",
          "name": "stdout",
          "text": [
            "Range: project=CASSANDRA and created>=\"2014/02/04\" and created<=\"2014/06/03\", qtd issues: 690\n"
          ]
        },
        {
          "output_type": "stream",
          "name": "stderr",
          "text": [
            "Progress Message Analysis:  38%|███▊      | 17/45 [01:15<02:31,  5.42s/it]"
          ]
        },
        {
          "output_type": "stream",
          "name": "stdout",
          "text": [
            "Range: project=CASSANDRA and created>=\"2014/06/04\" and created<=\"2014/10/01\", qtd issues: 680\n"
          ]
        },
        {
          "output_type": "stream",
          "name": "stderr",
          "text": [
            "Progress Message Analysis:  40%|████      | 18/45 [01:20<02:27,  5.47s/it]"
          ]
        },
        {
          "output_type": "stream",
          "name": "stdout",
          "text": [
            "Range: project=CASSANDRA and created>=\"2014/10/02\" and created<=\"2015/01/29\", qtd issues: 655\n"
          ]
        },
        {
          "output_type": "stream",
          "name": "stderr",
          "text": [
            "Progress Message Analysis:  42%|████▏     | 19/45 [01:29<02:46,  6.40s/it]"
          ]
        },
        {
          "output_type": "stream",
          "name": "stdout",
          "text": [
            "Range: project=CASSANDRA and created>=\"2015/01/30\" and created<=\"2015/05/29\", qtd issues: 802\n"
          ]
        },
        {
          "output_type": "stream",
          "name": "stderr",
          "text": [
            "Progress Message Analysis:  44%|████▍     | 20/45 [01:37<02:50,  6.82s/it]"
          ]
        },
        {
          "output_type": "stream",
          "name": "stdout",
          "text": [
            "Range: project=CASSANDRA and created>=\"2015/05/30\" and created<=\"2015/09/26\", qtd issues: 875\n"
          ]
        },
        {
          "output_type": "stream",
          "name": "stderr",
          "text": [
            "Progress Message Analysis:  47%|████▋     | 21/45 [01:42<02:33,  6.38s/it]"
          ]
        },
        {
          "output_type": "stream",
          "name": "stdout",
          "text": [
            "Range: project=CASSANDRA and created>=\"2015/09/27\" and created<=\"2016/01/24\", qtd issues: 659\n"
          ]
        },
        {
          "output_type": "stream",
          "name": "stderr",
          "text": [
            "Progress Message Analysis:  49%|████▉     | 22/45 [01:48<02:23,  6.24s/it]"
          ]
        },
        {
          "output_type": "stream",
          "name": "stdout",
          "text": [
            "Range: project=CASSANDRA and created>=\"2016/01/25\" and created<=\"2016/05/23\", qtd issues: 769\n"
          ]
        },
        {
          "output_type": "stream",
          "name": "stderr",
          "text": [
            "Progress Message Analysis:  51%|█████     | 23/45 [01:56<02:28,  6.75s/it]"
          ]
        },
        {
          "output_type": "stream",
          "name": "stdout",
          "text": [
            "Range: project=CASSANDRA and created>=\"2016/05/24\" and created<=\"2016/09/20\", qtd issues: 787\n"
          ]
        },
        {
          "output_type": "stream",
          "name": "stderr",
          "text": [
            "Progress Message Analysis:  53%|█████▎    | 24/45 [02:00<02:03,  5.87s/it]"
          ]
        },
        {
          "output_type": "stream",
          "name": "stdout",
          "text": [
            "Range: project=CASSANDRA and created>=\"2016/09/21\" and created<=\"2017/01/18\", qtd issues: 453\n"
          ]
        },
        {
          "output_type": "stream",
          "name": "stderr",
          "text": [
            "Progress Message Analysis:  56%|█████▌    | 25/45 [02:04<01:46,  5.30s/it]"
          ]
        },
        {
          "output_type": "stream",
          "name": "stdout",
          "text": [
            "Range: project=CASSANDRA and created>=\"2017/01/19\" and created<=\"2017/05/18\", qtd issues: 403\n"
          ]
        },
        {
          "output_type": "stream",
          "name": "stderr",
          "text": [
            "Progress Message Analysis:  58%|█████▊    | 26/45 [02:07<01:27,  4.63s/it]"
          ]
        },
        {
          "output_type": "stream",
          "name": "stdout",
          "text": [
            "Range: project=CASSANDRA and created>=\"2017/05/19\" and created<=\"2017/09/15\", qtd issues: 338\n"
          ]
        },
        {
          "output_type": "stream",
          "name": "stderr",
          "text": [
            "Progress Message Analysis:  60%|██████    | 27/45 [02:09<01:12,  4.03s/it]"
          ]
        },
        {
          "output_type": "stream",
          "name": "stdout",
          "text": [
            "Range: project=CASSANDRA and created>=\"2017/09/16\" and created<=\"2018/01/13\", qtd issues: 282\n"
          ]
        },
        {
          "output_type": "stream",
          "name": "stderr",
          "text": [
            "Progress Message Analysis:  62%|██████▏   | 28/45 [02:12<01:00,  3.57s/it]"
          ]
        },
        {
          "output_type": "stream",
          "name": "stdout",
          "text": [
            "Range: project=CASSANDRA and created>=\"2018/01/14\" and created<=\"2018/05/13\", qtd issues: 277\n"
          ]
        },
        {
          "output_type": "stream",
          "name": "stderr",
          "text": [
            "Progress Message Analysis:  64%|██████▍   | 29/45 [02:14<00:51,  3.22s/it]"
          ]
        },
        {
          "output_type": "stream",
          "name": "stdout",
          "text": [
            "Range: project=CASSANDRA and created>=\"2018/05/14\" and created<=\"2018/09/10\", qtd issues: 265\n"
          ]
        },
        {
          "output_type": "stream",
          "name": "stderr",
          "text": [
            "Progress Message Analysis:  67%|██████▋   | 30/45 [02:17<00:45,  3.04s/it]"
          ]
        },
        {
          "output_type": "stream",
          "name": "stdout",
          "text": [
            "Range: project=CASSANDRA and created>=\"2018/09/11\" and created<=\"2019/01/08\", qtd issues: 250\n"
          ]
        },
        {
          "output_type": "stream",
          "name": "stderr",
          "text": [
            "Progress Message Analysis:  69%|██████▉   | 31/45 [02:18<00:36,  2.58s/it]"
          ]
        },
        {
          "output_type": "stream",
          "name": "stdout",
          "text": [
            "Range: project=CASSANDRA and created>=\"2019/01/09\" and created<=\"2019/05/08\", qtd issues: 143\n"
          ]
        },
        {
          "output_type": "stream",
          "name": "stderr",
          "text": [
            "Progress Message Analysis:  71%|███████   | 32/45 [02:20<00:30,  2.36s/it]"
          ]
        },
        {
          "output_type": "stream",
          "name": "stdout",
          "text": [
            "Range: project=CASSANDRA and created>=\"2019/05/09\" and created<=\"2019/09/05\", qtd issues: 177\n"
          ]
        },
        {
          "output_type": "stream",
          "name": "stderr",
          "text": [
            "Progress Message Analysis:  73%|███████▎  | 33/45 [02:22<00:25,  2.13s/it]"
          ]
        },
        {
          "output_type": "stream",
          "name": "stdout",
          "text": [
            "Range: project=CASSANDRA and created>=\"2019/09/06\" and created<=\"2020/01/03\", qtd issues: 164\n"
          ]
        },
        {
          "output_type": "stream",
          "name": "stderr",
          "text": [
            "Progress Message Analysis:  76%|███████▌  | 34/45 [02:25<00:26,  2.38s/it]"
          ]
        },
        {
          "output_type": "stream",
          "name": "stdout",
          "text": [
            "Range: project=CASSANDRA and created>=\"2020/01/04\" and created<=\"2020/05/02\", qtd issues: 306\n"
          ]
        },
        {
          "output_type": "stream",
          "name": "stderr",
          "text": [
            "Progress Message Analysis:  78%|███████▊  | 35/45 [02:28<00:25,  2.52s/it]"
          ]
        },
        {
          "output_type": "stream",
          "name": "stdout",
          "text": [
            "Range: project=CASSANDRA and created>=\"2020/05/03\" and created<=\"2020/08/30\", qtd issues: 300\n"
          ]
        },
        {
          "output_type": "stream",
          "name": "stderr",
          "text": [
            "Progress Message Analysis:  80%|████████  | 36/45 [02:33<00:31,  3.48s/it]"
          ]
        },
        {
          "output_type": "stream",
          "name": "stdout",
          "text": [
            "Range: project=CASSANDRA and created>=\"2020/08/31\" and created<=\"2020/12/28\", qtd issues: 284\n"
          ]
        },
        {
          "output_type": "stream",
          "name": "stderr",
          "text": [
            "Progress Message Analysis:  82%|████████▏ | 37/45 [02:36<00:25,  3.23s/it]"
          ]
        },
        {
          "output_type": "stream",
          "name": "stdout",
          "text": [
            "Range: project=CASSANDRA and created>=\"2020/12/29\" and created<=\"2021/04/27\", qtd issues: 262\n"
          ]
        },
        {
          "output_type": "stream",
          "name": "stderr",
          "text": [
            "Progress Message Analysis:  84%|████████▍ | 38/45 [02:38<00:20,  2.98s/it]"
          ]
        },
        {
          "output_type": "stream",
          "name": "stdout",
          "text": [
            "Range: project=CASSANDRA and created>=\"2021/04/28\" and created<=\"2021/08/25\", qtd issues: 244\n"
          ]
        },
        {
          "output_type": "stream",
          "name": "stderr",
          "text": [
            "Progress Message Analysis:  87%|████████▋ | 39/45 [02:42<00:18,  3.04s/it]"
          ]
        },
        {
          "output_type": "stream",
          "name": "stdout",
          "text": [
            "Range: project=CASSANDRA and created>=\"2021/08/26\" and created<=\"2021/12/23\", qtd issues: 342\n"
          ]
        },
        {
          "output_type": "stream",
          "name": "stderr",
          "text": [
            "Progress Message Analysis:  89%|████████▉ | 40/45 [02:45<00:15,  3.19s/it]"
          ]
        },
        {
          "output_type": "stream",
          "name": "stdout",
          "text": [
            "Range: project=CASSANDRA and created>=\"2021/12/24\" and created<=\"2022/04/22\", qtd issues: 340\n"
          ]
        },
        {
          "output_type": "stream",
          "name": "stderr",
          "text": [
            "Progress Message Analysis:  91%|█████████ | 41/45 [02:48<00:12,  3.01s/it]"
          ]
        },
        {
          "output_type": "stream",
          "name": "stdout",
          "text": [
            "Range: project=CASSANDRA and created>=\"2022/04/23\" and created<=\"2022/08/20\", qtd issues: 267\n"
          ]
        },
        {
          "output_type": "stream",
          "name": "stderr",
          "text": [
            "Progress Message Analysis:  93%|█████████▎| 42/45 [02:51<00:08,  2.95s/it]"
          ]
        },
        {
          "output_type": "stream",
          "name": "stdout",
          "text": [
            "Range: project=CASSANDRA and created>=\"2022/08/21\" and created<=\"2022/12/18\", qtd issues: 273\n"
          ]
        },
        {
          "output_type": "stream",
          "name": "stderr",
          "text": [
            "Progress Message Analysis:  96%|█████████▌| 43/45 [02:54<00:05,  2.98s/it]"
          ]
        },
        {
          "output_type": "stream",
          "name": "stdout",
          "text": [
            "Range: project=CASSANDRA and created>=\"2022/12/19\" and created<=\"2023/04/17\", qtd issues: 328\n"
          ]
        },
        {
          "output_type": "stream",
          "name": "stderr",
          "text": [
            "Progress Message Analysis:  98%|█████████▊| 44/45 [02:57<00:03,  3.01s/it]"
          ]
        },
        {
          "output_type": "stream",
          "name": "stdout",
          "text": [
            "Range: project=CASSANDRA and created>=\"2023/04/18\" and created<=\"2023/08/15\", qtd issues: 298\n"
          ]
        },
        {
          "output_type": "stream",
          "name": "stderr",
          "text": [
            "Progress Message Analysis: 100%|██████████| 45/45 [02:59<00:00,  3.99s/it]"
          ]
        },
        {
          "output_type": "stream",
          "name": "stdout",
          "text": [
            "Range: project=CASSANDRA and created>=\"2023/08/16\" and created<=\"2023/12/13\", qtd issues: 286\n",
            "2023-11-22 11:23:15.455860\n",
            "Tempo da consulta: 0:02:59.679237\n"
          ]
        },
        {
          "output_type": "stream",
          "name": "stderr",
          "text": [
            "\n"
          ]
        }
      ]
    },
    {
      "cell_type": "code",
      "source": [
        "# Concatenate the block of issues into a single list\n",
        "print('Concatenate the block of issues into a single list')\n",
        "all_issues = jira_utils.concatenate_block_of_issues(block_of_issues)"
      ],
      "metadata": {
        "colab": {
          "base_uri": "https://localhost:8080/"
        },
        "id": "3tOVa-DkJBci",
        "outputId": "bfc3bae0-30af-4e12-c828-8088ebd78dce"
      },
      "execution_count": 18,
      "outputs": [
        {
          "output_type": "stream",
          "name": "stdout",
          "text": [
            "Concatenate the block of issues into a single list\n",
            "Total de issues recuperados: 18770\n"
          ]
        }
      ]
    },
    {
      "cell_type": "code",
      "source": [
        "all_real_issues = analyze_jira_all_issues(ISSUE_TRACKER_PROJECT, all_issues)"
      ],
      "metadata": {
        "colab": {
          "base_uri": "https://localhost:8080/"
        },
        "id": "G7YEk2oZI1lL",
        "outputId": "bde2df61-0215-4051-cf44-de3b389e656f"
      },
      "execution_count": 19,
      "outputs": [
        {
          "output_type": "stream",
          "name": "stderr",
          "text": [
            "Progress jira all issues analysis: 100%|██████████| 18770/18770 [00:00<00:00, 58236.30it/s]\n"
          ]
        }
      ]
    },
    {
      "cell_type": "markdown",
      "source": [
        "### Converte os issues recuperados para um dataframe"
      ],
      "metadata": {
        "id": "zNu-uRpoKtzy"
      }
    },
    {
      "cell_type": "code",
      "source": [
        "df_all_reall_issues_in_commits_detailed = convert_issues_to_dataframe(all_real_issues)\n",
        "df_all_reall_issues_in_commits_detailed"
      ],
      "metadata": {
        "colab": {
          "base_uri": "https://localhost:8080/",
          "height": 0
        },
        "id": "pg9TMgmwJgNY",
        "outputId": "a25591a5-1488-4d99-f18a-cc74960f3b4c"
      },
      "execution_count": 20,
      "outputs": [
        {
          "output_type": "execute_result",
          "data": {
            "text/plain": [
              "             issue_key   issue_type         status priority  \\\n",
              "0        CASSANDRA-263          Bug       Resolved   Normal   \n",
              "1        CASSANDRA-262          Bug       Resolved   Normal   \n",
              "2        CASSANDRA-261          Bug       Resolved   Normal   \n",
              "3        CASSANDRA-260          Bug       Resolved   Normal   \n",
              "4        CASSANDRA-259  New Feature       Resolved   Normal   \n",
              "...                ...          ...            ...      ...   \n",
              "18765  CASSANDRA-18769          Bug       Resolved   Normal   \n",
              "18766  CASSANDRA-18768  New Feature  Triage Needed   Normal   \n",
              "18767  CASSANDRA-18767          Bug       Resolved   Normal   \n",
              "18768  CASSANDRA-18766          Bug           Open   Normal   \n",
              "18769  CASSANDRA-18765          Bug       Resolved   Normal   \n",
              "\n",
              "                                                 summary  \\\n",
              "0       get_slice needs to support desc from last column   \n",
              "1         get_slice needs to allow returning all columns   \n",
              "2                         get_slice needs offset + limit   \n",
              "3      Unable to read all columns in a column family ...   \n",
              "4                            LRU cache for key positions   \n",
              "...                                                  ...   \n",
              "18765  Fix flaky test: org.apache.cassandra.cql3.Memt...   \n",
              "18766  Harry changes required for CEP-21 testing (NTS...   \n",
              "18767         tablestats should show speculative retries   \n",
              "18768                 high speculative retries on v4.1.3   \n",
              "18769       Add CASSANDRA-14227 to 5.0 new features page   \n",
              "\n",
              "                                             description  \\\n",
              "0      At the moment there's no way to ask for a slic...   \n",
              "1      Right now get_slice requires you to enter a 'l...   \n",
              "2      Right now get_slice does not allow you to prov...   \n",
              "3      Since r788516 the typical 'get all columns for...   \n",
              "4      add cache like the old touch cache, but workin...   \n",
              "...                                                  ...   \n",
              "18765  {noformat}\\r\\njava.lang.reflect.InaccessibleOb...   \n",
              "18766                                                      \n",
              "18767  NodeProbe makes [provisions|https://github.com...   \n",
              "18768  There are up to 10+ times higher speculative r...   \n",
              "18769  The [page|https://cassandra.apache.org/doc/tru...   \n",
              "\n",
              "                                                comments created_date  \\\n",
              "0      Is the problem that you don't know what the la...   2009-06-26   \n",
              "1      How about if we add a configuration parameter ...   2009-06-26   \n",
              "2      Me, explaining new get_slice: so now you would...   2009-06-26   \n",
              "3      fixed in patch for CASSANDRA-277 (to be applie...   2009-06-26   \n",
              "4      LinkedHashMap is a nonstarter though.  This wa...   2009-06-26   \n",
              "...                                                  ...          ...   \n",
              "18765  I think this is a duplicate of CASSANDRA-18447...   2023-08-16   \n",
              "18766                                                      2023-08-16   \n",
              "18767  ||Branch||CI||\\r\\n|[3.0|https://github.com/dri...   2023-08-16   \n",
              "18768  These are changes between 4.1.2 and 4.1.3 \\r\\n...   2023-08-16   \n",
              "18769  +1\\nCreated CASSANDRA-18794 for adding the res...   2023-08-16   \n",
              "\n",
              "      resolved_date  \n",
              "0        2009-07-31  \n",
              "1        2009-07-04  \n",
              "2        2009-07-06  \n",
              "3        2009-07-06  \n",
              "4        2009-07-06  \n",
              "...             ...  \n",
              "18765    2023-08-16  \n",
              "18766           NaT  \n",
              "18767    2023-08-18  \n",
              "18768           NaT  \n",
              "18769    2023-08-17  \n",
              "\n",
              "[18770 rows x 9 columns]"
            ],
            "text/html": [
              "\n",
              "  <div id=\"df-dc4e7b55-2c83-4e2f-a798-249509f99a33\" class=\"colab-df-container\">\n",
              "    <div>\n",
              "<style scoped>\n",
              "    .dataframe tbody tr th:only-of-type {\n",
              "        vertical-align: middle;\n",
              "    }\n",
              "\n",
              "    .dataframe tbody tr th {\n",
              "        vertical-align: top;\n",
              "    }\n",
              "\n",
              "    .dataframe thead th {\n",
              "        text-align: right;\n",
              "    }\n",
              "</style>\n",
              "<table border=\"1\" class=\"dataframe\">\n",
              "  <thead>\n",
              "    <tr style=\"text-align: right;\">\n",
              "      <th></th>\n",
              "      <th>issue_key</th>\n",
              "      <th>issue_type</th>\n",
              "      <th>status</th>\n",
              "      <th>priority</th>\n",
              "      <th>summary</th>\n",
              "      <th>description</th>\n",
              "      <th>comments</th>\n",
              "      <th>created_date</th>\n",
              "      <th>resolved_date</th>\n",
              "    </tr>\n",
              "  </thead>\n",
              "  <tbody>\n",
              "    <tr>\n",
              "      <th>0</th>\n",
              "      <td>CASSANDRA-263</td>\n",
              "      <td>Bug</td>\n",
              "      <td>Resolved</td>\n",
              "      <td>Normal</td>\n",
              "      <td>get_slice needs to support desc from last column</td>\n",
              "      <td>At the moment there's no way to ask for a slic...</td>\n",
              "      <td>Is the problem that you don't know what the la...</td>\n",
              "      <td>2009-06-26</td>\n",
              "      <td>2009-07-31</td>\n",
              "    </tr>\n",
              "    <tr>\n",
              "      <th>1</th>\n",
              "      <td>CASSANDRA-262</td>\n",
              "      <td>Bug</td>\n",
              "      <td>Resolved</td>\n",
              "      <td>Normal</td>\n",
              "      <td>get_slice needs to allow returning all columns</td>\n",
              "      <td>Right now get_slice requires you to enter a 'l...</td>\n",
              "      <td>How about if we add a configuration parameter ...</td>\n",
              "      <td>2009-06-26</td>\n",
              "      <td>2009-07-04</td>\n",
              "    </tr>\n",
              "    <tr>\n",
              "      <th>2</th>\n",
              "      <td>CASSANDRA-261</td>\n",
              "      <td>Bug</td>\n",
              "      <td>Resolved</td>\n",
              "      <td>Normal</td>\n",
              "      <td>get_slice needs offset + limit</td>\n",
              "      <td>Right now get_slice does not allow you to prov...</td>\n",
              "      <td>Me, explaining new get_slice: so now you would...</td>\n",
              "      <td>2009-06-26</td>\n",
              "      <td>2009-07-06</td>\n",
              "    </tr>\n",
              "    <tr>\n",
              "      <th>3</th>\n",
              "      <td>CASSANDRA-260</td>\n",
              "      <td>Bug</td>\n",
              "      <td>Resolved</td>\n",
              "      <td>Normal</td>\n",
              "      <td>Unable to read all columns in a column family ...</td>\n",
              "      <td>Since r788516 the typical 'get all columns for...</td>\n",
              "      <td>fixed in patch for CASSANDRA-277 (to be applie...</td>\n",
              "      <td>2009-06-26</td>\n",
              "      <td>2009-07-06</td>\n",
              "    </tr>\n",
              "    <tr>\n",
              "      <th>4</th>\n",
              "      <td>CASSANDRA-259</td>\n",
              "      <td>New Feature</td>\n",
              "      <td>Resolved</td>\n",
              "      <td>Normal</td>\n",
              "      <td>LRU cache for key positions</td>\n",
              "      <td>add cache like the old touch cache, but workin...</td>\n",
              "      <td>LinkedHashMap is a nonstarter though.  This wa...</td>\n",
              "      <td>2009-06-26</td>\n",
              "      <td>2009-07-06</td>\n",
              "    </tr>\n",
              "    <tr>\n",
              "      <th>...</th>\n",
              "      <td>...</td>\n",
              "      <td>...</td>\n",
              "      <td>...</td>\n",
              "      <td>...</td>\n",
              "      <td>...</td>\n",
              "      <td>...</td>\n",
              "      <td>...</td>\n",
              "      <td>...</td>\n",
              "      <td>...</td>\n",
              "    </tr>\n",
              "    <tr>\n",
              "      <th>18765</th>\n",
              "      <td>CASSANDRA-18769</td>\n",
              "      <td>Bug</td>\n",
              "      <td>Resolved</td>\n",
              "      <td>Normal</td>\n",
              "      <td>Fix flaky test: org.apache.cassandra.cql3.Memt...</td>\n",
              "      <td>{noformat}\\r\\njava.lang.reflect.InaccessibleOb...</td>\n",
              "      <td>I think this is a duplicate of CASSANDRA-18447...</td>\n",
              "      <td>2023-08-16</td>\n",
              "      <td>2023-08-16</td>\n",
              "    </tr>\n",
              "    <tr>\n",
              "      <th>18766</th>\n",
              "      <td>CASSANDRA-18768</td>\n",
              "      <td>New Feature</td>\n",
              "      <td>Triage Needed</td>\n",
              "      <td>Normal</td>\n",
              "      <td>Harry changes required for CEP-21 testing (NTS...</td>\n",
              "      <td></td>\n",
              "      <td></td>\n",
              "      <td>2023-08-16</td>\n",
              "      <td>NaT</td>\n",
              "    </tr>\n",
              "    <tr>\n",
              "      <th>18767</th>\n",
              "      <td>CASSANDRA-18767</td>\n",
              "      <td>Bug</td>\n",
              "      <td>Resolved</td>\n",
              "      <td>Normal</td>\n",
              "      <td>tablestats should show speculative retries</td>\n",
              "      <td>NodeProbe makes [provisions|https://github.com...</td>\n",
              "      <td>||Branch||CI||\\r\\n|[3.0|https://github.com/dri...</td>\n",
              "      <td>2023-08-16</td>\n",
              "      <td>2023-08-18</td>\n",
              "    </tr>\n",
              "    <tr>\n",
              "      <th>18768</th>\n",
              "      <td>CASSANDRA-18766</td>\n",
              "      <td>Bug</td>\n",
              "      <td>Open</td>\n",
              "      <td>Normal</td>\n",
              "      <td>high speculative retries on v4.1.3</td>\n",
              "      <td>There are up to 10+ times higher speculative r...</td>\n",
              "      <td>These are changes between 4.1.2 and 4.1.3 \\r\\n...</td>\n",
              "      <td>2023-08-16</td>\n",
              "      <td>NaT</td>\n",
              "    </tr>\n",
              "    <tr>\n",
              "      <th>18769</th>\n",
              "      <td>CASSANDRA-18765</td>\n",
              "      <td>Bug</td>\n",
              "      <td>Resolved</td>\n",
              "      <td>Normal</td>\n",
              "      <td>Add CASSANDRA-14227 to 5.0 new features page</td>\n",
              "      <td>The [page|https://cassandra.apache.org/doc/tru...</td>\n",
              "      <td>+1\\nCreated CASSANDRA-18794 for adding the res...</td>\n",
              "      <td>2023-08-16</td>\n",
              "      <td>2023-08-17</td>\n",
              "    </tr>\n",
              "  </tbody>\n",
              "</table>\n",
              "<p>18770 rows × 9 columns</p>\n",
              "</div>\n",
              "    <div class=\"colab-df-buttons\">\n",
              "\n",
              "  <div class=\"colab-df-container\">\n",
              "    <button class=\"colab-df-convert\" onclick=\"convertToInteractive('df-dc4e7b55-2c83-4e2f-a798-249509f99a33')\"\n",
              "            title=\"Convert this dataframe to an interactive table.\"\n",
              "            style=\"display:none;\">\n",
              "\n",
              "  <svg xmlns=\"http://www.w3.org/2000/svg\" height=\"24px\" viewBox=\"0 -960 960 960\">\n",
              "    <path d=\"M120-120v-720h720v720H120Zm60-500h600v-160H180v160Zm220 220h160v-160H400v160Zm0 220h160v-160H400v160ZM180-400h160v-160H180v160Zm440 0h160v-160H620v160ZM180-180h160v-160H180v160Zm440 0h160v-160H620v160Z\"/>\n",
              "  </svg>\n",
              "    </button>\n",
              "\n",
              "  <style>\n",
              "    .colab-df-container {\n",
              "      display:flex;\n",
              "      gap: 12px;\n",
              "    }\n",
              "\n",
              "    .colab-df-convert {\n",
              "      background-color: #E8F0FE;\n",
              "      border: none;\n",
              "      border-radius: 50%;\n",
              "      cursor: pointer;\n",
              "      display: none;\n",
              "      fill: #1967D2;\n",
              "      height: 32px;\n",
              "      padding: 0 0 0 0;\n",
              "      width: 32px;\n",
              "    }\n",
              "\n",
              "    .colab-df-convert:hover {\n",
              "      background-color: #E2EBFA;\n",
              "      box-shadow: 0px 1px 2px rgba(60, 64, 67, 0.3), 0px 1px 3px 1px rgba(60, 64, 67, 0.15);\n",
              "      fill: #174EA6;\n",
              "    }\n",
              "\n",
              "    .colab-df-buttons div {\n",
              "      margin-bottom: 4px;\n",
              "    }\n",
              "\n",
              "    [theme=dark] .colab-df-convert {\n",
              "      background-color: #3B4455;\n",
              "      fill: #D2E3FC;\n",
              "    }\n",
              "\n",
              "    [theme=dark] .colab-df-convert:hover {\n",
              "      background-color: #434B5C;\n",
              "      box-shadow: 0px 1px 3px 1px rgba(0, 0, 0, 0.15);\n",
              "      filter: drop-shadow(0px 1px 2px rgba(0, 0, 0, 0.3));\n",
              "      fill: #FFFFFF;\n",
              "    }\n",
              "  </style>\n",
              "\n",
              "    <script>\n",
              "      const buttonEl =\n",
              "        document.querySelector('#df-dc4e7b55-2c83-4e2f-a798-249509f99a33 button.colab-df-convert');\n",
              "      buttonEl.style.display =\n",
              "        google.colab.kernel.accessAllowed ? 'block' : 'none';\n",
              "\n",
              "      async function convertToInteractive(key) {\n",
              "        const element = document.querySelector('#df-dc4e7b55-2c83-4e2f-a798-249509f99a33');\n",
              "        const dataTable =\n",
              "          await google.colab.kernel.invokeFunction('convertToInteractive',\n",
              "                                                    [key], {});\n",
              "        if (!dataTable) return;\n",
              "\n",
              "        const docLinkHtml = 'Like what you see? Visit the ' +\n",
              "          '<a target=\"_blank\" href=https://colab.research.google.com/notebooks/data_table.ipynb>data table notebook</a>'\n",
              "          + ' to learn more about interactive tables.';\n",
              "        element.innerHTML = '';\n",
              "        dataTable['output_type'] = 'display_data';\n",
              "        await google.colab.output.renderOutput(dataTable, element);\n",
              "        const docLink = document.createElement('div');\n",
              "        docLink.innerHTML = docLinkHtml;\n",
              "        element.appendChild(docLink);\n",
              "      }\n",
              "    </script>\n",
              "  </div>\n",
              "\n",
              "\n",
              "<div id=\"df-4426c1bc-34c2-4177-afde-7e6d36b39482\">\n",
              "  <button class=\"colab-df-quickchart\" onclick=\"quickchart('df-4426c1bc-34c2-4177-afde-7e6d36b39482')\"\n",
              "            title=\"Suggest charts\"\n",
              "            style=\"display:none;\">\n",
              "\n",
              "<svg xmlns=\"http://www.w3.org/2000/svg\" height=\"24px\"viewBox=\"0 0 24 24\"\n",
              "     width=\"24px\">\n",
              "    <g>\n",
              "        <path d=\"M19 3H5c-1.1 0-2 .9-2 2v14c0 1.1.9 2 2 2h14c1.1 0 2-.9 2-2V5c0-1.1-.9-2-2-2zM9 17H7v-7h2v7zm4 0h-2V7h2v10zm4 0h-2v-4h2v4z\"/>\n",
              "    </g>\n",
              "</svg>\n",
              "  </button>\n",
              "\n",
              "<style>\n",
              "  .colab-df-quickchart {\n",
              "      --bg-color: #E8F0FE;\n",
              "      --fill-color: #1967D2;\n",
              "      --hover-bg-color: #E2EBFA;\n",
              "      --hover-fill-color: #174EA6;\n",
              "      --disabled-fill-color: #AAA;\n",
              "      --disabled-bg-color: #DDD;\n",
              "  }\n",
              "\n",
              "  [theme=dark] .colab-df-quickchart {\n",
              "      --bg-color: #3B4455;\n",
              "      --fill-color: #D2E3FC;\n",
              "      --hover-bg-color: #434B5C;\n",
              "      --hover-fill-color: #FFFFFF;\n",
              "      --disabled-bg-color: #3B4455;\n",
              "      --disabled-fill-color: #666;\n",
              "  }\n",
              "\n",
              "  .colab-df-quickchart {\n",
              "    background-color: var(--bg-color);\n",
              "    border: none;\n",
              "    border-radius: 50%;\n",
              "    cursor: pointer;\n",
              "    display: none;\n",
              "    fill: var(--fill-color);\n",
              "    height: 32px;\n",
              "    padding: 0;\n",
              "    width: 32px;\n",
              "  }\n",
              "\n",
              "  .colab-df-quickchart:hover {\n",
              "    background-color: var(--hover-bg-color);\n",
              "    box-shadow: 0 1px 2px rgba(60, 64, 67, 0.3), 0 1px 3px 1px rgba(60, 64, 67, 0.15);\n",
              "    fill: var(--button-hover-fill-color);\n",
              "  }\n",
              "\n",
              "  .colab-df-quickchart-complete:disabled,\n",
              "  .colab-df-quickchart-complete:disabled:hover {\n",
              "    background-color: var(--disabled-bg-color);\n",
              "    fill: var(--disabled-fill-color);\n",
              "    box-shadow: none;\n",
              "  }\n",
              "\n",
              "  .colab-df-spinner {\n",
              "    border: 2px solid var(--fill-color);\n",
              "    border-color: transparent;\n",
              "    border-bottom-color: var(--fill-color);\n",
              "    animation:\n",
              "      spin 1s steps(1) infinite;\n",
              "  }\n",
              "\n",
              "  @keyframes spin {\n",
              "    0% {\n",
              "      border-color: transparent;\n",
              "      border-bottom-color: var(--fill-color);\n",
              "      border-left-color: var(--fill-color);\n",
              "    }\n",
              "    20% {\n",
              "      border-color: transparent;\n",
              "      border-left-color: var(--fill-color);\n",
              "      border-top-color: var(--fill-color);\n",
              "    }\n",
              "    30% {\n",
              "      border-color: transparent;\n",
              "      border-left-color: var(--fill-color);\n",
              "      border-top-color: var(--fill-color);\n",
              "      border-right-color: var(--fill-color);\n",
              "    }\n",
              "    40% {\n",
              "      border-color: transparent;\n",
              "      border-right-color: var(--fill-color);\n",
              "      border-top-color: var(--fill-color);\n",
              "    }\n",
              "    60% {\n",
              "      border-color: transparent;\n",
              "      border-right-color: var(--fill-color);\n",
              "    }\n",
              "    80% {\n",
              "      border-color: transparent;\n",
              "      border-right-color: var(--fill-color);\n",
              "      border-bottom-color: var(--fill-color);\n",
              "    }\n",
              "    90% {\n",
              "      border-color: transparent;\n",
              "      border-bottom-color: var(--fill-color);\n",
              "    }\n",
              "  }\n",
              "</style>\n",
              "\n",
              "  <script>\n",
              "    async function quickchart(key) {\n",
              "      const quickchartButtonEl =\n",
              "        document.querySelector('#' + key + ' button');\n",
              "      quickchartButtonEl.disabled = true;  // To prevent multiple clicks.\n",
              "      quickchartButtonEl.classList.add('colab-df-spinner');\n",
              "      try {\n",
              "        const charts = await google.colab.kernel.invokeFunction(\n",
              "            'suggestCharts', [key], {});\n",
              "      } catch (error) {\n",
              "        console.error('Error during call to suggestCharts:', error);\n",
              "      }\n",
              "      quickchartButtonEl.classList.remove('colab-df-spinner');\n",
              "      quickchartButtonEl.classList.add('colab-df-quickchart-complete');\n",
              "    }\n",
              "    (() => {\n",
              "      let quickchartButtonEl =\n",
              "        document.querySelector('#df-4426c1bc-34c2-4177-afde-7e6d36b39482 button');\n",
              "      quickchartButtonEl.style.display =\n",
              "        google.colab.kernel.accessAllowed ? 'block' : 'none';\n",
              "    })();\n",
              "  </script>\n",
              "</div>\n",
              "    </div>\n",
              "  </div>\n"
            ]
          },
          "metadata": {},
          "execution_count": 20
        }
      ]
    },
    {
      "cell_type": "code",
      "source": [
        "print('Salva os dados de df_all_reall_issues_in_commits_detailed no arquivo cassandra_all_issues_in_commits.xlsx')\n",
        "\n",
        "df_all_reall_issues_in_commits_detailed['time_resolution'] = df_all_reall_issues_in_commits_detailed['resolved_date'] - df_all_reall_issues_in_commits_detailed['created_date']"
      ],
      "metadata": {
        "id": "-fSk00rT5SXr",
        "colab": {
          "base_uri": "https://localhost:8080/"
        },
        "outputId": "98a08273-25d4-4455-e946-bf2fe30d2bc3"
      },
      "execution_count": 21,
      "outputs": [
        {
          "output_type": "stream",
          "name": "stdout",
          "text": [
            "Salva os dados de df_all_reall_issues_in_commits_detailed no arquivo cassandra_all_issues_in_commits.xlsx\n"
          ]
        }
      ]
    },
    {
      "cell_type": "code",
      "source": [
        "print('Gera arquivo .csv cassandra_all_issues_in_commits')\n",
        "colunas = ['issue_key', 'issue_type', 'status', 'summary','created_date', 'resolved_date', 'time_resolution']\n",
        "df_all_reall_issues_in_commits_detailed[colunas].to_csv('cassandra_all_issues_in_commits.csv', index=False)"
      ],
      "metadata": {
        "id": "fbVbCzNZ-tJG",
        "colab": {
          "base_uri": "https://localhost:8080/"
        },
        "outputId": "c56cee41-4eca-4de1-8d20-c26c7565f446"
      },
      "execution_count": 22,
      "outputs": [
        {
          "output_type": "stream",
          "name": "stdout",
          "text": [
            "Gera arquivo .csv cassandra_all_issues_in_commits\n"
          ]
        }
      ]
    },
    {
      "cell_type": "markdown",
      "source": [
        "### Recupera Issues com referência nos commits com classes críticas"
      ],
      "metadata": {
        "id": "0AGqE-DqPgBC"
      }
    },
    {
      "cell_type": "code",
      "source": [
        "dict_issues_in_commits, df_issues_in_commits_with_critical_classes = get_commits_with_critical_files_and_issues_in_this_commits(df_commits_with_critical_files)\n",
        "df_issues_in_commits_with_critical_classes"
      ],
      "metadata": {
        "colab": {
          "base_uri": "https://localhost:8080/",
          "height": 0
        },
        "id": "s2Sdfa0pTrGd",
        "outputId": "423e40db-953c-4487-d272-dc84aadbaf7d"
      },
      "execution_count": 23,
      "outputs": [
        {
          "output_type": "execute_result",
          "data": {
            "text/plain": [
              "             issue_key   issue_type    status priority  \\\n",
              "2        CASSANDRA-261          Bug  Resolved   Normal   \n",
              "4        CASSANDRA-259  New Feature  Resolved   Normal   \n",
              "9        CASSANDRA-254  Improvement  Resolved   Normal   \n",
              "12       CASSANDRA-251  Improvement  Resolved   Normal   \n",
              "15       CASSANDRA-248  Improvement  Resolved   Normal   \n",
              "...                ...          ...       ...      ...   \n",
              "18434  CASSANDRA-18504  Improvement  Resolved   Normal   \n",
              "18438  CASSANDRA-18500  New Feature  Resolved   Normal   \n",
              "18718  CASSANDRA-18816  Improvement  Resolved   Normal   \n",
              "18731  CASSANDRA-18803          Bug  Resolved   Normal   \n",
              "18753  CASSANDRA-18781  Improvement  Resolved   Normal   \n",
              "\n",
              "                                                 summary  \\\n",
              "2                         get_slice needs offset + limit   \n",
              "4                            LRU cache for key positions   \n",
              "9                          clean up sstable constructors   \n",
              "12       Restore ColumnSort=Time on Super Columnfamilies   \n",
              "15     Replace factory method based on explicit locks...   \n",
              "...                                                  ...   \n",
              "18434     Added support for type VECTOR<type, dimension>   \n",
              "18438                   Add guardrail for partition size   \n",
              "18718  Add support for repair coordinator to retry me...   \n",
              "18731  Refactor validation logic in StorageService.re...   \n",
              "18753  Add the ability to disable bulk loading of SST...   \n",
              "\n",
              "                                             description  \\\n",
              "2      Right now get_slice does not allow you to prov...   \n",
              "4      add cache like the old touch cache, but workin...   \n",
              "9                                                          \n",
              "12     Setting ColumnSort=Time on a Super Columnfamil...   \n",
              "15     Replace factory method based on explicit locks...   \n",
              "...                                                  ...   \n",
              "18434  Based off several mailing list threads (see \"[...   \n",
              "18438  Add a guardrail for max partition size, for ex...   \n",
              "18718  Now that CASSANDRA-15399 is in, most of the re...   \n",
              "18731      This is a follow-up ticket of CASSANDRA-14319   \n",
              "18753  Currently, Cassandra database users can use ss...   \n",
              "\n",
              "                                                comments created_date  \\\n",
              "2      Me, explaining new get_slice: so now you would...   2009-06-26   \n",
              "4      LinkedHashMap is a nonstarter though.  This wa...   2009-06-26   \n",
              "9      +1\\ncommitted\\nIntegrated in Cassandra #120 (S...   2009-06-24   \n",
              "12     Sorry, I got a little rattled by the \"oh crap ...   2009-06-24   \n",
              "15     Patch submitted.\\nThis is double-checked locki...   2009-06-21   \n",
              "...                                                  ...          ...   \n",
              "18434  having a hard time fixing CQL3TypeLiteralTest ...   2023-05-05   \n",
              "18438  The proposed patch adds a new guardrail for pa...   2023-05-04   \n",
              "18718  scope slightly increased due to bugs found by ...   2023-09-01   \n",
              "18731  [~aweisberg] would you mind to take a look? Su...   2023-08-29   \n",
              "18753  This might be implemented by a guardrail. You ...   2023-08-21   \n",
              "\n",
              "      resolved_date time_resolution  \n",
              "2        2009-07-06         10 days  \n",
              "4        2009-07-06         10 days  \n",
              "9        2009-06-25          1 days  \n",
              "12       2009-07-06         12 days  \n",
              "15       2009-11-20        152 days  \n",
              "...             ...             ...  \n",
              "18434    2023-06-22         48 days  \n",
              "18438    2023-05-25         21 days  \n",
              "18718    2023-09-27         26 days  \n",
              "18731    2023-08-31          2 days  \n",
              "18753    2023-09-19         29 days  \n",
              "\n",
              "[2912 rows x 10 columns]"
            ],
            "text/html": [
              "\n",
              "  <div id=\"df-9fad288e-2231-44fe-8f36-062d07795b0b\" class=\"colab-df-container\">\n",
              "    <div>\n",
              "<style scoped>\n",
              "    .dataframe tbody tr th:only-of-type {\n",
              "        vertical-align: middle;\n",
              "    }\n",
              "\n",
              "    .dataframe tbody tr th {\n",
              "        vertical-align: top;\n",
              "    }\n",
              "\n",
              "    .dataframe thead th {\n",
              "        text-align: right;\n",
              "    }\n",
              "</style>\n",
              "<table border=\"1\" class=\"dataframe\">\n",
              "  <thead>\n",
              "    <tr style=\"text-align: right;\">\n",
              "      <th></th>\n",
              "      <th>issue_key</th>\n",
              "      <th>issue_type</th>\n",
              "      <th>status</th>\n",
              "      <th>priority</th>\n",
              "      <th>summary</th>\n",
              "      <th>description</th>\n",
              "      <th>comments</th>\n",
              "      <th>created_date</th>\n",
              "      <th>resolved_date</th>\n",
              "      <th>time_resolution</th>\n",
              "    </tr>\n",
              "  </thead>\n",
              "  <tbody>\n",
              "    <tr>\n",
              "      <th>2</th>\n",
              "      <td>CASSANDRA-261</td>\n",
              "      <td>Bug</td>\n",
              "      <td>Resolved</td>\n",
              "      <td>Normal</td>\n",
              "      <td>get_slice needs offset + limit</td>\n",
              "      <td>Right now get_slice does not allow you to prov...</td>\n",
              "      <td>Me, explaining new get_slice: so now you would...</td>\n",
              "      <td>2009-06-26</td>\n",
              "      <td>2009-07-06</td>\n",
              "      <td>10 days</td>\n",
              "    </tr>\n",
              "    <tr>\n",
              "      <th>4</th>\n",
              "      <td>CASSANDRA-259</td>\n",
              "      <td>New Feature</td>\n",
              "      <td>Resolved</td>\n",
              "      <td>Normal</td>\n",
              "      <td>LRU cache for key positions</td>\n",
              "      <td>add cache like the old touch cache, but workin...</td>\n",
              "      <td>LinkedHashMap is a nonstarter though.  This wa...</td>\n",
              "      <td>2009-06-26</td>\n",
              "      <td>2009-07-06</td>\n",
              "      <td>10 days</td>\n",
              "    </tr>\n",
              "    <tr>\n",
              "      <th>9</th>\n",
              "      <td>CASSANDRA-254</td>\n",
              "      <td>Improvement</td>\n",
              "      <td>Resolved</td>\n",
              "      <td>Normal</td>\n",
              "      <td>clean up sstable constructors</td>\n",
              "      <td></td>\n",
              "      <td>+1\\ncommitted\\nIntegrated in Cassandra #120 (S...</td>\n",
              "      <td>2009-06-24</td>\n",
              "      <td>2009-06-25</td>\n",
              "      <td>1 days</td>\n",
              "    </tr>\n",
              "    <tr>\n",
              "      <th>12</th>\n",
              "      <td>CASSANDRA-251</td>\n",
              "      <td>Improvement</td>\n",
              "      <td>Resolved</td>\n",
              "      <td>Normal</td>\n",
              "      <td>Restore ColumnSort=Time on Super Columnfamilies</td>\n",
              "      <td>Setting ColumnSort=Time on a Super Columnfamil...</td>\n",
              "      <td>Sorry, I got a little rattled by the \"oh crap ...</td>\n",
              "      <td>2009-06-24</td>\n",
              "      <td>2009-07-06</td>\n",
              "      <td>12 days</td>\n",
              "    </tr>\n",
              "    <tr>\n",
              "      <th>15</th>\n",
              "      <td>CASSANDRA-248</td>\n",
              "      <td>Improvement</td>\n",
              "      <td>Resolved</td>\n",
              "      <td>Normal</td>\n",
              "      <td>Replace factory method based on explicit locks...</td>\n",
              "      <td>Replace factory method based on explicit locks...</td>\n",
              "      <td>Patch submitted.\\nThis is double-checked locki...</td>\n",
              "      <td>2009-06-21</td>\n",
              "      <td>2009-11-20</td>\n",
              "      <td>152 days</td>\n",
              "    </tr>\n",
              "    <tr>\n",
              "      <th>...</th>\n",
              "      <td>...</td>\n",
              "      <td>...</td>\n",
              "      <td>...</td>\n",
              "      <td>...</td>\n",
              "      <td>...</td>\n",
              "      <td>...</td>\n",
              "      <td>...</td>\n",
              "      <td>...</td>\n",
              "      <td>...</td>\n",
              "      <td>...</td>\n",
              "    </tr>\n",
              "    <tr>\n",
              "      <th>18434</th>\n",
              "      <td>CASSANDRA-18504</td>\n",
              "      <td>Improvement</td>\n",
              "      <td>Resolved</td>\n",
              "      <td>Normal</td>\n",
              "      <td>Added support for type VECTOR&lt;type, dimension&gt;</td>\n",
              "      <td>Based off several mailing list threads (see \"[...</td>\n",
              "      <td>having a hard time fixing CQL3TypeLiteralTest ...</td>\n",
              "      <td>2023-05-05</td>\n",
              "      <td>2023-06-22</td>\n",
              "      <td>48 days</td>\n",
              "    </tr>\n",
              "    <tr>\n",
              "      <th>18438</th>\n",
              "      <td>CASSANDRA-18500</td>\n",
              "      <td>New Feature</td>\n",
              "      <td>Resolved</td>\n",
              "      <td>Normal</td>\n",
              "      <td>Add guardrail for partition size</td>\n",
              "      <td>Add a guardrail for max partition size, for ex...</td>\n",
              "      <td>The proposed patch adds a new guardrail for pa...</td>\n",
              "      <td>2023-05-04</td>\n",
              "      <td>2023-05-25</td>\n",
              "      <td>21 days</td>\n",
              "    </tr>\n",
              "    <tr>\n",
              "      <th>18718</th>\n",
              "      <td>CASSANDRA-18816</td>\n",
              "      <td>Improvement</td>\n",
              "      <td>Resolved</td>\n",
              "      <td>Normal</td>\n",
              "      <td>Add support for repair coordinator to retry me...</td>\n",
              "      <td>Now that CASSANDRA-15399 is in, most of the re...</td>\n",
              "      <td>scope slightly increased due to bugs found by ...</td>\n",
              "      <td>2023-09-01</td>\n",
              "      <td>2023-09-27</td>\n",
              "      <td>26 days</td>\n",
              "    </tr>\n",
              "    <tr>\n",
              "      <th>18731</th>\n",
              "      <td>CASSANDRA-18803</td>\n",
              "      <td>Bug</td>\n",
              "      <td>Resolved</td>\n",
              "      <td>Normal</td>\n",
              "      <td>Refactor validation logic in StorageService.re...</td>\n",
              "      <td>This is a follow-up ticket of CASSANDRA-14319</td>\n",
              "      <td>[~aweisberg] would you mind to take a look? Su...</td>\n",
              "      <td>2023-08-29</td>\n",
              "      <td>2023-08-31</td>\n",
              "      <td>2 days</td>\n",
              "    </tr>\n",
              "    <tr>\n",
              "      <th>18753</th>\n",
              "      <td>CASSANDRA-18781</td>\n",
              "      <td>Improvement</td>\n",
              "      <td>Resolved</td>\n",
              "      <td>Normal</td>\n",
              "      <td>Add the ability to disable bulk loading of SST...</td>\n",
              "      <td>Currently, Cassandra database users can use ss...</td>\n",
              "      <td>This might be implemented by a guardrail. You ...</td>\n",
              "      <td>2023-08-21</td>\n",
              "      <td>2023-09-19</td>\n",
              "      <td>29 days</td>\n",
              "    </tr>\n",
              "  </tbody>\n",
              "</table>\n",
              "<p>2912 rows × 10 columns</p>\n",
              "</div>\n",
              "    <div class=\"colab-df-buttons\">\n",
              "\n",
              "  <div class=\"colab-df-container\">\n",
              "    <button class=\"colab-df-convert\" onclick=\"convertToInteractive('df-9fad288e-2231-44fe-8f36-062d07795b0b')\"\n",
              "            title=\"Convert this dataframe to an interactive table.\"\n",
              "            style=\"display:none;\">\n",
              "\n",
              "  <svg xmlns=\"http://www.w3.org/2000/svg\" height=\"24px\" viewBox=\"0 -960 960 960\">\n",
              "    <path d=\"M120-120v-720h720v720H120Zm60-500h600v-160H180v160Zm220 220h160v-160H400v160Zm0 220h160v-160H400v160ZM180-400h160v-160H180v160Zm440 0h160v-160H620v160ZM180-180h160v-160H180v160Zm440 0h160v-160H620v160Z\"/>\n",
              "  </svg>\n",
              "    </button>\n",
              "\n",
              "  <style>\n",
              "    .colab-df-container {\n",
              "      display:flex;\n",
              "      gap: 12px;\n",
              "    }\n",
              "\n",
              "    .colab-df-convert {\n",
              "      background-color: #E8F0FE;\n",
              "      border: none;\n",
              "      border-radius: 50%;\n",
              "      cursor: pointer;\n",
              "      display: none;\n",
              "      fill: #1967D2;\n",
              "      height: 32px;\n",
              "      padding: 0 0 0 0;\n",
              "      width: 32px;\n",
              "    }\n",
              "\n",
              "    .colab-df-convert:hover {\n",
              "      background-color: #E2EBFA;\n",
              "      box-shadow: 0px 1px 2px rgba(60, 64, 67, 0.3), 0px 1px 3px 1px rgba(60, 64, 67, 0.15);\n",
              "      fill: #174EA6;\n",
              "    }\n",
              "\n",
              "    .colab-df-buttons div {\n",
              "      margin-bottom: 4px;\n",
              "    }\n",
              "\n",
              "    [theme=dark] .colab-df-convert {\n",
              "      background-color: #3B4455;\n",
              "      fill: #D2E3FC;\n",
              "    }\n",
              "\n",
              "    [theme=dark] .colab-df-convert:hover {\n",
              "      background-color: #434B5C;\n",
              "      box-shadow: 0px 1px 3px 1px rgba(0, 0, 0, 0.15);\n",
              "      filter: drop-shadow(0px 1px 2px rgba(0, 0, 0, 0.3));\n",
              "      fill: #FFFFFF;\n",
              "    }\n",
              "  </style>\n",
              "\n",
              "    <script>\n",
              "      const buttonEl =\n",
              "        document.querySelector('#df-9fad288e-2231-44fe-8f36-062d07795b0b button.colab-df-convert');\n",
              "      buttonEl.style.display =\n",
              "        google.colab.kernel.accessAllowed ? 'block' : 'none';\n",
              "\n",
              "      async function convertToInteractive(key) {\n",
              "        const element = document.querySelector('#df-9fad288e-2231-44fe-8f36-062d07795b0b');\n",
              "        const dataTable =\n",
              "          await google.colab.kernel.invokeFunction('convertToInteractive',\n",
              "                                                    [key], {});\n",
              "        if (!dataTable) return;\n",
              "\n",
              "        const docLinkHtml = 'Like what you see? Visit the ' +\n",
              "          '<a target=\"_blank\" href=https://colab.research.google.com/notebooks/data_table.ipynb>data table notebook</a>'\n",
              "          + ' to learn more about interactive tables.';\n",
              "        element.innerHTML = '';\n",
              "        dataTable['output_type'] = 'display_data';\n",
              "        await google.colab.output.renderOutput(dataTable, element);\n",
              "        const docLink = document.createElement('div');\n",
              "        docLink.innerHTML = docLinkHtml;\n",
              "        element.appendChild(docLink);\n",
              "      }\n",
              "    </script>\n",
              "  </div>\n",
              "\n",
              "\n",
              "<div id=\"df-9c4bef1c-c5ef-4efa-b853-38edc942ec30\">\n",
              "  <button class=\"colab-df-quickchart\" onclick=\"quickchart('df-9c4bef1c-c5ef-4efa-b853-38edc942ec30')\"\n",
              "            title=\"Suggest charts\"\n",
              "            style=\"display:none;\">\n",
              "\n",
              "<svg xmlns=\"http://www.w3.org/2000/svg\" height=\"24px\"viewBox=\"0 0 24 24\"\n",
              "     width=\"24px\">\n",
              "    <g>\n",
              "        <path d=\"M19 3H5c-1.1 0-2 .9-2 2v14c0 1.1.9 2 2 2h14c1.1 0 2-.9 2-2V5c0-1.1-.9-2-2-2zM9 17H7v-7h2v7zm4 0h-2V7h2v10zm4 0h-2v-4h2v4z\"/>\n",
              "    </g>\n",
              "</svg>\n",
              "  </button>\n",
              "\n",
              "<style>\n",
              "  .colab-df-quickchart {\n",
              "      --bg-color: #E8F0FE;\n",
              "      --fill-color: #1967D2;\n",
              "      --hover-bg-color: #E2EBFA;\n",
              "      --hover-fill-color: #174EA6;\n",
              "      --disabled-fill-color: #AAA;\n",
              "      --disabled-bg-color: #DDD;\n",
              "  }\n",
              "\n",
              "  [theme=dark] .colab-df-quickchart {\n",
              "      --bg-color: #3B4455;\n",
              "      --fill-color: #D2E3FC;\n",
              "      --hover-bg-color: #434B5C;\n",
              "      --hover-fill-color: #FFFFFF;\n",
              "      --disabled-bg-color: #3B4455;\n",
              "      --disabled-fill-color: #666;\n",
              "  }\n",
              "\n",
              "  .colab-df-quickchart {\n",
              "    background-color: var(--bg-color);\n",
              "    border: none;\n",
              "    border-radius: 50%;\n",
              "    cursor: pointer;\n",
              "    display: none;\n",
              "    fill: var(--fill-color);\n",
              "    height: 32px;\n",
              "    padding: 0;\n",
              "    width: 32px;\n",
              "  }\n",
              "\n",
              "  .colab-df-quickchart:hover {\n",
              "    background-color: var(--hover-bg-color);\n",
              "    box-shadow: 0 1px 2px rgba(60, 64, 67, 0.3), 0 1px 3px 1px rgba(60, 64, 67, 0.15);\n",
              "    fill: var(--button-hover-fill-color);\n",
              "  }\n",
              "\n",
              "  .colab-df-quickchart-complete:disabled,\n",
              "  .colab-df-quickchart-complete:disabled:hover {\n",
              "    background-color: var(--disabled-bg-color);\n",
              "    fill: var(--disabled-fill-color);\n",
              "    box-shadow: none;\n",
              "  }\n",
              "\n",
              "  .colab-df-spinner {\n",
              "    border: 2px solid var(--fill-color);\n",
              "    border-color: transparent;\n",
              "    border-bottom-color: var(--fill-color);\n",
              "    animation:\n",
              "      spin 1s steps(1) infinite;\n",
              "  }\n",
              "\n",
              "  @keyframes spin {\n",
              "    0% {\n",
              "      border-color: transparent;\n",
              "      border-bottom-color: var(--fill-color);\n",
              "      border-left-color: var(--fill-color);\n",
              "    }\n",
              "    20% {\n",
              "      border-color: transparent;\n",
              "      border-left-color: var(--fill-color);\n",
              "      border-top-color: var(--fill-color);\n",
              "    }\n",
              "    30% {\n",
              "      border-color: transparent;\n",
              "      border-left-color: var(--fill-color);\n",
              "      border-top-color: var(--fill-color);\n",
              "      border-right-color: var(--fill-color);\n",
              "    }\n",
              "    40% {\n",
              "      border-color: transparent;\n",
              "      border-right-color: var(--fill-color);\n",
              "      border-top-color: var(--fill-color);\n",
              "    }\n",
              "    60% {\n",
              "      border-color: transparent;\n",
              "      border-right-color: var(--fill-color);\n",
              "    }\n",
              "    80% {\n",
              "      border-color: transparent;\n",
              "      border-right-color: var(--fill-color);\n",
              "      border-bottom-color: var(--fill-color);\n",
              "    }\n",
              "    90% {\n",
              "      border-color: transparent;\n",
              "      border-bottom-color: var(--fill-color);\n",
              "    }\n",
              "  }\n",
              "</style>\n",
              "\n",
              "  <script>\n",
              "    async function quickchart(key) {\n",
              "      const quickchartButtonEl =\n",
              "        document.querySelector('#' + key + ' button');\n",
              "      quickchartButtonEl.disabled = true;  // To prevent multiple clicks.\n",
              "      quickchartButtonEl.classList.add('colab-df-spinner');\n",
              "      try {\n",
              "        const charts = await google.colab.kernel.invokeFunction(\n",
              "            'suggestCharts', [key], {});\n",
              "      } catch (error) {\n",
              "        console.error('Error during call to suggestCharts:', error);\n",
              "      }\n",
              "      quickchartButtonEl.classList.remove('colab-df-spinner');\n",
              "      quickchartButtonEl.classList.add('colab-df-quickchart-complete');\n",
              "    }\n",
              "    (() => {\n",
              "      let quickchartButtonEl =\n",
              "        document.querySelector('#df-9c4bef1c-c5ef-4efa-b853-38edc942ec30 button');\n",
              "      quickchartButtonEl.style.display =\n",
              "        google.colab.kernel.accessAllowed ? 'block' : 'none';\n",
              "    })();\n",
              "  </script>\n",
              "</div>\n",
              "    </div>\n",
              "  </div>\n"
            ]
          },
          "metadata": {},
          "execution_count": 23
        }
      ]
    },
    {
      "cell_type": "code",
      "source": [
        "df_issues_in_commits_with_critical_classes.info()"
      ],
      "metadata": {
        "colab": {
          "base_uri": "https://localhost:8080/"
        },
        "id": "fGu-1BkUmbEx",
        "outputId": "ec04f9f0-0909-4750-d22c-695dd550900b"
      },
      "execution_count": 24,
      "outputs": [
        {
          "output_type": "stream",
          "name": "stdout",
          "text": [
            "<class 'pandas.core.frame.DataFrame'>\n",
            "Int64Index: 2912 entries, 2 to 18753\n",
            "Data columns (total 10 columns):\n",
            " #   Column           Non-Null Count  Dtype          \n",
            "---  ------           --------------  -----          \n",
            " 0   issue_key        2912 non-null   object         \n",
            " 1   issue_type       2912 non-null   object         \n",
            " 2   status           2912 non-null   object         \n",
            " 3   priority         2912 non-null   object         \n",
            " 4   summary          2912 non-null   object         \n",
            " 5   description      2912 non-null   object         \n",
            " 6   comments         2912 non-null   object         \n",
            " 7   created_date     2912 non-null   datetime64[ns] \n",
            " 8   resolved_date    2905 non-null   datetime64[ns] \n",
            " 9   time_resolution  2905 non-null   timedelta64[ns]\n",
            "dtypes: datetime64[ns](2), object(7), timedelta64[ns](1)\n",
            "memory usage: 250.2+ KB\n"
          ]
        }
      ]
    },
    {
      "cell_type": "code",
      "source": [
        "df_issues_in_commits_with_critical_classes['time_resolution'] = df_issues_in_commits_with_critical_classes['resolved_date'] - df_issues_in_commits_with_critical_classes['created_date']"
      ],
      "metadata": {
        "id": "Sto_BE94Du4f"
      },
      "execution_count": 25,
      "outputs": []
    },
    {
      "cell_type": "code",
      "source": [
        "print('Gera arquivo .csv cassandra_issues_in_commits_arquivos_criticos')\n",
        "df_issues_in_commits_with_critical_classes[colunas].to_csv('cassandra_issues_in_commits_arquivos_criticos.csv', index=False)"
      ],
      "metadata": {
        "id": "ZMOfD0TtDVQM",
        "colab": {
          "base_uri": "https://localhost:8080/"
        },
        "outputId": "63ec0dee-7ea2-43bd-caea-9d8368c96149"
      },
      "execution_count": 26,
      "outputs": [
        {
          "output_type": "stream",
          "name": "stdout",
          "text": [
            "Gera arquivo .csv cassandra_issues_in_commits_arquivos_criticos\n"
          ]
        }
      ]
    },
    {
      "cell_type": "markdown",
      "source": [
        "# 3. Seleciona amostra dos Issues"
      ],
      "metadata": {
        "id": "tSu8U-M7XJdg"
      }
    },
    {
      "cell_type": "code",
      "source": [
        "confidence_level = 0.95\n",
        "margin_of_error = 0.05\n",
        "population_proportion = 0.8\n",
        "population_size = len(df_issues_in_commits_with_critical_classes)\n",
        "\n",
        "sample_size = calculate_sample_size(confidence_level, margin_of_error, population_proportion, population_size)\n",
        "print(f'População de issues: {population_size}')\n",
        "print(f\"Sample size para inspeção: {sample_size}\")"
      ],
      "metadata": {
        "colab": {
          "base_uri": "https://localhost:8080/"
        },
        "id": "YsrUjy68VaC_",
        "outputId": "54e197fa-a785-4589-d894-b3b09dd85271"
      },
      "execution_count": null,
      "outputs": [
        {
          "output_type": "stream",
          "name": "stdout",
          "text": [
            "População de issues: 2912\n",
            "Sample size para inspeção: 226\n"
          ]
        }
      ]
    },
    {
      "cell_type": "code",
      "source": [
        "sample_issues = select_issues_to_inspection(sample_size, df_issues_in_commits_with_critical_classes, my_date='02/11/2023')"
      ],
      "metadata": {
        "colab": {
          "base_uri": "https://localhost:8080/"
        },
        "id": "bBfy--OYYLWS",
        "outputId": "8e347071-8b54-4ae3-8a84-8e66596d9914"
      },
      "execution_count": null,
      "outputs": [
        {
          "output_type": "stream",
          "name": "stdout",
          "text": [
            "226 para inspeção manual\n",
            "Relação de Issues salvos em 02/11/2023 para inspeção.\n"
          ]
        }
      ]
    },
    {
      "cell_type": "code",
      "source": [
        "generate_files_issues_to_inspection(sample_issues, df_issues_in_commits_with_critical_classes)"
      ],
      "metadata": {
        "colab": {
          "base_uri": "https://localhost:8080/"
        },
        "id": "g5-WsdGzfQpH",
        "outputId": "a8410c45-6e12-4f45-9da9-eacfbe510f2a"
      },
      "execution_count": null,
      "outputs": [
        {
          "output_type": "stream",
          "name": "stderr",
          "text": [
            "Analyzing issues:   2%|▏         | 49/2912 [00:00<00:05, 483.22it/s]"
          ]
        },
        {
          "output_type": "stream",
          "name": "stdout",
          "text": [
            "File my_issues/CASSANDRA-241 created with success!\n",
            "File my_issues/CASSANDRA-184 created with success!\n",
            "File my_issues/CASSANDRA-181 created with success!\n",
            "File my_issues/CASSANDRA-154 created with success!\n",
            "File my_issues/CASSANDRA-111 created with success!\n",
            "File my_issues/CASSANDRA-96 created with success!\n",
            "File my_issues/CASSANDRA-37 created with success!\n",
            "File my_issues/CASSANDRA-463 created with success!\n"
          ]
        },
        {
          "output_type": "stream",
          "name": "stderr",
          "text": [
            "\rAnalyzing issues:   3%|▎         | 98/2912 [00:00<00:06, 466.59it/s]"
          ]
        },
        {
          "output_type": "stream",
          "name": "stdout",
          "text": [
            "File my_issues/CASSANDRA-444 created with success!\n",
            "File my_issues/CASSANDRA-435 created with success!\n"
          ]
        },
        {
          "output_type": "stream",
          "name": "stderr",
          "text": [
            "\rAnalyzing issues:   5%|▌         | 147/2912 [00:00<00:05, 475.35it/s]"
          ]
        },
        {
          "output_type": "stream",
          "name": "stdout",
          "text": [
            "File my_issues/CASSANDRA-400 created with success!\n",
            "File my_issues/CASSANDRA-360 created with success!\n",
            "File my_issues/CASSANDRA-326 created with success!\n",
            "File my_issues/CASSANDRA-819 created with success!\n",
            "File my_issues/CASSANDRA-778 created with success!\n"
          ]
        },
        {
          "output_type": "stream",
          "name": "stderr",
          "text": [
            "\rAnalyzing issues:   7%|▋         | 195/2912 [00:00<00:05, 469.85it/s]"
          ]
        },
        {
          "output_type": "stream",
          "name": "stdout",
          "text": [
            "File my_issues/CASSANDRA-719 created with success!\n",
            "File my_issues/CASSANDRA-709 created with success!\n"
          ]
        },
        {
          "output_type": "stream",
          "name": "stderr",
          "text": [
            "Analyzing issues:  10%|█         | 292/2912 [00:00<00:05, 469.01it/s]"
          ]
        },
        {
          "output_type": "stream",
          "name": "stdout",
          "text": [
            "File my_issues/CASSANDRA-608 created with success!\n",
            "File my_issues/CASSANDRA-592 created with success!\n",
            "File my_issues/CASSANDRA-564 created with success!\n",
            "File my_issues/CASSANDRA-538 created with success!\n",
            "File my_issues/CASSANDRA-1216 created with success!\n",
            "File my_issues/CASSANDRA-1040 created with success!\n"
          ]
        },
        {
          "output_type": "stream",
          "name": "stderr",
          "text": [
            "Analyzing issues:  13%|█▎        | 385/2912 [00:00<00:05, 453.21it/s]"
          ]
        },
        {
          "output_type": "stream",
          "name": "stdout",
          "text": [
            "File my_issues/CASSANDRA-952 created with success!\n",
            "File my_issues/CASSANDRA-1552 created with success!\n",
            "File my_issues/CASSANDRA-1535 created with success!\n",
            "File my_issues/CASSANDRA-1518 created with success!\n",
            "File my_issues/CASSANDRA-1477 created with success!\n",
            "File my_issues/CASSANDRA-1406 created with success!\n"
          ]
        },
        {
          "output_type": "stream",
          "name": "stderr",
          "text": [
            "Analyzing issues:  16%|█▋        | 478/2912 [00:01<00:05, 455.95it/s]"
          ]
        },
        {
          "output_type": "stream",
          "name": "stdout",
          "text": [
            "File my_issues/CASSANDRA-1316 created with success!\n",
            "File my_issues/CASSANDRA-1292 created with success!\n",
            "File my_issues/CASSANDRA-2191 created with success!\n",
            "File my_issues/CASSANDRA-2178 created with success!\n",
            "File my_issues/CASSANDRA-2102 created with success!\n",
            "File my_issues/CASSANDRA-2076 created with success!\n",
            "File my_issues/CASSANDRA-2051 created with success!\n",
            "File my_issues/CASSANDRA-2027 created with success!\n"
          ]
        },
        {
          "output_type": "stream",
          "name": "stderr",
          "text": [
            "\rAnalyzing issues:  18%|█▊        | 524/2912 [00:01<00:05, 440.05it/s]"
          ]
        },
        {
          "output_type": "stream",
          "name": "stdout",
          "text": [
            "File my_issues/CASSANDRA-1986 created with success!\n",
            "File my_issues/CASSANDRA-1985 created with success!\n",
            "File my_issues/CASSANDRA-1935 created with success!\n"
          ]
        },
        {
          "output_type": "stream",
          "name": "stderr",
          "text": [
            "\rAnalyzing issues:  20%|█▉        | 572/2912 [00:01<00:05, 450.54it/s]"
          ]
        },
        {
          "output_type": "stream",
          "name": "stdout",
          "text": [
            "File my_issues/CASSANDRA-1916 created with success!\n",
            "File my_issues/CASSANDRA-1845 created with success!\n",
            "File my_issues/CASSANDRA-1833 created with success!\n",
            "File my_issues/CASSANDRA-1788 created with success!\n",
            "File my_issues/CASSANDRA-1734 created with success!\n",
            "File my_issues/CASSANDRA-1721 created with success!\n",
            "File my_issues/CASSANDRA-2762 created with success!\n",
            "File my_issues/CASSANDRA-2708 created with success!\n"
          ]
        },
        {
          "output_type": "stream",
          "name": "stderr",
          "text": [
            "\rAnalyzing issues:  21%|██▏       | 621/2912 [00:01<00:04, 460.49it/s]"
          ]
        },
        {
          "output_type": "stream",
          "name": "stdout",
          "text": [
            "File my_issues/CASSANDRA-2668 created with success!\n"
          ]
        },
        {
          "output_type": "stream",
          "name": "stderr",
          "text": [
            "\rAnalyzing issues:  23%|██▎       | 669/2912 [00:01<00:04, 464.91it/s]"
          ]
        },
        {
          "output_type": "stream",
          "name": "stdout",
          "text": [
            "File my_issues/CASSANDRA-2512 created with success!\n",
            "File my_issues/CASSANDRA-2468 created with success!\n",
            "File my_issues/CASSANDRA-2411 created with success!\n",
            "File my_issues/CASSANDRA-2347 created with success!\n",
            "File my_issues/CASSANDRA-2280 created with success!\n"
          ]
        },
        {
          "output_type": "stream",
          "name": "stderr",
          "text": [
            "\rAnalyzing issues:  25%|██▍       | 716/2912 [00:01<00:04, 462.16it/s]"
          ]
        },
        {
          "output_type": "stream",
          "name": "stdout",
          "text": [
            "File my_issues/CASSANDRA-3369 created with success!\n",
            "File my_issues/CASSANDRA-3335 created with success!\n"
          ]
        },
        {
          "output_type": "stream",
          "name": "stderr",
          "text": [
            "\rAnalyzing issues:  26%|██▌       | 763/2912 [00:01<00:04, 455.49it/s]"
          ]
        },
        {
          "output_type": "stream",
          "name": "stdout",
          "text": [
            "File my_issues/CASSANDRA-3308 created with success!\n",
            "File my_issues/CASSANDRA-3117 created with success!\n",
            "File my_issues/CASSANDRA-3117 created with success!\n",
            "File my_issues/CASSANDRA-3087 created with success!\n",
            "File my_issues/CASSANDRA-3047 created with success!\n",
            "File my_issues/CASSANDRA-2997 created with success!\n"
          ]
        },
        {
          "output_type": "stream",
          "name": "stderr",
          "text": [
            "\rAnalyzing issues:  28%|██▊       | 809/2912 [00:01<00:04, 452.42it/s]"
          ]
        },
        {
          "output_type": "stream",
          "name": "stdout",
          "text": [
            "File my_issues/CASSANDRA-2817 created with success!\n"
          ]
        },
        {
          "output_type": "stream",
          "name": "stderr",
          "text": [
            "Analyzing issues:  31%|███       | 903/2912 [00:01<00:04, 457.71it/s]"
          ]
        },
        {
          "output_type": "stream",
          "name": "stdout",
          "text": [
            "File my_issues/CASSANDRA-3863 created with success!\n",
            "File my_issues/CASSANDRA-3838 created with success!\n",
            "File my_issues/CASSANDRA-3689 created with success!\n",
            "File my_issues/CASSANDRA-3579 created with success!\n",
            "File my_issues/CASSANDRA-3539 created with success!\n",
            "File my_issues/CASSANDRA-3417 created with success!"
          ]
        },
        {
          "output_type": "stream",
          "name": "stderr",
          "text": [
            "Analyzing issues:  34%|███▍      | 1000/2912 [00:02<00:04, 459.69it/s]"
          ]
        },
        {
          "output_type": "stream",
          "name": "stdout",
          "text": [
            "\n",
            "File my_issues/CASSANDRA-3389 created with success!\n",
            "File my_issues/CASSANDRA-4329 created with success!\n",
            "File my_issues/CASSANDRA-4327 created with success!\n",
            "File my_issues/CASSANDRA-4316 created with success!\n",
            "File my_issues/CASSANDRA-4252 created with success!\n",
            "File my_issues/CASSANDRA-4053 created with success!\n",
            "File my_issues/CASSANDRA-3997 created with success!\n",
            "File my_issues/CASSANDRA-3961 created with success!\n"
          ]
        },
        {
          "output_type": "stream",
          "name": "stderr",
          "text": [
            "Analyzing issues:  38%|███▊      | 1099/2912 [00:02<00:03, 475.17it/s]"
          ]
        },
        {
          "output_type": "stream",
          "name": "stdout",
          "text": [
            "File my_issues/CASSANDRA-3954 created with success!\n",
            "File my_issues/CASSANDRA-3912 created with success!\n",
            "File my_issues/CASSANDRA-4655 created with success!\n",
            "File my_issues/CASSANDRA-4559 created with success!\n",
            "File my_issues/CASSANDRA-4463 created with success!\n",
            "File my_issues/CASSANDRA-4429 created with success!\n",
            "File my_issues/CASSANDRA-5230 created with success!\n",
            "File my_issues/CASSANDRA-5230 created with success!\n"
          ]
        },
        {
          "output_type": "stream",
          "name": "stderr",
          "text": [
            "Analyzing issues:  41%|████      | 1195/2912 [00:02<00:03, 471.48it/s]"
          ]
        },
        {
          "output_type": "stream",
          "name": "stdout",
          "text": [
            "File my_issues/CASSANDRA-5159 created with success!\n",
            "File my_issues/CASSANDRA-5148 created with success!\n",
            "File my_issues/CASSANDRA-5125 created with success!\n",
            "File my_issues/CASSANDRA-5081 created with success!\n",
            "File my_issues/CASSANDRA-5074 created with success!\n",
            "File my_issues/CASSANDRA-5074 created with success!\n",
            "File my_issues/CASSANDRA-4882 created with success!\n",
            "File my_issues/CASSANDRA-4851 created with success!\n",
            "File my_issues/CASSANDRA-4812 created with success!\n",
            "File my_issues/CASSANDRA-5613 created with success!\n"
          ]
        },
        {
          "output_type": "stream",
          "name": "stderr",
          "text": [
            "Analyzing issues:  44%|████▍     | 1289/2912 [00:02<00:03, 446.87it/s]"
          ]
        },
        {
          "output_type": "stream",
          "name": "stdout",
          "text": [
            "File my_issues/CASSANDRA-5556 created with success!\n",
            "File my_issues/CASSANDRA-5555 created with success!\n",
            "File my_issues/CASSANDRA-5529 created with success!\n",
            "File my_issues/CASSANDRA-5506 created with success!\n",
            "File my_issues/CASSANDRA-5244 created with success!\n",
            "File my_issues/CASSANDRA-6111 created with success!\n"
          ]
        },
        {
          "output_type": "stream",
          "name": "stderr",
          "text": [
            "Analyzing issues:  48%|████▊     | 1385/2912 [00:03<00:03, 461.10it/s]"
          ]
        },
        {
          "output_type": "stream",
          "name": "stdout",
          "text": [
            "File my_issues/CASSANDRA-5935 created with success!\n",
            "File my_issues/CASSANDRA-5856 created with success!\n",
            "File my_issues/CASSANDRA-5762 created with success!\n",
            "File my_issues/CASSANDRA-5757 created with success!\n",
            "File my_issues/CASSANDRA-5657 created with success!\n",
            "File my_issues/CASSANDRA-5632 created with success!\n",
            "File my_issues/CASSANDRA-6477 created with success!\n",
            "File my_issues/CASSANDRA-6406 created with success!\n"
          ]
        },
        {
          "output_type": "stream",
          "name": "stderr",
          "text": [
            "Analyzing issues:  53%|█████▎    | 1530/2912 [00:03<00:02, 470.81it/s]"
          ]
        },
        {
          "output_type": "stream",
          "name": "stdout",
          "text": [
            "File my_issues/CASSANDRA-6356 created with success!\n",
            "File my_issues/CASSANDRA-6268 created with success!\n",
            "File my_issues/CASSANDRA-6230 created with success!\n",
            "File my_issues/CASSANDRA-7189 created with success!\n",
            "File my_issues/CASSANDRA-7173 created with success!\n",
            "File my_issues/CASSANDRA-7019 created with success!\n",
            "File my_issues/CASSANDRA-6992 created with success!\n",
            "File my_issues/CASSANDRA-6948 created with success!\n"
          ]
        },
        {
          "output_type": "stream",
          "name": "stderr",
          "text": [
            "Analyzing issues:  56%|█████▌    | 1626/2912 [00:03<00:02, 473.35it/s]"
          ]
        },
        {
          "output_type": "stream",
          "name": "stdout",
          "text": [
            "File my_issues/CASSANDRA-6907 created with success!\n",
            "File my_issues/CASSANDRA-6856 created with success!\n",
            "File my_issues/CASSANDRA-6809 created with success!\n",
            "File my_issues/CASSANDRA-6769 created with success!\n",
            "File my_issues/CASSANDRA-6689 created with success!\n",
            "File my_issues/CASSANDRA-7939 created with success!\n",
            "File my_issues/CASSANDRA-7889 created with success!\n"
          ]
        },
        {
          "output_type": "stream",
          "name": "stderr",
          "text": [
            "Analyzing issues:  59%|█████▉    | 1723/2912 [00:03<00:02, 461.00it/s]"
          ]
        },
        {
          "output_type": "stream",
          "name": "stdout",
          "text": [
            "File my_issues/CASSANDRA-7653 created with success!\n",
            "File my_issues/CASSANDRA-7599 created with success!\n",
            "File my_issues/CASSANDRA-7586 created with success!\n",
            "File my_issues/CASSANDRA-7443 created with success!\n",
            "File my_issues/CASSANDRA-8672 created with success!\n",
            "File my_issues/CASSANDRA-8672 created with success!\n",
            "File my_issues/CASSANDRA-8613 created with success!\n",
            "File my_issues/CASSANDRA-8592 created with success!\n"
          ]
        },
        {
          "output_type": "stream",
          "name": "stderr",
          "text": [
            "Analyzing issues:  62%|██████▏   | 1818/2912 [00:03<00:02, 457.28it/s]"
          ]
        },
        {
          "output_type": "stream",
          "name": "stdout",
          "text": [
            "File my_issues/CASSANDRA-8384 created with success!\n",
            "File my_issues/CASSANDRA-8316 created with success!\n",
            "File my_issues/CASSANDRA-8220 created with success!\n",
            "File my_issues/CASSANDRA-8054 created with success!\n",
            "File my_issues/CASSANDRA-9472 created with success!\n",
            "File my_issues/CASSANDRA-9295 created with success!\n"
          ]
        },
        {
          "output_type": "stream",
          "name": "stderr",
          "text": [
            "Analyzing issues:  66%|██████▌   | 1910/2912 [00:04<00:02, 448.66it/s]"
          ]
        },
        {
          "output_type": "stream",
          "name": "stdout",
          "text": [
            "File my_issues/CASSANDRA-9151 created with success!\n",
            "File my_issues/CASSANDRA-9119 created with success!\n",
            "File my_issues/CASSANDRA-8936 created with success!\n",
            "File my_issues/CASSANDRA-8829 created with success!\n",
            "File my_issues/CASSANDRA-8801 created with success!\n",
            "File my_issues/CASSANDRA-8797 created with success!\n",
            "File my_issues/CASSANDRA-10357 created with success!\n",
            "File my_issues/CASSANDRA-10202 created with success!\n"
          ]
        },
        {
          "output_type": "stream",
          "name": "stderr",
          "text": [
            "Analyzing issues:  69%|██████▉   | 2005/2912 [00:04<00:01, 457.69it/s]"
          ]
        },
        {
          "output_type": "stream",
          "name": "stdout",
          "text": [
            "File my_issues/CASSANDRA-10125 created with success!\n",
            "File my_issues/CASSANDRA-10025 created with success!\n",
            "File my_issues/CASSANDRA-10023 created with success!\n",
            "File my_issues/CASSANDRA-9993 created with success!\n",
            "File my_issues/CASSANDRA-9913 created with success!\n",
            "File my_issues/CASSANDRA-9912 created with success!\n",
            "File my_issues/CASSANDRA-9889 created with success!\n",
            "File my_issues/CASSANDRA-9875 created with success!\n",
            "File my_issues/CASSANDRA-9737 created with success!\n",
            "File my_issues/CASSANDRA-9677 created with success!\n",
            "File my_issues/CASSANDRA-9631 created with success!\n",
            "File my_issues/CASSANDRA-9606 created with success!\n",
            "File my_issues/CASSANDRA-9570 created with success!\n",
            "File my_issues/CASSANDRA-9554 created with success!\n"
          ]
        },
        {
          "output_type": "stream",
          "name": "stderr",
          "text": [
            "Analyzing issues:  74%|███████▎  | 2147/2912 [00:04<00:01, 455.40it/s]"
          ]
        },
        {
          "output_type": "stream",
          "name": "stdout",
          "text": [
            "File my_issues/CASSANDRA-10857 created with success!\n",
            "File my_issues/CASSANDRA-10750 created with success!\n",
            "File my_issues/CASSANDRA-10643 created with success!\n",
            "File my_issues/CASSANDRA-10501 created with success!\n",
            "File my_issues/CASSANDRA-10413 created with success!\n",
            "File my_issues/CASSANDRA-11544 created with success!\n",
            "File my_issues/CASSANDRA-11529 created with success!\n",
            "File my_issues/CASSANDRA-11529 created with success!\n"
          ]
        },
        {
          "output_type": "stream",
          "name": "stderr",
          "text": [
            "Analyzing issues:  77%|███████▋  | 2243/2912 [00:04<00:01, 464.97it/s]"
          ]
        },
        {
          "output_type": "stream",
          "name": "stdout",
          "text": [
            "File my_issues/CASSANDRA-11402 created with success!\n",
            "File my_issues/CASSANDRA-11356 created with success!\n",
            "File my_issues/CASSANDRA-11337 created with success!\n",
            "File my_issues/CASSANDRA-11085 created with success!\n",
            "File my_issues/CASSANDRA-12311 created with success!\n",
            "File my_issues/CASSANDRA-12186 created with success!\n",
            "File my_issues/CASSANDRA-12146 created with success!\n",
            "File my_issues/CASSANDRA-12109 created with success!\n",
            "File my_issues/CASSANDRA-12071 created with success!\n"
          ]
        },
        {
          "output_type": "stream",
          "name": "stderr",
          "text": [
            "\rAnalyzing issues:  79%|███████▊  | 2290/2912 [00:04<00:01, 459.31it/s]"
          ]
        },
        {
          "output_type": "stream",
          "name": "stdout",
          "text": [
            "File my_issues/CASSANDRA-13108 created with success!\n",
            "File my_issues/CASSANDRA-13050 created with success!\n",
            "File my_issues/CASSANDRA-13013 created with success!\n"
          ]
        },
        {
          "output_type": "stream",
          "name": "stderr",
          "text": [
            "Analyzing issues:  82%|████████▏ | 2377/2912 [00:05<00:01, 343.93it/s]"
          ]
        },
        {
          "output_type": "stream",
          "name": "stdout",
          "text": [
            "File my_issues/CASSANDRA-13257 created with success!\n",
            "File my_issues/CASSANDRA-13216 created with success!\n",
            "File my_issues/CASSANDRA-13216 created with success!\n",
            "File my_issues/CASSANDRA-13853 created with success!\n",
            "File my_issues/CASSANDRA-13653 created with success!\n",
            "File my_issues/CASSANDRA-13551 created with success!\n",
            "File my_issues/CASSANDRA-14140 created with success!\n"
          ]
        },
        {
          "output_type": "stream",
          "name": "stderr",
          "text": [
            "Analyzing issues:  84%|████████▍ | 2448/2912 [00:05<00:01, 300.61it/s]"
          ]
        },
        {
          "output_type": "stream",
          "name": "stdout",
          "text": [
            "File my_issues/CASSANDRA-14058 created with success!\n",
            "File my_issues/CASSANDRA-14354 created with success!\n",
            "File my_issues/CASSANDRA-14354 created with success!\n",
            "File my_issues/CASSANDRA-14310 created with success!\n"
          ]
        },
        {
          "output_type": "stream",
          "name": "stderr",
          "text": [
            "\rAnalyzing issues:  85%|████████▌ | 2480/2912 [00:05<00:01, 288.94it/s]"
          ]
        },
        {
          "output_type": "stream",
          "name": "stdout",
          "text": [
            "File my_issues/CASSANDRA-14705 created with success!\n",
            "File my_issues/CASSANDRA-14756 created with success!\n"
          ]
        },
        {
          "output_type": "stream",
          "name": "stderr",
          "text": [
            "Analyzing issues:  88%|████████▊ | 2567/2912 [00:06<00:01, 270.55it/s]"
          ]
        },
        {
          "output_type": "stream",
          "name": "stdout",
          "text": [
            "File my_issues/CASSANDRA-15018 created with success!\n",
            "File my_issues/CASSANDRA-15260 created with success!\n",
            "File my_issues/CASSANDRA-15402 created with success!\n",
            "File my_issues/CASSANDRA-15369 created with success!\n",
            "File my_issues/CASSANDRA-15752 created with success!\n"
          ]
        },
        {
          "output_type": "stream",
          "name": "stderr",
          "text": [
            "Analyzing issues:  91%|█████████ | 2651/2912 [00:06<00:00, 274.14it/s]"
          ]
        },
        {
          "output_type": "stream",
          "name": "stdout",
          "text": [
            "File my_issues/CASSANDRA-15907 created with success!\n",
            "File my_issues/CASSANDRA-15816 created with success!\n",
            "File my_issues/CASSANDRA-16223 created with success!\n",
            "File my_issues/CASSANDRA-16092 created with success!\n"
          ]
        },
        {
          "output_type": "stream",
          "name": "stderr",
          "text": [
            "Analyzing issues:  93%|█████████▎| 2707/2912 [00:06<00:00, 268.41it/s]"
          ]
        },
        {
          "output_type": "stream",
          "name": "stdout",
          "text": [
            "File my_issues/CASSANDRA-16859 created with success!\n",
            "File my_issues/CASSANDRA-16671 created with success!\n",
            "File my_issues/CASSANDRA-17164 created with success!\n",
            "File my_issues/CASSANDRA-17137 created with success!\n"
          ]
        },
        {
          "output_type": "stream",
          "name": "stderr",
          "text": [
            "Analyzing issues:  95%|█████████▍| 2761/2912 [00:06<00:00, 264.58it/s]"
          ]
        },
        {
          "output_type": "stream",
          "name": "stdout",
          "text": [
            "File my_issues/CASSANDRA-17052 created with success!\n",
            "File my_issues/CASSANDRA-17036 created with success!\n",
            "File my_issues/CASSANDRA-17034 created with success!\n",
            "File my_issues/CASSANDRA-17493 created with success!\n",
            "File my_issues/CASSANDRA-17471 created with success!\n"
          ]
        },
        {
          "output_type": "stream",
          "name": "stderr",
          "text": [
            "Analyzing issues:  98%|█████████▊| 2842/2912 [00:07<00:00, 261.03it/s]"
          ]
        },
        {
          "output_type": "stream",
          "name": "stdout",
          "text": [
            "File my_issues/CASSANDRA-17256 created with success!\n",
            "File my_issues/CASSANDRA-17790 created with success!\n",
            "File my_issues/CASSANDRA-17680 created with success!\n",
            "File my_issues/CASSANDRA-17592 created with success!\n",
            "File my_issues/CASSANDRA-18102 created with success!\n",
            "File my_issues/CASSANDRA-18055 created with success!\n"
          ]
        },
        {
          "output_type": "stream",
          "name": "stderr",
          "text": [
            "Analyzing issues: 100%|█████████▉| 2898/2912 [00:07<00:00, 265.07it/s]"
          ]
        },
        {
          "output_type": "stream",
          "name": "stdout",
          "text": [
            "File my_issues/CASSANDRA-18023 created with success!\n",
            "File my_issues/CASSANDRA-17868 created with success!\n",
            "File my_issues/CASSANDRA-17851 created with success!\n",
            "File my_issues/CASSANDRA-18441 created with success!\n",
            "File my_issues/CASSANDRA-18430 created with success!\n",
            "File my_issues/CASSANDRA-18219 created with success!\n",
            "File my_issues/CASSANDRA-18153 created with success!\n",
            "File my_issues/CASSANDRA-18626 created with success!\n"
          ]
        },
        {
          "output_type": "stream",
          "name": "stderr",
          "text": [
            "\rAnalyzing issues: 100%|██████████| 2912/2912 [00:07<00:00, 396.80it/s]"
          ]
        },
        {
          "output_type": "stream",
          "name": "stdout",
          "text": [
            "File my_issues/CASSANDRA-18550 created with success!\n",
            "Foram criados 226 arquivos para inspeção\n"
          ]
        },
        {
          "output_type": "stream",
          "name": "stderr",
          "text": [
            "\n"
          ]
        }
      ]
    },
    {
      "cell_type": "code",
      "source": [
        "!zip -r my_issues.zip my_issues"
      ],
      "metadata": {
        "colab": {
          "base_uri": "https://localhost:8080/"
        },
        "id": "JJfW2I7Jm_8T",
        "outputId": "ec0e6c8a-534f-40da-f196-0a64bbbeca5f"
      },
      "execution_count": null,
      "outputs": [
        {
          "output_type": "stream",
          "name": "stdout",
          "text": [
            "updating: my_issues/ (stored 0%)\n",
            "  adding: my_issues/CASSANDRA-5125 (deflated 60%)\n",
            "  adding: my_issues/CASSANDRA-13013 (deflated 54%)\n",
            "  adding: my_issues/CASSANDRA-111 (deflated 54%)\n",
            "  adding: my_issues/CASSANDRA-1788 (deflated 54%)\n",
            "  adding: my_issues/CASSANDRA-5556 (deflated 40%)\n",
            "  adding: my_issues/CASSANDRA-6948 (deflated 58%)\n",
            "  adding: my_issues/CASSANDRA-9554 (deflated 53%)\n",
            "  adding: my_issues/CASSANDRA-18102 (deflated 58%)\n",
            "  adding: my_issues/CASSANDRA-2411 (deflated 45%)\n",
            "  adding: my_issues/CASSANDRA-13653 (deflated 52%)\n",
            "  adding: my_issues/CASSANDRA-10023 (deflated 51%)\n",
            "  adding: my_issues/CASSANDRA-1721 (deflated 37%)\n",
            "  adding: my_issues/CASSANDRA-9631 (deflated 58%)\n",
            "  adding: my_issues/CASSANDRA-13216 (deflated 63%)\n",
            "  adding: my_issues/CASSANDRA-17680 (deflated 59%)\n",
            "  adding: my_issues/CASSANDRA-2468 (deflated 55%)\n",
            "  adding: my_issues/CASSANDRA-5148 (deflated 41%)\n",
            "  adding: my_issues/CASSANDRA-6809 (deflated 55%)\n",
            "  adding: my_issues/CASSANDRA-181 (deflated 45%)\n",
            "  adding: my_issues/CASSANDRA-17256 (deflated 80%)\n",
            "  adding: my_issues/CASSANDRA-3997 (deflated 66%)\n",
            "  adding: my_issues/CASSANDRA-8592 (deflated 55%)\n",
            "  adding: my_issues/CASSANDRA-3369 (deflated 50%)\n",
            "  adding: my_issues/CASSANDRA-15018 (deflated 42%)\n",
            "  adding: my_issues/CASSANDRA-17034 (deflated 53%)\n",
            "  adding: my_issues/CASSANDRA-2076 (deflated 72%)\n",
            "  adding: my_issues/CASSANDRA-9606 (deflated 64%)\n",
            "  adding: my_issues/CASSANDRA-3047 (deflated 70%)\n",
            "  adding: my_issues/CASSANDRA-11529 (deflated 69%)\n",
            "  adding: my_issues/CASSANDRA-1040 (deflated 50%)\n",
            "  adding: my_issues/CASSANDRA-15369 (deflated 58%)\n",
            "  adding: my_issues/CASSANDRA-18626 (deflated 51%)\n",
            "  adding: my_issues/CASSANDRA-3579 (deflated 72%)\n",
            "  adding: my_issues/CASSANDRA-360 (deflated 37%)\n",
            "  adding: my_issues/CASSANDRA-5856 (deflated 64%)\n",
            "  adding: my_issues/CASSANDRA-5506 (deflated 47%)\n",
            "  adding: my_issues/CASSANDRA-15752 (deflated 63%)\n",
            "  adding: my_issues/CASSANDRA-11356 (deflated 66%)\n",
            "  adding: my_issues/CASSANDRA-2178 (deflated 45%)\n",
            "  adding: my_issues/CASSANDRA-3117 (deflated 43%)\n",
            "  adding: my_issues/CASSANDRA-16671 (deflated 55%)\n",
            "  adding: my_issues/CASSANDRA-2512 (deflated 57%)\n",
            "  adding: my_issues/CASSANDRA-3389 (deflated 48%)\n",
            "  adding: my_issues/CASSANDRA-6907 (deflated 45%)\n",
            "  adding: my_issues/CASSANDRA-4252 (deflated 56%)\n",
            "  adding: my_issues/CASSANDRA-7653 (deflated 62%)\n",
            "  adding: my_issues/CASSANDRA-7939 (deflated 57%)\n",
            "  adding: my_issues/CASSANDRA-10025 (deflated 41%)\n",
            "  adding: my_issues/CASSANDRA-8220 (deflated 51%)\n",
            "  adding: my_issues/CASSANDRA-10413 (deflated 56%)\n",
            "  adding: my_issues/CASSANDRA-4851 (deflated 47%)\n",
            "  adding: my_issues/CASSANDRA-18430 (deflated 61%)\n",
            "  adding: my_issues/CASSANDRA-4053 (deflated 46%)\n",
            "  adding: my_issues/CASSANDRA-15260 (deflated 53%)\n",
            "  adding: my_issues/CASSANDRA-5757 (deflated 55%)\n",
            "  adding: my_issues/CASSANDRA-17164 (deflated 57%)\n",
            "  adding: my_issues/CASSANDRA-9119 (deflated 52%)\n",
            "  adding: my_issues/CASSANDRA-5657 (deflated 51%)\n",
            "  adding: my_issues/CASSANDRA-3838 (deflated 54%)\n",
            "  adding: my_issues/CASSANDRA-6856 (deflated 40%)\n",
            "  adding: my_issues/CASSANDRA-8797 (deflated 50%)\n",
            "  adding: my_issues/CASSANDRA-2997 (deflated 46%)\n",
            "  adding: my_issues/CASSANDRA-1552 (deflated 40%)\n",
            "  adding: my_issues/CASSANDRA-18055 (deflated 52%)\n",
            "  adding: my_issues/CASSANDRA-8672 (deflated 60%)\n",
            "  adding: my_issues/CASSANDRA-4655 (deflated 48%)\n",
            "  adding: my_issues/CASSANDRA-14756 (deflated 48%)\n",
            "  adding: my_issues/CASSANDRA-4429 (deflated 64%)\n",
            "  adding: my_issues/CASSANDRA-5159 (deflated 42%)\n",
            "  adding: my_issues/CASSANDRA-608 (deflated 41%)\n",
            "  adding: my_issues/CASSANDRA-3961 (deflated 44%)\n",
            "  adding: my_issues/CASSANDRA-2817 (deflated 58%)\n",
            "  adding: my_issues/CASSANDRA-17790 (deflated 54%)\n",
            "  adding: my_issues/CASSANDRA-8384 (deflated 52%)\n",
            "  adding: my_issues/CASSANDRA-9889 (deflated 52%)\n",
            "  adding: my_issues/CASSANDRA-4316 (deflated 55%)\n",
            "  adding: my_issues/CASSANDRA-1406 (deflated 45%)\n",
            "  adding: my_issues/CASSANDRA-18023 (deflated 56%)\n",
            "  adding: my_issues/CASSANDRA-10202 (deflated 52%)\n",
            "  adding: my_issues/CASSANDRA-184 (deflated 55%)\n",
            "  adding: my_issues/CASSANDRA-9875 (deflated 55%)\n",
            "  adding: my_issues/CASSANDRA-1216 (deflated 55%)\n",
            "  adding: my_issues/CASSANDRA-1316 (deflated 51%)\n",
            "  adding: my_issues/CASSANDRA-3863 (deflated 39%)\n",
            "  adding: my_issues/CASSANDRA-5074 (deflated 59%)\n",
            "  adding: my_issues/CASSANDRA-12186 (deflated 62%)\n",
            "  adding: my_issues/CASSANDRA-1916 (deflated 46%)\n",
            "  adding: my_issues/CASSANDRA-1518 (deflated 50%)\n",
            "  adding: my_issues/CASSANDRA-435 (deflated 54%)\n",
            "  adding: my_issues/CASSANDRA-2027 (deflated 60%)\n",
            "  adding: my_issues/CASSANDRA-9151 (deflated 49%)\n",
            "  adding: my_issues/CASSANDRA-10501 (deflated 54%)\n",
            "  adding: my_issues/CASSANDRA-5762 (deflated 52%)\n",
            "  adding: my_issues/CASSANDRA-14354 (deflated 33%)\n",
            "  adding: my_issues/CASSANDRA-10643 (deflated 55%)\n",
            "  adding: my_issues/CASSANDRA-17868 (deflated 43%)\n",
            "  adding: my_issues/CASSANDRA-5529 (deflated 54%)\n",
            "  adding: my_issues/CASSANDRA-9295 (deflated 67%)\n",
            "  adding: my_issues/CASSANDRA-18153 (deflated 63%)\n",
            "  adding: my_issues/CASSANDRA-326 (deflated 39%)\n",
            "  adding: my_issues/CASSANDRA-6769 (deflated 46%)\n",
            "  adding: my_issues/CASSANDRA-8316 (deflated 54%)\n",
            "  adding: my_issues/CASSANDRA-9677 (deflated 49%)\n",
            "  adding: my_issues/CASSANDRA-4559 (deflated 62%)\n",
            "  adding: my_issues/CASSANDRA-12146 (deflated 59%)\n",
            "  adding: my_issues/CASSANDRA-463 (deflated 53%)\n",
            "  adding: my_issues/CASSANDRA-11544 (deflated 25%)\n",
            "  adding: my_issues/CASSANDRA-7599 (deflated 59%)\n",
            "  adding: my_issues/CASSANDRA-6356 (deflated 51%)\n",
            "  adding: my_issues/CASSANDRA-2280 (deflated 57%)\n",
            "  adding: my_issues/CASSANDRA-709 (deflated 49%)\n",
            "  adding: my_issues/CASSANDRA-5555 (deflated 55%)\n",
            "  adding: my_issues/CASSANDRA-538 (deflated 45%)\n",
            "  adding: my_issues/CASSANDRA-6111 (deflated 41%)\n",
            "  adding: my_issues/CASSANDRA-5230 (deflated 48%)\n",
            "  adding: my_issues/CASSANDRA-10857 (deflated 56%)\n",
            "  adding: my_issues/CASSANDRA-9737 (deflated 54%)\n",
            "  adding: my_issues/CASSANDRA-400 (deflated 37%)\n",
            "  adding: my_issues/CASSANDRA-4463 (deflated 69%)\n",
            "  adding: my_issues/CASSANDRA-2347 (deflated 42%)\n",
            "  adding: my_issues/CASSANDRA-2708 (deflated 49%)\n",
            "  adding: my_issues/CASSANDRA-4882 (deflated 59%)\n",
            "  adding: my_issues/CASSANDRA-6406 (deflated 50%)\n",
            "  adding: my_issues/CASSANDRA-9570 (deflated 51%)\n",
            "  adding: my_issues/CASSANDRA-13108 (deflated 43%)\n",
            "  adding: my_issues/CASSANDRA-154 (deflated 46%)\n",
            "  adding: my_issues/CASSANDRA-3417 (deflated 59%)\n",
            "  adding: my_issues/CASSANDRA-8801 (deflated 66%)\n",
            "  adding: my_issues/CASSANDRA-3539 (deflated 36%)\n",
            "  adding: my_issues/CASSANDRA-1845 (deflated 37%)\n",
            "  adding: my_issues/CASSANDRA-3912 (deflated 56%)\n",
            "  adding: my_issues/CASSANDRA-12071 (deflated 51%)\n",
            "  adding: my_issues/CASSANDRA-1833 (deflated 40%)\n",
            "  adding: my_issues/CASSANDRA-6689 (deflated 50%)\n",
            "  adding: my_issues/CASSANDRA-14310 (deflated 50%)\n",
            "  adding: my_issues/CASSANDRA-14705 (deflated 53%)\n",
            "  adding: my_issues/CASSANDRA-3689 (deflated 30%)\n",
            "  adding: my_issues/CASSANDRA-10357 (deflated 52%)\n",
            "  adding: my_issues/CASSANDRA-2668 (deflated 49%)\n",
            "  adding: my_issues/CASSANDRA-6992 (deflated 55%)\n",
            "  adding: my_issues/CASSANDRA-9913 (deflated 54%)\n",
            "  adding: my_issues/CASSANDRA-9472 (deflated 55%)\n",
            "  adding: my_issues/CASSANDRA-8054 (deflated 56%)\n",
            "  adding: my_issues/CASSANDRA-1986 (deflated 39%)\n",
            "  adding: my_issues/CASSANDRA-15816 (deflated 52%)\n",
            "  adding: my_issues/CASSANDRA-6477 (deflated 56%)\n",
            "  adding: my_issues/CASSANDRA-11402 (deflated 51%)\n",
            "  adding: my_issues/CASSANDRA-7889 (deflated 47%)\n",
            "  adding: my_issues/CASSANDRA-2051 (deflated 48%)\n",
            "  adding: my_issues/CASSANDRA-13050 (deflated 71%)\n",
            "  adding: my_issues/CASSANDRA-17036 (deflated 35%)\n",
            "  adding: my_issues/CASSANDRA-17137 (deflated 51%)\n",
            "  adding: my_issues/CASSANDRA-13257 (deflated 57%)\n",
            "  adding: my_issues/CASSANDRA-16223 (deflated 54%)\n",
            "  adding: my_issues/CASSANDRA-18550 (deflated 40%)\n",
            "  adding: my_issues/CASSANDRA-18219 (deflated 54%)\n",
            "  adding: my_issues/CASSANDRA-8613 (deflated 60%)\n",
            "  adding: my_issues/CASSANDRA-719 (deflated 46%)\n",
            "  adding: my_issues/CASSANDRA-5244 (deflated 55%)\n",
            "  adding: my_issues/CASSANDRA-12109 (deflated 60%)\n",
            "  adding: my_issues/CASSANDRA-2102 (deflated 50%)\n",
            "  adding: my_issues/CASSANDRA-241 (deflated 53%)\n",
            "  adding: my_issues/CASSANDRA-9993 (deflated 18%)\n",
            "  adding: my_issues/CASSANDRA-12311 (deflated 57%)\n",
            "  adding: my_issues/CASSANDRA-444 (deflated 51%)\n",
            "  adding: my_issues/CASSANDRA-1734 (deflated 48%)\n",
            "  adding: my_issues/CASSANDRA-8936 (deflated 32%)\n",
            "  adding: my_issues/CASSANDRA-2191 (deflated 55%)\n",
            "  adding: my_issues/CASSANDRA-592 (deflated 43%)\n",
            "  adding: my_issues/CASSANDRA-17052 (deflated 46%)\n",
            "  adding: my_issues/CASSANDRA-37 (deflated 48%)\n",
            "  adding: my_issues/CASSANDRA-564 (deflated 56%)\n",
            "  adding: my_issues/CASSANDRA-5935 (deflated 39%)\n",
            "  adding: my_issues/CASSANDRA-18441 (deflated 57%)\n",
            "  adding: my_issues/CASSANDRA-17471 (deflated 47%)\n",
            "  adding: my_issues/CASSANDRA-7173 (deflated 54%)\n",
            "  adding: my_issues/CASSANDRA-8829 (deflated 48%)\n",
            "  adding: my_issues/CASSANDRA-13551 (deflated 62%)\n",
            "  adding: my_issues/CASSANDRA-4327 (deflated 43%)\n",
            "  adding: my_issues/CASSANDRA-10125 (deflated 49%)\n",
            "  adding: my_issues/CASSANDRA-1477 (deflated 59%)\n",
            "  adding: my_issues/CASSANDRA-3954 (deflated 53%)\n",
            "  adding: my_issues/CASSANDRA-16859 (deflated 45%)\n",
            "  adding: my_issues/CASSANDRA-17851 (deflated 47%)\n",
            "  adding: my_issues/CASSANDRA-9912 (deflated 66%)\n",
            "  adding: my_issues/CASSANDRA-17493 (deflated 67%)\n",
            "  adding: my_issues/CASSANDRA-16092 (deflated 56%)\n",
            "  adding: my_issues/CASSANDRA-1935 (deflated 46%)\n",
            "  adding: my_issues/CASSANDRA-7019 (deflated 54%)\n",
            "  adding: my_issues/CASSANDRA-3308 (deflated 50%)\n",
            "  adding: my_issues/CASSANDRA-2762 (deflated 60%)\n",
            "  adding: my_issues/CASSANDRA-15402 (deflated 63%)\n",
            "  adding: my_issues/CASSANDRA-11337 (deflated 67%)\n",
            "  adding: my_issues/CASSANDRA-778 (deflated 55%)\n",
            "  adding: my_issues/CASSANDRA-5613 (deflated 37%)\n",
            "  adding: my_issues/CASSANDRA-10750 (deflated 50%)\n",
            "  adding: my_issues/CASSANDRA-1292 (deflated 42%)\n",
            "  adding: my_issues/CASSANDRA-6230 (deflated 51%)\n",
            "  adding: my_issues/CASSANDRA-11085 (deflated 51%)\n",
            "  adding: my_issues/CASSANDRA-952 (deflated 56%)\n",
            "  adding: my_issues/CASSANDRA-96 (deflated 37%)\n",
            "  adding: my_issues/CASSANDRA-1985 (deflated 54%)\n",
            "  adding: my_issues/CASSANDRA-1535 (deflated 35%)\n",
            "  adding: my_issues/CASSANDRA-5081 (deflated 49%)\n",
            "  adding: my_issues/CASSANDRA-17592 (deflated 44%)\n",
            "  adding: my_issues/CASSANDRA-14058 (deflated 56%)\n",
            "  adding: my_issues/CASSANDRA-5632 (deflated 51%)\n",
            "  adding: my_issues/CASSANDRA-13853 (deflated 58%)\n",
            "  adding: my_issues/CASSANDRA-14140 (deflated 53%)\n",
            "  adding: my_issues/CASSANDRA-7443 (deflated 55%)\n",
            "  adding: my_issues/CASSANDRA-819 (deflated 32%)\n",
            "  adding: my_issues/CASSANDRA-4812 (deflated 47%)\n",
            "  adding: my_issues/CASSANDRA-6268 (deflated 56%)\n",
            "  adding: my_issues/CASSANDRA-3087 (deflated 51%)\n",
            "  adding: my_issues/CASSANDRA-15907 (deflated 56%)\n",
            "  adding: my_issues/CASSANDRA-7189 (deflated 40%)\n",
            "  adding: my_issues/CASSANDRA-7586 (deflated 51%)\n",
            "  adding: my_issues/CASSANDRA-4329 (deflated 61%)\n",
            "  adding: my_issues/CASSANDRA-3335 (deflated 51%)\n"
          ]
        }
      ]
    },
    {
      "cell_type": "markdown",
      "source": [
        "# 4. Análise de Keywords SATD (Self-admitted Technical Debt)\n",
        "\n",
        "Self-Admitted Technical Debt (SATD) refers to situations where the developers are aware that the current implementation is not optimal and write comments alerting of the problems [3]"
      ],
      "metadata": {
        "id": "o96qUj3sz-Eu"
      }
    },
    {
      "cell_type": "markdown",
      "source": [
        "[1] Rantala, Leevi, and Mika Mäntylä. \"Predicting technical debt from commit contents: reproduction and extension with automated feature selection.\" Software Quality Journal 28 (2020): 1551-1579. ~> https://link.springer.com/article/10.1007/s11219-020-09520-3\n",
        "\n",
        "[2] Li, Yikun, Mohamed Soliman, and Paris Avgeriou. \"Automatic identification of self-admitted technical debt from four different sources.\" Empirical Software Engineering 28, no. 3 (2023): 1-38. ~> https://link.springer.com/article/10.1007/s10664-023-10297-9\n",
        "\n",
        "[3] Potdar, Aniket, and Emad Shihab. \"An exploratory study on self-admitted technical debt.\" In 2014 IEEE International Conference on Software Maintenance and Evolution, pp. 91-100. IEEE, 2014. ~> https://ieeexplore.ieee.org/abstract/document/6976075"
      ],
      "metadata": {
        "id": "5o-0t7Qb0EBD"
      }
    },
    {
      "cell_type": "markdown",
      "source": [
        "## SATD keywords"
      ],
      "metadata": {
        "id": "zKULRcp3S3dW"
      }
    },
    {
      "cell_type": "code",
      "source": [
        "satd_keywords_1_2 = {\n",
        "    \"typo\", \"unused import\", \"error message\", \"comment\", \"logging\", \"javadoc\", \"minor\", \"update\",\n",
        "    \"debug\", \"code cleanup\", \"formatting\", \"more tests\", \"documentation\", \"work in progress\",\n",
        "    \"improvement\", \"rename\", \"support for\", \"header\", \"interface\", \"annotation\", \"naming\",\n",
        "    \"tidy up\", \"files\", \"extension point\", \"exception\", \"handling\", \"test\", \"output\", \"cast\",\n",
        "    \"simplify\", \"findbugs\", \"leak\", \"implementation\", \"unused code\", \"API\", \"refactoring\",\n",
        "    \"checkstyle errors\", \"redundant\", \"deprecated code\", \"constructor\", \"endpoints\", \"flaky\",\n",
        "    \"unused\", \"unnecessary\", \"confusing\", \"ugly\", \"simplify\", \"too much\", \"not used\", \"more readable\",\n",
        "    \"more efficient\", \"dead code\", \"infinite loop\", \"too long\", \"not implemented\", \"less verbose\",\n",
        "    \"more robust\", \"speed up\", \"get rid of\", \"not thread safe\", \"clean up code\", \"not done yet\",\n",
        "    \"avoid extra seek\", \"reduce duplicate code\", \"no longer needed\", \"not supported yet\",\n",
        "    \"documentation doesn't match\", \"short term solution\", \"spurious error messages\", \"it'd be nice\",\n",
        "    \"please add a test\", \"would significantly improve\", \"performance\", \"makes it much easier\",\n",
        "    \"avoid calling it twice\", \"takes a long time\", \"good to have coverage\",\n",
        "    \"makes it very hard\", \"patch doesn't apply cleanly\", \"it's not perfectly documented\",\n",
        "    \"need to update documentation\", \"make it less brittle\", \"documentation does not mention\",\n",
        "    \"wastes a lot of space\", \"there is no unit test\", \"lead to huge memory allocation\",\n",
        "    \"test doesn't add much value\", \"some holes in the doc\", \"by hard coding instead of\",\n",
        "    \"should be updated to reflect\", \"more tightly coupled than ideal\", \"any chance of a test\",\n",
        "    \"should improve a bit by\", \"solution won't be really satisfactory\", \"misleading\",\n",
        "    \"too long\", \"please add a test\", \"there is no unit test\", \"any chance of a test\",\n",
        "    \"good to have coverage\", \"test doesn't add much value\", \"flaky\",\n",
        "}\n",
        "\n",
        "satd_keywords_diff_3 = {'TODO', 'FIXME', 'refactor', 'refact', 'hack', 'workaround', 'technical debt', 'cleanup', 'clean', 'fix'}\n",
        "\n",
        "# Extra keywords\n",
        "extra_keywords = set([\n",
        "    \"architectural issue\", \"architectural smell\", \"architectural debt\", \"design debt\", \"code rot\", \"spaghetti code\",\n",
        "    \"quick fix\", \"temporary solution\", \"workaround\", \"hack\", \"technical kludge\", \"inconsistency\", \"race condition\", \"performance\",\n",
        "    \"scalability\", \"reliability\", \"maintainability\", \"code duplication\", \"code complexity\", \"tight coupling\", \"fragile code\",\n",
        "    \"magic numbers\", \"magic strings\", \"lack of modularity\", \"lack of encapsulation\", \"lack of abstraction\", \"lack of documentation\",\n",
        "    \"lack of testing\", \"complexity\", \"duplication\", \"modularity\", \"encapsulation\", \"design\", \"violation\", \"dependency\",\n",
        "    \"dependencies\", \"refactoring\", \"cyclic dependency\", \"unstable\", \"cross-module\",\n",
        "    \"code smell\", \"architectural problem\", \"design issue\", \"system design problem\",\n",
        "    \"technical debt due to architectural issues\", \"code debt\", \"technical debt due to design issues\", \"design flaws\",\n",
        "    \"disorganized code\", \"difficult to maintain code\", \"poorly structured code\", \"complex code\",\n",
        "    \"concurrency issue\", \"multithreading issue\", \"synchronization issue\",\n",
        "    \"speed\", \"throughput\", \"latency\", \"response time\",\n",
        "    \"scalability issue\", \"ability to handle increased load\",\n",
        "    \"dependability\", \"trustworthiness\", \"fault tolerance\", \"robustness\",\n",
        "    \"ease of maintenance\", \"maintainability issue\", \"ability to evolve\",\n",
        "    \"code redundancy\", \"repeated code\",\n",
        "    \"code difficulty\", \"complex code\", \"difficult to understand code\",\n",
        "    \"code entanglement\", \"code interdependencies\", \"complex code relationships\",\n",
        "    \"delicate code\", \"brittle code\", \"easy to break code\",\n",
        "    \"literal values\", \"hard-coded values\", \"undocumented values\",\n",
        "    \"literal strings\", \"hard-coded strings\", \"undocumented strings\",\n",
        "    \"monolithic code\", \"lack of separation of concerns\", \"lack of cohesion\",\n",
        "    \"exposed internal state\", \"lack of information hiding\",\n",
        "    \"concrete code\", \"lack of generalization\",\n",
        "    \"undocumented code\", \"poorly documented code\", \"lack of code comments\",\n",
        "    \"untested code\", \"poorly tested code\", \"lack of test cases\",\n",
        "    \"code complexity\", \"cyclomatic complexity\", \"cognitive complexity\",\n",
        "    \"code dependencies\", \"module dependencies\", \"system dependencies\",\n",
        "    \"code restructuring\", \"code improvement\", \"code simplification\",\n",
        "    \"circular dependency\", \"indirect dependency\",\n",
        "    \"buggy code\", \"flaky code\", \"unreliable code\",\n",
        "    \"inter-module\", \"module-to-module\"\n",
        "])\n",
        "\n",
        "extra_keywords_td = set([\n",
        "    \"anti-pattern\", \"bad practice\", \"code smell\", \"design smell\", \"technical debt\",\n",
        "    \"wrong solution\", \"poor solution\", \"ineffective solution\", \"inefficient solution\", \"suboptimal solution\",\n",
        "    \"wrong way\", \"poor way\", \"ineffective way\", \"inefficient way\", \"suboptimal way\",\n",
        "    \"code defect\", \"code problem\", \"code issue\", \"code flaw\",\n",
        "    \"design defect\", \"design problem\", \"design issue\", \"design flaw\",\n",
        "    \"code debt\", \"design debt\", \"architectural debt\", \"implementation debt\", \"testing debt\", \"documentation debt\"\n",
        "])\n",
        "\n",
        "my_satd_keywords = satd_keywords_diff_3.union(satd_keywords_1_2)\n",
        "\n",
        "my_satd_aux = my_satd_keywords.union(extra_keywords)\n",
        "\n",
        "final_satd_keywords = my_satd_aux.union(extra_keywords_td)\n",
        "\n",
        "# Sort the set of strings in ascending order.\n",
        "sorted_my_satd_keywords = sorted(final_satd_keywords)\n",
        "\n",
        "print(f'Qtd de sorted_my_satd_keywords: {len(sorted_my_satd_keywords)}')\n",
        "# Print the sorted set of strings.\n",
        "list_temp = []\n",
        "for word in sorted_my_satd_keywords:\n",
        "  list_temp.append(word)\n",
        "\n",
        "print(list_temp)"
      ],
      "metadata": {
        "colab": {
          "base_uri": "https://localhost:8080/"
        },
        "id": "Ztzoe6aoz_pk",
        "outputId": "5f50bd73-3962-4163-eb60-9c629e4a8bab"
      },
      "execution_count": 35,
      "outputs": [
        {
          "output_type": "stream",
          "name": "stdout",
          "text": [
            "Qtd de sorted_my_satd_keywords: 235\n",
            "['API', 'FIXME', 'TODO', 'ability to evolve', 'ability to handle increased load', 'annotation', 'anti-pattern', 'any chance of a test', 'architectural debt', 'architectural issue', 'architectural problem', 'architectural smell', 'avoid calling it twice', 'avoid extra seek', 'bad practice', 'brittle code', 'buggy code', 'by hard coding instead of', 'cast', 'checkstyle errors', 'circular dependency', 'clean', 'clean up code', 'cleanup', 'code cleanup', 'code complexity', 'code debt', 'code defect', 'code dependencies', 'code difficulty', 'code duplication', 'code entanglement', 'code flaw', 'code improvement', 'code interdependencies', 'code issue', 'code problem', 'code redundancy', 'code restructuring', 'code rot', 'code simplification', 'code smell', 'cognitive complexity', 'comment', 'complex code', 'complex code relationships', 'complexity', 'concrete code', 'concurrency issue', 'confusing', 'constructor', 'cross-module', 'cyclic dependency', 'cyclomatic complexity', 'dead code', 'debug', 'delicate code', 'dependability', 'dependencies', 'dependency', 'deprecated code', 'design', 'design debt', 'design defect', 'design flaw', 'design flaws', 'design issue', 'design problem', 'design smell', 'difficult to maintain code', 'difficult to understand code', 'disorganized code', 'documentation', 'documentation debt', 'documentation does not mention', \"documentation doesn't match\", 'duplication', 'ease of maintenance', 'easy to break code', 'encapsulation', 'endpoints', 'error message', 'exception', 'exposed internal state', 'extension point', 'fault tolerance', 'files', 'findbugs', 'fix', 'flaky', 'flaky code', 'formatting', 'fragile code', 'get rid of', 'good to have coverage', 'hack', 'handling', 'hard-coded strings', 'hard-coded values', 'header', 'implementation', 'implementation debt', 'improvement', 'inconsistency', 'indirect dependency', 'ineffective solution', 'ineffective way', 'inefficient solution', 'inefficient way', 'infinite loop', 'inter-module', 'interface', \"it'd be nice\", \"it's not perfectly documented\", 'javadoc', 'lack of abstraction', 'lack of code comments', 'lack of cohesion', 'lack of documentation', 'lack of encapsulation', 'lack of generalization', 'lack of information hiding', 'lack of modularity', 'lack of separation of concerns', 'lack of test cases', 'lack of testing', 'latency', 'lead to huge memory allocation', 'leak', 'less verbose', 'literal strings', 'literal values', 'logging', 'magic numbers', 'magic strings', 'maintainability', 'maintainability issue', 'make it less brittle', 'makes it much easier', 'makes it very hard', 'minor', 'misleading', 'modularity', 'module dependencies', 'module-to-module', 'monolithic code', 'more efficient', 'more readable', 'more robust', 'more tests', 'more tightly coupled than ideal', 'multithreading issue', 'naming', 'need to update documentation', 'no longer needed', 'not done yet', 'not implemented', 'not supported yet', 'not thread safe', 'not used', 'output', \"patch doesn't apply cleanly\", 'performance', 'please add a test', 'poor solution', 'poor way', 'poorly documented code', 'poorly structured code', 'poorly tested code', 'quick fix', 'race condition', 'reduce duplicate code', 'redundant', 'refact', 'refactor', 'refactoring', 'reliability', 'rename', 'repeated code', 'response time', 'robustness', 'scalability', 'scalability issue', 'short term solution', 'should be updated to reflect', 'should improve a bit by', 'simplify', \"solution won't be really satisfactory\", 'some holes in the doc', 'spaghetti code', 'speed', 'speed up', 'spurious error messages', 'suboptimal solution', 'suboptimal way', 'support for', 'synchronization issue', 'system dependencies', 'system design problem', 'takes a long time', 'technical debt', 'technical debt due to architectural issues', 'technical debt due to design issues', 'technical kludge', 'temporary solution', 'test', \"test doesn't add much value\", 'testing debt', 'there is no unit test', 'throughput', 'tidy up', 'tight coupling', 'too long', 'too much', 'trustworthiness', 'typo', 'ugly', 'undocumented code', 'undocumented strings', 'undocumented values', 'unnecessary', 'unreliable code', 'unstable', 'untested code', 'unused', 'unused code', 'unused import', 'update', 'violation', 'wastes a lot of space', 'work in progress', 'workaround', 'would significantly improve', 'wrong solution', 'wrong way']\n"
          ]
        }
      ]
    },
    {
      "cell_type": "markdown",
      "source": [
        "## Analisa Commits com SATD"
      ],
      "metadata": {
        "id": "QrY0gdpX0kx8"
      }
    },
    {
      "cell_type": "code",
      "source": [
        "start_date = datetime(2009, 3, 2, 0, 0, 0)\n",
        "end_date = datetime(2023, 10, 4, 0, 0, 0)\n",
        "my_satd_commit_analyzer = SATDCommitAnalyzer(path_to_repository)"
      ],
      "metadata": {
        "id": "BOIatYtN0HsU"
      },
      "execution_count": 38,
      "outputs": []
    },
    {
      "cell_type": "markdown",
      "source": [
        "### Analyzes commit messages\n",
        "\n",
        "Analisa todas as mensagens dos commits entre 2/03/2009 e 4/10/2023 do Cassandra que contem as Keywords coletadas da literatura.\n",
        "\n"
      ],
      "metadata": {
        "id": "XCslF4FZ07u_"
      }
    },
    {
      "cell_type": "code",
      "source": [
        "commits_msg_with_satd, dict_commit_msg = my_satd_commit_analyzer.analyze_commits_for_satd(start_date, end_date, final_satd_keywords)"
      ],
      "metadata": {
        "colab": {
          "base_uri": "https://localhost:8080/"
        },
        "id": "aBGX09rj0-5b",
        "outputId": "c84cb274-1645-4697-dc59-afb2d172d708"
      },
      "execution_count": 39,
      "outputs": [
        {
          "output_type": "stream",
          "name": "stdout",
          "text": [
            "Aguarde...\n"
          ]
        },
        {
          "output_type": "stream",
          "name": "stderr",
          "text": [
            "Progress SATD message commit analysis: 100%|██████████| 29230/29230 [00:17<00:00, 1662.52it/s]\n"
          ]
        }
      ]
    },
    {
      "cell_type": "markdown",
      "source": [
        "### Analyzes commit diffs\n",
        "\n",
        "Analisa todos os diffs (added) dos commits entre 2/03/2009 e 4/10/2023 do Cassandra que contem as SATD."
      ],
      "metadata": {
        "id": "QNxPHqgd1Kyv"
      }
    },
    {
      "cell_type": "code",
      "source": [
        "dict_commit_diffs_satd = my_satd_commit_analyzer.analyze_commit_diffs_for_satd(start_date, end_date, final_satd_keywords)"
      ],
      "metadata": {
        "colab": {
          "base_uri": "https://localhost:8080/"
        },
        "id": "-5E_7hMh1FrP",
        "outputId": "83de5d26-6e83-4acf-cd02-9980bb05f84e"
      },
      "execution_count": 40,
      "outputs": [
        {
          "output_type": "stream",
          "name": "stdout",
          "text": [
            "Aguarde...\n"
          ]
        },
        {
          "output_type": "stream",
          "name": "stderr",
          "text": [
            "Progress SATD diff commit analysis: 100%|██████████| 29230/29230 [27:01<00:00, 18.03it/s]\n"
          ]
        }
      ]
    },
    {
      "cell_type": "markdown",
      "source": [
        "**Cria um dataframe para representar o resultado da análise de SATD Keywords dos Diffs dos commits**"
      ],
      "metadata": {
        "id": "dLEYo81b1bZ5"
      }
    },
    {
      "cell_type": "code",
      "source": [
        "df_commit_diffs_aux = create_df_commits_diffs_satd(dict_commit_diffs_satd)"
      ],
      "metadata": {
        "id": "yd_P4DpR2KjR"
      },
      "execution_count": 42,
      "outputs": []
    },
    {
      "cell_type": "code",
      "source": [
        "df_commit_diffs_aux"
      ],
      "metadata": {
        "colab": {
          "base_uri": "https://localhost:8080/",
          "height": 424
        },
        "id": "x4nYm4NMAH8m",
        "outputId": "c6c19f29-9440-4a25-d179-d4a39dc8fa24"
      },
      "execution_count": 51,
      "outputs": [
        {
          "output_type": "execute_result",
          "data": {
            "text/plain": [
              "                                        commit  \\\n",
              "0     1f91e99223b0d1b7ed8390400d4a06ac08e4aa85   \n",
              "1     82f5b6072a283d6742b7783e2d856c1d2c0e1f39   \n",
              "2     b6ae87ba0054ed3bb7ebcf69dfa7d47e92da399d   \n",
              "3     abc75388a3df8de72b28a5edb830e1c19ed9ec80   \n",
              "4     def1edd1fe90a4a9c9eef4ef26f422ba3a21d28f   \n",
              "...                                        ...   \n",
              "4334  3c767b0d6d8538b8dab4870052d4fd1a092a62a2   \n",
              "4335  b58d8f174d4c1017d54d4b8bdb8a0a6c592f1655   \n",
              "4336  164fa7949d1437528363465d14ed20898f1daa9e   \n",
              "4337  cb1f1399b139029e5b1c12a4bf65d19a55724933   \n",
              "4338  eb30005251cd8c10732ecab8365ebaa45f5fcbde   \n",
              "\n",
              "                                                    msg  lines  files  \\\n",
              "0     git-svn-id: https://svn.apache.org/repos/asf/i...  74502    344   \n",
              "1     New thrift file added\\n\\ngit-svn-id: https://s...     92      1   \n",
              "2     add deletion marker support to Column (boolean...    997     11   \n",
              "3     fix crash when comparing supercolumns (since t...    192      1   \n",
              "4     send back response so blocking calls can work\\...    145      2   \n",
              "...                                                 ...    ...    ...   \n",
              "4334  SAI docs for CEP-7\\n\\n patch by Lorina Poland;...   7003    212   \n",
              "4335  Make the output of ON/OFF commands in cqlsh co...    153      3   \n",
              "4336  Add support for repair coordinator to retry me...   8533    140   \n",
              "4337  Improve performance of compactions when table ...     79      3   \n",
              "4338  Upgrade caffeine cache and fix CIDR permission...     18      6   \n",
              "\n",
              "                                               keywords  \\\n",
              "0     [exception, fix, implementation, update, updat...   \n",
              "1                                                 [API]   \n",
              "2                                          [TODO, TODO]   \n",
              "3                                          [test, test]   \n",
              "4                                                [TODO]   \n",
              "...                                                 ...   \n",
              "4334  [test, documentation, dependencies, test, upda...   \n",
              "4335                                           [output]   \n",
              "4336  [support for, test, test, speed, speed up, cle...   \n",
              "4337                     [performance, speed, speed up]   \n",
              "4338                                              [fix]   \n",
              "\n",
              "                                               comments  \n",
              "0     [\\t * Throws an exception if the metrics imple...  \n",
              "1     [  // The following are beta APIs being introd...  \n",
              "2     [ * (TODO: look at making SuperColumn immutabl...  \n",
              "3     [        /* inverse sort by time to get hte la...  \n",
              "4     [            // TODO shouldn't this be checked...  \n",
              "...                                                 ...  \n",
              "4334  [*** xref:master@_:ROOT:development/testing.ad...  \n",
              "4335  [ * Make the output of ON/OFF commands in cqls...  \n",
              "4336  [ * Add support for repair coordinator to retr...  \n",
              "4337  [ * Improve performance of compactions when ta...  \n",
              "4338  [ * Upgrade caffeine cache and fix CIDR permis...  \n",
              "\n",
              "[4339 rows x 6 columns]"
            ],
            "text/html": [
              "\n",
              "  <div id=\"df-a00351e9-81d9-4f0f-b0d6-46afeed775ca\" class=\"colab-df-container\">\n",
              "    <div>\n",
              "<style scoped>\n",
              "    .dataframe tbody tr th:only-of-type {\n",
              "        vertical-align: middle;\n",
              "    }\n",
              "\n",
              "    .dataframe tbody tr th {\n",
              "        vertical-align: top;\n",
              "    }\n",
              "\n",
              "    .dataframe thead th {\n",
              "        text-align: right;\n",
              "    }\n",
              "</style>\n",
              "<table border=\"1\" class=\"dataframe\">\n",
              "  <thead>\n",
              "    <tr style=\"text-align: right;\">\n",
              "      <th></th>\n",
              "      <th>commit</th>\n",
              "      <th>msg</th>\n",
              "      <th>lines</th>\n",
              "      <th>files</th>\n",
              "      <th>keywords</th>\n",
              "      <th>comments</th>\n",
              "    </tr>\n",
              "  </thead>\n",
              "  <tbody>\n",
              "    <tr>\n",
              "      <th>0</th>\n",
              "      <td>1f91e99223b0d1b7ed8390400d4a06ac08e4aa85</td>\n",
              "      <td>git-svn-id: https://svn.apache.org/repos/asf/i...</td>\n",
              "      <td>74502</td>\n",
              "      <td>344</td>\n",
              "      <td>[exception, fix, implementation, update, updat...</td>\n",
              "      <td>[\\t * Throws an exception if the metrics imple...</td>\n",
              "    </tr>\n",
              "    <tr>\n",
              "      <th>1</th>\n",
              "      <td>82f5b6072a283d6742b7783e2d856c1d2c0e1f39</td>\n",
              "      <td>New thrift file added\\n\\ngit-svn-id: https://s...</td>\n",
              "      <td>92</td>\n",
              "      <td>1</td>\n",
              "      <td>[API]</td>\n",
              "      <td>[  // The following are beta APIs being introd...</td>\n",
              "    </tr>\n",
              "    <tr>\n",
              "      <th>2</th>\n",
              "      <td>b6ae87ba0054ed3bb7ebcf69dfa7d47e92da399d</td>\n",
              "      <td>add deletion marker support to Column (boolean...</td>\n",
              "      <td>997</td>\n",
              "      <td>11</td>\n",
              "      <td>[TODO, TODO]</td>\n",
              "      <td>[ * (TODO: look at making SuperColumn immutabl...</td>\n",
              "    </tr>\n",
              "    <tr>\n",
              "      <th>3</th>\n",
              "      <td>abc75388a3df8de72b28a5edb830e1c19ed9ec80</td>\n",
              "      <td>fix crash when comparing supercolumns (since t...</td>\n",
              "      <td>192</td>\n",
              "      <td>1</td>\n",
              "      <td>[test, test]</td>\n",
              "      <td>[        /* inverse sort by time to get hte la...</td>\n",
              "    </tr>\n",
              "    <tr>\n",
              "      <th>4</th>\n",
              "      <td>def1edd1fe90a4a9c9eef4ef26f422ba3a21d28f</td>\n",
              "      <td>send back response so blocking calls can work\\...</td>\n",
              "      <td>145</td>\n",
              "      <td>2</td>\n",
              "      <td>[TODO]</td>\n",
              "      <td>[            // TODO shouldn't this be checked...</td>\n",
              "    </tr>\n",
              "    <tr>\n",
              "      <th>...</th>\n",
              "      <td>...</td>\n",
              "      <td>...</td>\n",
              "      <td>...</td>\n",
              "      <td>...</td>\n",
              "      <td>...</td>\n",
              "      <td>...</td>\n",
              "    </tr>\n",
              "    <tr>\n",
              "      <th>4334</th>\n",
              "      <td>3c767b0d6d8538b8dab4870052d4fd1a092a62a2</td>\n",
              "      <td>SAI docs for CEP-7\\n\\n patch by Lorina Poland;...</td>\n",
              "      <td>7003</td>\n",
              "      <td>212</td>\n",
              "      <td>[test, documentation, dependencies, test, upda...</td>\n",
              "      <td>[*** xref:master@_:ROOT:development/testing.ad...</td>\n",
              "    </tr>\n",
              "    <tr>\n",
              "      <th>4335</th>\n",
              "      <td>b58d8f174d4c1017d54d4b8bdb8a0a6c592f1655</td>\n",
              "      <td>Make the output of ON/OFF commands in cqlsh co...</td>\n",
              "      <td>153</td>\n",
              "      <td>3</td>\n",
              "      <td>[output]</td>\n",
              "      <td>[ * Make the output of ON/OFF commands in cqls...</td>\n",
              "    </tr>\n",
              "    <tr>\n",
              "      <th>4336</th>\n",
              "      <td>164fa7949d1437528363465d14ed20898f1daa9e</td>\n",
              "      <td>Add support for repair coordinator to retry me...</td>\n",
              "      <td>8533</td>\n",
              "      <td>140</td>\n",
              "      <td>[support for, test, test, speed, speed up, cle...</td>\n",
              "      <td>[ * Add support for repair coordinator to retr...</td>\n",
              "    </tr>\n",
              "    <tr>\n",
              "      <th>4337</th>\n",
              "      <td>cb1f1399b139029e5b1c12a4bf65d19a55724933</td>\n",
              "      <td>Improve performance of compactions when table ...</td>\n",
              "      <td>79</td>\n",
              "      <td>3</td>\n",
              "      <td>[performance, speed, speed up]</td>\n",
              "      <td>[ * Improve performance of compactions when ta...</td>\n",
              "    </tr>\n",
              "    <tr>\n",
              "      <th>4338</th>\n",
              "      <td>eb30005251cd8c10732ecab8365ebaa45f5fcbde</td>\n",
              "      <td>Upgrade caffeine cache and fix CIDR permission...</td>\n",
              "      <td>18</td>\n",
              "      <td>6</td>\n",
              "      <td>[fix]</td>\n",
              "      <td>[ * Upgrade caffeine cache and fix CIDR permis...</td>\n",
              "    </tr>\n",
              "  </tbody>\n",
              "</table>\n",
              "<p>4339 rows × 6 columns</p>\n",
              "</div>\n",
              "    <div class=\"colab-df-buttons\">\n",
              "\n",
              "  <div class=\"colab-df-container\">\n",
              "    <button class=\"colab-df-convert\" onclick=\"convertToInteractive('df-a00351e9-81d9-4f0f-b0d6-46afeed775ca')\"\n",
              "            title=\"Convert this dataframe to an interactive table.\"\n",
              "            style=\"display:none;\">\n",
              "\n",
              "  <svg xmlns=\"http://www.w3.org/2000/svg\" height=\"24px\" viewBox=\"0 -960 960 960\">\n",
              "    <path d=\"M120-120v-720h720v720H120Zm60-500h600v-160H180v160Zm220 220h160v-160H400v160Zm0 220h160v-160H400v160ZM180-400h160v-160H180v160Zm440 0h160v-160H620v160ZM180-180h160v-160H180v160Zm440 0h160v-160H620v160Z\"/>\n",
              "  </svg>\n",
              "    </button>\n",
              "\n",
              "  <style>\n",
              "    .colab-df-container {\n",
              "      display:flex;\n",
              "      gap: 12px;\n",
              "    }\n",
              "\n",
              "    .colab-df-convert {\n",
              "      background-color: #E8F0FE;\n",
              "      border: none;\n",
              "      border-radius: 50%;\n",
              "      cursor: pointer;\n",
              "      display: none;\n",
              "      fill: #1967D2;\n",
              "      height: 32px;\n",
              "      padding: 0 0 0 0;\n",
              "      width: 32px;\n",
              "    }\n",
              "\n",
              "    .colab-df-convert:hover {\n",
              "      background-color: #E2EBFA;\n",
              "      box-shadow: 0px 1px 2px rgba(60, 64, 67, 0.3), 0px 1px 3px 1px rgba(60, 64, 67, 0.15);\n",
              "      fill: #174EA6;\n",
              "    }\n",
              "\n",
              "    .colab-df-buttons div {\n",
              "      margin-bottom: 4px;\n",
              "    }\n",
              "\n",
              "    [theme=dark] .colab-df-convert {\n",
              "      background-color: #3B4455;\n",
              "      fill: #D2E3FC;\n",
              "    }\n",
              "\n",
              "    [theme=dark] .colab-df-convert:hover {\n",
              "      background-color: #434B5C;\n",
              "      box-shadow: 0px 1px 3px 1px rgba(0, 0, 0, 0.15);\n",
              "      filter: drop-shadow(0px 1px 2px rgba(0, 0, 0, 0.3));\n",
              "      fill: #FFFFFF;\n",
              "    }\n",
              "  </style>\n",
              "\n",
              "    <script>\n",
              "      const buttonEl =\n",
              "        document.querySelector('#df-a00351e9-81d9-4f0f-b0d6-46afeed775ca button.colab-df-convert');\n",
              "      buttonEl.style.display =\n",
              "        google.colab.kernel.accessAllowed ? 'block' : 'none';\n",
              "\n",
              "      async function convertToInteractive(key) {\n",
              "        const element = document.querySelector('#df-a00351e9-81d9-4f0f-b0d6-46afeed775ca');\n",
              "        const dataTable =\n",
              "          await google.colab.kernel.invokeFunction('convertToInteractive',\n",
              "                                                    [key], {});\n",
              "        if (!dataTable) return;\n",
              "\n",
              "        const docLinkHtml = 'Like what you see? Visit the ' +\n",
              "          '<a target=\"_blank\" href=https://colab.research.google.com/notebooks/data_table.ipynb>data table notebook</a>'\n",
              "          + ' to learn more about interactive tables.';\n",
              "        element.innerHTML = '';\n",
              "        dataTable['output_type'] = 'display_data';\n",
              "        await google.colab.output.renderOutput(dataTable, element);\n",
              "        const docLink = document.createElement('div');\n",
              "        docLink.innerHTML = docLinkHtml;\n",
              "        element.appendChild(docLink);\n",
              "      }\n",
              "    </script>\n",
              "  </div>\n",
              "\n",
              "\n",
              "<div id=\"df-6acdbf82-cca8-4b08-a7a2-6415fdd642cf\">\n",
              "  <button class=\"colab-df-quickchart\" onclick=\"quickchart('df-6acdbf82-cca8-4b08-a7a2-6415fdd642cf')\"\n",
              "            title=\"Suggest charts\"\n",
              "            style=\"display:none;\">\n",
              "\n",
              "<svg xmlns=\"http://www.w3.org/2000/svg\" height=\"24px\"viewBox=\"0 0 24 24\"\n",
              "     width=\"24px\">\n",
              "    <g>\n",
              "        <path d=\"M19 3H5c-1.1 0-2 .9-2 2v14c0 1.1.9 2 2 2h14c1.1 0 2-.9 2-2V5c0-1.1-.9-2-2-2zM9 17H7v-7h2v7zm4 0h-2V7h2v10zm4 0h-2v-4h2v4z\"/>\n",
              "    </g>\n",
              "</svg>\n",
              "  </button>\n",
              "\n",
              "<style>\n",
              "  .colab-df-quickchart {\n",
              "      --bg-color: #E8F0FE;\n",
              "      --fill-color: #1967D2;\n",
              "      --hover-bg-color: #E2EBFA;\n",
              "      --hover-fill-color: #174EA6;\n",
              "      --disabled-fill-color: #AAA;\n",
              "      --disabled-bg-color: #DDD;\n",
              "  }\n",
              "\n",
              "  [theme=dark] .colab-df-quickchart {\n",
              "      --bg-color: #3B4455;\n",
              "      --fill-color: #D2E3FC;\n",
              "      --hover-bg-color: #434B5C;\n",
              "      --hover-fill-color: #FFFFFF;\n",
              "      --disabled-bg-color: #3B4455;\n",
              "      --disabled-fill-color: #666;\n",
              "  }\n",
              "\n",
              "  .colab-df-quickchart {\n",
              "    background-color: var(--bg-color);\n",
              "    border: none;\n",
              "    border-radius: 50%;\n",
              "    cursor: pointer;\n",
              "    display: none;\n",
              "    fill: var(--fill-color);\n",
              "    height: 32px;\n",
              "    padding: 0;\n",
              "    width: 32px;\n",
              "  }\n",
              "\n",
              "  .colab-df-quickchart:hover {\n",
              "    background-color: var(--hover-bg-color);\n",
              "    box-shadow: 0 1px 2px rgba(60, 64, 67, 0.3), 0 1px 3px 1px rgba(60, 64, 67, 0.15);\n",
              "    fill: var(--button-hover-fill-color);\n",
              "  }\n",
              "\n",
              "  .colab-df-quickchart-complete:disabled,\n",
              "  .colab-df-quickchart-complete:disabled:hover {\n",
              "    background-color: var(--disabled-bg-color);\n",
              "    fill: var(--disabled-fill-color);\n",
              "    box-shadow: none;\n",
              "  }\n",
              "\n",
              "  .colab-df-spinner {\n",
              "    border: 2px solid var(--fill-color);\n",
              "    border-color: transparent;\n",
              "    border-bottom-color: var(--fill-color);\n",
              "    animation:\n",
              "      spin 1s steps(1) infinite;\n",
              "  }\n",
              "\n",
              "  @keyframes spin {\n",
              "    0% {\n",
              "      border-color: transparent;\n",
              "      border-bottom-color: var(--fill-color);\n",
              "      border-left-color: var(--fill-color);\n",
              "    }\n",
              "    20% {\n",
              "      border-color: transparent;\n",
              "      border-left-color: var(--fill-color);\n",
              "      border-top-color: var(--fill-color);\n",
              "    }\n",
              "    30% {\n",
              "      border-color: transparent;\n",
              "      border-left-color: var(--fill-color);\n",
              "      border-top-color: var(--fill-color);\n",
              "      border-right-color: var(--fill-color);\n",
              "    }\n",
              "    40% {\n",
              "      border-color: transparent;\n",
              "      border-right-color: var(--fill-color);\n",
              "      border-top-color: var(--fill-color);\n",
              "    }\n",
              "    60% {\n",
              "      border-color: transparent;\n",
              "      border-right-color: var(--fill-color);\n",
              "    }\n",
              "    80% {\n",
              "      border-color: transparent;\n",
              "      border-right-color: var(--fill-color);\n",
              "      border-bottom-color: var(--fill-color);\n",
              "    }\n",
              "    90% {\n",
              "      border-color: transparent;\n",
              "      border-bottom-color: var(--fill-color);\n",
              "    }\n",
              "  }\n",
              "</style>\n",
              "\n",
              "  <script>\n",
              "    async function quickchart(key) {\n",
              "      const quickchartButtonEl =\n",
              "        document.querySelector('#' + key + ' button');\n",
              "      quickchartButtonEl.disabled = true;  // To prevent multiple clicks.\n",
              "      quickchartButtonEl.classList.add('colab-df-spinner');\n",
              "      try {\n",
              "        const charts = await google.colab.kernel.invokeFunction(\n",
              "            'suggestCharts', [key], {});\n",
              "      } catch (error) {\n",
              "        console.error('Error during call to suggestCharts:', error);\n",
              "      }\n",
              "      quickchartButtonEl.classList.remove('colab-df-spinner');\n",
              "      quickchartButtonEl.classList.add('colab-df-quickchart-complete');\n",
              "    }\n",
              "    (() => {\n",
              "      let quickchartButtonEl =\n",
              "        document.querySelector('#df-6acdbf82-cca8-4b08-a7a2-6415fdd642cf button');\n",
              "      quickchartButtonEl.style.display =\n",
              "        google.colab.kernel.accessAllowed ? 'block' : 'none';\n",
              "    })();\n",
              "  </script>\n",
              "</div>\n",
              "    </div>\n",
              "  </div>\n"
            ]
          },
          "metadata": {},
          "execution_count": 51
        }
      ]
    },
    {
      "cell_type": "code",
      "source": [
        "round(df_commit_diffs_aux.describe(), 2)"
      ],
      "metadata": {
        "colab": {
          "base_uri": "https://localhost:8080/",
          "height": 300
        },
        "id": "VRYeyZdi_6YF",
        "outputId": "10699694-f022-4f38-80b1-7867db70cf76"
      },
      "execution_count": 49,
      "outputs": [
        {
          "output_type": "execute_result",
          "data": {
            "text/plain": [
              "           lines    files\n",
              "count    4339.00  4339.00\n",
              "mean      735.89    12.45\n",
              "std      4845.58    32.60\n",
              "min         1.00     1.00\n",
              "25%        27.00     2.00\n",
              "50%       116.00     4.00\n",
              "75%       400.00    10.00\n",
              "max    215675.00   645.00"
            ],
            "text/html": [
              "\n",
              "  <div id=\"df-bd19d135-3597-4d57-aa75-d68b5f4b1b83\" class=\"colab-df-container\">\n",
              "    <div>\n",
              "<style scoped>\n",
              "    .dataframe tbody tr th:only-of-type {\n",
              "        vertical-align: middle;\n",
              "    }\n",
              "\n",
              "    .dataframe tbody tr th {\n",
              "        vertical-align: top;\n",
              "    }\n",
              "\n",
              "    .dataframe thead th {\n",
              "        text-align: right;\n",
              "    }\n",
              "</style>\n",
              "<table border=\"1\" class=\"dataframe\">\n",
              "  <thead>\n",
              "    <tr style=\"text-align: right;\">\n",
              "      <th></th>\n",
              "      <th>lines</th>\n",
              "      <th>files</th>\n",
              "    </tr>\n",
              "  </thead>\n",
              "  <tbody>\n",
              "    <tr>\n",
              "      <th>count</th>\n",
              "      <td>4339.00</td>\n",
              "      <td>4339.00</td>\n",
              "    </tr>\n",
              "    <tr>\n",
              "      <th>mean</th>\n",
              "      <td>735.89</td>\n",
              "      <td>12.45</td>\n",
              "    </tr>\n",
              "    <tr>\n",
              "      <th>std</th>\n",
              "      <td>4845.58</td>\n",
              "      <td>32.60</td>\n",
              "    </tr>\n",
              "    <tr>\n",
              "      <th>min</th>\n",
              "      <td>1.00</td>\n",
              "      <td>1.00</td>\n",
              "    </tr>\n",
              "    <tr>\n",
              "      <th>25%</th>\n",
              "      <td>27.00</td>\n",
              "      <td>2.00</td>\n",
              "    </tr>\n",
              "    <tr>\n",
              "      <th>50%</th>\n",
              "      <td>116.00</td>\n",
              "      <td>4.00</td>\n",
              "    </tr>\n",
              "    <tr>\n",
              "      <th>75%</th>\n",
              "      <td>400.00</td>\n",
              "      <td>10.00</td>\n",
              "    </tr>\n",
              "    <tr>\n",
              "      <th>max</th>\n",
              "      <td>215675.00</td>\n",
              "      <td>645.00</td>\n",
              "    </tr>\n",
              "  </tbody>\n",
              "</table>\n",
              "</div>\n",
              "    <div class=\"colab-df-buttons\">\n",
              "\n",
              "  <div class=\"colab-df-container\">\n",
              "    <button class=\"colab-df-convert\" onclick=\"convertToInteractive('df-bd19d135-3597-4d57-aa75-d68b5f4b1b83')\"\n",
              "            title=\"Convert this dataframe to an interactive table.\"\n",
              "            style=\"display:none;\">\n",
              "\n",
              "  <svg xmlns=\"http://www.w3.org/2000/svg\" height=\"24px\" viewBox=\"0 -960 960 960\">\n",
              "    <path d=\"M120-120v-720h720v720H120Zm60-500h600v-160H180v160Zm220 220h160v-160H400v160Zm0 220h160v-160H400v160ZM180-400h160v-160H180v160Zm440 0h160v-160H620v160ZM180-180h160v-160H180v160Zm440 0h160v-160H620v160Z\"/>\n",
              "  </svg>\n",
              "    </button>\n",
              "\n",
              "  <style>\n",
              "    .colab-df-container {\n",
              "      display:flex;\n",
              "      gap: 12px;\n",
              "    }\n",
              "\n",
              "    .colab-df-convert {\n",
              "      background-color: #E8F0FE;\n",
              "      border: none;\n",
              "      border-radius: 50%;\n",
              "      cursor: pointer;\n",
              "      display: none;\n",
              "      fill: #1967D2;\n",
              "      height: 32px;\n",
              "      padding: 0 0 0 0;\n",
              "      width: 32px;\n",
              "    }\n",
              "\n",
              "    .colab-df-convert:hover {\n",
              "      background-color: #E2EBFA;\n",
              "      box-shadow: 0px 1px 2px rgba(60, 64, 67, 0.3), 0px 1px 3px 1px rgba(60, 64, 67, 0.15);\n",
              "      fill: #174EA6;\n",
              "    }\n",
              "\n",
              "    .colab-df-buttons div {\n",
              "      margin-bottom: 4px;\n",
              "    }\n",
              "\n",
              "    [theme=dark] .colab-df-convert {\n",
              "      background-color: #3B4455;\n",
              "      fill: #D2E3FC;\n",
              "    }\n",
              "\n",
              "    [theme=dark] .colab-df-convert:hover {\n",
              "      background-color: #434B5C;\n",
              "      box-shadow: 0px 1px 3px 1px rgba(0, 0, 0, 0.15);\n",
              "      filter: drop-shadow(0px 1px 2px rgba(0, 0, 0, 0.3));\n",
              "      fill: #FFFFFF;\n",
              "    }\n",
              "  </style>\n",
              "\n",
              "    <script>\n",
              "      const buttonEl =\n",
              "        document.querySelector('#df-bd19d135-3597-4d57-aa75-d68b5f4b1b83 button.colab-df-convert');\n",
              "      buttonEl.style.display =\n",
              "        google.colab.kernel.accessAllowed ? 'block' : 'none';\n",
              "\n",
              "      async function convertToInteractive(key) {\n",
              "        const element = document.querySelector('#df-bd19d135-3597-4d57-aa75-d68b5f4b1b83');\n",
              "        const dataTable =\n",
              "          await google.colab.kernel.invokeFunction('convertToInteractive',\n",
              "                                                    [key], {});\n",
              "        if (!dataTable) return;\n",
              "\n",
              "        const docLinkHtml = 'Like what you see? Visit the ' +\n",
              "          '<a target=\"_blank\" href=https://colab.research.google.com/notebooks/data_table.ipynb>data table notebook</a>'\n",
              "          + ' to learn more about interactive tables.';\n",
              "        element.innerHTML = '';\n",
              "        dataTable['output_type'] = 'display_data';\n",
              "        await google.colab.output.renderOutput(dataTable, element);\n",
              "        const docLink = document.createElement('div');\n",
              "        docLink.innerHTML = docLinkHtml;\n",
              "        element.appendChild(docLink);\n",
              "      }\n",
              "    </script>\n",
              "  </div>\n",
              "\n",
              "\n",
              "<div id=\"df-2a6a847d-8f94-49d8-bce9-f380973490df\">\n",
              "  <button class=\"colab-df-quickchart\" onclick=\"quickchart('df-2a6a847d-8f94-49d8-bce9-f380973490df')\"\n",
              "            title=\"Suggest charts\"\n",
              "            style=\"display:none;\">\n",
              "\n",
              "<svg xmlns=\"http://www.w3.org/2000/svg\" height=\"24px\"viewBox=\"0 0 24 24\"\n",
              "     width=\"24px\">\n",
              "    <g>\n",
              "        <path d=\"M19 3H5c-1.1 0-2 .9-2 2v14c0 1.1.9 2 2 2h14c1.1 0 2-.9 2-2V5c0-1.1-.9-2-2-2zM9 17H7v-7h2v7zm4 0h-2V7h2v10zm4 0h-2v-4h2v4z\"/>\n",
              "    </g>\n",
              "</svg>\n",
              "  </button>\n",
              "\n",
              "<style>\n",
              "  .colab-df-quickchart {\n",
              "      --bg-color: #E8F0FE;\n",
              "      --fill-color: #1967D2;\n",
              "      --hover-bg-color: #E2EBFA;\n",
              "      --hover-fill-color: #174EA6;\n",
              "      --disabled-fill-color: #AAA;\n",
              "      --disabled-bg-color: #DDD;\n",
              "  }\n",
              "\n",
              "  [theme=dark] .colab-df-quickchart {\n",
              "      --bg-color: #3B4455;\n",
              "      --fill-color: #D2E3FC;\n",
              "      --hover-bg-color: #434B5C;\n",
              "      --hover-fill-color: #FFFFFF;\n",
              "      --disabled-bg-color: #3B4455;\n",
              "      --disabled-fill-color: #666;\n",
              "  }\n",
              "\n",
              "  .colab-df-quickchart {\n",
              "    background-color: var(--bg-color);\n",
              "    border: none;\n",
              "    border-radius: 50%;\n",
              "    cursor: pointer;\n",
              "    display: none;\n",
              "    fill: var(--fill-color);\n",
              "    height: 32px;\n",
              "    padding: 0;\n",
              "    width: 32px;\n",
              "  }\n",
              "\n",
              "  .colab-df-quickchart:hover {\n",
              "    background-color: var(--hover-bg-color);\n",
              "    box-shadow: 0 1px 2px rgba(60, 64, 67, 0.3), 0 1px 3px 1px rgba(60, 64, 67, 0.15);\n",
              "    fill: var(--button-hover-fill-color);\n",
              "  }\n",
              "\n",
              "  .colab-df-quickchart-complete:disabled,\n",
              "  .colab-df-quickchart-complete:disabled:hover {\n",
              "    background-color: var(--disabled-bg-color);\n",
              "    fill: var(--disabled-fill-color);\n",
              "    box-shadow: none;\n",
              "  }\n",
              "\n",
              "  .colab-df-spinner {\n",
              "    border: 2px solid var(--fill-color);\n",
              "    border-color: transparent;\n",
              "    border-bottom-color: var(--fill-color);\n",
              "    animation:\n",
              "      spin 1s steps(1) infinite;\n",
              "  }\n",
              "\n",
              "  @keyframes spin {\n",
              "    0% {\n",
              "      border-color: transparent;\n",
              "      border-bottom-color: var(--fill-color);\n",
              "      border-left-color: var(--fill-color);\n",
              "    }\n",
              "    20% {\n",
              "      border-color: transparent;\n",
              "      border-left-color: var(--fill-color);\n",
              "      border-top-color: var(--fill-color);\n",
              "    }\n",
              "    30% {\n",
              "      border-color: transparent;\n",
              "      border-left-color: var(--fill-color);\n",
              "      border-top-color: var(--fill-color);\n",
              "      border-right-color: var(--fill-color);\n",
              "    }\n",
              "    40% {\n",
              "      border-color: transparent;\n",
              "      border-right-color: var(--fill-color);\n",
              "      border-top-color: var(--fill-color);\n",
              "    }\n",
              "    60% {\n",
              "      border-color: transparent;\n",
              "      border-right-color: var(--fill-color);\n",
              "    }\n",
              "    80% {\n",
              "      border-color: transparent;\n",
              "      border-right-color: var(--fill-color);\n",
              "      border-bottom-color: var(--fill-color);\n",
              "    }\n",
              "    90% {\n",
              "      border-color: transparent;\n",
              "      border-bottom-color: var(--fill-color);\n",
              "    }\n",
              "  }\n",
              "</style>\n",
              "\n",
              "  <script>\n",
              "    async function quickchart(key) {\n",
              "      const quickchartButtonEl =\n",
              "        document.querySelector('#' + key + ' button');\n",
              "      quickchartButtonEl.disabled = true;  // To prevent multiple clicks.\n",
              "      quickchartButtonEl.classList.add('colab-df-spinner');\n",
              "      try {\n",
              "        const charts = await google.colab.kernel.invokeFunction(\n",
              "            'suggestCharts', [key], {});\n",
              "      } catch (error) {\n",
              "        console.error('Error during call to suggestCharts:', error);\n",
              "      }\n",
              "      quickchartButtonEl.classList.remove('colab-df-spinner');\n",
              "      quickchartButtonEl.classList.add('colab-df-quickchart-complete');\n",
              "    }\n",
              "    (() => {\n",
              "      let quickchartButtonEl =\n",
              "        document.querySelector('#df-2a6a847d-8f94-49d8-bce9-f380973490df button');\n",
              "      quickchartButtonEl.style.display =\n",
              "        google.colab.kernel.accessAllowed ? 'block' : 'none';\n",
              "    })();\n",
              "  </script>\n",
              "</div>\n",
              "    </div>\n",
              "  </div>\n"
            ]
          },
          "metadata": {},
          "execution_count": 49
        }
      ]
    },
    {
      "cell_type": "code",
      "source": [
        "fig1, ax1 = pyplot.subplots()\n",
        "ax1.set_title('LOC changes')\n",
        "ax1.boxplot(x=df_commit_diffs_aux.lines, showfliers=False)"
      ],
      "metadata": {
        "id": "AC4WGRQJV-v_",
        "outputId": "be213b32-2048-48b0-b684-eb5d2034c59c",
        "colab": {
          "base_uri": "https://localhost:8080/",
          "height": 595
        }
      },
      "execution_count": 63,
      "outputs": [
        {
          "output_type": "execute_result",
          "data": {
            "text/plain": [
              "{'whiskers': [<matplotlib.lines.Line2D at 0x7b561fcb1cf0>,\n",
              "  <matplotlib.lines.Line2D at 0x7b561fcb08b0>],\n",
              " 'caps': [<matplotlib.lines.Line2D at 0x7b561fcb10f0>,\n",
              "  <matplotlib.lines.Line2D at 0x7b561fcb2dd0>],\n",
              " 'boxes': [<matplotlib.lines.Line2D at 0x7b561fcb2e00>],\n",
              " 'medians': [<matplotlib.lines.Line2D at 0x7b561fcb2e30>],\n",
              " 'fliers': [],\n",
              " 'means': []}"
            ]
          },
          "metadata": {},
          "execution_count": 63
        },
        {
          "output_type": "display_data",
          "data": {
            "text/plain": [
              "<Figure size 640x480 with 1 Axes>"
            ],
            "image/png": "[encoded data removed]"
          },
          "metadata": {}
        }
      ]
    },
    {
      "cell_type": "code",
      "source": [
        "fig1, ax1 = pyplot.subplots()\n",
        "ax1.set_title('Modified files')\n",
        "ax1.boxplot(x=df_commit_diffs_aux.files, showfliers=False)"
      ],
      "metadata": {
        "id": "xjvkVXXYTf-g",
        "outputId": "4a200092-085a-4ff3-d771-326f2d3a7893",
        "colab": {
          "base_uri": "https://localhost:8080/",
          "height": 595
        }
      },
      "execution_count": 62,
      "outputs": [
        {
          "output_type": "execute_result",
          "data": {
            "text/plain": [
              "{'whiskers': [<matplotlib.lines.Line2D at 0x7b561fca9c30>,\n",
              "  <matplotlib.lines.Line2D at 0x7b561fca9930>],\n",
              " 'caps': [<matplotlib.lines.Line2D at 0x7b561fca82e0>,\n",
              "  <matplotlib.lines.Line2D at 0x7b561fcabfd0>],\n",
              " 'boxes': [<matplotlib.lines.Line2D at 0x7b561f61bb50>],\n",
              " 'medians': [<matplotlib.lines.Line2D at 0x7b561fcab8e0>],\n",
              " 'fliers': [],\n",
              " 'means': []}"
            ]
          },
          "metadata": {},
          "execution_count": 62
        },
        {
          "output_type": "display_data",
          "data": {
            "text/plain": [
              "<Figure size 640x480 with 1 Axes>"
            ],
            "image/png": "[encoded data removed]"
          },
          "metadata": {}
        }
      ]
    },
    {
      "cell_type": "code",
      "source": [
        "df_commit_diffs_aux.to_excel('commit_diffs_satd.xlsx', index=False)"
      ],
      "metadata": {
        "id": "z6PguCje_u7n"
      },
      "execution_count": 47,
      "outputs": []
    },
    {
      "cell_type": "markdown",
      "source": [
        "## Analisa Commits sem SATD"
      ],
      "metadata": {
        "id": "72e8gCQE3YS4"
      }
    },
    {
      "cell_type": "markdown",
      "source": [
        "### Analisa todos os diffs (added) dos commits entre 2/03/2009 e 4/10/2023 do Cassandra que SEM as SATD."
      ],
      "metadata": {
        "id": "262DsBdb2WY3"
      }
    },
    {
      "cell_type": "code",
      "source": [
        "dict_commit_diffs_no_satd = my_satd_commit_analyzer.analyze_commit_diffs_for_no_satd(start_date, end_date, final_satd_keywords)"
      ],
      "metadata": {
        "colab": {
          "base_uri": "https://localhost:8080/"
        },
        "id": "67atuEdZ2X8h",
        "outputId": "818d8c92-d9aa-4ee3-e23a-9b67c14f3507"
      },
      "execution_count": 43,
      "outputs": [
        {
          "output_type": "stream",
          "name": "stdout",
          "text": [
            "Aguarde...\n"
          ]
        },
        {
          "output_type": "stream",
          "name": "stderr",
          "text": [
            "Progress SATD diff commit analysis: 100%|██████████| 29230/29230 [16:52<00:00, 28.86it/s]\n"
          ]
        }
      ]
    },
    {
      "cell_type": "code",
      "source": [
        "df_commit_diffs_aux_no_satd = create_df_commits_diffs_no_satd(dict_commit_diffs_no_satd)"
      ],
      "metadata": {
        "id": "Mb9TlUhN2pwU"
      },
      "execution_count": 44,
      "outputs": []
    },
    {
      "cell_type": "code",
      "source": [
        "df_commit_diffs_aux_no_satd"
      ],
      "metadata": {
        "colab": {
          "base_uri": "https://localhost:8080/",
          "height": 424
        },
        "id": "MT_LPuUb_iyV",
        "outputId": "ff3ba622-5d4d-491d-e57f-bb8df1a87ec8"
      },
      "execution_count": 45,
      "outputs": [
        {
          "output_type": "execute_result",
          "data": {
            "text/plain": [
              "                                       commits  \\\n",
              "0     1f91e99223b0d1b7ed8390400d4a06ac08e4aa85   \n",
              "1     cf56f8f3acbeac0ddff9ee3131ad7abe2a919ba3   \n",
              "2     e90036f6e1b2c799bef4842f69a0df9ee5b08ec9   \n",
              "3     16f30f16749fe4f75c94b17aa4a4b63df4ddb825   \n",
              "4     da5c6b8fc6ce179e22fb344a2dd528403fc11385   \n",
              "...                                        ...   \n",
              "9478  dc7234134cb20af4f10b41eab57bd5312fd0e6f1   \n",
              "9479  164fa7949d1437528363465d14ed20898f1daa9e   \n",
              "9480  b9f614f7e56b8b12149cb51f89558d0568901853   \n",
              "9481  cb1f1399b139029e5b1c12a4bf65d19a55724933   \n",
              "9482  4eeaf6a6ee409ae62c75a0d6fda7bd9463878fc3   \n",
              "\n",
              "                                                    msg  lines  files  \\\n",
              "0     git-svn-id: https://svn.apache.org/repos/asf/i...  74502    344   \n",
              "1     Add build script and make sure it works\\n\\ngit...    156      4   \n",
              "2     Needed to make these changes to fix an issue w...    183      4   \n",
              "3     Fixed some bugs that resulted from moving sour...     93      5   \n",
              "4     Removed JDK7 dependencies.\\n\\ngit-svn-id: http...    144      1   \n",
              "...                                                 ...    ...    ...   \n",
              "9478  Upgrade snappy-java to 1.1.10.4\\n\\npatch by Ma...      3      2   \n",
              "9479  Add support for repair coordinator to retry me...   8533    140   \n",
              "9480  Remove deprecated properties in CompressionPar...    157     14   \n",
              "9481  Improve performance of compactions when table ...     79      3   \n",
              "9482  Update hdrhistogram to 2.1.12\\n\\npatch by Ekat...      3      2   \n",
              "\n",
              "                                               comments  \n",
              "0     [/**,  * Licensed to the Apache Software Found...  \n",
              "1     [//            JobTracker.instance().start();,...  \n",
              "2     [    /**,      * This method returns true if t...  \n",
              "3     [            // seeking outside of current buf...  \n",
              "4     [                // rm.add(\"Test:Column-\" + j,...  \n",
              "...                                                 ...  \n",
              "9478  [ * Upgrade snappy-java to 1.1.10.4 (CASSANDRA...  \n",
              "9479  [/*,  * Licensed to the Apache Software Founda...  \n",
              "9480  [ * Remove deprecated properties in Compressio...  \n",
              "9481  [        /**,          * Returns true if the m...  \n",
              "9482  [ * Update hdrhistogram to 2.1.12 (CASSANDRA-1...  \n",
              "\n",
              "[9483 rows x 5 columns]"
            ],
            "text/html": [
              "\n",
              "  <div id=\"df-0cf91a78-613e-41aa-b907-6811fd5d423a\" class=\"colab-df-container\">\n",
              "    <div>\n",
              "<style scoped>\n",
              "    .dataframe tbody tr th:only-of-type {\n",
              "        vertical-align: middle;\n",
              "    }\n",
              "\n",
              "    .dataframe tbody tr th {\n",
              "        vertical-align: top;\n",
              "    }\n",
              "\n",
              "    .dataframe thead th {\n",
              "        text-align: right;\n",
              "    }\n",
              "</style>\n",
              "<table border=\"1\" class=\"dataframe\">\n",
              "  <thead>\n",
              "    <tr style=\"text-align: right;\">\n",
              "      <th></th>\n",
              "      <th>commits</th>\n",
              "      <th>msg</th>\n",
              "      <th>lines</th>\n",
              "      <th>files</th>\n",
              "      <th>comments</th>\n",
              "    </tr>\n",
              "  </thead>\n",
              "  <tbody>\n",
              "    <tr>\n",
              "      <th>0</th>\n",
              "      <td>1f91e99223b0d1b7ed8390400d4a06ac08e4aa85</td>\n",
              "      <td>git-svn-id: https://svn.apache.org/repos/asf/i...</td>\n",
              "      <td>74502</td>\n",
              "      <td>344</td>\n",
              "      <td>[/**,  * Licensed to the Apache Software Found...</td>\n",
              "    </tr>\n",
              "    <tr>\n",
              "      <th>1</th>\n",
              "      <td>cf56f8f3acbeac0ddff9ee3131ad7abe2a919ba3</td>\n",
              "      <td>Add build script and make sure it works\\n\\ngit...</td>\n",
              "      <td>156</td>\n",
              "      <td>4</td>\n",
              "      <td>[//            JobTracker.instance().start();,...</td>\n",
              "    </tr>\n",
              "    <tr>\n",
              "      <th>2</th>\n",
              "      <td>e90036f6e1b2c799bef4842f69a0df9ee5b08ec9</td>\n",
              "      <td>Needed to make these changes to fix an issue w...</td>\n",
              "      <td>183</td>\n",
              "      <td>4</td>\n",
              "      <td>[    /**,      * This method returns true if t...</td>\n",
              "    </tr>\n",
              "    <tr>\n",
              "      <th>3</th>\n",
              "      <td>16f30f16749fe4f75c94b17aa4a4b63df4ddb825</td>\n",
              "      <td>Fixed some bugs that resulted from moving sour...</td>\n",
              "      <td>93</td>\n",
              "      <td>5</td>\n",
              "      <td>[            // seeking outside of current buf...</td>\n",
              "    </tr>\n",
              "    <tr>\n",
              "      <th>4</th>\n",
              "      <td>da5c6b8fc6ce179e22fb344a2dd528403fc11385</td>\n",
              "      <td>Removed JDK7 dependencies.\\n\\ngit-svn-id: http...</td>\n",
              "      <td>144</td>\n",
              "      <td>1</td>\n",
              "      <td>[                // rm.add(\"Test:Column-\" + j,...</td>\n",
              "    </tr>\n",
              "    <tr>\n",
              "      <th>...</th>\n",
              "      <td>...</td>\n",
              "      <td>...</td>\n",
              "      <td>...</td>\n",
              "      <td>...</td>\n",
              "      <td>...</td>\n",
              "    </tr>\n",
              "    <tr>\n",
              "      <th>9478</th>\n",
              "      <td>dc7234134cb20af4f10b41eab57bd5312fd0e6f1</td>\n",
              "      <td>Upgrade snappy-java to 1.1.10.4\\n\\npatch by Ma...</td>\n",
              "      <td>3</td>\n",
              "      <td>2</td>\n",
              "      <td>[ * Upgrade snappy-java to 1.1.10.4 (CASSANDRA...</td>\n",
              "    </tr>\n",
              "    <tr>\n",
              "      <th>9479</th>\n",
              "      <td>164fa7949d1437528363465d14ed20898f1daa9e</td>\n",
              "      <td>Add support for repair coordinator to retry me...</td>\n",
              "      <td>8533</td>\n",
              "      <td>140</td>\n",
              "      <td>[/*,  * Licensed to the Apache Software Founda...</td>\n",
              "    </tr>\n",
              "    <tr>\n",
              "      <th>9480</th>\n",
              "      <td>b9f614f7e56b8b12149cb51f89558d0568901853</td>\n",
              "      <td>Remove deprecated properties in CompressionPar...</td>\n",
              "      <td>157</td>\n",
              "      <td>14</td>\n",
              "      <td>[ * Remove deprecated properties in Compressio...</td>\n",
              "    </tr>\n",
              "    <tr>\n",
              "      <th>9481</th>\n",
              "      <td>cb1f1399b139029e5b1c12a4bf65d19a55724933</td>\n",
              "      <td>Improve performance of compactions when table ...</td>\n",
              "      <td>79</td>\n",
              "      <td>3</td>\n",
              "      <td>[        /**,          * Returns true if the m...</td>\n",
              "    </tr>\n",
              "    <tr>\n",
              "      <th>9482</th>\n",
              "      <td>4eeaf6a6ee409ae62c75a0d6fda7bd9463878fc3</td>\n",
              "      <td>Update hdrhistogram to 2.1.12\\n\\npatch by Ekat...</td>\n",
              "      <td>3</td>\n",
              "      <td>2</td>\n",
              "      <td>[ * Update hdrhistogram to 2.1.12 (CASSANDRA-1...</td>\n",
              "    </tr>\n",
              "  </tbody>\n",
              "</table>\n",
              "<p>9483 rows × 5 columns</p>\n",
              "</div>\n",
              "    <div class=\"colab-df-buttons\">\n",
              "\n",
              "  <div class=\"colab-df-container\">\n",
              "    <button class=\"colab-df-convert\" onclick=\"convertToInteractive('df-0cf91a78-613e-41aa-b907-6811fd5d423a')\"\n",
              "            title=\"Convert this dataframe to an interactive table.\"\n",
              "            style=\"display:none;\">\n",
              "\n",
              "  <svg xmlns=\"http://www.w3.org/2000/svg\" height=\"24px\" viewBox=\"0 -960 960 960\">\n",
              "    <path d=\"M120-120v-720h720v720H120Zm60-500h600v-160H180v160Zm220 220h160v-160H400v160Zm0 220h160v-160H400v160ZM180-400h160v-160H180v160Zm440 0h160v-160H620v160ZM180-180h160v-160H180v160Zm440 0h160v-160H620v160Z\"/>\n",
              "  </svg>\n",
              "    </button>\n",
              "\n",
              "  <style>\n",
              "    .colab-df-container {\n",
              "      display:flex;\n",
              "      gap: 12px;\n",
              "    }\n",
              "\n",
              "    .colab-df-convert {\n",
              "      background-color: #E8F0FE;\n",
              "      border: none;\n",
              "      border-radius: 50%;\n",
              "      cursor: pointer;\n",
              "      display: none;\n",
              "      fill: #1967D2;\n",
              "      height: 32px;\n",
              "      padding: 0 0 0 0;\n",
              "      width: 32px;\n",
              "    }\n",
              "\n",
              "    .colab-df-convert:hover {\n",
              "      background-color: #E2EBFA;\n",
              "      box-shadow: 0px 1px 2px rgba(60, 64, 67, 0.3), 0px 1px 3px 1px rgba(60, 64, 67, 0.15);\n",
              "      fill: #174EA6;\n",
              "    }\n",
              "\n",
              "    .colab-df-buttons div {\n",
              "      margin-bottom: 4px;\n",
              "    }\n",
              "\n",
              "    [theme=dark] .colab-df-convert {\n",
              "      background-color: #3B4455;\n",
              "      fill: #D2E3FC;\n",
              "    }\n",
              "\n",
              "    [theme=dark] .colab-df-convert:hover {\n",
              "      background-color: #434B5C;\n",
              "      box-shadow: 0px 1px 3px 1px rgba(0, 0, 0, 0.15);\n",
              "      filter: drop-shadow(0px 1px 2px rgba(0, 0, 0, 0.3));\n",
              "      fill: #FFFFFF;\n",
              "    }\n",
              "  </style>\n",
              "\n",
              "    <script>\n",
              "      const buttonEl =\n",
              "        document.querySelector('#df-0cf91a78-613e-41aa-b907-6811fd5d423a button.colab-df-convert');\n",
              "      buttonEl.style.display =\n",
              "        google.colab.kernel.accessAllowed ? 'block' : 'none';\n",
              "\n",
              "      async function convertToInteractive(key) {\n",
              "        const element = document.querySelector('#df-0cf91a78-613e-41aa-b907-6811fd5d423a');\n",
              "        const dataTable =\n",
              "          await google.colab.kernel.invokeFunction('convertToInteractive',\n",
              "                                                    [key], {});\n",
              "        if (!dataTable) return;\n",
              "\n",
              "        const docLinkHtml = 'Like what you see? Visit the ' +\n",
              "          '<a target=\"_blank\" href=https://colab.research.google.com/notebooks/data_table.ipynb>data table notebook</a>'\n",
              "          + ' to learn more about interactive tables.';\n",
              "        element.innerHTML = '';\n",
              "        dataTable['output_type'] = 'display_data';\n",
              "        await google.colab.output.renderOutput(dataTable, element);\n",
              "        const docLink = document.createElement('div');\n",
              "        docLink.innerHTML = docLinkHtml;\n",
              "        element.appendChild(docLink);\n",
              "      }\n",
              "    </script>\n",
              "  </div>\n",
              "\n",
              "\n",
              "<div id=\"df-a015dd3c-b4a4-4a06-b52f-fbf28cd82db0\">\n",
              "  <button class=\"colab-df-quickchart\" onclick=\"quickchart('df-a015dd3c-b4a4-4a06-b52f-fbf28cd82db0')\"\n",
              "            title=\"Suggest charts\"\n",
              "            style=\"display:none;\">\n",
              "\n",
              "<svg xmlns=\"http://www.w3.org/2000/svg\" height=\"24px\"viewBox=\"0 0 24 24\"\n",
              "     width=\"24px\">\n",
              "    <g>\n",
              "        <path d=\"M19 3H5c-1.1 0-2 .9-2 2v14c0 1.1.9 2 2 2h14c1.1 0 2-.9 2-2V5c0-1.1-.9-2-2-2zM9 17H7v-7h2v7zm4 0h-2V7h2v10zm4 0h-2v-4h2v4z\"/>\n",
              "    </g>\n",
              "</svg>\n",
              "  </button>\n",
              "\n",
              "<style>\n",
              "  .colab-df-quickchart {\n",
              "      --bg-color: #E8F0FE;\n",
              "      --fill-color: #1967D2;\n",
              "      --hover-bg-color: #E2EBFA;\n",
              "      --hover-fill-color: #174EA6;\n",
              "      --disabled-fill-color: #AAA;\n",
              "      --disabled-bg-color: #DDD;\n",
              "  }\n",
              "\n",
              "  [theme=dark] .colab-df-quickchart {\n",
              "      --bg-color: #3B4455;\n",
              "      --fill-color: #D2E3FC;\n",
              "      --hover-bg-color: #434B5C;\n",
              "      --hover-fill-color: #FFFFFF;\n",
              "      --disabled-bg-color: #3B4455;\n",
              "      --disabled-fill-color: #666;\n",
              "  }\n",
              "\n",
              "  .colab-df-quickchart {\n",
              "    background-color: var(--bg-color);\n",
              "    border: none;\n",
              "    border-radius: 50%;\n",
              "    cursor: pointer;\n",
              "    display: none;\n",
              "    fill: var(--fill-color);\n",
              "    height: 32px;\n",
              "    padding: 0;\n",
              "    width: 32px;\n",
              "  }\n",
              "\n",
              "  .colab-df-quickchart:hover {\n",
              "    background-color: var(--hover-bg-color);\n",
              "    box-shadow: 0 1px 2px rgba(60, 64, 67, 0.3), 0 1px 3px 1px rgba(60, 64, 67, 0.15);\n",
              "    fill: var(--button-hover-fill-color);\n",
              "  }\n",
              "\n",
              "  .colab-df-quickchart-complete:disabled,\n",
              "  .colab-df-quickchart-complete:disabled:hover {\n",
              "    background-color: var(--disabled-bg-color);\n",
              "    fill: var(--disabled-fill-color);\n",
              "    box-shadow: none;\n",
              "  }\n",
              "\n",
              "  .colab-df-spinner {\n",
              "    border: 2px solid var(--fill-color);\n",
              "    border-color: transparent;\n",
              "    border-bottom-color: var(--fill-color);\n",
              "    animation:\n",
              "      spin 1s steps(1) infinite;\n",
              "  }\n",
              "\n",
              "  @keyframes spin {\n",
              "    0% {\n",
              "      border-color: transparent;\n",
              "      border-bottom-color: var(--fill-color);\n",
              "      border-left-color: var(--fill-color);\n",
              "    }\n",
              "    20% {\n",
              "      border-color: transparent;\n",
              "      border-left-color: var(--fill-color);\n",
              "      border-top-color: var(--fill-color);\n",
              "    }\n",
              "    30% {\n",
              "      border-color: transparent;\n",
              "      border-left-color: var(--fill-color);\n",
              "      border-top-color: var(--fill-color);\n",
              "      border-right-color: var(--fill-color);\n",
              "    }\n",
              "    40% {\n",
              "      border-color: transparent;\n",
              "      border-right-color: var(--fill-color);\n",
              "      border-top-color: var(--fill-color);\n",
              "    }\n",
              "    60% {\n",
              "      border-color: transparent;\n",
              "      border-right-color: var(--fill-color);\n",
              "    }\n",
              "    80% {\n",
              "      border-color: transparent;\n",
              "      border-right-color: var(--fill-color);\n",
              "      border-bottom-color: var(--fill-color);\n",
              "    }\n",
              "    90% {\n",
              "      border-color: transparent;\n",
              "      border-bottom-color: var(--fill-color);\n",
              "    }\n",
              "  }\n",
              "</style>\n",
              "\n",
              "  <script>\n",
              "    async function quickchart(key) {\n",
              "      const quickchartButtonEl =\n",
              "        document.querySelector('#' + key + ' button');\n",
              "      quickchartButtonEl.disabled = true;  // To prevent multiple clicks.\n",
              "      quickchartButtonEl.classList.add('colab-df-spinner');\n",
              "      try {\n",
              "        const charts = await google.colab.kernel.invokeFunction(\n",
              "            'suggestCharts', [key], {});\n",
              "      } catch (error) {\n",
              "        console.error('Error during call to suggestCharts:', error);\n",
              "      }\n",
              "      quickchartButtonEl.classList.remove('colab-df-spinner');\n",
              "      quickchartButtonEl.classList.add('colab-df-quickchart-complete');\n",
              "    }\n",
              "    (() => {\n",
              "      let quickchartButtonEl =\n",
              "        document.querySelector('#df-a015dd3c-b4a4-4a06-b52f-fbf28cd82db0 button');\n",
              "      quickchartButtonEl.style.display =\n",
              "        google.colab.kernel.accessAllowed ? 'block' : 'none';\n",
              "    })();\n",
              "  </script>\n",
              "</div>\n",
              "    </div>\n",
              "  </div>\n"
            ]
          },
          "metadata": {},
          "execution_count": 45
        }
      ]
    },
    {
      "cell_type": "code",
      "source": [
        "round(df_commit_diffs_aux_no_satd.describe(), 2)"
      ],
      "metadata": {
        "colab": {
          "base_uri": "https://localhost:8080/",
          "height": 300
        },
        "id": "UFlNOW06__AN",
        "outputId": "39e99a60-6194-4800-f204-1c6b909b3807"
      },
      "execution_count": 50,
      "outputs": [
        {
          "output_type": "execute_result",
          "data": {
            "text/plain": [
              "           lines    files\n",
              "count    9483.00  9483.00\n",
              "mean      421.46     8.46\n",
              "std      3377.66    23.77\n",
              "min         1.00     1.00\n",
              "25%        15.00     2.00\n",
              "50%        59.00     3.00\n",
              "75%       206.00     7.00\n",
              "max    215675.00   645.00"
            ],
            "text/html": [
              "\n",
              "  <div id=\"df-eb5918c5-b5e2-4ce9-8eb9-ca72561543f1\" class=\"colab-df-container\">\n",
              "    <div>\n",
              "<style scoped>\n",
              "    .dataframe tbody tr th:only-of-type {\n",
              "        vertical-align: middle;\n",
              "    }\n",
              "\n",
              "    .dataframe tbody tr th {\n",
              "        vertical-align: top;\n",
              "    }\n",
              "\n",
              "    .dataframe thead th {\n",
              "        text-align: right;\n",
              "    }\n",
              "</style>\n",
              "<table border=\"1\" class=\"dataframe\">\n",
              "  <thead>\n",
              "    <tr style=\"text-align: right;\">\n",
              "      <th></th>\n",
              "      <th>lines</th>\n",
              "      <th>files</th>\n",
              "    </tr>\n",
              "  </thead>\n",
              "  <tbody>\n",
              "    <tr>\n",
              "      <th>count</th>\n",
              "      <td>9483.00</td>\n",
              "      <td>9483.00</td>\n",
              "    </tr>\n",
              "    <tr>\n",
              "      <th>mean</th>\n",
              "      <td>421.46</td>\n",
              "      <td>8.46</td>\n",
              "    </tr>\n",
              "    <tr>\n",
              "      <th>std</th>\n",
              "      <td>3377.66</td>\n",
              "      <td>23.77</td>\n",
              "    </tr>\n",
              "    <tr>\n",
              "      <th>min</th>\n",
              "      <td>1.00</td>\n",
              "      <td>1.00</td>\n",
              "    </tr>\n",
              "    <tr>\n",
              "      <th>25%</th>\n",
              "      <td>15.00</td>\n",
              "      <td>2.00</td>\n",
              "    </tr>\n",
              "    <tr>\n",
              "      <th>50%</th>\n",
              "      <td>59.00</td>\n",
              "      <td>3.00</td>\n",
              "    </tr>\n",
              "    <tr>\n",
              "      <th>75%</th>\n",
              "      <td>206.00</td>\n",
              "      <td>7.00</td>\n",
              "    </tr>\n",
              "    <tr>\n",
              "      <th>max</th>\n",
              "      <td>215675.00</td>\n",
              "      <td>645.00</td>\n",
              "    </tr>\n",
              "  </tbody>\n",
              "</table>\n",
              "</div>\n",
              "    <div class=\"colab-df-buttons\">\n",
              "\n",
              "  <div class=\"colab-df-container\">\n",
              "    <button class=\"colab-df-convert\" onclick=\"convertToInteractive('df-eb5918c5-b5e2-4ce9-8eb9-ca72561543f1')\"\n",
              "            title=\"Convert this dataframe to an interactive table.\"\n",
              "            style=\"display:none;\">\n",
              "\n",
              "  <svg xmlns=\"http://www.w3.org/2000/svg\" height=\"24px\" viewBox=\"0 -960 960 960\">\n",
              "    <path d=\"M120-120v-720h720v720H120Zm60-500h600v-160H180v160Zm220 220h160v-160H400v160Zm0 220h160v-160H400v160ZM180-400h160v-160H180v160Zm440 0h160v-160H620v160ZM180-180h160v-160H180v160Zm440 0h160v-160H620v160Z\"/>\n",
              "  </svg>\n",
              "    </button>\n",
              "\n",
              "  <style>\n",
              "    .colab-df-container {\n",
              "      display:flex;\n",
              "      gap: 12px;\n",
              "    }\n",
              "\n",
              "    .colab-df-convert {\n",
              "      background-color: #E8F0FE;\n",
              "      border: none;\n",
              "      border-radius: 50%;\n",
              "      cursor: pointer;\n",
              "      display: none;\n",
              "      fill: #1967D2;\n",
              "      height: 32px;\n",
              "      padding: 0 0 0 0;\n",
              "      width: 32px;\n",
              "    }\n",
              "\n",
              "    .colab-df-convert:hover {\n",
              "      background-color: #E2EBFA;\n",
              "      box-shadow: 0px 1px 2px rgba(60, 64, 67, 0.3), 0px 1px 3px 1px rgba(60, 64, 67, 0.15);\n",
              "      fill: #174EA6;\n",
              "    }\n",
              "\n",
              "    .colab-df-buttons div {\n",
              "      margin-bottom: 4px;\n",
              "    }\n",
              "\n",
              "    [theme=dark] .colab-df-convert {\n",
              "      background-color: #3B4455;\n",
              "      fill: #D2E3FC;\n",
              "    }\n",
              "\n",
              "    [theme=dark] .colab-df-convert:hover {\n",
              "      background-color: #434B5C;\n",
              "      box-shadow: 0px 1px 3px 1px rgba(0, 0, 0, 0.15);\n",
              "      filter: drop-shadow(0px 1px 2px rgba(0, 0, 0, 0.3));\n",
              "      fill: #FFFFFF;\n",
              "    }\n",
              "  </style>\n",
              "\n",
              "    <script>\n",
              "      const buttonEl =\n",
              "        document.querySelector('#df-eb5918c5-b5e2-4ce9-8eb9-ca72561543f1 button.colab-df-convert');\n",
              "      buttonEl.style.display =\n",
              "        google.colab.kernel.accessAllowed ? 'block' : 'none';\n",
              "\n",
              "      async function convertToInteractive(key) {\n",
              "        const element = document.querySelector('#df-eb5918c5-b5e2-4ce9-8eb9-ca72561543f1');\n",
              "        const dataTable =\n",
              "          await google.colab.kernel.invokeFunction('convertToInteractive',\n",
              "                                                    [key], {});\n",
              "        if (!dataTable) return;\n",
              "\n",
              "        const docLinkHtml = 'Like what you see? Visit the ' +\n",
              "          '<a target=\"_blank\" href=https://colab.research.google.com/notebooks/data_table.ipynb>data table notebook</a>'\n",
              "          + ' to learn more about interactive tables.';\n",
              "        element.innerHTML = '';\n",
              "        dataTable['output_type'] = 'display_data';\n",
              "        await google.colab.output.renderOutput(dataTable, element);\n",
              "        const docLink = document.createElement('div');\n",
              "        docLink.innerHTML = docLinkHtml;\n",
              "        element.appendChild(docLink);\n",
              "      }\n",
              "    </script>\n",
              "  </div>\n",
              "\n",
              "\n",
              "<div id=\"df-c1d17680-55f8-4bb2-bf32-9508dd2d6a13\">\n",
              "  <button class=\"colab-df-quickchart\" onclick=\"quickchart('df-c1d17680-55f8-4bb2-bf32-9508dd2d6a13')\"\n",
              "            title=\"Suggest charts\"\n",
              "            style=\"display:none;\">\n",
              "\n",
              "<svg xmlns=\"http://www.w3.org/2000/svg\" height=\"24px\"viewBox=\"0 0 24 24\"\n",
              "     width=\"24px\">\n",
              "    <g>\n",
              "        <path d=\"M19 3H5c-1.1 0-2 .9-2 2v14c0 1.1.9 2 2 2h14c1.1 0 2-.9 2-2V5c0-1.1-.9-2-2-2zM9 17H7v-7h2v7zm4 0h-2V7h2v10zm4 0h-2v-4h2v4z\"/>\n",
              "    </g>\n",
              "</svg>\n",
              "  </button>\n",
              "\n",
              "<style>\n",
              "  .colab-df-quickchart {\n",
              "      --bg-color: #E8F0FE;\n",
              "      --fill-color: #1967D2;\n",
              "      --hover-bg-color: #E2EBFA;\n",
              "      --hover-fill-color: #174EA6;\n",
              "      --disabled-fill-color: #AAA;\n",
              "      --disabled-bg-color: #DDD;\n",
              "  }\n",
              "\n",
              "  [theme=dark] .colab-df-quickchart {\n",
              "      --bg-color: #3B4455;\n",
              "      --fill-color: #D2E3FC;\n",
              "      --hover-bg-color: #434B5C;\n",
              "      --hover-fill-color: #FFFFFF;\n",
              "      --disabled-bg-color: #3B4455;\n",
              "      --disabled-fill-color: #666;\n",
              "  }\n",
              "\n",
              "  .colab-df-quickchart {\n",
              "    background-color: var(--bg-color);\n",
              "    border: none;\n",
              "    border-radius: 50%;\n",
              "    cursor: pointer;\n",
              "    display: none;\n",
              "    fill: var(--fill-color);\n",
              "    height: 32px;\n",
              "    padding: 0;\n",
              "    width: 32px;\n",
              "  }\n",
              "\n",
              "  .colab-df-quickchart:hover {\n",
              "    background-color: var(--hover-bg-color);\n",
              "    box-shadow: 0 1px 2px rgba(60, 64, 67, 0.3), 0 1px 3px 1px rgba(60, 64, 67, 0.15);\n",
              "    fill: var(--button-hover-fill-color);\n",
              "  }\n",
              "\n",
              "  .colab-df-quickchart-complete:disabled,\n",
              "  .colab-df-quickchart-complete:disabled:hover {\n",
              "    background-color: var(--disabled-bg-color);\n",
              "    fill: var(--disabled-fill-color);\n",
              "    box-shadow: none;\n",
              "  }\n",
              "\n",
              "  .colab-df-spinner {\n",
              "    border: 2px solid var(--fill-color);\n",
              "    border-color: transparent;\n",
              "    border-bottom-color: var(--fill-color);\n",
              "    animation:\n",
              "      spin 1s steps(1) infinite;\n",
              "  }\n",
              "\n",
              "  @keyframes spin {\n",
              "    0% {\n",
              "      border-color: transparent;\n",
              "      border-bottom-color: var(--fill-color);\n",
              "      border-left-color: var(--fill-color);\n",
              "    }\n",
              "    20% {\n",
              "      border-color: transparent;\n",
              "      border-left-color: var(--fill-color);\n",
              "      border-top-color: var(--fill-color);\n",
              "    }\n",
              "    30% {\n",
              "      border-color: transparent;\n",
              "      border-left-color: var(--fill-color);\n",
              "      border-top-color: var(--fill-color);\n",
              "      border-right-color: var(--fill-color);\n",
              "    }\n",
              "    40% {\n",
              "      border-color: transparent;\n",
              "      border-right-color: var(--fill-color);\n",
              "      border-top-color: var(--fill-color);\n",
              "    }\n",
              "    60% {\n",
              "      border-color: transparent;\n",
              "      border-right-color: var(--fill-color);\n",
              "    }\n",
              "    80% {\n",
              "      border-color: transparent;\n",
              "      border-right-color: var(--fill-color);\n",
              "      border-bottom-color: var(--fill-color);\n",
              "    }\n",
              "    90% {\n",
              "      border-color: transparent;\n",
              "      border-bottom-color: var(--fill-color);\n",
              "    }\n",
              "  }\n",
              "</style>\n",
              "\n",
              "  <script>\n",
              "    async function quickchart(key) {\n",
              "      const quickchartButtonEl =\n",
              "        document.querySelector('#' + key + ' button');\n",
              "      quickchartButtonEl.disabled = true;  // To prevent multiple clicks.\n",
              "      quickchartButtonEl.classList.add('colab-df-spinner');\n",
              "      try {\n",
              "        const charts = await google.colab.kernel.invokeFunction(\n",
              "            'suggestCharts', [key], {});\n",
              "      } catch (error) {\n",
              "        console.error('Error during call to suggestCharts:', error);\n",
              "      }\n",
              "      quickchartButtonEl.classList.remove('colab-df-spinner');\n",
              "      quickchartButtonEl.classList.add('colab-df-quickchart-complete');\n",
              "    }\n",
              "    (() => {\n",
              "      let quickchartButtonEl =\n",
              "        document.querySelector('#df-c1d17680-55f8-4bb2-bf32-9508dd2d6a13 button');\n",
              "      quickchartButtonEl.style.display =\n",
              "        google.colab.kernel.accessAllowed ? 'block' : 'none';\n",
              "    })();\n",
              "  </script>\n",
              "</div>\n",
              "    </div>\n",
              "  </div>\n"
            ]
          },
          "metadata": {},
          "execution_count": 50
        }
      ]
    },
    {
      "cell_type": "code",
      "source": [
        "df_commit_diffs_aux_no_satd.to_excel('commit_diffs_aux_no_satd.xlsx', index=False)"
      ],
      "metadata": {
        "id": "C0C4v5IO_jce"
      },
      "execution_count": 46,
      "outputs": []
    },
    {
      "cell_type": "code",
      "source": [
        "fig1, ax1 = pyplot.subplots()\n",
        "ax1.set_title('LOC changes')\n",
        "ax1.boxplot(x=df_commit_diffs_aux_no_satd.lines, showfliers=False)"
      ],
      "metadata": {
        "colab": {
          "base_uri": "https://localhost:8080/",
          "height": 595
        },
        "id": "OgNdnCOz_o8V",
        "outputId": "de1dd46e-a991-4b8a-859a-89e5cd91e399"
      },
      "execution_count": 64,
      "outputs": [
        {
          "output_type": "execute_result",
          "data": {
            "text/plain": [
              "{'whiskers': [<matplotlib.lines.Line2D at 0x7b561fb006a0>,\n",
              "  <matplotlib.lines.Line2D at 0x7b561fb034f0>],\n",
              " 'caps': [<matplotlib.lines.Line2D at 0x7b561fb02620>,\n",
              "  <matplotlib.lines.Line2D at 0x7b561fb00fa0>],\n",
              " 'boxes': [<matplotlib.lines.Line2D at 0x7b561fb03a90>],\n",
              " 'medians': [<matplotlib.lines.Line2D at 0x7b561fb00670>],\n",
              " 'fliers': [],\n",
              " 'means': []}"
            ]
          },
          "metadata": {},
          "execution_count": 64
        },
        {
          "output_type": "display_data",
          "data": {
            "text/plain": [
              "<Figure size 640x480 with 1 Axes>"
            ],
            "image/png": "[encoded data removed]"
          },
          "metadata": {}
        }
      ]
    },
    {
      "cell_type": "code",
      "source": [
        "fig1, ax1 = pyplot.subplots()\n",
        "ax1.set_title('Modified Files')\n",
        "ax1.boxplot(x=df_commit_diffs_aux_no_satd.files, showfliers=False)"
      ],
      "metadata": {
        "id": "VVCnHDyBWet1",
        "outputId": "29d3549a-e58e-4929-d8c8-9ac2ed6442a6",
        "colab": {
          "base_uri": "https://localhost:8080/",
          "height": 595
        }
      },
      "execution_count": 65,
      "outputs": [
        {
          "output_type": "execute_result",
          "data": {
            "text/plain": [
              "{'whiskers': [<matplotlib.lines.Line2D at 0x7b561fb4d8d0>,\n",
              "  <matplotlib.lines.Line2D at 0x7b561fb4c4f0>],\n",
              " 'caps': [<matplotlib.lines.Line2D at 0x7b561fb4cd60>,\n",
              "  <matplotlib.lines.Line2D at 0x7b561fb4df00>],\n",
              " 'boxes': [<matplotlib.lines.Line2D at 0x7b561fb4eb00>],\n",
              " 'medians': [<matplotlib.lines.Line2D at 0x7b561fb4d840>],\n",
              " 'fliers': [],\n",
              " 'means': []}"
            ]
          },
          "metadata": {},
          "execution_count": 65
        },
        {
          "output_type": "display_data",
          "data": {
            "text/plain": [
              "<Figure size 640x480 with 1 Axes>"
            ],
            "image/png": "[encoded data removed]"
          },
          "metadata": {}
        }
      ]
    },
    {
      "cell_type": "markdown",
      "source": [
        "# Comparing Commits with SATD and Commits without SATD"
      ],
      "metadata": {
        "id": "YGjZz5oUWsj2"
      }
    },
    {
      "cell_type": "markdown",
      "source": [
        "## LOC changes"
      ],
      "metadata": {
        "id": "qVldkfW-XS-g"
      }
    },
    {
      "cell_type": "code",
      "source": [
        "data_lines = [df_commit_diffs_aux.lines, df_commit_diffs_aux_no_satd.lines]\n",
        "fig1, ax1 = pyplot.subplots()\n",
        "ax1.set_title('LOC changes')\n",
        "ax1.boxplot(x=data_lines, showfliers=False)"
      ],
      "metadata": {
        "id": "S10ur9b7Wjra",
        "outputId": "f8946e15-97ab-4a59-a13b-3d9a5fc042c0",
        "colab": {
          "base_uri": "https://localhost:8080/",
          "height": 702
        }
      },
      "execution_count": 66,
      "outputs": [
        {
          "output_type": "execute_result",
          "data": {
            "text/plain": [
              "{'whiskers': [<matplotlib.lines.Line2D at 0x7b561ecada80>,\n",
              "  <matplotlib.lines.Line2D at 0x7b561ecad330>,\n",
              "  <matplotlib.lines.Line2D at 0x7b561ecae8c0>,\n",
              "  <matplotlib.lines.Line2D at 0x7b561ecac100>],\n",
              " 'caps': [<matplotlib.lines.Line2D at 0x7b561ecadf00>,\n",
              "  <matplotlib.lines.Line2D at 0x7b561ecadfc0>,\n",
              "  <matplotlib.lines.Line2D at 0x7b561ecaf1c0>,\n",
              "  <matplotlib.lines.Line2D at 0x7b561ecaf9a0>],\n",
              " 'boxes': [<matplotlib.lines.Line2D at 0x7b561ecad630>,\n",
              "  <matplotlib.lines.Line2D at 0x7b561ecae800>],\n",
              " 'medians': [<matplotlib.lines.Line2D at 0x7b561ecade70>,\n",
              "  <matplotlib.lines.Line2D at 0x7b561ecafaf0>],\n",
              " 'fliers': [],\n",
              " 'means': []}"
            ]
          },
          "metadata": {},
          "execution_count": 66
        },
        {
          "output_type": "display_data",
          "data": {
            "text/plain": [
              "<Figure size 640x480 with 1 Axes>"
            ],
            "image/png": "[encoded data removed]"
          },
          "metadata": {}
        }
      ]
    },
    {
      "cell_type": "markdown",
      "source": [
        "## Modified Files"
      ],
      "metadata": {
        "id": "5harz8baXWCM"
      }
    },
    {
      "cell_type": "code",
      "source": [
        "data_lines = [df_commit_diffs_aux.files, df_commit_diffs_aux_no_satd.files]\n",
        "fig1, ax1 = pyplot.subplots()\n",
        "ax1.set_title('Modified Files')\n",
        "ax1.boxplot(x=data_lines, showfliers=False)"
      ],
      "metadata": {
        "id": "xStYQLHCXBqb",
        "outputId": "dc9e14a0-f27d-4c02-edb2-44d9cbe1362d",
        "colab": {
          "base_uri": "https://localhost:8080/",
          "height": 702
        }
      },
      "execution_count": 67,
      "outputs": [
        {
          "output_type": "execute_result",
          "data": {
            "text/plain": [
              "{'whiskers': [<matplotlib.lines.Line2D at 0x7b5621ab8a60>,\n",
              "  <matplotlib.lines.Line2D at 0x7b5621abb1c0>,\n",
              "  <matplotlib.lines.Line2D at 0x7b5621ab9db0>,\n",
              "  <matplotlib.lines.Line2D at 0x7b5621abad10>],\n",
              " 'caps': [<matplotlib.lines.Line2D at 0x7b5621abb370>,\n",
              "  <matplotlib.lines.Line2D at 0x7b5621aba6b0>,\n",
              "  <matplotlib.lines.Line2D at 0x7b5621ab8af0>,\n",
              "  <matplotlib.lines.Line2D at 0x7b5621ab8310>],\n",
              " 'boxes': [<matplotlib.lines.Line2D at 0x7b5621ab8ee0>,\n",
              "  <matplotlib.lines.Line2D at 0x7b5621abb220>],\n",
              " 'medians': [<matplotlib.lines.Line2D at 0x7b5621abb550>,\n",
              "  <matplotlib.lines.Line2D at 0x7b5621abbe80>],\n",
              " 'fliers': [],\n",
              " 'means': []}"
            ]
          },
          "metadata": {},
          "execution_count": 67
        },
        {
          "output_type": "display_data",
          "data": {
            "text/plain": [
              "<Figure size 640x480 with 1 Axes>"
            ],
            "image/png": "[encoded data removed]"
          },
          "metadata": {}
        }
      ]
    },
    {
      "cell_type": "code",
      "source": [],
      "metadata": {
        "id": "K__C-7-zXGMO"
      },
      "execution_count": null,
      "outputs": []
    }
  ]
}