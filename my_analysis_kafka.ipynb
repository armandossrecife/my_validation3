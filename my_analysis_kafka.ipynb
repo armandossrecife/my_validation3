{
  "nbformat": 4,
  "nbformat_minor": 0,
  "metadata": {
    "colab": {
      "provenance": [],
      "collapsed_sections": [
        "Ti5lAYXOAY1z",
        "YTZHqwoh8KSf"
      ],
      "include_colab_link": true
    },
    "kernelspec": {
      "name": "python3",
      "display_name": "Python 3"
    },
    "language_info": {
      "name": "python"
    }
  },
  "cells": [
    {
      "cell_type": "markdown",
      "metadata": {
        "id": "view-in-github",
        "colab_type": "text"
      },
      "source": [
        "<a href=\"https://colab.research.google.com/github/armandossrecife/my_validation3/blob/main/my_analysis_kafka.ipynb\" target=\"_parent\"><img src=\"https://colab.research.google.com/assets/colab-badge.svg\" alt=\"Open In Colab\"/></a>"
      ]
    },
    {
      "cell_type": "markdown",
      "source": [
        "# Setup do Ambiente de Análise"
      ],
      "metadata": {
        "id": "3VXzbRhyK7hH"
      }
    },
    {
      "cell_type": "code",
      "source": [
        "!rm -rf *.log\n",
        "!rm -rf *.txt\n",
        "!rm -rf *.xlsx\n",
        "!rm -rf my_issues\n",
        "!rm -rf kafka"
      ],
      "metadata": {
        "id": "nPHCWuAukPhs"
      },
      "execution_count": null,
      "outputs": []
    },
    {
      "cell_type": "code",
      "source": [
        "print('Install Pydriller.')\n",
        "!pip install pydriller > install_pydriller.log\n",
        "print('Install gitpython.')\n",
        "!pip3 install gitpython > install_gitpython.log\n",
        "print('Install Jira Python lib.')\n",
        "!pip install jira > install_jira_python.log\n",
        "print('Install SQLite in Linux')\n",
        "!sudo apt install -y sqlite3 > install_sqlite.log\n",
        "print('All depenpencies installed!')\n",
        "!cat *.log > install.log\n",
        "print('Details in install.log')"
      ],
      "metadata": {
        "colab": {
          "base_uri": "https://localhost:8080/"
        },
        "id": "2wQ-xzYG4nqN",
        "outputId": "0ccf660b-9556-4b94-c927-ebfce8954121"
      },
      "execution_count": null,
      "outputs": [
        {
          "output_type": "stream",
          "name": "stdout",
          "text": [
            "Install Pydriller.\n",
            "Install gitpython.\n",
            "Install Jira Python lib.\n",
            "Install SQLite in Linux\n",
            "\n",
            "WARNING: apt does not have a stable CLI interface. Use with caution in scripts.\n",
            "\n",
            "debconf: unable to initialize frontend: Dialog\n",
            "debconf: (No usable dialog-like program is installed, so the dialog based frontend cannot be used. at /usr/share/perl5/Debconf/FrontEnd/Dialog.pm line 78, <> line 1.)\n",
            "debconf: falling back to frontend: Readline\n",
            "debconf: unable to initialize frontend: Readline\n",
            "debconf: (This frontend requires a controlling tty.)\n",
            "debconf: falling back to frontend: Teletype\n",
            "dpkg-preconfigure: unable to re-open stdin: \n",
            "All depenpencies installed!\n",
            "Details in install.log\n"
          ]
        }
      ]
    },
    {
      "cell_type": "markdown",
      "source": [
        "## Importa bibliotecas necessárias"
      ],
      "metadata": {
        "id": "eZ-7Eh0v7euY"
      }
    },
    {
      "cell_type": "code",
      "execution_count": null,
      "metadata": {
        "id": "XUVu8pQm4ifo"
      },
      "outputs": [],
      "source": [
        "import os\n",
        "from datetime import datetime, timedelta\n",
        "import tqdm\n",
        "from pydriller import Repository\n",
        "from jira import JIRA\n",
        "import pandas as pd\n",
        "import re\n",
        "import scipy.stats as stats\n",
        "import random\n",
        "import shutil\n",
        "import time"
      ]
    },
    {
      "cell_type": "markdown",
      "source": [
        "## Variáveis Globais"
      ],
      "metadata": {
        "id": "aln3JNKYAVgb"
      }
    },
    {
      "cell_type": "code",
      "source": [
        "my_repository = 'kafka'\n",
        "url_to_repository = 'https://github.com/apache/kafka.git'\n",
        "os.environ['MY_REPOSITORY'] = url_to_repository\n",
        "\n",
        "JIRA_SERVER = 'https://issues.apache.org/jira'\n",
        "ISSUE_TRACKER_PROJECT = 'KAFKA'\n",
        "\n",
        "# Credentials\n",
        "os.environ['USERNAME'] = ''\n",
        "os.environ['PASSWORD'] = ''\n",
        "username = os.environ.get('USERNAME')\n",
        "password = os.environ.get('PASSWORD')\n",
        "\n",
        "arquivos_kafka_by_sysrepoanalysis = ['StreamThread.java','KafkaConsumer.java','KStream.java','KafkaAdminClient.java','StreamTask.java','Fetcher.java','KafkaStreams.java','TaskManager.java','KStreamImpl.java','KafkaProducer.java','StreamsConfig.java','ConsumerCoordinator.java','Sender.java','AbstractCoordinator.java','KTableImpl.java','KTable.java','StreamsPartitionAssignor.java','NetworkClient.java','InternalTopologyBuilder.java','Protocol.java']\n",
        "\n",
        "lista_arquivos_criticos = ['StreamThread.java', 'KafkaConsumer.java', 'StreamTask.java', 'Fetcher.java', 'KafkaStreams.java','KStreamImpl.java', 'KafkaProducer.java','StreamsConfig.java', 'ConsumerCoordinator.java']"
      ],
      "metadata": {
        "id": "OEbrNLLn5wq5"
      },
      "execution_count": null,
      "outputs": []
    },
    {
      "cell_type": "markdown",
      "source": [
        "## Clona o Repositório"
      ],
      "metadata": {
        "id": "Ti5lAYXOAY1z"
      }
    },
    {
      "cell_type": "code",
      "source": [
        "print(f'Clona o repositório : {url_to_repository}')\n",
        "!git clone $MY_REPOSITORY"
      ],
      "metadata": {
        "colab": {
          "base_uri": "https://localhost:8080/"
        },
        "id": "MWfNScS_5uvT",
        "outputId": "b9c316bf-ef0b-415c-fa9e-112ec0f7f6df"
      },
      "execution_count": null,
      "outputs": [
        {
          "output_type": "stream",
          "name": "stdout",
          "text": [
            "Clona o repositório : https://github.com/apache/kafka.git\n",
            "Cloning into 'kafka'...\n",
            "remote: Enumerating objects: 354160, done.\u001b[K\n",
            "remote: Counting objects: 100% (23/23), done.\u001b[K\n",
            "remote: Compressing objects: 100% (23/23), done.\u001b[K\n",
            "remote: Total 354160 (delta 0), reused 1 (delta 0), pack-reused 354137\u001b[K\n",
            "Receiving objects: 100% (354160/354160), 165.54 MiB | 24.63 MiB/s, done.\n",
            "Resolving deltas: 100% (170763/170763), done.\n"
          ]
        }
      ]
    },
    {
      "cell_type": "code",
      "source": [
        "!cd kafka && git log --pretty=\"%H %s\" > all_commits_msg.txt\n",
        "!cd kafka && git log --pretty=\"%H;%ai;%s\" > all_commits_full.txt\n",
        "\n",
        "# Dados do 1o commit e do ultimo commit\n",
        "!echo \"Último commit: \"\n",
        "!head /content/kafka/all_commits_full.txt -n 1\n",
        "!echo \"Primeiro commit: \"\n",
        "!tail /content/kafka/all_commits_full.txt -n 1"
      ],
      "metadata": {
        "colab": {
          "base_uri": "https://localhost:8080/"
        },
        "id": "JCPikf0jzDX-",
        "outputId": "6415b5bc-c99f-4148-993d-2fac325fbb83"
      },
      "execution_count": null,
      "outputs": [
        {
          "output_type": "stream",
          "name": "stdout",
          "text": [
            "Último commit: \n",
            "a53147e7d904de4efffca6c3db0f2137d522a2ec;2023-11-03 21:51:50 +0000;KAFKA-15673: Adding client metrics resource types (KIP-714) (#14621)\n",
            "Primeiro commit: \n",
            "642da2f28c9bc6e373603d6d9119ce33684090f5;2011-08-01 23:41:24 +0000;Initial checkin of Kafka to Apache SVN. This corresponds to https://github.com/kafka-dev/kafka/commit/709afe4ec75489bc00a44335de8821fa726bb97e except that git specific files have been removed and code has been put into trunk/branches/site/etc. This is just a copy of master, branches and history are not being converted since we can't find a good tool for it.\n"
          ]
        }
      ]
    },
    {
      "cell_type": "markdown",
      "source": [
        "## Funções de apoio"
      ],
      "metadata": {
        "id": "YTZHqwoh8KSf"
      }
    },
    {
      "cell_type": "code",
      "source": [
        "def get_all_commits_by_range(initial_date, final_date, repository_name):\n",
        "  \"\"\"Extracts information from a date range of commits\n",
        "  Args:\n",
        "      initial_date: inicial date of commits\n",
        "      final_date: final date of commits\n",
        "  Returns:\n",
        "        A dictionary of commits, where the keys are the commit hashes and the\n",
        "        values are tuples containing the commit message, commit's date, commit's line, commit's file, a list of files modified in the commit, a list of all diffs from modified files\n",
        "  \"\"\"\n",
        "  dict_commit_modified_files = {}\n",
        "  print('Wait...')\n",
        "  my_traverser_commits = Repository(repository_name, since=initial_date, to=final_date).traverse_commits()\n",
        "  total_commits = len(list(my_traverser_commits))\n",
        "  try:\n",
        "    for commit in tqdm.tqdm(Repository(repository_name, since=initial_date, to=final_date).traverse_commits(), total=total_commits, desc=\"Progress commit anlysis\"):\n",
        "      list_of_modified_files = []\n",
        "      list_dict_of_diff_modified_files = []\n",
        "      for m in commit.modified_files:\n",
        "        dict_m_diff = {}\n",
        "        if m is not None:\n",
        "          list_of_modified_files.append(m.filename)\n",
        "          dict_m_diff[m.filename] = m.diff\n",
        "          list_dict_of_diff_modified_files.append(dict_m_diff)\n",
        "      data_commit = str(commit.committer_date.day) + '/' + str(commit.committer_date.month) + '/' + str(commit.committer_date.year)\n",
        "      element = commit.msg, data_commit, commit.lines, commit.files, list_of_modified_files, list_dict_of_diff_modified_files\n",
        "      dict_commit_modified_files[commit.hash] = element\n",
        "  except Exception as ex:\n",
        "    print(f'Erro during travesse commits: {str(ex)}')\n",
        "  return dict_commit_modified_files, total_commits\n",
        "\n",
        "def get_commits_by_range_and_critical_files(initial_date, final_date, critical_files, repository_name):\n",
        "  \"\"\"Extracts information from a date range of commits, focusing on critical files.\n",
        "  Args:\n",
        "      initial_date: inicial date of commits\n",
        "      final_date: final date of commits\n",
        "      critical_files: A list of critical file paths. ex: ['StorageService.java', 'ColumnFamilyStore.java']\n",
        "  Returns:\n",
        "        A dictionary of commits, where the keys are the commit hashes and the\n",
        "        values are tuples containing the commit message, commits's date, commit's line, commit's file, a list of critical files modified in the commit, a list_of_modified_files, a dictionary of diff [filename]:filename.diff, a list of all diffs from modified files\n",
        "        commit.msg, data_commit, commit.lines, commit.files, list_of_critical_files_modified, list_of_modified_files, list_dict_of_diff_files, list_dict_of_diff_modified_files\n",
        "  \"\"\"\n",
        "\n",
        "  dict_commit_modified_files = {}\n",
        "  print('Wait...')\n",
        "  my_traverser_commits = Repository(repository_name, since=initial_date, to=final_date).traverse_commits()\n",
        "  total_commits = len(list(my_traverser_commits))\n",
        "  try:\n",
        "    for commit in tqdm.tqdm(Repository(repository_name, since=initial_date, to=final_date).traverse_commits(), total=total_commits, desc=\"Progress critical files commit anlysis\"):\n",
        "      list_of_critical_files_modified = []\n",
        "      list_of_modified_files = []\n",
        "      list_dict_of_diff_files = []\n",
        "      list_dict_of_diff_modified_files = []\n",
        "      for m in commit.modified_files:\n",
        "        dict_diff_file = {}\n",
        "        list_of_modified_files.append(m.filename)\n",
        "        list_dict_of_diff_modified_files.append(m.diff)\n",
        "        if m.filename in critical_files:\n",
        "          list_of_critical_files_modified.append(m.filename)\n",
        "          dict_diff_file[m.filename] = m.diff\n",
        "          list_dict_of_diff_files.append(dict_diff_file)\n",
        "      if len(list_of_critical_files_modified) > 0:\n",
        "        data_commit = str(commit.committer_date.day) + '/' + str(commit.committer_date.month) + '/' + str(commit.committer_date.year)\n",
        "        element = commit.msg, data_commit, commit.lines, commit.files, list_of_critical_files_modified, list_of_modified_files, list_dict_of_diff_files, list_dict_of_diff_modified_files\n",
        "        dict_commit_modified_files[commit.hash] = element\n",
        "  except Exception as ex:\n",
        "    print(f'Erro during travesse commits: {str(ex)}')\n",
        "  return dict_commit_modified_files, total_commits"
      ],
      "metadata": {
        "id": "blFSkQG57Uwo"
      },
      "execution_count": null,
      "outputs": []
    },
    {
      "cell_type": "code",
      "source": [
        "class JiraIssue:\n",
        "  def __init__(self, key, summary, issue_type, status, priority, description, comments, created_date=None, updated_date=None, resolved_date=None):\n",
        "    self.key = key\n",
        "    self.summary = summary\n",
        "    self.issue_type = issue_type\n",
        "    self.status = status\n",
        "    self.priority = priority\n",
        "    self.description = description\n",
        "    self.comments = comments\n",
        "    self.created_date = created_date\n",
        "    self.updated_date = updated_date\n",
        "    self.resolved_date = resolved_date\n",
        "\n",
        "  def get_comments(self):\n",
        "    return self.comments\n",
        "\n",
        "  def __str__(self):\n",
        "    return (f'Key: {self.key}, Summary: {self.summary}, Type: {self.issue_type}, Status: {self.status}')\n",
        "\n",
        "class JiraIssues:\n",
        "  def __init__(self,project, issues):\n",
        "    self.project = project\n",
        "    self.issues = issues\n",
        "\n",
        "  def add_issue(self, issue):\n",
        "    self.issues.append(issue)\n",
        "\n",
        "  def get_issues(self) -> list:\n",
        "    return self.issues\n",
        "\n",
        "  def update_issues(self, issues):\n",
        "    self.issues = issues\n",
        "\n",
        "  def __str__(self):\n",
        "    str_issues = \"\"\n",
        "    for issue in self.get_issues():\n",
        "      str_issues = str_issues + str(issue)\n",
        "      str_issues = str_issues + ', '\n",
        "    str_issues = '[' + str_issues + ']'\n",
        "    return (f'Project: {self.project}, Qdt of issues: {len(self.issues)}, Issues: {str_issues}')\n",
        "\n",
        "# Classe de utilidades para manipular o servidor Jira\n",
        "class JiraUtils:\n",
        "  def __init__(self, project, jira_instance):\n",
        "    self.project = project\n",
        "    self.jira_jira_instance = jira_instance\n",
        "\n",
        "  def generate_intervals_between_dates(self, date1: tuple, date2: tuple, distance=120) -> list:\n",
        "    start_date = datetime(date1[0], date1[1], date1[2])\n",
        "    end_date = datetime(date2[0], date2[1], date2[2])\n",
        "    interval_days = distance\n",
        "    # Initialize a list to store the intervals\n",
        "    intervals = []\n",
        "    # Initialize the current date as the start date\n",
        "    current_date = start_date\n",
        "    # Loop to generate intervals until the current date is less than or equal to the end date\n",
        "    while current_date < end_date:\n",
        "        interval = (current_date, current_date + timedelta(days=interval_days - 1))\n",
        "        intervals.append(interval)\n",
        "        current_date += timedelta(days=interval_days)\n",
        "    return intervals\n",
        "\n",
        "  def convert_interval_dates(self, dates: list) -> list:\n",
        "    list_interval_dates = []\n",
        "    for each in dates:\n",
        "      date1 = each[0]\n",
        "      # Convert the date to a string in the format \"YYYY/MM/DD\".\n",
        "      str_date1 = date1.strftime(\"%Y/%m/%d\")\n",
        "      date2 = each[1]\n",
        "      str_date2 = date2.strftime(\"%Y/%m/%d\")\n",
        "      elemento = str_date1, str_date2\n",
        "      list_interval_dates.append(elemento)\n",
        "    return list_interval_dates\n",
        "\n",
        "  def generate_list_of_sentences(self, dates: list) -> list:\n",
        "    lista_sentencas = []\n",
        "    for each in dates:\n",
        "      str_date1 = each[0].strftime(\"%Y/%m/%d\")\n",
        "      str_date2 = each[1].strftime(\"%Y/%m/%d\")\n",
        "      sentenca = f'project={self.project.upper()} and created>=\"{str_date1}\" and created<=\"{str_date2}\"'\n",
        "      lista_sentencas.append(sentenca)\n",
        "    return lista_sentencas\n",
        "\n",
        "  def get_list_of_block_issues_by_dates(self,date1, date2, distance=120) -> list:\n",
        "    print('Aguarde...')\n",
        "    t1 = datetime.now()\n",
        "    list_of_dates = self.generate_intervals_between_dates(date1,date2,distance)\n",
        "    lista_sentencas = self.generate_list_of_sentences(list_of_dates)\n",
        "    lista_bloco_issues_by_date = []\n",
        "    total_items = len(lista_sentencas)\n",
        "    i = 0\n",
        "    iterable_lista_sentencas = tqdm.tqdm(lista_sentencas, total=total_items)\n",
        "    for each in iterable_lista_sentencas:\n",
        "      issues_by_date_temp = self.jira_jira_instance.search_issues(each,maxResults=1000)\n",
        "      print(f'Range: {each}, qtd issues: {len(issues_by_date_temp)}')\n",
        "      lista_bloco_issues_by_date.append(issues_by_date_temp)\n",
        "      percentage = (i + 1) / total_items * 100\n",
        "      iterable_lista_sentencas.set_description(f\"Progress Message Analysis\")\n",
        "    i += 1\n",
        "    t2 = datetime.now()\n",
        "    print(t2)\n",
        "    print(f'Tempo da consulta: {t2-t1}')\n",
        "    return lista_bloco_issues_by_date\n",
        "\n",
        "  def concatenate_block_of_issues(self,block_of_issues):\n",
        "    concatenated_list = [item for sublist in block_of_issues for item in sublist]\n",
        "    print(f'Total de issues recuperados: {len(concatenated_list)}')\n",
        "    return concatenated_list\n",
        "\n",
        "def analyze_jira_all_issues(project, all_issues):\n",
        "    \"\"\"Extracts all issues from Issue Tracker\n",
        "        Args:\n",
        "          project: Issue Tracker Project name, example: CASSANDRA\n",
        "          all_issues: a block of issues\n",
        "        Returns:\n",
        "          A list of JiraIssues\n",
        "    \"\"\"\n",
        "    # Create an instance of JiraIssues to manage all issues\n",
        "    my_all_issues = JiraIssues(project, [])\n",
        "    total_items = len(all_issues)\n",
        "\n",
        "    # Iterate through the fetched issues\n",
        "    for issue in tqdm.tqdm(all_issues, total=total_items, desc='Progress jira all issues analysis'):\n",
        "        issue_key = issue.key\n",
        "        issue_summary = issue.fields.summary\n",
        "        issue_description = issue.fields.description\n",
        "        issue_comments = [comment.body for comment in issue.fields.comment.comments]\n",
        "        issue_created_date = issue.fields.created\n",
        "        issue_updated_date = None\n",
        "        issue_resolved_date = issue.fields.resolutiondate\n",
        "\n",
        "        # Check for SATD keywords in the issue's summary, description, and comments\n",
        "        if issue_summary is None:\n",
        "            issue_summary = \"\"\n",
        "        if issue_description is None:\n",
        "            issue_description = \"\"\n",
        "        if issue_comments is None:\n",
        "            issue_comments = \"\"\n",
        "        if issue_created_date == None:\n",
        "            issue_created_date = \"\"\n",
        "        if issue_updated_date == None:\n",
        "            issue_updated_date = \"\"\n",
        "        if issue_resolved_date == None:\n",
        "            issue_resolved_date = \"\"\n",
        "\n",
        "        issue_type = issue.fields.issuetype.name\n",
        "        issue_status = issue.fields.status.name\n",
        "        issue_priority = issue.fields.priority.name\n",
        "\n",
        "        # Create a JiraIssue instance for the SATD issue\n",
        "        my_issue = JiraIssue(issue_key, issue_summary, issue_type, issue_status, issue_priority, issue_description, issue_comments, issue_created_date, issue_updated_date, issue_resolved_date)\n",
        "\n",
        "        my_all_issues.add_issue(my_issue)\n",
        "\n",
        "    return my_all_issues\n",
        "\n",
        "def convert_date_jira_to_datetime(jira_date):\n",
        "  regex = r\"(\\d{4})-(\\d{2})-(\\d{2})\"\n",
        "  match = re.match(regex, jira_date)\n",
        "\n",
        "  if match:\n",
        "      year, month, day = match.groups()\n",
        "      datetime_object = datetime(year=int(year), month=int(month), day=int(day))\n",
        "      return datetime_object\n",
        "  else:\n",
        "      return None\n",
        "\n",
        "def convert_issues_to_dataframe(all_real_issues):\n",
        "  l_issue_key_aux, l_issue_type_aux, l_issue_summary_aux, l_issue_description_aux, l_issue_status_aux, l_issue_priority_aux, l_issue_comments_aux = [], [], [], [], [], [], []\n",
        "  l_issue_created_date, l_issue_resolved_date = [], []\n",
        "\n",
        "  for issue in all_real_issues.get_issues():\n",
        "    l_issue_key_aux.append(issue.key)\n",
        "    l_issue_type_aux.append(issue.issue_type)\n",
        "    l_issue_summary_aux.append(issue.summary)\n",
        "    l_issue_description_aux.append(issue.description)\n",
        "    l_issue_status_aux.append(issue.status)\n",
        "    l_issue_priority_aux.append(issue.priority)\n",
        "    texto_aux = \"\"\n",
        "    for item in issue.get_comments():\n",
        "      texto_aux = texto_aux + str(item) + \"\\n\"\n",
        "    l_issue_comments_aux.append(texto_aux)\n",
        "    created_date_temp = convert_date_jira_to_datetime(issue.created_date)\n",
        "    l_issue_created_date.append(created_date_temp)\n",
        "    resolved_date_temp = convert_date_jira_to_datetime(issue.resolved_date)\n",
        "    l_issue_resolved_date.append(resolved_date_temp)\n",
        "\n",
        "  dict_all_reall_issues_in_commits_detailed = {\n",
        "  'issue_key': l_issue_key_aux,\n",
        "  'issue_type':l_issue_type_aux,\n",
        "  'status':l_issue_status_aux,\n",
        "  'priority':l_issue_priority_aux,\n",
        "  'summary':l_issue_summary_aux,\n",
        "  'description':l_issue_description_aux,\n",
        "  'comments':l_issue_comments_aux,\n",
        "  'created_date': l_issue_created_date,\n",
        "  'resolved_date': l_issue_resolved_date\n",
        "  }\n",
        "\n",
        "  df_all_reall_issues_in_commits_detailed = pd.DataFrame(dict_all_reall_issues_in_commits_detailed)\n",
        "  return df_all_reall_issues_in_commits_detailed"
      ],
      "metadata": {
        "id": "SBj01vqNGR6L"
      },
      "execution_count": null,
      "outputs": []
    },
    {
      "cell_type": "code",
      "source": [
        "def convert_commits_to_dataframe(dict_of_commits):\n",
        "  '''\n",
        "  v[0] = commit.msg,\n",
        "  v[1] = data_commit,\n",
        "  v[2] = commit.lines,\n",
        "  v[3] = commit.files,\n",
        "  v[4] = list_of_critical_files_modified,\n",
        "  v[5] = list_of_modified_files,\n",
        "  v[6] = list_dict_of_diff_files,\n",
        "  v[7] = list_dict_of_diff_modified_files\n",
        "  '''\n",
        "  l_commit_hash, l_commit_msg, l_commit_data, l_commit_lines, l_commit_files, l_commit_critical_files, l_commit_modified_fies, l_commit_diff_files, l_commit_diff_modified_files = [], [], [], [], [], [], [], [], []\n",
        "  for k, v in dict_of_commits.items():\n",
        "    l_commit_hash.append(k)\n",
        "    l_commit_msg.append(v[0])\n",
        "    l_commit_data.append(v[1])\n",
        "    l_commit_lines.append(v[2])\n",
        "    l_commit_files.append(v[3])\n",
        "    l_commit_critical_files.append(v[4])\n",
        "    l_commit_modified_fies.append(v[5])\n",
        "    l_commit_diff_files.append(v[6])\n",
        "    l_commit_diff_modified_files.append(v[7])\n",
        "\n",
        "  dict_of_commits_aux = {\n",
        "      'hash': l_commit_hash,\n",
        "      'msg': l_commit_msg,\n",
        "      'date': l_commit_data,\n",
        "      'lines': l_commit_lines,\n",
        "      'files': l_commit_files,\n",
        "      'critical_files': l_commit_critical_files,\n",
        "      'modified_files': l_commit_modified_fies,\n",
        "      'diff_files': l_commit_diff_files,\n",
        "      'diff_files_modified_files': l_commit_diff_modified_files\n",
        "  }\n",
        "\n",
        "  df_commits = pd.DataFrame(dict_of_commits_aux)\n",
        "  return df_commits"
      ],
      "metadata": {
        "id": "_VIhIXRaNtVr"
      },
      "execution_count": null,
      "outputs": []
    },
    {
      "cell_type": "code",
      "source": [
        "def find_issues_id_by_project(input_string: str, project: str) -> list[str]:\n",
        "    \"\"\"Finds all Cassandra issue ID patterns in the input string.\n",
        "    Args:\n",
        "        input_string: The input string.\n",
        "        project: The pattern related to project name, for example: CASSANDRA project name\n",
        "    Returns:\n",
        "        A list of project issue IDs, if found; otherwise, an empty list.\n",
        "    \"\"\"\n",
        "    # Try to find all Cassandra issue ID patterns in the input string\n",
        "    matches = re.findall(r\"({0}-\\d+)\".format(project), input_string)\n",
        "    # Return an empty list if no matches are found\n",
        "    if not matches:\n",
        "        return []\n",
        "    # Convert the list of matches to a set to remove duplicates\n",
        "    set_matches = set(matches)\n",
        "    # Convert the set of matches back to a list\n",
        "    list_unique_matches = list(set_matches)\n",
        "\n",
        "    # Return the list of matched Cassandra issue IDs\n",
        "    return list_unique_matches\n",
        "\n",
        "def get_commits_with_critical_files_and_issues_in_this_commits(df_commits_with_critical_files):\n",
        "  dict_issues_in_commits = {}\n",
        "  for index in df_commits_with_critical_files.index:\n",
        "    l_issues_in_commit = find_issues_id_by_project(input_string=df_commits_with_critical_files.msg[index], project=ISSUE_TRACKER_PROJECT)\n",
        "    if len(l_issues_in_commit) > 0:\n",
        "      commit_hash = df_commits_with_critical_files.hash[index]\n",
        "      dict_issues_in_commits[commit_hash] = l_issues_in_commit\n",
        "\n",
        "  list_issue_commits, list_issue_issues = [], []\n",
        "  for k, v in dict_issues_in_commits.items():\n",
        "    list_issue_commits.append(k)\n",
        "    for issue in v:\n",
        "      if issue not in list_issue_issues:\n",
        "        list_issue_issues.append(issue)\n",
        "\n",
        "  df_aux  = df_all_reall_issues_in_commits_detailed.copy()\n",
        "  df_issues_in_commits_with_critical_classes = df_aux[df_aux['issue_key'].isin(list_issue_issues)]\n",
        "\n",
        "  return dict_issues_in_commits, df_issues_in_commits_with_critical_classes\n",
        "\n",
        "def calculate_sample_size(confidence_level, margin_of_error, population_proportion, population_size):\n",
        "    # Calculate the Z-score for the given confidence level\n",
        "    z_score = stats.norm.ppf(1 - (1 - confidence_level) / 2)\n",
        "\n",
        "    # Calculate the sample size formula\n",
        "    sample_size = ((z_score**2) * population_proportion * (1 - population_proportion)) / (margin_of_error**2)\n",
        "\n",
        "    # Adjust for finite population\n",
        "    if population_size:\n",
        "        sample_size = sample_size / (1 + ((sample_size - 1) / population_size))\n",
        "\n",
        "    return int(sample_size)"
      ],
      "metadata": {
        "id": "6nD0K5spOxBC"
      },
      "execution_count": null,
      "outputs": []
    },
    {
      "cell_type": "code",
      "source": [
        "def get_max_n_chars(text, max_n):\n",
        "  text_length = len(text)\n",
        "  if text_length <= max_n:\n",
        "    return text\n",
        "  else:\n",
        "    return text[:max_n]\n",
        "\n",
        "def create_new_file(filename, dir_name, issue_type, summary, description, status, comments):\n",
        "  try:\n",
        "    filename = dir_name + '/' + filename\n",
        "\n",
        "    if issue_type is None:\n",
        "      issue_type = ''\n",
        "    if summary is None:\n",
        "      summary = ''\n",
        "    if description is None:\n",
        "      description = ''\n",
        "    if status is None:\n",
        "      status = ''\n",
        "    if comments is None:\n",
        "      comments = ''\n",
        "\n",
        "    with open(filename, mode='w') as f_issue:\n",
        "      f_issue.write(f'issue_type: {issue_type} \\n')\n",
        "      f_issue.write(f'summary: {summary} \\n')\n",
        "      f_issue.write(f'description: {get_max_n_chars(text=description, max_n=1000)} \\n')\n",
        "      f_issue.write(f'status: {status} \\n')\n",
        "      f_issue.write(f'comments: {get_max_n_chars(text=comments, max_n=4000)} \\n')\n",
        "    print(f'File {filename} created with success!')\n",
        "\n",
        "  except Exception as ex:\n",
        "    print(f'Erro ao criar arquivo: {str(ex)}')\n"
      ],
      "metadata": {
        "id": "1wdhaFJxZMYF"
      },
      "execution_count": null,
      "outputs": []
    },
    {
      "cell_type": "code",
      "source": [
        "# Seleciona randomicamente os issues para inspeção\n",
        "def select_issues_to_inspection(sample_size, df_issues_in_commits_with_critical_classes, my_date='02/11/2023'):\n",
        "  lista_issues_inspecao = []\n",
        "  dict_issues_para_inspecao = {}\n",
        "  list_issue_key = df_issues_in_commits_with_critical_classes.issue_key.to_list()\n",
        "  list_issue_key = list(set(list_issue_key))\n",
        "  sample_issues = random.choices(list_issue_key, k=sample_size)\n",
        "  dict_issues_para_inspecao['02/11/2023'] = sample_issues\n",
        "  print(f'{len(sample_issues)} para inspeção manual')\n",
        "\n",
        "  date_file_name = my_date.split('/')\n",
        "  date_file_name = date_file_name[0] + date_file_name[1] + date_file_name[2]\n",
        "  file_name = 'issues_inspecao_' + date_file_name + '.txt'\n",
        "  with open(file_name, mode='w') as f_temp:\n",
        "    for v in dict_issues_para_inspecao[my_date]:\n",
        "      elemento = v + ','\n",
        "      f_temp.write(elemento)\n",
        "  print(f'Relação de Issues salvos em {my_date} para inspeção.')\n",
        "  return sample_issues\n",
        "\n",
        "# Gera os arquivos .txt de cada issue selecionado para inspeção\n",
        "def generate_files_issues_to_inspection(sample_issues, df_issues_in_commits_with_critical_classes):\n",
        "  contador = 0\n",
        "  my_dir_name = 'my_issues'\n",
        "  if not os.path.exists(my_dir_name):\n",
        "    os.makedirs(my_dir_name)\n",
        "\n",
        "  total_of_issues = df_issues_in_commits_with_critical_classes.shape[0]\n",
        "  for index in tqdm.tqdm(df_issues_in_commits_with_critical_classes.index, total=total_of_issues, desc='Analyzing issues'):\n",
        "    for issue in sample_issues:\n",
        "      if df_issues_in_commits_with_critical_classes.issue_key[index] == issue:\n",
        "        create_new_file(filename=df_issues_in_commits_with_critical_classes.issue_key[index], dir_name=my_dir_name, issue_type=df_issues_in_commits_with_critical_classes.issue_type[index], summary=df_issues_in_commits_with_critical_classes.summary[index], description=df_issues_in_commits_with_critical_classes.description[index], status=df_issues_in_commits_with_critical_classes.status[index], comments=df_issues_in_commits_with_critical_classes.comments[index])\n",
        "        contador += 1\n",
        "  print(f'Foram criados {contador} arquivos para inspeção')"
      ],
      "metadata": {
        "id": "6Tow6aFWiqXK"
      },
      "execution_count": null,
      "outputs": []
    },
    {
      "cell_type": "markdown",
      "source": [
        "# 1. Extrai commits de um repositório de código"
      ],
      "metadata": {
        "id": "Mu4GQlBW4jTM"
      }
    },
    {
      "cell_type": "code",
      "source": [
        "start_date = datetime(2011, 8, 1, 0, 0, 0)\n",
        "end_date = datetime(2023, 10, 4, 0, 0, 0)\n",
        "extract_all_commits = get_all_commits_by_range(initial_date=start_date, final_date=end_date, repository_name=my_repository)\n",
        "\n",
        "all_commits = extract_all_commits[0]\n",
        "total_all_commits = extract_all_commits[1]\n",
        "\n",
        "print(f'Total de commits extraídos: {total_all_commits}')"
      ],
      "metadata": {
        "colab": {
          "base_uri": "https://localhost:8080/"
        },
        "id": "PPY1F6V77MIW",
        "outputId": "e89d4f71-bc72-4b22-a39c-d221c6295258"
      },
      "execution_count": null,
      "outputs": [
        {
          "output_type": "stream",
          "name": "stdout",
          "text": [
            "Wait...\n"
          ]
        },
        {
          "output_type": "stream",
          "name": "stderr",
          "text": [
            "Progress commit anlysis: 100%|██████████| 11732/11732 [04:54<00:00, 39.85it/s]"
          ]
        },
        {
          "output_type": "stream",
          "name": "stdout",
          "text": [
            "Total de commits extraídos: 11732\n"
          ]
        },
        {
          "output_type": "stream",
          "name": "stderr",
          "text": [
            "\n"
          ]
        }
      ]
    },
    {
      "cell_type": "markdown",
      "source": [
        "## Filtra os commits com classes críticas"
      ],
      "metadata": {
        "id": "bWPoDyA1Ld38"
      }
    },
    {
      "cell_type": "code",
      "source": [
        "print(f'Analisa a faixa de commits entre: initial_date={str(start_date)}, final_date={str(end_date)}')\n",
        "print('Registra apenas os commits que contem pelo menos um arquivo crítico')\n",
        "filter_commits_with_critical_files = get_commits_by_range_and_critical_files(initial_date=start_date, final_date=end_date, critical_files=lista_arquivos_criticos, repository_name=my_repository)\n",
        "commits_with_critical_files = filter_commits_with_critical_files[0]\n",
        "total_of_commits_with_critical_files = filter_commits_with_critical_files[1]\n",
        "\n",
        "print(f'Total de commits com classes críticas: {total_of_commits_with_critical_files}')"
      ],
      "metadata": {
        "colab": {
          "base_uri": "https://localhost:8080/"
        },
        "id": "xsFZ_4-PBMqb",
        "outputId": "f01dca14-3b16-4189-b9bd-0bb0071a313f"
      },
      "execution_count": null,
      "outputs": [
        {
          "output_type": "stream",
          "name": "stdout",
          "text": [
            "Analisa a faixa de commits entre: initial_date=2011-08-01 00:00:00, final_date=2023-10-04 00:00:00\n",
            "Registra apenas os commits que contem pelo menos um arquivo crítico\n",
            "Wait...\n"
          ]
        },
        {
          "output_type": "stream",
          "name": "stderr",
          "text": [
            "Progress critical files commit anlysis: 100%|██████████| 11732/11732 [03:07<00:00, 62.73it/s]"
          ]
        },
        {
          "output_type": "stream",
          "name": "stdout",
          "text": [
            "Total de commits com classes críticas: 11732\n"
          ]
        },
        {
          "output_type": "stream",
          "name": "stderr",
          "text": [
            "\n"
          ]
        }
      ]
    },
    {
      "cell_type": "markdown",
      "source": [
        "### Converte os commits com classes críticas para dataframe"
      ],
      "metadata": {
        "id": "bWaZoj8hPxk4"
      }
    },
    {
      "cell_type": "code",
      "source": [
        "df_commits_with_critical_files = convert_commits_to_dataframe(dict_of_commits=commits_with_critical_files)\n",
        "df_commits_with_critical_files"
      ],
      "metadata": {
        "colab": {
          "base_uri": "https://localhost:8080/",
          "height": 597
        },
        "id": "8hxQYo8uSXgf",
        "outputId": "60e47c66-cfdf-4fcb-89e5-f3805d1df63d"
      },
      "execution_count": null,
      "outputs": [
        {
          "output_type": "execute_result",
          "data": {
            "text/plain": [
              "                                          hash  \\\n",
              "0     269d16d3c915d09f650ae32aa81542bd8522ca68   \n",
              "1     253f86e31062fb86401abdc13835c251eef47417   \n",
              "2     fa6339c19cd06880d32ec9a5ee6b66e7f1488dcf   \n",
              "3     36eae8f63c81f8d38c2351054c15bf7d5eb612d9   \n",
              "4     7e154a36f74ad0ea7e0f6d48b71a5a73d99330e7   \n",
              "...                                        ...   \n",
              "1447  9e5ca8416de6011fa8c0d63430e9b89fe751ee2b   \n",
              "1448  98febb989abd1bdb624420f21122c477f2614a08   \n",
              "1449  65efb981347d6f81fb2713cd27cdfdfa9d8781b9   \n",
              "1450  079e5d647ce39cf2ab5b5f37c5ce28b59fb6db13   \n",
              "1451  6263197a62389c9dce0210cd9d65a6e601345edc   \n",
              "\n",
              "                                                    msg       date  lines  \\\n",
              "0                              KAFKA-1227 New producer!  28/1/2014  11720   \n",
              "1     Implement a few of the API suggestions from th...   4/2/2014   1293   \n",
              "2     Rename client package from kafka.* to org.apac...   6/2/2014    803   \n",
              "3     trivial fix to add missing license header usin...   7/2/2014   2020   \n",
              "4     KAFKA-1261 Make it possible to configure the m...  13/2/2014     67   \n",
              "...                                                 ...        ...    ...   \n",
              "1447  MINOR: Fix kafka-site formatting (#14419)\\n\\nR...  21/9/2023      2   \n",
              "1448  KAFKA-15485: Fix \"this-escape\" compiler warnin...  24/9/2023    159   \n",
              "1449  KAFKA-10199: Do not process when in PARTITIONS...  26/9/2023     97   \n",
              "1450  KAFKA-15326: [8/N] Move consumer interaction o...  26/9/2023    320   \n",
              "1451  KAFKA-15326: [9/N] Start and stop executors an...  2/10/2023    379   \n",
              "\n",
              "      files                                     critical_files  \\\n",
              "0       121                               [KafkaProducer.java]   \n",
              "1        38                               [KafkaProducer.java]   \n",
              "2       116                               [KafkaProducer.java]   \n",
              "3       125                               [KafkaProducer.java]   \n",
              "4         2                               [KafkaProducer.java]   \n",
              "...     ...                                                ...   \n",
              "1447      1                               [StreamsConfig.java]   \n",
              "1448     83  [KafkaProducer.java, KafkaStreams.java, Stream...   \n",
              "1449      2                                [StreamThread.java]   \n",
              "1450     14               [StreamTask.java, StreamThread.java]   \n",
              "1451      9                                  [StreamTask.java]   \n",
              "\n",
              "                                         modified_files  \\\n",
              "0     [build.sbt, BufferExhaustedException.java, Cal...   \n",
              "1     [Callback.java, DefaultPartitioner.java, Kafka...   \n",
              "2     [BufferExhaustedException.java, Callback.java,...   \n",
              "3     [HEADER, BufferExhaustedException.java, Callba...   \n",
              "4             [KafkaProducer.java, ProducerConfig.java]   \n",
              "...                                                 ...   \n",
              "1447                               [StreamsConfig.java]   \n",
              "1448  [AbstractCoordinator.java, DefaultBackgroundTh...   \n",
              "1449         [StreamThread.java, StreamThreadTest.java]   \n",
              "1450  [PartitionGroup.java, ReadOnlyTask.java, Stand...   \n",
              "1451  [suppressions.xml, StreamTask.java, DefaultTas...   \n",
              "\n",
              "                                             diff_files  \\\n",
              "0     [{'KafkaProducer.java': '@@ -0,0 +1,240 @@\n",
              "+pa...   \n",
              "1     [{'KafkaProducer.java': '@@ -6,17 +6,22 @@ imp...   \n",
              "2     [{'KafkaProducer.java': '@@ -1,4 +1,4 @@\n",
              "-pack...   \n",
              "3     [{'KafkaProducer.java': '@@ -1,3 +1,19 @@\n",
              "+/**...   \n",
              "4     [{'KafkaProducer.java': '@@ -1,18 +1,14 @@\n",
              " /*...   \n",
              "...                                                 ...   \n",
              "1447  [{'StreamsConfig.java': '@@ -777,7 +777,7 @@ p...   \n",
              "1448  [{'KafkaProducer.java': '@@ -333,7 +333,7 @@ p...   \n",
              "1449  [{'StreamThread.java': '@@ -260,6 +260,12 @@ p...   \n",
              "1450  [{'StreamTask.java': '@@ -84,6 +84,7 @@ public...   \n",
              "1451  [{'StreamTask.java': '@@ -394,6 +394,12 @@ pub...   \n",
              "\n",
              "                              diff_files_modified_files  \n",
              "0     [@@ -0,0 +1,11 @@\\n+import sbt._\\n+import Keys...  \n",
              "1     [@@ -2,14 +2,17 @@ package kafka.clients.produ...  \n",
              "2     [@@ -1,6 +1,6 @@\\n-package kafka.clients.produ...  \n",
              "3     [@@ -1,16 +1,14 @@\\n-Licensed to the Apache So...  \n",
              "4     [@@ -1,18 +1,14 @@\\n /**\\n- * Licensed to the ...  \n",
              "...                                                 ...  \n",
              "1447  [@@ -777,7 +777,7 @@ public class StreamsConfi...  \n",
              "1448  [@@ -1291,7 +1291,7 @@ public abstract class A...  \n",
              "1449  [@@ -260,6 +260,12 @@ public class StreamThrea...  \n",
              "1450  [@@ -70,6 +70,7 @@ public class PartitionGroup...  \n",
              "1451  [@@ -235,7 +235,7 @@\\n               files=\"(E...  \n",
              "\n",
              "[1452 rows x 9 columns]"
            ],
            "text/html": [
              "\n",
              "  <div id=\"df-e7d18e9b-401f-4ae1-af76-77c3166b67a7\" class=\"colab-df-container\">\n",
              "    <div>\n",
              "<style scoped>\n",
              "    .dataframe tbody tr th:only-of-type {\n",
              "        vertical-align: middle;\n",
              "    }\n",
              "\n",
              "    .dataframe tbody tr th {\n",
              "        vertical-align: top;\n",
              "    }\n",
              "\n",
              "    .dataframe thead th {\n",
              "        text-align: right;\n",
              "    }\n",
              "</style>\n",
              "<table border=\"1\" class=\"dataframe\">\n",
              "  <thead>\n",
              "    <tr style=\"text-align: right;\">\n",
              "      <th></th>\n",
              "      <th>hash</th>\n",
              "      <th>msg</th>\n",
              "      <th>date</th>\n",
              "      <th>lines</th>\n",
              "      <th>files</th>\n",
              "      <th>critical_files</th>\n",
              "      <th>modified_files</th>\n",
              "      <th>diff_files</th>\n",
              "      <th>diff_files_modified_files</th>\n",
              "    </tr>\n",
              "  </thead>\n",
              "  <tbody>\n",
              "    <tr>\n",
              "      <th>0</th>\n",
              "      <td>269d16d3c915d09f650ae32aa81542bd8522ca68</td>\n",
              "      <td>KAFKA-1227 New producer!</td>\n",
              "      <td>28/1/2014</td>\n",
              "      <td>11720</td>\n",
              "      <td>121</td>\n",
              "      <td>[KafkaProducer.java]</td>\n",
              "      <td>[build.sbt, BufferExhaustedException.java, Cal...</td>\n",
              "      <td>[{'KafkaProducer.java': '@@ -0,0 +1,240 @@\n",
              "+pa...</td>\n",
              "      <td>[@@ -0,0 +1,11 @@\\n+import sbt._\\n+import Keys...</td>\n",
              "    </tr>\n",
              "    <tr>\n",
              "      <th>1</th>\n",
              "      <td>253f86e31062fb86401abdc13835c251eef47417</td>\n",
              "      <td>Implement a few of the API suggestions from th...</td>\n",
              "      <td>4/2/2014</td>\n",
              "      <td>1293</td>\n",
              "      <td>38</td>\n",
              "      <td>[KafkaProducer.java]</td>\n",
              "      <td>[Callback.java, DefaultPartitioner.java, Kafka...</td>\n",
              "      <td>[{'KafkaProducer.java': '@@ -6,17 +6,22 @@ imp...</td>\n",
              "      <td>[@@ -2,14 +2,17 @@ package kafka.clients.produ...</td>\n",
              "    </tr>\n",
              "    <tr>\n",
              "      <th>2</th>\n",
              "      <td>fa6339c19cd06880d32ec9a5ee6b66e7f1488dcf</td>\n",
              "      <td>Rename client package from kafka.* to org.apac...</td>\n",
              "      <td>6/2/2014</td>\n",
              "      <td>803</td>\n",
              "      <td>116</td>\n",
              "      <td>[KafkaProducer.java]</td>\n",
              "      <td>[BufferExhaustedException.java, Callback.java,...</td>\n",
              "      <td>[{'KafkaProducer.java': '@@ -1,4 +1,4 @@\n",
              "-pack...</td>\n",
              "      <td>[@@ -1,6 +1,6 @@\\n-package kafka.clients.produ...</td>\n",
              "    </tr>\n",
              "    <tr>\n",
              "      <th>3</th>\n",
              "      <td>36eae8f63c81f8d38c2351054c15bf7d5eb612d9</td>\n",
              "      <td>trivial fix to add missing license header usin...</td>\n",
              "      <td>7/2/2014</td>\n",
              "      <td>2020</td>\n",
              "      <td>125</td>\n",
              "      <td>[KafkaProducer.java]</td>\n",
              "      <td>[HEADER, BufferExhaustedException.java, Callba...</td>\n",
              "      <td>[{'KafkaProducer.java': '@@ -1,3 +1,19 @@\n",
              "+/**...</td>\n",
              "      <td>[@@ -1,16 +1,14 @@\\n-Licensed to the Apache So...</td>\n",
              "    </tr>\n",
              "    <tr>\n",
              "      <th>4</th>\n",
              "      <td>7e154a36f74ad0ea7e0f6d48b71a5a73d99330e7</td>\n",
              "      <td>KAFKA-1261 Make it possible to configure the m...</td>\n",
              "      <td>13/2/2014</td>\n",
              "      <td>67</td>\n",
              "      <td>2</td>\n",
              "      <td>[KafkaProducer.java]</td>\n",
              "      <td>[KafkaProducer.java, ProducerConfig.java]</td>\n",
              "      <td>[{'KafkaProducer.java': '@@ -1,18 +1,14 @@\n",
              " /*...</td>\n",
              "      <td>[@@ -1,18 +1,14 @@\\n /**\\n- * Licensed to the ...</td>\n",
              "    </tr>\n",
              "    <tr>\n",
              "      <th>...</th>\n",
              "      <td>...</td>\n",
              "      <td>...</td>\n",
              "      <td>...</td>\n",
              "      <td>...</td>\n",
              "      <td>...</td>\n",
              "      <td>...</td>\n",
              "      <td>...</td>\n",
              "      <td>...</td>\n",
              "      <td>...</td>\n",
              "    </tr>\n",
              "    <tr>\n",
              "      <th>1447</th>\n",
              "      <td>9e5ca8416de6011fa8c0d63430e9b89fe751ee2b</td>\n",
              "      <td>MINOR: Fix kafka-site formatting (#14419)\\n\\nR...</td>\n",
              "      <td>21/9/2023</td>\n",
              "      <td>2</td>\n",
              "      <td>1</td>\n",
              "      <td>[StreamsConfig.java]</td>\n",
              "      <td>[StreamsConfig.java]</td>\n",
              "      <td>[{'StreamsConfig.java': '@@ -777,7 +777,7 @@ p...</td>\n",
              "      <td>[@@ -777,7 +777,7 @@ public class StreamsConfi...</td>\n",
              "    </tr>\n",
              "    <tr>\n",
              "      <th>1448</th>\n",
              "      <td>98febb989abd1bdb624420f21122c477f2614a08</td>\n",
              "      <td>KAFKA-15485: Fix \"this-escape\" compiler warnin...</td>\n",
              "      <td>24/9/2023</td>\n",
              "      <td>159</td>\n",
              "      <td>83</td>\n",
              "      <td>[KafkaProducer.java, KafkaStreams.java, Stream...</td>\n",
              "      <td>[AbstractCoordinator.java, DefaultBackgroundTh...</td>\n",
              "      <td>[{'KafkaProducer.java': '@@ -333,7 +333,7 @@ p...</td>\n",
              "      <td>[@@ -1291,7 +1291,7 @@ public abstract class A...</td>\n",
              "    </tr>\n",
              "    <tr>\n",
              "      <th>1449</th>\n",
              "      <td>65efb981347d6f81fb2713cd27cdfdfa9d8781b9</td>\n",
              "      <td>KAFKA-10199: Do not process when in PARTITIONS...</td>\n",
              "      <td>26/9/2023</td>\n",
              "      <td>97</td>\n",
              "      <td>2</td>\n",
              "      <td>[StreamThread.java]</td>\n",
              "      <td>[StreamThread.java, StreamThreadTest.java]</td>\n",
              "      <td>[{'StreamThread.java': '@@ -260,6 +260,12 @@ p...</td>\n",
              "      <td>[@@ -260,6 +260,12 @@ public class StreamThrea...</td>\n",
              "    </tr>\n",
              "    <tr>\n",
              "      <th>1450</th>\n",
              "      <td>079e5d647ce39cf2ab5b5f37c5ce28b59fb6db13</td>\n",
              "      <td>KAFKA-15326: [8/N] Move consumer interaction o...</td>\n",
              "      <td>26/9/2023</td>\n",
              "      <td>320</td>\n",
              "      <td>14</td>\n",
              "      <td>[StreamTask.java, StreamThread.java]</td>\n",
              "      <td>[PartitionGroup.java, ReadOnlyTask.java, Stand...</td>\n",
              "      <td>[{'StreamTask.java': '@@ -84,6 +84,7 @@ public...</td>\n",
              "      <td>[@@ -70,6 +70,7 @@ public class PartitionGroup...</td>\n",
              "    </tr>\n",
              "    <tr>\n",
              "      <th>1451</th>\n",
              "      <td>6263197a62389c9dce0210cd9d65a6e601345edc</td>\n",
              "      <td>KAFKA-15326: [9/N] Start and stop executors an...</td>\n",
              "      <td>2/10/2023</td>\n",
              "      <td>379</td>\n",
              "      <td>9</td>\n",
              "      <td>[StreamTask.java]</td>\n",
              "      <td>[suppressions.xml, StreamTask.java, DefaultTas...</td>\n",
              "      <td>[{'StreamTask.java': '@@ -394,6 +394,12 @@ pub...</td>\n",
              "      <td>[@@ -235,7 +235,7 @@\\n               files=\"(E...</td>\n",
              "    </tr>\n",
              "  </tbody>\n",
              "</table>\n",
              "<p>1452 rows × 9 columns</p>\n",
              "</div>\n",
              "    <div class=\"colab-df-buttons\">\n",
              "\n",
              "  <div class=\"colab-df-container\">\n",
              "    <button class=\"colab-df-convert\" onclick=\"convertToInteractive('df-e7d18e9b-401f-4ae1-af76-77c3166b67a7')\"\n",
              "            title=\"Convert this dataframe to an interactive table.\"\n",
              "            style=\"display:none;\">\n",
              "\n",
              "  <svg xmlns=\"http://www.w3.org/2000/svg\" height=\"24px\" viewBox=\"0 -960 960 960\">\n",
              "    <path d=\"M120-120v-720h720v720H120Zm60-500h600v-160H180v160Zm220 220h160v-160H400v160Zm0 220h160v-160H400v160ZM180-400h160v-160H180v160Zm440 0h160v-160H620v160ZM180-180h160v-160H180v160Zm440 0h160v-160H620v160Z\"/>\n",
              "  </svg>\n",
              "    </button>\n",
              "\n",
              "  <style>\n",
              "    .colab-df-container {\n",
              "      display:flex;\n",
              "      gap: 12px;\n",
              "    }\n",
              "\n",
              "    .colab-df-convert {\n",
              "      background-color: #E8F0FE;\n",
              "      border: none;\n",
              "      border-radius: 50%;\n",
              "      cursor: pointer;\n",
              "      display: none;\n",
              "      fill: #1967D2;\n",
              "      height: 32px;\n",
              "      padding: 0 0 0 0;\n",
              "      width: 32px;\n",
              "    }\n",
              "\n",
              "    .colab-df-convert:hover {\n",
              "      background-color: #E2EBFA;\n",
              "      box-shadow: 0px 1px 2px rgba(60, 64, 67, 0.3), 0px 1px 3px 1px rgba(60, 64, 67, 0.15);\n",
              "      fill: #174EA6;\n",
              "    }\n",
              "\n",
              "    .colab-df-buttons div {\n",
              "      margin-bottom: 4px;\n",
              "    }\n",
              "\n",
              "    [theme=dark] .colab-df-convert {\n",
              "      background-color: #3B4455;\n",
              "      fill: #D2E3FC;\n",
              "    }\n",
              "\n",
              "    [theme=dark] .colab-df-convert:hover {\n",
              "      background-color: #434B5C;\n",
              "      box-shadow: 0px 1px 3px 1px rgba(0, 0, 0, 0.15);\n",
              "      filter: drop-shadow(0px 1px 2px rgba(0, 0, 0, 0.3));\n",
              "      fill: #FFFFFF;\n",
              "    }\n",
              "  </style>\n",
              "\n",
              "    <script>\n",
              "      const buttonEl =\n",
              "        document.querySelector('#df-e7d18e9b-401f-4ae1-af76-77c3166b67a7 button.colab-df-convert');\n",
              "      buttonEl.style.display =\n",
              "        google.colab.kernel.accessAllowed ? 'block' : 'none';\n",
              "\n",
              "      async function convertToInteractive(key) {\n",
              "        const element = document.querySelector('#df-e7d18e9b-401f-4ae1-af76-77c3166b67a7');\n",
              "        const dataTable =\n",
              "          await google.colab.kernel.invokeFunction('convertToInteractive',\n",
              "                                                    [key], {});\n",
              "        if (!dataTable) return;\n",
              "\n",
              "        const docLinkHtml = 'Like what you see? Visit the ' +\n",
              "          '<a target=\"_blank\" href=https://colab.research.google.com/notebooks/data_table.ipynb>data table notebook</a>'\n",
              "          + ' to learn more about interactive tables.';\n",
              "        element.innerHTML = '';\n",
              "        dataTable['output_type'] = 'display_data';\n",
              "        await google.colab.output.renderOutput(dataTable, element);\n",
              "        const docLink = document.createElement('div');\n",
              "        docLink.innerHTML = docLinkHtml;\n",
              "        element.appendChild(docLink);\n",
              "      }\n",
              "    </script>\n",
              "  </div>\n",
              "\n",
              "\n",
              "<div id=\"df-eb79ccf5-1995-4058-ba3a-a8a23e6db540\">\n",
              "  <button class=\"colab-df-quickchart\" onclick=\"quickchart('df-eb79ccf5-1995-4058-ba3a-a8a23e6db540')\"\n",
              "            title=\"Suggest charts.\"\n",
              "            style=\"display:none;\">\n",
              "\n",
              "<svg xmlns=\"http://www.w3.org/2000/svg\" height=\"24px\"viewBox=\"0 0 24 24\"\n",
              "     width=\"24px\">\n",
              "    <g>\n",
              "        <path d=\"M19 3H5c-1.1 0-2 .9-2 2v14c0 1.1.9 2 2 2h14c1.1 0 2-.9 2-2V5c0-1.1-.9-2-2-2zM9 17H7v-7h2v7zm4 0h-2V7h2v10zm4 0h-2v-4h2v4z\"/>\n",
              "    </g>\n",
              "</svg>\n",
              "  </button>\n",
              "\n",
              "<style>\n",
              "  .colab-df-quickchart {\n",
              "      --bg-color: #E8F0FE;\n",
              "      --fill-color: #1967D2;\n",
              "      --hover-bg-color: #E2EBFA;\n",
              "      --hover-fill-color: #174EA6;\n",
              "      --disabled-fill-color: #AAA;\n",
              "      --disabled-bg-color: #DDD;\n",
              "  }\n",
              "\n",
              "  [theme=dark] .colab-df-quickchart {\n",
              "      --bg-color: #3B4455;\n",
              "      --fill-color: #D2E3FC;\n",
              "      --hover-bg-color: #434B5C;\n",
              "      --hover-fill-color: #FFFFFF;\n",
              "      --disabled-bg-color: #3B4455;\n",
              "      --disabled-fill-color: #666;\n",
              "  }\n",
              "\n",
              "  .colab-df-quickchart {\n",
              "    background-color: var(--bg-color);\n",
              "    border: none;\n",
              "    border-radius: 50%;\n",
              "    cursor: pointer;\n",
              "    display: none;\n",
              "    fill: var(--fill-color);\n",
              "    height: 32px;\n",
              "    padding: 0;\n",
              "    width: 32px;\n",
              "  }\n",
              "\n",
              "  .colab-df-quickchart:hover {\n",
              "    background-color: var(--hover-bg-color);\n",
              "    box-shadow: 0 1px 2px rgba(60, 64, 67, 0.3), 0 1px 3px 1px rgba(60, 64, 67, 0.15);\n",
              "    fill: var(--button-hover-fill-color);\n",
              "  }\n",
              "\n",
              "  .colab-df-quickchart-complete:disabled,\n",
              "  .colab-df-quickchart-complete:disabled:hover {\n",
              "    background-color: var(--disabled-bg-color);\n",
              "    fill: var(--disabled-fill-color);\n",
              "    box-shadow: none;\n",
              "  }\n",
              "\n",
              "  .colab-df-spinner {\n",
              "    border: 2px solid var(--fill-color);\n",
              "    border-color: transparent;\n",
              "    border-bottom-color: var(--fill-color);\n",
              "    animation:\n",
              "      spin 1s steps(1) infinite;\n",
              "  }\n",
              "\n",
              "  @keyframes spin {\n",
              "    0% {\n",
              "      border-color: transparent;\n",
              "      border-bottom-color: var(--fill-color);\n",
              "      border-left-color: var(--fill-color);\n",
              "    }\n",
              "    20% {\n",
              "      border-color: transparent;\n",
              "      border-left-color: var(--fill-color);\n",
              "      border-top-color: var(--fill-color);\n",
              "    }\n",
              "    30% {\n",
              "      border-color: transparent;\n",
              "      border-left-color: var(--fill-color);\n",
              "      border-top-color: var(--fill-color);\n",
              "      border-right-color: var(--fill-color);\n",
              "    }\n",
              "    40% {\n",
              "      border-color: transparent;\n",
              "      border-right-color: var(--fill-color);\n",
              "      border-top-color: var(--fill-color);\n",
              "    }\n",
              "    60% {\n",
              "      border-color: transparent;\n",
              "      border-right-color: var(--fill-color);\n",
              "    }\n",
              "    80% {\n",
              "      border-color: transparent;\n",
              "      border-right-color: var(--fill-color);\n",
              "      border-bottom-color: var(--fill-color);\n",
              "    }\n",
              "    90% {\n",
              "      border-color: transparent;\n",
              "      border-bottom-color: var(--fill-color);\n",
              "    }\n",
              "  }\n",
              "</style>\n",
              "\n",
              "  <script>\n",
              "    async function quickchart(key) {\n",
              "      const quickchartButtonEl =\n",
              "        document.querySelector('#' + key + ' button');\n",
              "      quickchartButtonEl.disabled = true;  // To prevent multiple clicks.\n",
              "      quickchartButtonEl.classList.add('colab-df-spinner');\n",
              "      try {\n",
              "        const charts = await google.colab.kernel.invokeFunction(\n",
              "            'suggestCharts', [key], {});\n",
              "      } catch (error) {\n",
              "        console.error('Error during call to suggestCharts:', error);\n",
              "      }\n",
              "      quickchartButtonEl.classList.remove('colab-df-spinner');\n",
              "      quickchartButtonEl.classList.add('colab-df-quickchart-complete');\n",
              "    }\n",
              "    (() => {\n",
              "      let quickchartButtonEl =\n",
              "        document.querySelector('#df-eb79ccf5-1995-4058-ba3a-a8a23e6db540 button');\n",
              "      quickchartButtonEl.style.display =\n",
              "        google.colab.kernel.accessAllowed ? 'block' : 'none';\n",
              "    })();\n",
              "  </script>\n",
              "</div>\n",
              "    </div>\n",
              "  </div>\n"
            ]
          },
          "metadata": {},
          "execution_count": 16
        }
      ]
    },
    {
      "cell_type": "code",
      "source": [
        "df_commits_with_critical_files.info()"
      ],
      "metadata": {
        "colab": {
          "base_uri": "https://localhost:8080/"
        },
        "id": "lK1eaZ7Cmkot",
        "outputId": "1b45cf73-dd38-4866-bfa4-2df61342e4f7"
      },
      "execution_count": null,
      "outputs": [
        {
          "output_type": "stream",
          "name": "stdout",
          "text": [
            "<class 'pandas.core.frame.DataFrame'>\n",
            "RangeIndex: 1452 entries, 0 to 1451\n",
            "Data columns (total 9 columns):\n",
            " #   Column                     Non-Null Count  Dtype \n",
            "---  ------                     --------------  ----- \n",
            " 0   hash                       1452 non-null   object\n",
            " 1   msg                        1452 non-null   object\n",
            " 2   date                       1452 non-null   object\n",
            " 3   lines                      1452 non-null   int64 \n",
            " 4   files                      1452 non-null   int64 \n",
            " 5   critical_files             1452 non-null   object\n",
            " 6   modified_files             1452 non-null   object\n",
            " 7   diff_files                 1452 non-null   object\n",
            " 8   diff_files_modified_files  1452 non-null   object\n",
            "dtypes: int64(2), object(7)\n",
            "memory usage: 102.2+ KB\n"
          ]
        }
      ]
    },
    {
      "cell_type": "code",
      "source": [
        "df_commits_with_critical_files.to_excel('kafka_commits_with_critical_classes.xlsx', index=False)"
      ],
      "metadata": {
        "id": "EEOLXXjy46HZ"
      },
      "execution_count": null,
      "outputs": []
    },
    {
      "cell_type": "markdown",
      "source": [
        "# 2. Extrai issues de um issue tracker"
      ],
      "metadata": {
        "id": "xEXo9gvEFMOW"
      }
    },
    {
      "cell_type": "markdown",
      "source": [
        "## Configura ambiente para acessar Issue Tracker"
      ],
      "metadata": {
        "id": "m3Sj7vZBFZO7"
      }
    },
    {
      "cell_type": "code",
      "source": [
        "# Initialize the Jira connection\n",
        "print('Initialize the Jira connection')\n",
        "jira = JIRA(JIRA_SERVER, basic_auth=(username, password))\n",
        "\n",
        "# Create a JiraUtils instance\n",
        "print('Create a JiraUtils instance')\n",
        "jira_utils = JiraUtils(ISSUE_TRACKER_PROJECT, jira)\n",
        "\n",
        "date1 = (2011, 8, 1)\n",
        "date2 = (2023, 10, 4)\n",
        "distance = 120\n",
        "print('Define date intervals')\n",
        "print(f'From: {str(date1)} to: {date2}, by: {distance} days of distance.')"
      ],
      "metadata": {
        "colab": {
          "base_uri": "https://localhost:8080/"
        },
        "id": "OGz4teVIFcig",
        "outputId": "78b2f572-4999-4fff-f6f3-e6afd48ced7f"
      },
      "execution_count": null,
      "outputs": [
        {
          "output_type": "stream",
          "name": "stdout",
          "text": [
            "Initialize the Jira connection\n",
            "Create a JiraUtils instance\n",
            "Define date intervals\n",
            "From: (2011, 8, 1) to: (2023, 10, 4), by: 120 days of distance.\n"
          ]
        }
      ]
    },
    {
      "cell_type": "markdown",
      "source": [
        "## Recupera os issues do período dado"
      ],
      "metadata": {
        "id": "22RGuRI7JSjE"
      }
    },
    {
      "cell_type": "code",
      "source": [
        "# Fetch issues using date intervals\n",
        "print('Fetch issues using date intervals')\n",
        "block_of_issues = jira_utils.get_list_of_block_issues_by_dates(date1, date2, distance)"
      ],
      "metadata": {
        "colab": {
          "base_uri": "https://localhost:8080/"
        },
        "id": "iiTmhFaIC5Mg",
        "outputId": "4d402764-ab80-4fb7-af10-18cd6d238746"
      },
      "execution_count": null,
      "outputs": [
        {
          "output_type": "stream",
          "name": "stdout",
          "text": [
            "Fetch issues using date intervals\n",
            "Aguarde...\n"
          ]
        },
        {
          "output_type": "stream",
          "name": "stderr",
          "text": [
            "Progress Message Analysis:   3%|▎         | 1/38 [00:02<01:20,  2.16s/it]"
          ]
        },
        {
          "output_type": "stream",
          "name": "stdout",
          "text": [
            "Range: project=KAFKA and created>=\"2011/08/01\" and created<=\"2011/11/28\", qtd issues: 135\n"
          ]
        },
        {
          "output_type": "stream",
          "name": "stderr",
          "text": [
            "Progress Message Analysis:   5%|▌         | 2/38 [00:04<01:11,  1.99s/it]"
          ]
        },
        {
          "output_type": "stream",
          "name": "stdout",
          "text": [
            "Range: project=KAFKA and created>=\"2011/11/29\" and created<=\"2012/03/27\", qtd issues: 105\n"
          ]
        },
        {
          "output_type": "stream",
          "name": "stderr",
          "text": [
            "Progress Message Analysis:   8%|▊         | 3/38 [00:05<01:06,  1.90s/it]"
          ]
        },
        {
          "output_type": "stream",
          "name": "stdout",
          "text": [
            "Range: project=KAFKA and created>=\"2012/03/28\" and created<=\"2012/07/25\", qtd issues: 92\n"
          ]
        },
        {
          "output_type": "stream",
          "name": "stderr",
          "text": [
            "Progress Message Analysis:  11%|█         | 4/38 [00:08<01:19,  2.34s/it]"
          ]
        },
        {
          "output_type": "stream",
          "name": "stdout",
          "text": [
            "Range: project=KAFKA and created>=\"2012/07/26\" and created<=\"2012/11/22\", qtd issues: 212\n"
          ]
        },
        {
          "output_type": "stream",
          "name": "stderr",
          "text": [
            "Progress Message Analysis:  13%|█▎        | 5/38 [00:11<01:23,  2.52s/it]"
          ]
        },
        {
          "output_type": "stream",
          "name": "stdout",
          "text": [
            "Range: project=KAFKA and created>=\"2012/11/23\" and created<=\"2013/03/22\", qtd issues: 192\n"
          ]
        },
        {
          "output_type": "stream",
          "name": "stderr",
          "text": [
            "Progress Message Analysis:  16%|█▌        | 6/38 [00:14<01:20,  2.53s/it]"
          ]
        },
        {
          "output_type": "stream",
          "name": "stdout",
          "text": [
            "Range: project=KAFKA and created>=\"2013/03/23\" and created<=\"2013/07/20\", qtd issues: 158\n"
          ]
        },
        {
          "output_type": "stream",
          "name": "stderr",
          "text": [
            "Progress Message Analysis:  18%|█▊        | 7/38 [00:16<01:16,  2.48s/it]"
          ]
        },
        {
          "output_type": "stream",
          "name": "stdout",
          "text": [
            "Range: project=KAFKA and created>=\"2013/07/21\" and created<=\"2013/11/17\", qtd issues: 154\n"
          ]
        },
        {
          "output_type": "stream",
          "name": "stderr",
          "text": [
            "Progress Message Analysis:  21%|██        | 8/38 [00:19<01:17,  2.57s/it]"
          ]
        },
        {
          "output_type": "stream",
          "name": "stdout",
          "text": [
            "Range: project=KAFKA and created>=\"2013/11/18\" and created<=\"2014/03/17\", qtd issues: 161\n"
          ]
        },
        {
          "output_type": "stream",
          "name": "stderr",
          "text": [
            "Progress Message Analysis:  24%|██▎       | 9/38 [00:23<01:27,  3.01s/it]"
          ]
        },
        {
          "output_type": "stream",
          "name": "stdout",
          "text": [
            "Range: project=KAFKA and created>=\"2014/03/18\" and created<=\"2014/07/15\", qtd issues: 232\n"
          ]
        },
        {
          "output_type": "stream",
          "name": "stderr",
          "text": [
            "Progress Message Analysis:  26%|██▋       | 10/38 [00:26<01:27,  3.14s/it]"
          ]
        },
        {
          "output_type": "stream",
          "name": "stdout",
          "text": [
            "Range: project=KAFKA and created>=\"2014/07/16\" and created<=\"2014/11/12\", qtd issues: 227\n"
          ]
        },
        {
          "output_type": "stream",
          "name": "stderr",
          "text": [
            "Progress Message Analysis:  29%|██▉       | 11/38 [00:30<01:30,  3.34s/it]"
          ]
        },
        {
          "output_type": "stream",
          "name": "stdout",
          "text": [
            "Range: project=KAFKA and created>=\"2014/11/13\" and created<=\"2015/03/12\", qtd issues: 247\n"
          ]
        },
        {
          "output_type": "stream",
          "name": "stderr",
          "text": [
            "Progress Message Analysis:  32%|███▏      | 12/38 [00:35<01:35,  3.69s/it]"
          ]
        },
        {
          "output_type": "stream",
          "name": "stdout",
          "text": [
            "Range: project=KAFKA and created>=\"2015/03/13\" and created<=\"2015/07/10\", qtd issues: 310\n"
          ]
        },
        {
          "output_type": "stream",
          "name": "stderr",
          "text": [
            "Progress Message Analysis:  34%|███▍      | 13/38 [00:40<01:43,  4.15s/it]"
          ]
        },
        {
          "output_type": "stream",
          "name": "stdout",
          "text": [
            "Range: project=KAFKA and created>=\"2015/07/11\" and created<=\"2015/11/07\", qtd issues: 440\n"
          ]
        },
        {
          "output_type": "stream",
          "name": "stderr",
          "text": [
            "Progress Message Analysis:  37%|███▋      | 14/38 [00:47<01:58,  4.95s/it]"
          ]
        },
        {
          "output_type": "stream",
          "name": "stdout",
          "text": [
            "Range: project=KAFKA and created>=\"2015/11/08\" and created<=\"2016/03/06\", qtd issues: 568\n"
          ]
        },
        {
          "output_type": "stream",
          "name": "stderr",
          "text": [
            "Progress Message Analysis:  39%|███▉      | 15/38 [00:54<02:11,  5.73s/it]"
          ]
        },
        {
          "output_type": "stream",
          "name": "stdout",
          "text": [
            "Range: project=KAFKA and created>=\"2016/03/07\" and created<=\"2016/07/04\", qtd issues: 585\n"
          ]
        },
        {
          "output_type": "stream",
          "name": "stderr",
          "text": [
            "Progress Message Analysis:  42%|████▏     | 16/38 [00:59<02:02,  5.59s/it]"
          ]
        },
        {
          "output_type": "stream",
          "name": "stdout",
          "text": [
            "Range: project=KAFKA and created>=\"2016/07/05\" and created<=\"2016/11/01\", qtd issues: 433\n"
          ]
        },
        {
          "output_type": "stream",
          "name": "stderr",
          "text": [
            "Progress Message Analysis:  45%|████▍     | 17/38 [01:06<02:04,  5.92s/it]"
          ]
        },
        {
          "output_type": "stream",
          "name": "stdout",
          "text": [
            "Range: project=KAFKA and created>=\"2016/11/02\" and created<=\"2017/03/01\", qtd issues: 452\n"
          ]
        },
        {
          "output_type": "stream",
          "name": "stderr",
          "text": [
            "Progress Message Analysis:  47%|████▋     | 18/38 [01:14<02:10,  6.52s/it]"
          ]
        },
        {
          "output_type": "stream",
          "name": "stdout",
          "text": [
            "Range: project=KAFKA and created>=\"2017/03/02\" and created<=\"2017/06/29\", qtd issues: 703\n"
          ]
        },
        {
          "output_type": "stream",
          "name": "stderr",
          "text": [
            "Progress Message Analysis:  50%|█████     | 19/38 [01:21<02:05,  6.59s/it]"
          ]
        },
        {
          "output_type": "stream",
          "name": "stdout",
          "text": [
            "Range: project=KAFKA and created>=\"2017/06/30\" and created<=\"2017/10/27\", qtd issues: 591\n"
          ]
        },
        {
          "output_type": "stream",
          "name": "stderr",
          "text": [
            "Progress Message Analysis:  53%|█████▎    | 20/38 [01:27<01:55,  6.44s/it]"
          ]
        },
        {
          "output_type": "stream",
          "name": "stdout",
          "text": [
            "Range: project=KAFKA and created>=\"2017/10/28\" and created<=\"2018/02/24\", qtd issues: 450\n"
          ]
        },
        {
          "output_type": "stream",
          "name": "stderr",
          "text": [
            "Progress Message Analysis:  55%|█████▌    | 21/38 [01:33<01:46,  6.29s/it]"
          ]
        },
        {
          "output_type": "stream",
          "name": "stdout",
          "text": [
            "Range: project=KAFKA and created>=\"2018/02/25\" and created<=\"2018/06/24\", qtd issues: 501\n"
          ]
        },
        {
          "output_type": "stream",
          "name": "stderr",
          "text": [
            "Progress Message Analysis:  58%|█████▊    | 22/38 [01:38<01:35,  6.00s/it]"
          ]
        },
        {
          "output_type": "stream",
          "name": "stdout",
          "text": [
            "Range: project=KAFKA and created>=\"2018/06/25\" and created<=\"2018/10/22\", qtd issues: 434\n"
          ]
        },
        {
          "output_type": "stream",
          "name": "stderr",
          "text": [
            "Progress Message Analysis:  61%|██████    | 23/38 [01:43<01:27,  5.80s/it]"
          ]
        },
        {
          "output_type": "stream",
          "name": "stdout",
          "text": [
            "Range: project=KAFKA and created>=\"2018/10/23\" and created<=\"2019/02/19\", qtd issues: 414\n"
          ]
        },
        {
          "output_type": "stream",
          "name": "stderr",
          "text": [
            "Progress Message Analysis:  63%|██████▎   | 24/38 [01:50<01:24,  6.05s/it]"
          ]
        },
        {
          "output_type": "stream",
          "name": "stdout",
          "text": [
            "Range: project=KAFKA and created>=\"2019/02/20\" and created<=\"2019/06/19\", qtd issues: 604\n"
          ]
        },
        {
          "output_type": "stream",
          "name": "stderr",
          "text": [
            "Progress Message Analysis:  66%|██████▌   | 25/38 [01:57<01:22,  6.31s/it]"
          ]
        },
        {
          "output_type": "stream",
          "name": "stdout",
          "text": [
            "Range: project=KAFKA and created>=\"2019/06/20\" and created<=\"2019/10/17\", qtd issues: 486\n"
          ]
        },
        {
          "output_type": "stream",
          "name": "stderr",
          "text": [
            "Progress Message Analysis:  68%|██████▊   | 26/38 [02:02<01:12,  6.03s/it]"
          ]
        },
        {
          "output_type": "stream",
          "name": "stdout",
          "text": [
            "Range: project=KAFKA and created>=\"2019/10/18\" and created<=\"2020/02/14\", qtd issues: 491\n"
          ]
        },
        {
          "output_type": "stream",
          "name": "stderr",
          "text": [
            "Progress Message Analysis:  71%|███████   | 27/38 [02:09<01:08,  6.23s/it]"
          ]
        },
        {
          "output_type": "stream",
          "name": "stdout",
          "text": [
            "Range: project=KAFKA and created>=\"2020/02/15\" and created<=\"2020/06/13\", qtd issues: 598\n"
          ]
        },
        {
          "output_type": "stream",
          "name": "stderr",
          "text": [
            "Progress Message Analysis:  74%|███████▎  | 28/38 [02:14<00:57,  5.79s/it]"
          ]
        },
        {
          "output_type": "stream",
          "name": "stdout",
          "text": [
            "Range: project=KAFKA and created>=\"2020/06/14\" and created<=\"2020/10/11\", qtd issues: 439\n"
          ]
        },
        {
          "output_type": "stream",
          "name": "stderr",
          "text": [
            "Progress Message Analysis:  76%|███████▋  | 29/38 [02:19<00:51,  5.69s/it]"
          ]
        },
        {
          "output_type": "stream",
          "name": "stdout",
          "text": [
            "Range: project=KAFKA and created>=\"2020/10/12\" and created<=\"2021/02/08\", qtd issues: 466\n"
          ]
        },
        {
          "output_type": "stream",
          "name": "stderr",
          "text": [
            "Progress Message Analysis:  79%|███████▉  | 30/38 [02:26<00:47,  5.90s/it]"
          ]
        },
        {
          "output_type": "stream",
          "name": "stdout",
          "text": [
            "Range: project=KAFKA and created>=\"2021/02/09\" and created<=\"2021/06/08\", qtd issues: 597\n"
          ]
        },
        {
          "output_type": "stream",
          "name": "stderr",
          "text": [
            "Progress Message Analysis:  82%|████████▏ | 31/38 [02:30<00:38,  5.54s/it]"
          ]
        },
        {
          "output_type": "stream",
          "name": "stdout",
          "text": [
            "Range: project=KAFKA and created>=\"2021/06/09\" and created<=\"2021/10/06\", qtd issues: 429\n"
          ]
        },
        {
          "output_type": "stream",
          "name": "stderr",
          "text": [
            "Progress Message Analysis:  84%|████████▍ | 32/38 [02:34<00:29,  4.88s/it]"
          ]
        },
        {
          "output_type": "stream",
          "name": "stdout",
          "text": [
            "Range: project=KAFKA and created>=\"2021/10/07\" and created<=\"2022/02/03\", qtd issues: 283\n"
          ]
        },
        {
          "output_type": "stream",
          "name": "stderr",
          "text": [
            "Progress Message Analysis:  87%|████████▋ | 33/38 [02:39<00:24,  4.88s/it]"
          ]
        },
        {
          "output_type": "stream",
          "name": "stdout",
          "text": [
            "Range: project=KAFKA and created>=\"2022/02/04\" and created<=\"2022/06/03\", qtd issues: 314\n"
          ]
        },
        {
          "output_type": "stream",
          "name": "stderr",
          "text": [
            "Progress Message Analysis:  89%|████████▉ | 34/38 [02:42<00:18,  4.50s/it]"
          ]
        },
        {
          "output_type": "stream",
          "name": "stdout",
          "text": [
            "Range: project=KAFKA and created>=\"2022/06/04\" and created<=\"2022/10/01\", qtd issues: 313\n"
          ]
        },
        {
          "output_type": "stream",
          "name": "stderr",
          "text": [
            "Progress Message Analysis:  92%|█████████▏| 35/38 [02:47<00:13,  4.45s/it]"
          ]
        },
        {
          "output_type": "stream",
          "name": "stdout",
          "text": [
            "Range: project=KAFKA and created>=\"2022/10/02\" and created<=\"2023/01/29\", qtd issues: 386\n"
          ]
        },
        {
          "output_type": "stream",
          "name": "stderr",
          "text": [
            "Progress Message Analysis:  95%|█████████▍| 36/38 [02:51<00:08,  4.32s/it]"
          ]
        },
        {
          "output_type": "stream",
          "name": "stdout",
          "text": [
            "Range: project=KAFKA and created>=\"2023/01/30\" and created<=\"2023/05/29\", qtd issues: 373\n"
          ]
        },
        {
          "output_type": "stream",
          "name": "stderr",
          "text": [
            "Progress Message Analysis:  97%|█████████▋| 37/38 [02:56<00:04,  4.61s/it]"
          ]
        },
        {
          "output_type": "stream",
          "name": "stdout",
          "text": [
            "Range: project=KAFKA and created>=\"2023/05/30\" and created<=\"2023/09/26\", qtd issues: 469\n"
          ]
        },
        {
          "output_type": "stream",
          "name": "stderr",
          "text": [
            "Progress Message Analysis: 100%|██████████| 38/38 [02:59<00:00,  4.72s/it]"
          ]
        },
        {
          "output_type": "stream",
          "name": "stdout",
          "text": [
            "Range: project=KAFKA and created>=\"2023/09/27\" and created<=\"2024/01/24\", qtd issues: 282\n",
            "2023-11-04 18:02:11.117748\n",
            "Tempo da consulta: 0:02:59.297288\n"
          ]
        },
        {
          "output_type": "stream",
          "name": "stderr",
          "text": [
            "\n"
          ]
        }
      ]
    },
    {
      "cell_type": "code",
      "source": [
        "# Concatenate the block of issues into a single list\n",
        "print('Concatenate the block of issues into a single list')\n",
        "all_issues = jira_utils.concatenate_block_of_issues(block_of_issues)"
      ],
      "metadata": {
        "colab": {
          "base_uri": "https://localhost:8080/"
        },
        "id": "3tOVa-DkJBci",
        "outputId": "6c341062-408c-4172-e9ee-fcc4d441c2be"
      },
      "execution_count": null,
      "outputs": [
        {
          "output_type": "stream",
          "name": "stdout",
          "text": [
            "Concatenate the block of issues into a single list\n",
            "Total de issues recuperados: 14326\n"
          ]
        }
      ]
    },
    {
      "cell_type": "code",
      "source": [
        "all_real_issues = analyze_jira_all_issues(ISSUE_TRACKER_PROJECT, all_issues)"
      ],
      "metadata": {
        "colab": {
          "base_uri": "https://localhost:8080/"
        },
        "id": "G7YEk2oZI1lL",
        "outputId": "37b637bd-9d8f-4cd3-8c08-b8281533247f"
      },
      "execution_count": null,
      "outputs": [
        {
          "output_type": "stream",
          "name": "stderr",
          "text": [
            "Progress jira all issues analysis: 100%|██████████| 14326/14326 [00:00<00:00, 83355.20it/s]\n"
          ]
        }
      ]
    },
    {
      "cell_type": "markdown",
      "source": [
        "### Converte os issues recuperados para um dataframe"
      ],
      "metadata": {
        "id": "zNu-uRpoKtzy"
      }
    },
    {
      "cell_type": "code",
      "source": [
        "df_all_reall_issues_in_commits_detailed = convert_issues_to_dataframe(all_real_issues)\n",
        "df_all_reall_issues_in_commits_detailed"
      ],
      "metadata": {
        "colab": {
          "base_uri": "https://localhost:8080/",
          "height": 423
        },
        "id": "pg9TMgmwJgNY",
        "outputId": "afa84266-d363-43ec-d58c-2c1f79266adf"
      },
      "execution_count": null,
      "outputs": [
        {
          "output_type": "execute_result",
          "data": {
            "text/plain": [
              "         issue_key   issue_type    status priority  \\\n",
              "0        KAFKA-213  Improvement  Resolved    Major   \n",
              "1        KAFKA-212          Bug  Resolved    Major   \n",
              "2        KAFKA-211         Task  Resolved    Major   \n",
              "3        KAFKA-210  Improvement  Resolved    Major   \n",
              "4        KAFKA-209  Improvement  Resolved    Major   \n",
              "...            ...          ...       ...      ...   \n",
              "14321  KAFKA-15514     Sub-task  Resolved    Major   \n",
              "14322  KAFKA-15513          Bug      Open    Major   \n",
              "14323  KAFKA-15512         Task      Open    Major   \n",
              "14324  KAFKA-15511          Bug  Resolved    Major   \n",
              "14325  KAFKA-15510          Bug  Resolved    Major   \n",
              "\n",
              "                                                 summary  \\\n",
              "0      make # of consumer rebalance retries configurable   \n",
              "1      IllegalThreadStateException in topic watcher f...   \n",
              "2      Fix LICENSE file to include MIT and SCALA license   \n",
              "3      javaapi ZookeeperConsumerConnectorTest duplica...   \n",
              "4      Remove empty directory when no log segments re...   \n",
              "...                                                  ...   \n",
              "14321         Controller-side replica management changes   \n",
              "14322  KRaft cluster fails with SCRAM authentication ...   \n",
              "14323                   EOL zookeeper component in kafka   \n",
              "14324   Exception not handled correctly if indexFile ...   \n",
              "14325  Follower's lastFetchedEpoch wrongly set when f...   \n",
              "\n",
              "                                             description  \\\n",
              "0                                                          \n",
              "1      If the kafka mirroring embedded consumer recei...   \n",
              "2      See here for reference - http://markmail.org/s...   \n",
              "3      Since javaapi.ZookeeperConsumerConnector is ju...   \n",
              "4      When the log cleaner runs it deletes segments ...   \n",
              "...                                                  ...   \n",
              "14321  The new \"Assignments\" field replaces the \"Repl...   \n",
              "14322  We have observed a scenario where a KRaft clus...   \n",
              "14323  Component: *zookeeper  3.6.3* in kafka 3.4.0, ...   \n",
              "14324  I was simulating  a code flow where  there is ...   \n",
              "14325  A regression is introduced by [https://github....   \n",
              "\n",
              "                                                comments created_date  \\\n",
              "0      Patch attached.\\nA couple of comments -\\n\\n1. ...   2011-11-24   \n",
              "1      This patch clears the threadList that holds th...   2011-11-23   \n",
              "2                                  +1\\nCommitted this.\\n   2011-11-21   \n",
              "3      Remove unnecessary duplicated test cases.\\nIs ...   2011-11-21   \n",
              "4      Actually, when all log segments are deleted, w...   2011-11-18   \n",
              "...                                                  ...          ...   \n",
              "14321                                                      2023-09-27   \n",
              "14322  Thank you for the detailed bug report.\\r\\n\\r\\n...   2023-09-27   \n",
              "14323  Zk has been upgraded to 3.8.2 in upcoming Kafk...   2023-09-27   \n",
              "14324  Yes, this is a bug. Would you like to submit a...   2023-09-27   \n",
              "14325  This does not currently impact truncation in f...   2023-09-27   \n",
              "\n",
              "      resolved_date  \n",
              "0        2011-11-28  \n",
              "1        2011-12-01  \n",
              "2        2011-11-22  \n",
              "3        2011-12-05  \n",
              "4        2012-01-03  \n",
              "...             ...  \n",
              "14321    2023-11-02  \n",
              "14322           NaT  \n",
              "14323           NaT  \n",
              "14324    2023-09-29  \n",
              "14325    2023-09-28  \n",
              "\n",
              "[14326 rows x 9 columns]"
            ],
            "text/html": [
              "\n",
              "  <div id=\"df-3c7e3c5b-0e2a-48b5-a2d6-ec7e24101e8a\" class=\"colab-df-container\">\n",
              "    <div>\n",
              "<style scoped>\n",
              "    .dataframe tbody tr th:only-of-type {\n",
              "        vertical-align: middle;\n",
              "    }\n",
              "\n",
              "    .dataframe tbody tr th {\n",
              "        vertical-align: top;\n",
              "    }\n",
              "\n",
              "    .dataframe thead th {\n",
              "        text-align: right;\n",
              "    }\n",
              "</style>\n",
              "<table border=\"1\" class=\"dataframe\">\n",
              "  <thead>\n",
              "    <tr style=\"text-align: right;\">\n",
              "      <th></th>\n",
              "      <th>issue_key</th>\n",
              "      <th>issue_type</th>\n",
              "      <th>status</th>\n",
              "      <th>priority</th>\n",
              "      <th>summary</th>\n",
              "      <th>description</th>\n",
              "      <th>comments</th>\n",
              "      <th>created_date</th>\n",
              "      <th>resolved_date</th>\n",
              "    </tr>\n",
              "  </thead>\n",
              "  <tbody>\n",
              "    <tr>\n",
              "      <th>0</th>\n",
              "      <td>KAFKA-213</td>\n",
              "      <td>Improvement</td>\n",
              "      <td>Resolved</td>\n",
              "      <td>Major</td>\n",
              "      <td>make # of consumer rebalance retries configurable</td>\n",
              "      <td></td>\n",
              "      <td>Patch attached.\\nA couple of comments -\\n\\n1. ...</td>\n",
              "      <td>2011-11-24</td>\n",
              "      <td>2011-11-28</td>\n",
              "    </tr>\n",
              "    <tr>\n",
              "      <th>1</th>\n",
              "      <td>KAFKA-212</td>\n",
              "      <td>Bug</td>\n",
              "      <td>Resolved</td>\n",
              "      <td>Major</td>\n",
              "      <td>IllegalThreadStateException in topic watcher f...</td>\n",
              "      <td>If the kafka mirroring embedded consumer recei...</td>\n",
              "      <td>This patch clears the threadList that holds th...</td>\n",
              "      <td>2011-11-23</td>\n",
              "      <td>2011-12-01</td>\n",
              "    </tr>\n",
              "    <tr>\n",
              "      <th>2</th>\n",
              "      <td>KAFKA-211</td>\n",
              "      <td>Task</td>\n",
              "      <td>Resolved</td>\n",
              "      <td>Major</td>\n",
              "      <td>Fix LICENSE file to include MIT and SCALA license</td>\n",
              "      <td>See here for reference - http://markmail.org/s...</td>\n",
              "      <td>+1\\nCommitted this.\\n</td>\n",
              "      <td>2011-11-21</td>\n",
              "      <td>2011-11-22</td>\n",
              "    </tr>\n",
              "    <tr>\n",
              "      <th>3</th>\n",
              "      <td>KAFKA-210</td>\n",
              "      <td>Improvement</td>\n",
              "      <td>Resolved</td>\n",
              "      <td>Major</td>\n",
              "      <td>javaapi ZookeeperConsumerConnectorTest duplica...</td>\n",
              "      <td>Since javaapi.ZookeeperConsumerConnector is ju...</td>\n",
              "      <td>Remove unnecessary duplicated test cases.\\nIs ...</td>\n",
              "      <td>2011-11-21</td>\n",
              "      <td>2011-12-05</td>\n",
              "    </tr>\n",
              "    <tr>\n",
              "      <th>4</th>\n",
              "      <td>KAFKA-209</td>\n",
              "      <td>Improvement</td>\n",
              "      <td>Resolved</td>\n",
              "      <td>Major</td>\n",
              "      <td>Remove empty directory when no log segments re...</td>\n",
              "      <td>When the log cleaner runs it deletes segments ...</td>\n",
              "      <td>Actually, when all log segments are deleted, w...</td>\n",
              "      <td>2011-11-18</td>\n",
              "      <td>2012-01-03</td>\n",
              "    </tr>\n",
              "    <tr>\n",
              "      <th>...</th>\n",
              "      <td>...</td>\n",
              "      <td>...</td>\n",
              "      <td>...</td>\n",
              "      <td>...</td>\n",
              "      <td>...</td>\n",
              "      <td>...</td>\n",
              "      <td>...</td>\n",
              "      <td>...</td>\n",
              "      <td>...</td>\n",
              "    </tr>\n",
              "    <tr>\n",
              "      <th>14321</th>\n",
              "      <td>KAFKA-15514</td>\n",
              "      <td>Sub-task</td>\n",
              "      <td>Resolved</td>\n",
              "      <td>Major</td>\n",
              "      <td>Controller-side replica management changes</td>\n",
              "      <td>The new \"Assignments\" field replaces the \"Repl...</td>\n",
              "      <td></td>\n",
              "      <td>2023-09-27</td>\n",
              "      <td>2023-11-02</td>\n",
              "    </tr>\n",
              "    <tr>\n",
              "      <th>14322</th>\n",
              "      <td>KAFKA-15513</td>\n",
              "      <td>Bug</td>\n",
              "      <td>Open</td>\n",
              "      <td>Major</td>\n",
              "      <td>KRaft cluster fails with SCRAM authentication ...</td>\n",
              "      <td>We have observed a scenario where a KRaft clus...</td>\n",
              "      <td>Thank you for the detailed bug report.\\r\\n\\r\\n...</td>\n",
              "      <td>2023-09-27</td>\n",
              "      <td>NaT</td>\n",
              "    </tr>\n",
              "    <tr>\n",
              "      <th>14323</th>\n",
              "      <td>KAFKA-15512</td>\n",
              "      <td>Task</td>\n",
              "      <td>Open</td>\n",
              "      <td>Major</td>\n",
              "      <td>EOL zookeeper component in kafka</td>\n",
              "      <td>Component: *zookeeper  3.6.3* in kafka 3.4.0, ...</td>\n",
              "      <td>Zk has been upgraded to 3.8.2 in upcoming Kafk...</td>\n",
              "      <td>2023-09-27</td>\n",
              "      <td>NaT</td>\n",
              "    </tr>\n",
              "    <tr>\n",
              "      <th>14324</th>\n",
              "      <td>KAFKA-15511</td>\n",
              "      <td>Bug</td>\n",
              "      <td>Resolved</td>\n",
              "      <td>Major</td>\n",
              "      <td>Exception not handled correctly if indexFile ...</td>\n",
              "      <td>I was simulating  a code flow where  there is ...</td>\n",
              "      <td>Yes, this is a bug. Would you like to submit a...</td>\n",
              "      <td>2023-09-27</td>\n",
              "      <td>2023-09-29</td>\n",
              "    </tr>\n",
              "    <tr>\n",
              "      <th>14325</th>\n",
              "      <td>KAFKA-15510</td>\n",
              "      <td>Bug</td>\n",
              "      <td>Resolved</td>\n",
              "      <td>Major</td>\n",
              "      <td>Follower's lastFetchedEpoch wrongly set when f...</td>\n",
              "      <td>A regression is introduced by [https://github....</td>\n",
              "      <td>This does not currently impact truncation in f...</td>\n",
              "      <td>2023-09-27</td>\n",
              "      <td>2023-09-28</td>\n",
              "    </tr>\n",
              "  </tbody>\n",
              "</table>\n",
              "<p>14326 rows × 9 columns</p>\n",
              "</div>\n",
              "    <div class=\"colab-df-buttons\">\n",
              "\n",
              "  <div class=\"colab-df-container\">\n",
              "    <button class=\"colab-df-convert\" onclick=\"convertToInteractive('df-3c7e3c5b-0e2a-48b5-a2d6-ec7e24101e8a')\"\n",
              "            title=\"Convert this dataframe to an interactive table.\"\n",
              "            style=\"display:none;\">\n",
              "\n",
              "  <svg xmlns=\"http://www.w3.org/2000/svg\" height=\"24px\" viewBox=\"0 -960 960 960\">\n",
              "    <path d=\"M120-120v-720h720v720H120Zm60-500h600v-160H180v160Zm220 220h160v-160H400v160Zm0 220h160v-160H400v160ZM180-400h160v-160H180v160Zm440 0h160v-160H620v160ZM180-180h160v-160H180v160Zm440 0h160v-160H620v160Z\"/>\n",
              "  </svg>\n",
              "    </button>\n",
              "\n",
              "  <style>\n",
              "    .colab-df-container {\n",
              "      display:flex;\n",
              "      gap: 12px;\n",
              "    }\n",
              "\n",
              "    .colab-df-convert {\n",
              "      background-color: #E8F0FE;\n",
              "      border: none;\n",
              "      border-radius: 50%;\n",
              "      cursor: pointer;\n",
              "      display: none;\n",
              "      fill: #1967D2;\n",
              "      height: 32px;\n",
              "      padding: 0 0 0 0;\n",
              "      width: 32px;\n",
              "    }\n",
              "\n",
              "    .colab-df-convert:hover {\n",
              "      background-color: #E2EBFA;\n",
              "      box-shadow: 0px 1px 2px rgba(60, 64, 67, 0.3), 0px 1px 3px 1px rgba(60, 64, 67, 0.15);\n",
              "      fill: #174EA6;\n",
              "    }\n",
              "\n",
              "    .colab-df-buttons div {\n",
              "      margin-bottom: 4px;\n",
              "    }\n",
              "\n",
              "    [theme=dark] .colab-df-convert {\n",
              "      background-color: #3B4455;\n",
              "      fill: #D2E3FC;\n",
              "    }\n",
              "\n",
              "    [theme=dark] .colab-df-convert:hover {\n",
              "      background-color: #434B5C;\n",
              "      box-shadow: 0px 1px 3px 1px rgba(0, 0, 0, 0.15);\n",
              "      filter: drop-shadow(0px 1px 2px rgba(0, 0, 0, 0.3));\n",
              "      fill: #FFFFFF;\n",
              "    }\n",
              "  </style>\n",
              "\n",
              "    <script>\n",
              "      const buttonEl =\n",
              "        document.querySelector('#df-3c7e3c5b-0e2a-48b5-a2d6-ec7e24101e8a button.colab-df-convert');\n",
              "      buttonEl.style.display =\n",
              "        google.colab.kernel.accessAllowed ? 'block' : 'none';\n",
              "\n",
              "      async function convertToInteractive(key) {\n",
              "        const element = document.querySelector('#df-3c7e3c5b-0e2a-48b5-a2d6-ec7e24101e8a');\n",
              "        const dataTable =\n",
              "          await google.colab.kernel.invokeFunction('convertToInteractive',\n",
              "                                                    [key], {});\n",
              "        if (!dataTable) return;\n",
              "\n",
              "        const docLinkHtml = 'Like what you see? Visit the ' +\n",
              "          '<a target=\"_blank\" href=https://colab.research.google.com/notebooks/data_table.ipynb>data table notebook</a>'\n",
              "          + ' to learn more about interactive tables.';\n",
              "        element.innerHTML = '';\n",
              "        dataTable['output_type'] = 'display_data';\n",
              "        await google.colab.output.renderOutput(dataTable, element);\n",
              "        const docLink = document.createElement('div');\n",
              "        docLink.innerHTML = docLinkHtml;\n",
              "        element.appendChild(docLink);\n",
              "      }\n",
              "    </script>\n",
              "  </div>\n",
              "\n",
              "\n",
              "<div id=\"df-b01ec341-1af3-440c-b769-6760e98ea943\">\n",
              "  <button class=\"colab-df-quickchart\" onclick=\"quickchart('df-b01ec341-1af3-440c-b769-6760e98ea943')\"\n",
              "            title=\"Suggest charts.\"\n",
              "            style=\"display:none;\">\n",
              "\n",
              "<svg xmlns=\"http://www.w3.org/2000/svg\" height=\"24px\"viewBox=\"0 0 24 24\"\n",
              "     width=\"24px\">\n",
              "    <g>\n",
              "        <path d=\"M19 3H5c-1.1 0-2 .9-2 2v14c0 1.1.9 2 2 2h14c1.1 0 2-.9 2-2V5c0-1.1-.9-2-2-2zM9 17H7v-7h2v7zm4 0h-2V7h2v10zm4 0h-2v-4h2v4z\"/>\n",
              "    </g>\n",
              "</svg>\n",
              "  </button>\n",
              "\n",
              "<style>\n",
              "  .colab-df-quickchart {\n",
              "      --bg-color: #E8F0FE;\n",
              "      --fill-color: #1967D2;\n",
              "      --hover-bg-color: #E2EBFA;\n",
              "      --hover-fill-color: #174EA6;\n",
              "      --disabled-fill-color: #AAA;\n",
              "      --disabled-bg-color: #DDD;\n",
              "  }\n",
              "\n",
              "  [theme=dark] .colab-df-quickchart {\n",
              "      --bg-color: #3B4455;\n",
              "      --fill-color: #D2E3FC;\n",
              "      --hover-bg-color: #434B5C;\n",
              "      --hover-fill-color: #FFFFFF;\n",
              "      --disabled-bg-color: #3B4455;\n",
              "      --disabled-fill-color: #666;\n",
              "  }\n",
              "\n",
              "  .colab-df-quickchart {\n",
              "    background-color: var(--bg-color);\n",
              "    border: none;\n",
              "    border-radius: 50%;\n",
              "    cursor: pointer;\n",
              "    display: none;\n",
              "    fill: var(--fill-color);\n",
              "    height: 32px;\n",
              "    padding: 0;\n",
              "    width: 32px;\n",
              "  }\n",
              "\n",
              "  .colab-df-quickchart:hover {\n",
              "    background-color: var(--hover-bg-color);\n",
              "    box-shadow: 0 1px 2px rgba(60, 64, 67, 0.3), 0 1px 3px 1px rgba(60, 64, 67, 0.15);\n",
              "    fill: var(--button-hover-fill-color);\n",
              "  }\n",
              "\n",
              "  .colab-df-quickchart-complete:disabled,\n",
              "  .colab-df-quickchart-complete:disabled:hover {\n",
              "    background-color: var(--disabled-bg-color);\n",
              "    fill: var(--disabled-fill-color);\n",
              "    box-shadow: none;\n",
              "  }\n",
              "\n",
              "  .colab-df-spinner {\n",
              "    border: 2px solid var(--fill-color);\n",
              "    border-color: transparent;\n",
              "    border-bottom-color: var(--fill-color);\n",
              "    animation:\n",
              "      spin 1s steps(1) infinite;\n",
              "  }\n",
              "\n",
              "  @keyframes spin {\n",
              "    0% {\n",
              "      border-color: transparent;\n",
              "      border-bottom-color: var(--fill-color);\n",
              "      border-left-color: var(--fill-color);\n",
              "    }\n",
              "    20% {\n",
              "      border-color: transparent;\n",
              "      border-left-color: var(--fill-color);\n",
              "      border-top-color: var(--fill-color);\n",
              "    }\n",
              "    30% {\n",
              "      border-color: transparent;\n",
              "      border-left-color: var(--fill-color);\n",
              "      border-top-color: var(--fill-color);\n",
              "      border-right-color: var(--fill-color);\n",
              "    }\n",
              "    40% {\n",
              "      border-color: transparent;\n",
              "      border-right-color: var(--fill-color);\n",
              "      border-top-color: var(--fill-color);\n",
              "    }\n",
              "    60% {\n",
              "      border-color: transparent;\n",
              "      border-right-color: var(--fill-color);\n",
              "    }\n",
              "    80% {\n",
              "      border-color: transparent;\n",
              "      border-right-color: var(--fill-color);\n",
              "      border-bottom-color: var(--fill-color);\n",
              "    }\n",
              "    90% {\n",
              "      border-color: transparent;\n",
              "      border-bottom-color: var(--fill-color);\n",
              "    }\n",
              "  }\n",
              "</style>\n",
              "\n",
              "  <script>\n",
              "    async function quickchart(key) {\n",
              "      const quickchartButtonEl =\n",
              "        document.querySelector('#' + key + ' button');\n",
              "      quickchartButtonEl.disabled = true;  // To prevent multiple clicks.\n",
              "      quickchartButtonEl.classList.add('colab-df-spinner');\n",
              "      try {\n",
              "        const charts = await google.colab.kernel.invokeFunction(\n",
              "            'suggestCharts', [key], {});\n",
              "      } catch (error) {\n",
              "        console.error('Error during call to suggestCharts:', error);\n",
              "      }\n",
              "      quickchartButtonEl.classList.remove('colab-df-spinner');\n",
              "      quickchartButtonEl.classList.add('colab-df-quickchart-complete');\n",
              "    }\n",
              "    (() => {\n",
              "      let quickchartButtonEl =\n",
              "        document.querySelector('#df-b01ec341-1af3-440c-b769-6760e98ea943 button');\n",
              "      quickchartButtonEl.style.display =\n",
              "        google.colab.kernel.accessAllowed ? 'block' : 'none';\n",
              "    })();\n",
              "  </script>\n",
              "</div>\n",
              "    </div>\n",
              "  </div>\n"
            ]
          },
          "metadata": {},
          "execution_count": 23
        }
      ]
    },
    {
      "cell_type": "code",
      "source": [
        "colunas = ['issue_key',\t'issue_type', 'status', 'priority', 'summary']\n",
        "df_all_reall_issues_in_commits_detailed[colunas].to_excel('kafka_all_issues_in_commits.xlsx', index=False)"
      ],
      "metadata": {
        "id": "vRoqpkZB5SPO"
      },
      "execution_count": null,
      "outputs": []
    },
    {
      "cell_type": "code",
      "source": [
        "df_all_reall_issues_in_commits_detailed['time_resolution'] = df_all_reall_issues_in_commits_detailed['resolved_date'] - df_all_reall_issues_in_commits_detailed['created_date']"
      ],
      "metadata": {
        "id": "-OkZ5oQsglPd"
      },
      "execution_count": null,
      "outputs": []
    },
    {
      "cell_type": "code",
      "source": [
        "print('Gera arquivo .csv kafka_all_issues_in_commits')\n",
        "colunas = ['issue_key', 'issue_type', 'status', 'summary','created_date', 'resolved_date', 'time_resolution']\n",
        "df_all_reall_issues_in_commits_detailed[colunas].to_csv('kafka_all_issues_in_commits.csv', index=False)"
      ],
      "metadata": {
        "id": "bFJ71yoFgnY_",
        "outputId": "a093d6fa-86af-4440-cb73-bcac41ccdb7e",
        "colab": {
          "base_uri": "https://localhost:8080/"
        }
      },
      "execution_count": null,
      "outputs": [
        {
          "output_type": "stream",
          "name": "stdout",
          "text": [
            "Gera arquivo .csv kafka_all_issues_in_commits\n"
          ]
        }
      ]
    },
    {
      "cell_type": "markdown",
      "source": [
        "### Recupera Issues com referência nos commits com classes críticas"
      ],
      "metadata": {
        "id": "0AGqE-DqPgBC"
      }
    },
    {
      "cell_type": "code",
      "source": [
        "dict_issues_in_commits, df_issues_in_commits_with_critical_classes = get_commits_with_critical_files_and_issues_in_this_commits(df_commits_with_critical_files)\n",
        "df_issues_in_commits_with_critical_classes"
      ],
      "metadata": {
        "colab": {
          "base_uri": "https://localhost:8080/",
          "height": 423
        },
        "id": "s2Sdfa0pTrGd",
        "outputId": "e8a065ff-1169-4f06-87d4-2a4cf96ff678"
      },
      "execution_count": null,
      "outputs": [
        {
          "output_type": "execute_result",
          "data": {
            "text/plain": [
              "         issue_key   issue_type    status  priority  \\\n",
              "1067    KAFKA-1286     Sub-task  Resolved     Major   \n",
              "1092    KAFKA-1261     Sub-task  Resolved     Major   \n",
              "1093    KAFKA-1260     Sub-task    Closed     Major   \n",
              "1100    KAFKA-1253     Sub-task  Resolved     Major   \n",
              "1101    KAFKA-1252     Sub-task  Resolved     Major   \n",
              "...            ...          ...       ...       ...   \n",
              "13594  KAFKA-15485  Improvement  Resolved     Major   \n",
              "13650  KAFKA-15429          Bug  Resolved     Major   \n",
              "13753  KAFKA-15326  Improvement  Resolved  Critical   \n",
              "13773  KAFKA-15306     Sub-task  Resolved     Major   \n",
              "14026  KAFKA-15053          Bug  Resolved     Major   \n",
              "\n",
              "                                                 summary  \\\n",
              "1067                                    Retry Can Block    \n",
              "1092                  Make metadata refresh configurable   \n",
              "1093   Integration Test for New Producer Part II: Bro...   \n",
              "1100               Implement compression in new producer   \n",
              "1101                  Implement re-tries in new producer   \n",
              "...                                                  ...   \n",
              "13594        Support building with Java 21 (LTS release)   \n",
              "13650  Kafka Streams attempts to commit on a closed p...   \n",
              "13753     Decouple Processing Thread from Polling Thread   \n",
              "13773  Integrate committed offsets logic when updatin...   \n",
              "14026  Regression for security.protocol validation st...   \n",
              "\n",
              "                                             description  \\\n",
              "1067   Under the following scenario the retry logic c...   \n",
              "1092                                                       \n",
              "1093                                                       \n",
              "1100                                                       \n",
              "1101                                                       \n",
              "...                                                  ...   \n",
              "13594  JDK-21 is the latest LTS release which reached...   \n",
              "13650  When a Stream Thread catches an exception from...   \n",
              "13753  As part of an ongoing effort to implement a be...   \n",
              "13773  Integrate refreshCommittedOffsets logic, curre...   \n",
              "14026  [This|https://issues.apache.org/jira/browse/KA...   \n",
              "\n",
              "                                                comments created_date  \\\n",
              "1067   If you are saying that we repeat the metadata ...   2014-03-01   \n",
              "1092   Created reviewboard https://reviews.apache.org...   2014-02-12   \n",
              "1093   Created reviewboard https://reviews.apache.org...   2014-02-12   \n",
              "1100   It seems incremental compression would not be ...   2014-02-10   \n",
              "1101   Created reviewboard https://reviews.apache.org...   2014-02-10   \n",
              "...                                                  ...          ...   \n",
              "13594  I started some work for this, so assigned it t...   2023-09-22   \n",
              "13650  Looks like this actually stems from the fix we...   2023-09-02   \n",
              "13753                                                      2023-08-09   \n",
              "13773                           merged the PR to trunk\\n   2023-08-04   \n",
              "14026  Thanks [~dlgaobo]. I agree that this is a regr...   2023-06-02   \n",
              "\n",
              "      resolved_date time_resolution  \n",
              "1067     2014-03-05          4 days  \n",
              "1092     2014-02-13          1 days  \n",
              "1093     2014-02-27         15 days  \n",
              "1100     2014-03-27         45 days  \n",
              "1101     2014-02-21         11 days  \n",
              "...             ...             ...  \n",
              "13594    2023-09-25          3 days  \n",
              "13650    2023-09-03          1 days  \n",
              "13753    2023-11-02         85 days  \n",
              "13773    2023-09-18         45 days  \n",
              "14026    2023-06-29         27 days  \n",
              "\n",
              "[939 rows x 10 columns]"
            ],
            "text/html": [
              "\n",
              "  <div id=\"df-e1148293-57b5-45b0-ab3b-bb1d527401e1\" class=\"colab-df-container\">\n",
              "    <div>\n",
              "<style scoped>\n",
              "    .dataframe tbody tr th:only-of-type {\n",
              "        vertical-align: middle;\n",
              "    }\n",
              "\n",
              "    .dataframe tbody tr th {\n",
              "        vertical-align: top;\n",
              "    }\n",
              "\n",
              "    .dataframe thead th {\n",
              "        text-align: right;\n",
              "    }\n",
              "</style>\n",
              "<table border=\"1\" class=\"dataframe\">\n",
              "  <thead>\n",
              "    <tr style=\"text-align: right;\">\n",
              "      <th></th>\n",
              "      <th>issue_key</th>\n",
              "      <th>issue_type</th>\n",
              "      <th>status</th>\n",
              "      <th>priority</th>\n",
              "      <th>summary</th>\n",
              "      <th>description</th>\n",
              "      <th>comments</th>\n",
              "      <th>created_date</th>\n",
              "      <th>resolved_date</th>\n",
              "      <th>time_resolution</th>\n",
              "    </tr>\n",
              "  </thead>\n",
              "  <tbody>\n",
              "    <tr>\n",
              "      <th>1067</th>\n",
              "      <td>KAFKA-1286</td>\n",
              "      <td>Sub-task</td>\n",
              "      <td>Resolved</td>\n",
              "      <td>Major</td>\n",
              "      <td>Retry Can Block</td>\n",
              "      <td>Under the following scenario the retry logic c...</td>\n",
              "      <td>If you are saying that we repeat the metadata ...</td>\n",
              "      <td>2014-03-01</td>\n",
              "      <td>2014-03-05</td>\n",
              "      <td>4 days</td>\n",
              "    </tr>\n",
              "    <tr>\n",
              "      <th>1092</th>\n",
              "      <td>KAFKA-1261</td>\n",
              "      <td>Sub-task</td>\n",
              "      <td>Resolved</td>\n",
              "      <td>Major</td>\n",
              "      <td>Make metadata refresh configurable</td>\n",
              "      <td></td>\n",
              "      <td>Created reviewboard https://reviews.apache.org...</td>\n",
              "      <td>2014-02-12</td>\n",
              "      <td>2014-02-13</td>\n",
              "      <td>1 days</td>\n",
              "    </tr>\n",
              "    <tr>\n",
              "      <th>1093</th>\n",
              "      <td>KAFKA-1260</td>\n",
              "      <td>Sub-task</td>\n",
              "      <td>Closed</td>\n",
              "      <td>Major</td>\n",
              "      <td>Integration Test for New Producer Part II: Bro...</td>\n",
              "      <td></td>\n",
              "      <td>Created reviewboard https://reviews.apache.org...</td>\n",
              "      <td>2014-02-12</td>\n",
              "      <td>2014-02-27</td>\n",
              "      <td>15 days</td>\n",
              "    </tr>\n",
              "    <tr>\n",
              "      <th>1100</th>\n",
              "      <td>KAFKA-1253</td>\n",
              "      <td>Sub-task</td>\n",
              "      <td>Resolved</td>\n",
              "      <td>Major</td>\n",
              "      <td>Implement compression in new producer</td>\n",
              "      <td></td>\n",
              "      <td>It seems incremental compression would not be ...</td>\n",
              "      <td>2014-02-10</td>\n",
              "      <td>2014-03-27</td>\n",
              "      <td>45 days</td>\n",
              "    </tr>\n",
              "    <tr>\n",
              "      <th>1101</th>\n",
              "      <td>KAFKA-1252</td>\n",
              "      <td>Sub-task</td>\n",
              "      <td>Resolved</td>\n",
              "      <td>Major</td>\n",
              "      <td>Implement re-tries in new producer</td>\n",
              "      <td></td>\n",
              "      <td>Created reviewboard https://reviews.apache.org...</td>\n",
              "      <td>2014-02-10</td>\n",
              "      <td>2014-02-21</td>\n",
              "      <td>11 days</td>\n",
              "    </tr>\n",
              "    <tr>\n",
              "      <th>...</th>\n",
              "      <td>...</td>\n",
              "      <td>...</td>\n",
              "      <td>...</td>\n",
              "      <td>...</td>\n",
              "      <td>...</td>\n",
              "      <td>...</td>\n",
              "      <td>...</td>\n",
              "      <td>...</td>\n",
              "      <td>...</td>\n",
              "      <td>...</td>\n",
              "    </tr>\n",
              "    <tr>\n",
              "      <th>13594</th>\n",
              "      <td>KAFKA-15485</td>\n",
              "      <td>Improvement</td>\n",
              "      <td>Resolved</td>\n",
              "      <td>Major</td>\n",
              "      <td>Support building with Java 21 (LTS release)</td>\n",
              "      <td>JDK-21 is the latest LTS release which reached...</td>\n",
              "      <td>I started some work for this, so assigned it t...</td>\n",
              "      <td>2023-09-22</td>\n",
              "      <td>2023-09-25</td>\n",
              "      <td>3 days</td>\n",
              "    </tr>\n",
              "    <tr>\n",
              "      <th>13650</th>\n",
              "      <td>KAFKA-15429</td>\n",
              "      <td>Bug</td>\n",
              "      <td>Resolved</td>\n",
              "      <td>Major</td>\n",
              "      <td>Kafka Streams attempts to commit on a closed p...</td>\n",
              "      <td>When a Stream Thread catches an exception from...</td>\n",
              "      <td>Looks like this actually stems from the fix we...</td>\n",
              "      <td>2023-09-02</td>\n",
              "      <td>2023-09-03</td>\n",
              "      <td>1 days</td>\n",
              "    </tr>\n",
              "    <tr>\n",
              "      <th>13753</th>\n",
              "      <td>KAFKA-15326</td>\n",
              "      <td>Improvement</td>\n",
              "      <td>Resolved</td>\n",
              "      <td>Critical</td>\n",
              "      <td>Decouple Processing Thread from Polling Thread</td>\n",
              "      <td>As part of an ongoing effort to implement a be...</td>\n",
              "      <td></td>\n",
              "      <td>2023-08-09</td>\n",
              "      <td>2023-11-02</td>\n",
              "      <td>85 days</td>\n",
              "    </tr>\n",
              "    <tr>\n",
              "      <th>13773</th>\n",
              "      <td>KAFKA-15306</td>\n",
              "      <td>Sub-task</td>\n",
              "      <td>Resolved</td>\n",
              "      <td>Major</td>\n",
              "      <td>Integrate committed offsets logic when updatin...</td>\n",
              "      <td>Integrate refreshCommittedOffsets logic, curre...</td>\n",
              "      <td>merged the PR to trunk\\n</td>\n",
              "      <td>2023-08-04</td>\n",
              "      <td>2023-09-18</td>\n",
              "      <td>45 days</td>\n",
              "    </tr>\n",
              "    <tr>\n",
              "      <th>14026</th>\n",
              "      <td>KAFKA-15053</td>\n",
              "      <td>Bug</td>\n",
              "      <td>Resolved</td>\n",
              "      <td>Major</td>\n",
              "      <td>Regression for security.protocol validation st...</td>\n",
              "      <td>[This|https://issues.apache.org/jira/browse/KA...</td>\n",
              "      <td>Thanks [~dlgaobo]. I agree that this is a regr...</td>\n",
              "      <td>2023-06-02</td>\n",
              "      <td>2023-06-29</td>\n",
              "      <td>27 days</td>\n",
              "    </tr>\n",
              "  </tbody>\n",
              "</table>\n",
              "<p>939 rows × 10 columns</p>\n",
              "</div>\n",
              "    <div class=\"colab-df-buttons\">\n",
              "\n",
              "  <div class=\"colab-df-container\">\n",
              "    <button class=\"colab-df-convert\" onclick=\"convertToInteractive('df-e1148293-57b5-45b0-ab3b-bb1d527401e1')\"\n",
              "            title=\"Convert this dataframe to an interactive table.\"\n",
              "            style=\"display:none;\">\n",
              "\n",
              "  <svg xmlns=\"http://www.w3.org/2000/svg\" height=\"24px\" viewBox=\"0 -960 960 960\">\n",
              "    <path d=\"M120-120v-720h720v720H120Zm60-500h600v-160H180v160Zm220 220h160v-160H400v160Zm0 220h160v-160H400v160ZM180-400h160v-160H180v160Zm440 0h160v-160H620v160ZM180-180h160v-160H180v160Zm440 0h160v-160H620v160Z\"/>\n",
              "  </svg>\n",
              "    </button>\n",
              "\n",
              "  <style>\n",
              "    .colab-df-container {\n",
              "      display:flex;\n",
              "      gap: 12px;\n",
              "    }\n",
              "\n",
              "    .colab-df-convert {\n",
              "      background-color: #E8F0FE;\n",
              "      border: none;\n",
              "      border-radius: 50%;\n",
              "      cursor: pointer;\n",
              "      display: none;\n",
              "      fill: #1967D2;\n",
              "      height: 32px;\n",
              "      padding: 0 0 0 0;\n",
              "      width: 32px;\n",
              "    }\n",
              "\n",
              "    .colab-df-convert:hover {\n",
              "      background-color: #E2EBFA;\n",
              "      box-shadow: 0px 1px 2px rgba(60, 64, 67, 0.3), 0px 1px 3px 1px rgba(60, 64, 67, 0.15);\n",
              "      fill: #174EA6;\n",
              "    }\n",
              "\n",
              "    .colab-df-buttons div {\n",
              "      margin-bottom: 4px;\n",
              "    }\n",
              "\n",
              "    [theme=dark] .colab-df-convert {\n",
              "      background-color: #3B4455;\n",
              "      fill: #D2E3FC;\n",
              "    }\n",
              "\n",
              "    [theme=dark] .colab-df-convert:hover {\n",
              "      background-color: #434B5C;\n",
              "      box-shadow: 0px 1px 3px 1px rgba(0, 0, 0, 0.15);\n",
              "      filter: drop-shadow(0px 1px 2px rgba(0, 0, 0, 0.3));\n",
              "      fill: #FFFFFF;\n",
              "    }\n",
              "  </style>\n",
              "\n",
              "    <script>\n",
              "      const buttonEl =\n",
              "        document.querySelector('#df-e1148293-57b5-45b0-ab3b-bb1d527401e1 button.colab-df-convert');\n",
              "      buttonEl.style.display =\n",
              "        google.colab.kernel.accessAllowed ? 'block' : 'none';\n",
              "\n",
              "      async function convertToInteractive(key) {\n",
              "        const element = document.querySelector('#df-e1148293-57b5-45b0-ab3b-bb1d527401e1');\n",
              "        const dataTable =\n",
              "          await google.colab.kernel.invokeFunction('convertToInteractive',\n",
              "                                                    [key], {});\n",
              "        if (!dataTable) return;\n",
              "\n",
              "        const docLinkHtml = 'Like what you see? Visit the ' +\n",
              "          '<a target=\"_blank\" href=https://colab.research.google.com/notebooks/data_table.ipynb>data table notebook</a>'\n",
              "          + ' to learn more about interactive tables.';\n",
              "        element.innerHTML = '';\n",
              "        dataTable['output_type'] = 'display_data';\n",
              "        await google.colab.output.renderOutput(dataTable, element);\n",
              "        const docLink = document.createElement('div');\n",
              "        docLink.innerHTML = docLinkHtml;\n",
              "        element.appendChild(docLink);\n",
              "      }\n",
              "    </script>\n",
              "  </div>\n",
              "\n",
              "\n",
              "<div id=\"df-0456b028-7392-4fb6-a5c2-184473aa52f2\">\n",
              "  <button class=\"colab-df-quickchart\" onclick=\"quickchart('df-0456b028-7392-4fb6-a5c2-184473aa52f2')\"\n",
              "            title=\"Suggest charts.\"\n",
              "            style=\"display:none;\">\n",
              "\n",
              "<svg xmlns=\"http://www.w3.org/2000/svg\" height=\"24px\"viewBox=\"0 0 24 24\"\n",
              "     width=\"24px\">\n",
              "    <g>\n",
              "        <path d=\"M19 3H5c-1.1 0-2 .9-2 2v14c0 1.1.9 2 2 2h14c1.1 0 2-.9 2-2V5c0-1.1-.9-2-2-2zM9 17H7v-7h2v7zm4 0h-2V7h2v10zm4 0h-2v-4h2v4z\"/>\n",
              "    </g>\n",
              "</svg>\n",
              "  </button>\n",
              "\n",
              "<style>\n",
              "  .colab-df-quickchart {\n",
              "      --bg-color: #E8F0FE;\n",
              "      --fill-color: #1967D2;\n",
              "      --hover-bg-color: #E2EBFA;\n",
              "      --hover-fill-color: #174EA6;\n",
              "      --disabled-fill-color: #AAA;\n",
              "      --disabled-bg-color: #DDD;\n",
              "  }\n",
              "\n",
              "  [theme=dark] .colab-df-quickchart {\n",
              "      --bg-color: #3B4455;\n",
              "      --fill-color: #D2E3FC;\n",
              "      --hover-bg-color: #434B5C;\n",
              "      --hover-fill-color: #FFFFFF;\n",
              "      --disabled-bg-color: #3B4455;\n",
              "      --disabled-fill-color: #666;\n",
              "  }\n",
              "\n",
              "  .colab-df-quickchart {\n",
              "    background-color: var(--bg-color);\n",
              "    border: none;\n",
              "    border-radius: 50%;\n",
              "    cursor: pointer;\n",
              "    display: none;\n",
              "    fill: var(--fill-color);\n",
              "    height: 32px;\n",
              "    padding: 0;\n",
              "    width: 32px;\n",
              "  }\n",
              "\n",
              "  .colab-df-quickchart:hover {\n",
              "    background-color: var(--hover-bg-color);\n",
              "    box-shadow: 0 1px 2px rgba(60, 64, 67, 0.3), 0 1px 3px 1px rgba(60, 64, 67, 0.15);\n",
              "    fill: var(--button-hover-fill-color);\n",
              "  }\n",
              "\n",
              "  .colab-df-quickchart-complete:disabled,\n",
              "  .colab-df-quickchart-complete:disabled:hover {\n",
              "    background-color: var(--disabled-bg-color);\n",
              "    fill: var(--disabled-fill-color);\n",
              "    box-shadow: none;\n",
              "  }\n",
              "\n",
              "  .colab-df-spinner {\n",
              "    border: 2px solid var(--fill-color);\n",
              "    border-color: transparent;\n",
              "    border-bottom-color: var(--fill-color);\n",
              "    animation:\n",
              "      spin 1s steps(1) infinite;\n",
              "  }\n",
              "\n",
              "  @keyframes spin {\n",
              "    0% {\n",
              "      border-color: transparent;\n",
              "      border-bottom-color: var(--fill-color);\n",
              "      border-left-color: var(--fill-color);\n",
              "    }\n",
              "    20% {\n",
              "      border-color: transparent;\n",
              "      border-left-color: var(--fill-color);\n",
              "      border-top-color: var(--fill-color);\n",
              "    }\n",
              "    30% {\n",
              "      border-color: transparent;\n",
              "      border-left-color: var(--fill-color);\n",
              "      border-top-color: var(--fill-color);\n",
              "      border-right-color: var(--fill-color);\n",
              "    }\n",
              "    40% {\n",
              "      border-color: transparent;\n",
              "      border-right-color: var(--fill-color);\n",
              "      border-top-color: var(--fill-color);\n",
              "    }\n",
              "    60% {\n",
              "      border-color: transparent;\n",
              "      border-right-color: var(--fill-color);\n",
              "    }\n",
              "    80% {\n",
              "      border-color: transparent;\n",
              "      border-right-color: var(--fill-color);\n",
              "      border-bottom-color: var(--fill-color);\n",
              "    }\n",
              "    90% {\n",
              "      border-color: transparent;\n",
              "      border-bottom-color: var(--fill-color);\n",
              "    }\n",
              "  }\n",
              "</style>\n",
              "\n",
              "  <script>\n",
              "    async function quickchart(key) {\n",
              "      const quickchartButtonEl =\n",
              "        document.querySelector('#' + key + ' button');\n",
              "      quickchartButtonEl.disabled = true;  // To prevent multiple clicks.\n",
              "      quickchartButtonEl.classList.add('colab-df-spinner');\n",
              "      try {\n",
              "        const charts = await google.colab.kernel.invokeFunction(\n",
              "            'suggestCharts', [key], {});\n",
              "      } catch (error) {\n",
              "        console.error('Error during call to suggestCharts:', error);\n",
              "      }\n",
              "      quickchartButtonEl.classList.remove('colab-df-spinner');\n",
              "      quickchartButtonEl.classList.add('colab-df-quickchart-complete');\n",
              "    }\n",
              "    (() => {\n",
              "      let quickchartButtonEl =\n",
              "        document.querySelector('#df-0456b028-7392-4fb6-a5c2-184473aa52f2 button');\n",
              "      quickchartButtonEl.style.display =\n",
              "        google.colab.kernel.accessAllowed ? 'block' : 'none';\n",
              "    })();\n",
              "  </script>\n",
              "</div>\n",
              "    </div>\n",
              "  </div>\n"
            ]
          },
          "metadata": {},
          "execution_count": 28
        }
      ]
    },
    {
      "cell_type": "code",
      "source": [
        "df_issues_in_commits_with_critical_classes.info()"
      ],
      "metadata": {
        "colab": {
          "base_uri": "https://localhost:8080/"
        },
        "id": "fGu-1BkUmbEx",
        "outputId": "4fa8727f-d9cb-4da9-d967-e84d680ac147"
      },
      "execution_count": null,
      "outputs": [
        {
          "output_type": "stream",
          "name": "stdout",
          "text": [
            "<class 'pandas.core.frame.DataFrame'>\n",
            "Int64Index: 939 entries, 1067 to 14026\n",
            "Data columns (total 10 columns):\n",
            " #   Column           Non-Null Count  Dtype          \n",
            "---  ------           --------------  -----          \n",
            " 0   issue_key        939 non-null    object         \n",
            " 1   issue_type       939 non-null    object         \n",
            " 2   status           939 non-null    object         \n",
            " 3   priority         939 non-null    object         \n",
            " 4   summary          939 non-null    object         \n",
            " 5   description      939 non-null    object         \n",
            " 6   comments         939 non-null    object         \n",
            " 7   created_date     939 non-null    datetime64[ns] \n",
            " 8   resolved_date    916 non-null    datetime64[ns] \n",
            " 9   time_resolution  916 non-null    timedelta64[ns]\n",
            "dtypes: datetime64[ns](2), object(7), timedelta64[ns](1)\n",
            "memory usage: 80.7+ KB\n"
          ]
        }
      ]
    },
    {
      "cell_type": "code",
      "source": [
        "df_issues_in_commits_with_critical_classes['time_resolution'] = df_issues_in_commits_with_critical_classes['resolved_date'] - df_issues_in_commits_with_critical_classes['created_date']"
      ],
      "metadata": {
        "id": "APX8lgSbhsjE"
      },
      "execution_count": null,
      "outputs": []
    },
    {
      "cell_type": "code",
      "source": [
        "df_issues_in_commits_with_critical_classes[colunas].to_excel('kafka_issues_in_commits_with_critical_classes.xlsx', index=False)"
      ],
      "metadata": {
        "id": "DwlH9PvehwgG"
      },
      "execution_count": null,
      "outputs": []
    },
    {
      "cell_type": "code",
      "source": [
        "print('Gera arquivo .csv kafka_issues_in_commits_arquivos_criticos')\n",
        "df_issues_in_commits_with_critical_classes[colunas].to_csv('kafka_issues_in_commits_with_critical_classes.csv', index=False)"
      ],
      "metadata": {
        "id": "eZHhxypY5qPm",
        "outputId": "4678226a-e0ee-4c58-e0b8-26d69aeb2ca7",
        "colab": {
          "base_uri": "https://localhost:8080/"
        }
      },
      "execution_count": null,
      "outputs": [
        {
          "output_type": "stream",
          "name": "stdout",
          "text": [
            "Gera arquivo .csv kafka_issues_in_commits_arquivos_criticos\n"
          ]
        }
      ]
    },
    {
      "cell_type": "markdown",
      "source": [
        "# Seleciona amostra dos Issues"
      ],
      "metadata": {
        "id": "tSu8U-M7XJdg"
      }
    },
    {
      "cell_type": "code",
      "source": [
        "confidence_level = 0.95\n",
        "margin_of_error = 0.05\n",
        "population_proportion = 0.8\n",
        "population_size = len(df_issues_in_commits_with_critical_classes)\n",
        "\n",
        "sample_size = calculate_sample_size(confidence_level, margin_of_error, population_proportion, population_size)\n",
        "print(f'População de issues: {population_size}')\n",
        "print(f\"Sample size para inspeção: {sample_size}\")"
      ],
      "metadata": {
        "colab": {
          "base_uri": "https://localhost:8080/"
        },
        "id": "YsrUjy68VaC_",
        "outputId": "94838a6a-1287-4977-d952-6e86b33ff7dc"
      },
      "execution_count": null,
      "outputs": [
        {
          "output_type": "stream",
          "name": "stdout",
          "text": [
            "População de issues: 939\n",
            "Sample size para inspeção: 195\n"
          ]
        }
      ]
    },
    {
      "cell_type": "code",
      "source": [
        "sample_issues = select_issues_to_inspection(sample_size, df_issues_in_commits_with_critical_classes, my_date='02/11/2023')"
      ],
      "metadata": {
        "colab": {
          "base_uri": "https://localhost:8080/"
        },
        "id": "bBfy--OYYLWS",
        "outputId": "6a3ffce4-309b-4b8a-fbba-7a021aff0f19"
      },
      "execution_count": null,
      "outputs": [
        {
          "output_type": "stream",
          "name": "stdout",
          "text": [
            "195 para inspeção manual\n",
            "Relação de Issues salvos em 02/11/2023 para inspeção.\n"
          ]
        }
      ]
    },
    {
      "cell_type": "code",
      "source": [
        "generate_files_issues_to_inspection(sample_issues, df_issues_in_commits_with_critical_classes)"
      ],
      "metadata": {
        "colab": {
          "base_uri": "https://localhost:8080/"
        },
        "id": "g5-WsdGzfQpH",
        "outputId": "b7f4bc2f-39b7-4923-d0af-f6058d0c367c"
      },
      "execution_count": null,
      "outputs": [
        {
          "output_type": "stream",
          "name": "stderr",
          "text": [
            "Analyzing issues:   3%|▎         | 30/939 [00:00<00:03, 299.38it/s]"
          ]
        },
        {
          "output_type": "stream",
          "name": "stdout",
          "text": [
            "File my_issues/KAFKA-1250 created with success!\n",
            "File my_issues/KAFKA-1227 created with success!\n",
            "File my_issues/KAFKA-1227 created with success!\n",
            "File my_issues/KAFKA-1515 created with success!\n",
            "File my_issues/KAFKA-1723 created with success!\n",
            "File my_issues/KAFKA-1925 created with success!\n",
            "File my_issues/KAFKA-1865 created with success!\n",
            "File my_issues/KAFKA-2313 created with success!\n",
            "File my_issues/KAFKA-2294 created with success!\n",
            "File my_issues/KAFKA-2091 created with success!\n",
            "File my_issues/KAFKA-2745 created with success!\n",
            "File my_issues/KAFKA-2707 created with success!\n",
            "File my_issues/KAFKA-2706 created with success!\n"
          ]
        },
        {
          "output_type": "stream",
          "name": "stderr",
          "text": [
            "\rAnalyzing issues:   6%|▋         | 60/939 [00:00<00:03, 290.77it/s]"
          ]
        },
        {
          "output_type": "stream",
          "name": "stdout",
          "text": [
            "File my_issues/KAFKA-2694 created with success!\n",
            "File my_issues/KAFKA-2683 created with success!\n"
          ]
        },
        {
          "output_type": "stream",
          "name": "stderr",
          "text": [
            "\rAnalyzing issues:  10%|▉         | 91/939 [00:00<00:02, 296.84it/s]"
          ]
        },
        {
          "output_type": "stream",
          "name": "stdout",
          "text": [
            "File my_issues/KAFKA-2489 created with success!\n",
            "File my_issues/KAFKA-2459 created with success!\n",
            "File my_issues/KAFKA-2459 created with success!\n",
            "File my_issues/KAFKA-2440 created with success!\n",
            "File my_issues/KAFKA-2334 created with success!\n",
            "File my_issues/KAFKA-2334 created with success!\n",
            "File my_issues/KAFKA-3233 created with success!\n",
            "File my_issues/KAFKA-3196 created with success!\n",
            "File my_issues/KAFKA-3185 created with success!\n"
          ]
        },
        {
          "output_type": "stream",
          "name": "stderr",
          "text": [
            "\rAnalyzing issues:  13%|█▎        | 121/939 [00:00<00:02, 291.70it/s]"
          ]
        },
        {
          "output_type": "stream",
          "name": "stdout",
          "text": [
            "File my_issues/KAFKA-3036 created with success!\n",
            "File my_issues/KAFKA-2950 created with success!\n"
          ]
        },
        {
          "output_type": "stream",
          "name": "stderr",
          "text": [
            "Analyzing issues:  19%|█▉        | 181/939 [00:00<00:02, 291.01it/s]"
          ]
        },
        {
          "output_type": "stream",
          "name": "stdout",
          "text": [
            "File my_issues/KAFKA-2948 created with success!\n",
            "File my_issues/KAFKA-2880 created with success!\n",
            "File my_issues/KAFKA-2856 created with success!\n",
            "File my_issues/KAFKA-3853 created with success!\n",
            "File my_issues/KAFKA-3824 created with success!\n",
            "File my_issues/KAFKA-3824 created with success!\n",
            "File my_issues/KAFKA-3776 created with success!\n",
            "File my_issues/KAFKA-3776 created with success!\n",
            "File my_issues/KAFKA-3720 created with success!\n",
            "File my_issues/KAFKA-3600 created with success!\n",
            "File my_issues/KAFKA-3598 created with success!\n",
            "File my_issues/KAFKA-3595 created with success!\n"
          ]
        },
        {
          "output_type": "stream",
          "name": "stderr",
          "text": [
            "\rAnalyzing issues:  22%|██▏       | 211/939 [00:00<00:02, 276.59it/s]"
          ]
        },
        {
          "output_type": "stream",
          "name": "stdout",
          "text": [
            "File my_issues/KAFKA-3430 created with success!\n",
            "File my_issues/KAFKA-3353 created with success!\n",
            "File my_issues/KAFKA-4312 created with success!\n",
            "File my_issues/KAFKA-4311 created with success!\n",
            "File my_issues/KAFKA-4274 created with success!\n",
            "File my_issues/KAFKA-4254 created with success!\n"
          ]
        },
        {
          "output_type": "stream",
          "name": "stderr",
          "text": [
            "\rAnalyzing issues:  26%|██▌       | 241/939 [00:00<00:02, 279.60it/s]"
          ]
        },
        {
          "output_type": "stream",
          "name": "stdout",
          "text": [
            "File my_issues/KAFKA-4153 created with success!\n",
            "File my_issues/KAFKA-4123 created with success!\n",
            "File my_issues/KAFKA-4081 created with success!\n",
            "File my_issues/KAFKA-4034 created with success!\n",
            "File my_issues/KAFKA-3954 created with success!\n",
            "File my_issues/KAFKA-4817 created with success!\n"
          ]
        },
        {
          "output_type": "stream",
          "name": "stderr",
          "text": [
            "\rAnalyzing issues:  29%|██▉       | 270/939 [00:00<00:02, 276.87it/s]"
          ]
        },
        {
          "output_type": "stream",
          "name": "stdout",
          "text": [
            "File my_issues/KAFKA-4785 created with success!\n",
            "File my_issues/KAFKA-4720 created with success!\n",
            "File my_issues/KAFKA-4672 created with success!\n",
            "File my_issues/KAFKA-4641 created with success!\n",
            "File my_issues/KAFKA-4636 created with success!\n",
            "File my_issues/KAFKA-4586 created with success!\n",
            "File my_issues/KAFKA-4510 created with success!\n"
          ]
        },
        {
          "output_type": "stream",
          "name": "stderr",
          "text": [
            "\rAnalyzing issues:  32%|███▏      | 300/939 [00:01<00:02, 282.78it/s]"
          ]
        },
        {
          "output_type": "stream",
          "name": "stdout",
          "text": [
            "File my_issues/KAFKA-4507 created with success!\n",
            "File my_issues/KAFKA-5494 created with success!\n",
            "File my_issues/KAFKA-5485 created with success!\n",
            "File my_issues/KAFKA-5455 created with success!\n",
            "File my_issues/KAFKA-5442 created with success!\n"
          ]
        },
        {
          "output_type": "stream",
          "name": "stderr",
          "text": [
            "\rAnalyzing issues:  35%|███▌      | 331/939 [00:01<00:02, 288.96it/s]"
          ]
        },
        {
          "output_type": "stream",
          "name": "stdout",
          "text": [
            "File my_issues/KAFKA-5368 created with success!\n",
            "File my_issues/KAFKA-5350 created with success!\n",
            "File my_issues/KAFKA-5263 created with success!\n",
            "File my_issues/KAFKA-5251 created with success!\n",
            "File my_issues/KAFKA-5212 created with success!\n"
          ]
        },
        {
          "output_type": "stream",
          "name": "stderr",
          "text": [
            "\rAnalyzing issues:  39%|███▊      | 362/939 [00:01<00:01, 292.99it/s]"
          ]
        },
        {
          "output_type": "stream",
          "name": "stdout",
          "text": [
            "File my_issues/KAFKA-5129 created with success!\n",
            "File my_issues/KAFKA-5111 created with success!\n",
            "File my_issues/KAFKA-5111 created with success!\n",
            "File my_issues/KAFKA-5073 created with success!\n",
            "File my_issues/KAFKA-5037 created with success!\n",
            "File my_issues/KAFKA-5037 created with success!\n"
          ]
        },
        {
          "output_type": "stream",
          "name": "stderr",
          "text": [
            "\rAnalyzing issues:  42%|████▏     | 392/939 [00:01<00:01, 292.93it/s]"
          ]
        },
        {
          "output_type": "stream",
          "name": "stdout",
          "text": [
            "File my_issues/KAFKA-4839 created with success!\n",
            "File my_issues/KAFKA-6106 created with success!\n",
            "File my_issues/KAFKA-6054 created with success!\n",
            "File my_issues/KAFKA-5818 created with success!\n"
          ]
        },
        {
          "output_type": "stream",
          "name": "stderr",
          "text": [
            "Analyzing issues:  48%|████▊     | 452/939 [00:01<00:01, 290.67it/s]"
          ]
        },
        {
          "output_type": "stream",
          "name": "stdout",
          "text": [
            "File my_issues/KAFKA-5797 created with success!\n",
            "File my_issues/KAFKA-5738 created with success!\n",
            "File my_issues/KAFKA-5726 created with success!\n",
            "File my_issues/KAFKA-5603 created with success!\n",
            "File my_issues/KAFKA-5549 created with success!\n",
            "File my_issues/KAFKA-6446 created with success!\n"
          ]
        },
        {
          "output_type": "stream",
          "name": "stderr",
          "text": [
            "\rAnalyzing issues:  51%|█████▏    | 482/939 [00:01<00:01, 288.06it/s]"
          ]
        },
        {
          "output_type": "stream",
          "name": "stdout",
          "text": [
            "File my_issues/KAFKA-6399 created with success!\n",
            "File my_issues/KAFKA-6397 created with success!\n",
            "File my_issues/KAFKA-6362 created with success!\n",
            "File my_issues/KAFKA-6195 created with success!\n",
            "File my_issues/KAFKA-6184 created with success!\n",
            "File my_issues/KAFKA-6166 created with success!\n",
            "File my_issues/KAFKA-6157 created with success!\n",
            "File my_issues/KAFKA-6150 created with success!\n",
            "File my_issues/KAFKA-6145 created with success!\n",
            "File my_issues/KAFKA-6145 created with success!\n"
          ]
        },
        {
          "output_type": "stream",
          "name": "stderr",
          "text": [
            "\rAnalyzing issues:  55%|█████▍    | 512/939 [00:01<00:01, 290.91it/s]"
          ]
        },
        {
          "output_type": "stream",
          "name": "stdout",
          "text": [
            "File my_issues/KAFKA-6978 created with success!\n",
            "File my_issues/KAFKA-6897 created with success!\n",
            "File my_issues/KAFKA-6774 created with success!\n",
            "File my_issues/KAFKA-6747 created with success!\n",
            "File my_issues/KAFKA-6718 created with success!\n"
          ]
        },
        {
          "output_type": "stream",
          "name": "stderr",
          "text": [
            "\rAnalyzing issues:  58%|█████▊    | 542/939 [00:01<00:01, 292.10it/s]"
          ]
        },
        {
          "output_type": "stream",
          "name": "stdout",
          "text": [
            "File my_issues/KAFKA-6657 created with success!\n",
            "File my_issues/KAFKA-6608 created with success!\n",
            "File my_issues/KAFKA-7456 created with success!\n",
            "File my_issues/KAFKA-7446 created with success!\n",
            "File my_issues/KAFKA-7367 created with success!\n",
            "File my_issues/KAFKA-7352 created with success!\n",
            "File my_issues/KAFKA-7352 created with success!\n",
            "File my_issues/KAFKA-7320 created with success!\n",
            "File my_issues/KAFKA-7293 created with success!\n",
            "File my_issues/KAFKA-7285 created with success!\n",
            "File my_issues/KAFKA-7280 created with success!\n",
            "File my_issues/KAFKA-7280 created with success!\n",
            "File my_issues/KAFKA-7240 created with success!\n",
            "File my_issues/KAFKA-7198 created with success!\n",
            "File my_issues/KAFKA-7096 created with success!\n",
            "File my_issues/KAFKA-7096 created with success!\n",
            "File my_issues/KAFKA-7903 created with success!\n",
            "File my_issues/KAFKA-7895 created with success!\n",
            "File my_issues/KAFKA-7875 created with success!\n",
            "File my_issues/KAFKA-7811 created with success!\n"
          ]
        },
        {
          "output_type": "stream",
          "name": "stderr",
          "text": [
            "\rAnalyzing issues:  61%|██████    | 572/939 [00:02<00:01, 273.03it/s]"
          ]
        },
        {
          "output_type": "stream",
          "name": "stdout",
          "text": [
            "File my_issues/KAFKA-7671 created with success!\n",
            "File my_issues/KAFKA-7657 created with success!\n",
            "File my_issues/KAFKA-7567 created with success!\n",
            "File my_issues/KAFKA-7548 created with success!\n",
            "File my_issues/KAFKA-8558 created with success!\n",
            "File my_issues/KAFKA-8531 created with success!\n"
          ]
        },
        {
          "output_type": "stream",
          "name": "stderr",
          "text": [
            "Analyzing issues:  67%|██████▋   | 631/939 [00:02<00:01, 279.73it/s]"
          ]
        },
        {
          "output_type": "stream",
          "name": "stdout",
          "text": [
            "File my_issues/KAFKA-8429 created with success!\n",
            "File my_issues/KAFKA-8422 created with success!\n",
            "File my_issues/KAFKA-8421 created with success!\n",
            "File my_issues/KAFKA-8284 created with success!\n",
            "File my_issues/KAFKA-8225 created with success!\n",
            "File my_issues/KAFKA-8999 created with success!\n",
            "File my_issues/KAFKA-8972 created with success!\n",
            "File my_issues/KAFKA-8972 created with success!\n",
            "File my_issues/KAFKA-8928 created with success!\n",
            "File my_issues/KAFKA-8874 created with success!\n",
            "File my_issues/KAFKA-8839 created with success!\n",
            "File my_issues/KAFKA-8620 created with success!\n"
          ]
        },
        {
          "output_type": "stream",
          "name": "stderr",
          "text": [
            "Analyzing issues:  73%|███████▎  | 689/939 [00:02<00:00, 278.99it/s]"
          ]
        },
        {
          "output_type": "stream",
          "name": "stdout",
          "text": [
            "File my_issues/KAFKA-8601 created with success!\n",
            "File my_issues/KAFKA-9450 created with success!\n",
            "File my_issues/KAFKA-9410 created with success!\n",
            "File my_issues/KAFKA-9346 created with success!\n",
            "File my_issues/KAFKA-9306 created with success!\n",
            "File my_issues/KAFKA-9274 created with success!\n",
            "File my_issues/KAFKA-9261 created with success!\n",
            "File my_issues/KAFKA-9233 created with success!\n",
            "File my_issues/KAFKA-9206 created with success!\n",
            "File my_issues/KAFKA-9181 created with success!\n",
            "File my_issues/KAFKA-9159 created with success!\n",
            "File my_issues/KAFKA-9113 created with success!\n",
            "File my_issues/KAFKA-9086 created with success!\n",
            "File my_issues/KAFKA-10150 created with success!\n"
          ]
        },
        {
          "output_type": "stream",
          "name": "stderr",
          "text": [
            "Analyzing issues:  79%|███████▉  | 746/939 [00:02<00:00, 273.03it/s]"
          ]
        },
        {
          "output_type": "stream",
          "name": "stdout",
          "text": [
            "File my_issues/KAFKA-9966 created with success!\n",
            "File my_issues/KAFKA-9842 created with success!\n",
            "File my_issues/KAFKA-9840 created with success!\n",
            "File my_issues/KAFKA-9821 created with success!\n",
            "File my_issues/KAFKA-9815 created with success!\n",
            "File my_issues/KAFKA-9800 created with success!\n",
            "File my_issues/KAFKA-9748 created with success!\n",
            "File my_issues/KAFKA-9734 created with success!\n",
            "File my_issues/KAFKA-9734 created with success!\n"
          ]
        },
        {
          "output_type": "stream",
          "name": "stderr",
          "text": [
            "\rAnalyzing issues:  83%|████████▎ | 776/939 [00:02<00:00, 277.06it/s]"
          ]
        },
        {
          "output_type": "stream",
          "name": "stdout",
          "text": [
            "File my_issues/KAFKA-9623 created with success!\n",
            "File my_issues/KAFKA-9561 created with success!\n",
            "File my_issues/KAFKA-10571 created with success!\n",
            "File my_issues/KAFKA-10546 created with success!\n",
            "File my_issues/KAFKA-10543 created with success!\n",
            "File my_issues/KAFKA-10435 created with success!\n",
            "File my_issues/KAFKA-10360 created with success!\n",
            "File my_issues/KAFKA-10309 created with success!\n"
          ]
        },
        {
          "output_type": "stream",
          "name": "stderr",
          "text": [
            "\rAnalyzing issues:  86%|████████▌ | 805/939 [00:02<00:00, 279.14it/s]"
          ]
        },
        {
          "output_type": "stream",
          "name": "stdout",
          "text": [
            "File my_issues/KAFKA-10169 created with success!\n",
            "File my_issues/KAFKA-10888 created with success!\n",
            "File my_issues/KAFKA-10888 created with success!\n",
            "File my_issues/KAFKA-10867 created with success!\n",
            "File my_issues/KAFKA-10866 created with success!\n",
            "File my_issues/KAFKA-10866 created with success!\n",
            "File my_issues/KAFKA-10810 created with success!\n"
          ]
        },
        {
          "output_type": "stream",
          "name": "stderr",
          "text": [
            "\rAnalyzing issues:  89%|████████▉ | 837/939 [00:02<00:00, 289.12it/s]"
          ]
        },
        {
          "output_type": "stream",
          "name": "stdout",
          "text": [
            "File my_issues/KAFKA-12634 created with success!\n",
            "File my_issues/KAFKA-12568 created with success!\n",
            "File my_issues/KAFKA-12562 created with success!\n",
            "File my_issues/KAFKA-12360 created with success!\n"
          ]
        },
        {
          "output_type": "stream",
          "name": "stderr",
          "text": [
            "\rAnalyzing issues:  92%|█████████▏| 866/939 [00:03<00:00, 277.46it/s]"
          ]
        },
        {
          "output_type": "stream",
          "name": "stdout",
          "text": [
            "File my_issues/KAFKA-13323 created with success!\n",
            "File my_issues/KAFKA-13310 created with success!\n",
            "File my_issues/KAFKA-13007 created with success!\n",
            "File my_issues/KAFKA-12980 created with success!\n",
            "File my_issues/KAFKA-13563 created with success!\n",
            "File my_issues/KAFKA-13425 created with success!\n",
            "File my_issues/KAFKA-13412 created with success!\n"
          ]
        },
        {
          "output_type": "stream",
          "name": "stderr",
          "text": [
            "\rAnalyzing issues:  95%|█████████▌| 895/939 [00:03<00:00, 280.71it/s]"
          ]
        },
        {
          "output_type": "stream",
          "name": "stdout",
          "text": [
            "File my_issues/KAFKA-13828 created with success!\n",
            "File my_issues/KAFKA-13793 created with success!\n",
            "File my_issues/KAFKA-13782 created with success!\n",
            "File my_issues/KAFKA-14254 created with success!\n",
            "File my_issues/KAFKA-14196 created with success!\n",
            "File my_issues/KAFKA-14196 created with success!\n"
          ]
        },
        {
          "output_type": "stream",
          "name": "stderr",
          "text": [
            "Analyzing issues: 100%|██████████| 939/939 [00:03<00:00, 284.00it/s]"
          ]
        },
        {
          "output_type": "stream",
          "name": "stdout",
          "text": [
            "File my_issues/KAFKA-13967 created with success!\n",
            "File my_issues/KAFKA-14499 created with success!\n",
            "File my_issues/KAFKA-14318 created with success!\n",
            "File my_issues/KAFKA-14853 created with success!\n",
            "Foram criados 195 arquivos para inspeção\n"
          ]
        },
        {
          "output_type": "stream",
          "name": "stderr",
          "text": [
            "\n"
          ]
        }
      ]
    },
    {
      "cell_type": "code",
      "source": [
        "!zip -r my_issues.zip my_issues"
      ],
      "metadata": {
        "colab": {
          "base_uri": "https://localhost:8080/"
        },
        "id": "JJfW2I7Jm_8T",
        "outputId": "f7d5ba83-8b06-4504-d1ad-5bef9e05a146"
      },
      "execution_count": null,
      "outputs": [
        {
          "output_type": "stream",
          "name": "stdout",
          "text": [
            "  adding: my_issues/ (stored 0%)\n",
            "  adding: my_issues/KAFKA-13007 (deflated 52%)\n",
            "  adding: my_issues/KAFKA-5129 (deflated 51%)\n",
            "  adding: my_issues/KAFKA-5549 (deflated 54%)\n",
            "  adding: my_issues/KAFKA-10888 (deflated 54%)\n",
            "  adding: my_issues/KAFKA-13425 (deflated 55%)\n",
            "  adding: my_issues/KAFKA-1723 (deflated 54%)\n",
            "  adding: my_issues/KAFKA-3353 (deflated 55%)\n",
            "  adding: my_issues/KAFKA-9450 (deflated 55%)\n",
            "  adding: my_issues/KAFKA-1925 (deflated 43%)\n",
            "  adding: my_issues/KAFKA-1250 (deflated 51%)\n",
            "  adding: my_issues/KAFKA-7280 (deflated 61%)\n",
            "  adding: my_issues/KAFKA-9261 (deflated 63%)\n",
            "  adding: my_issues/KAFKA-1227 (deflated 54%)\n",
            "  adding: my_issues/KAFKA-5350 (deflated 52%)\n",
            "  adding: my_issues/KAFKA-3595 (deflated 50%)\n",
            "  adding: my_issues/KAFKA-4672 (deflated 50%)\n",
            "  adding: my_issues/KAFKA-5212 (deflated 60%)\n",
            "  adding: my_issues/KAFKA-13563 (deflated 50%)\n",
            "  adding: my_issues/KAFKA-2091 (deflated 56%)\n",
            "  adding: my_issues/KAFKA-5073 (deflated 54%)\n",
            "  adding: my_issues/KAFKA-13310 (deflated 56%)\n",
            "  adding: my_issues/KAFKA-10571 (deflated 14%)\n",
            "  adding: my_issues/KAFKA-4123 (deflated 53%)\n",
            "  adding: my_issues/KAFKA-8225 (deflated 58%)\n",
            "  adding: my_issues/KAFKA-9561 (deflated 48%)\n",
            "  adding: my_issues/KAFKA-5037 (deflated 54%)\n",
            "  adding: my_issues/KAFKA-1865 (deflated 55%)\n",
            "  adding: my_issues/KAFKA-8999 (deflated 46%)\n",
            "  adding: my_issues/KAFKA-6106 (deflated 55%)\n",
            "  adding: my_issues/KAFKA-8422 (deflated 62%)\n",
            "  adding: my_issues/KAFKA-2334 (deflated 53%)\n",
            "  adding: my_issues/KAFKA-8928 (deflated 58%)\n",
            "  adding: my_issues/KAFKA-4641 (deflated 66%)\n",
            "  adding: my_issues/KAFKA-2856 (deflated 65%)\n",
            "  adding: my_issues/KAFKA-2745 (deflated 53%)\n",
            "  adding: my_issues/KAFKA-3196 (deflated 57%)\n",
            "  adding: my_issues/KAFKA-6747 (deflated 66%)\n",
            "  adding: my_issues/KAFKA-6897 (deflated 58%)\n",
            "  adding: my_issues/KAFKA-13828 (deflated 35%)\n",
            "  adding: my_issues/KAFKA-3720 (deflated 59%)\n",
            "  adding: my_issues/KAFKA-7657 (deflated 68%)\n",
            "  adding: my_issues/KAFKA-4311 (deflated 74%)\n",
            "  adding: my_issues/KAFKA-13782 (deflated 47%)\n",
            "  adding: my_issues/KAFKA-7895 (deflated 54%)\n",
            "  adding: my_issues/KAFKA-7811 (deflated 63%)\n",
            "  adding: my_issues/KAFKA-4081 (deflated 63%)\n",
            "  adding: my_issues/KAFKA-4507 (deflated 55%)\n",
            "  adding: my_issues/KAFKA-5797 (deflated 68%)\n",
            "  adding: my_issues/KAFKA-7903 (deflated 64%)\n",
            "  adding: my_issues/KAFKA-10435 (deflated 30%)\n",
            "  adding: my_issues/KAFKA-8839 (deflated 60%)\n",
            "  adding: my_issues/KAFKA-8531 (deflated 49%)\n",
            "  adding: my_issues/KAFKA-6774 (deflated 61%)\n",
            "  adding: my_issues/KAFKA-12980 (deflated 46%)\n",
            "  adding: my_issues/KAFKA-2948 (deflated 56%)\n",
            "  adding: my_issues/KAFKA-2707 (deflated 51%)\n",
            "  adding: my_issues/KAFKA-9815 (deflated 60%)\n",
            "  adding: my_issues/KAFKA-2950 (deflated 51%)\n",
            "  adding: my_issues/KAFKA-6195 (deflated 56%)\n",
            "  adding: my_issues/KAFKA-13323 (deflated 50%)\n",
            "  adding: my_issues/KAFKA-6362 (deflated 57%)\n",
            "  adding: my_issues/KAFKA-7240 (deflated 61%)\n",
            "  adding: my_issues/KAFKA-10360 (deflated 49%)\n",
            "  adding: my_issues/KAFKA-7456 (deflated 69%)\n",
            "  adding: my_issues/KAFKA-9233 (deflated 60%)\n",
            "  adding: my_issues/KAFKA-3036 (deflated 50%)\n",
            "  adding: my_issues/KAFKA-8558 (deflated 61%)\n",
            "  adding: my_issues/KAFKA-9306 (deflated 48%)\n",
            "  adding: my_issues/KAFKA-14254 (deflated 50%)\n",
            "  adding: my_issues/KAFKA-2440 (deflated 54%)\n",
            "  adding: my_issues/KAFKA-3853 (deflated 55%)\n",
            "  adding: my_issues/KAFKA-13412 (deflated 55%)\n",
            "  adding: my_issues/KAFKA-5818 (deflated 63%)\n",
            "  adding: my_issues/KAFKA-3824 (deflated 53%)\n",
            "  adding: my_issues/KAFKA-9623 (deflated 58%)\n",
            "  adding: my_issues/KAFKA-7096 (deflated 65%)\n",
            "  adding: my_issues/KAFKA-6446 (deflated 56%)\n",
            "  adding: my_issues/KAFKA-9206 (deflated 59%)\n",
            "  adding: my_issues/KAFKA-8874 (deflated 60%)\n",
            "  adding: my_issues/KAFKA-7548 (deflated 68%)\n",
            "  adding: my_issues/KAFKA-5738 (deflated 61%)\n",
            "  adding: my_issues/KAFKA-2683 (deflated 52%)\n",
            "  adding: my_issues/KAFKA-9840 (deflated 55%)\n",
            "  adding: my_issues/KAFKA-3185 (deflated 59%)\n",
            "  adding: my_issues/KAFKA-8601 (deflated 64%)\n",
            "  adding: my_issues/KAFKA-7875 (deflated 60%)\n",
            "  adding: my_issues/KAFKA-4034 (deflated 51%)\n",
            "  adding: my_issues/KAFKA-4274 (deflated 49%)\n",
            "  adding: my_issues/KAFKA-5455 (deflated 48%)\n",
            "  adding: my_issues/KAFKA-6145 (deflated 67%)\n",
            "  adding: my_issues/KAFKA-4153 (deflated 56%)\n",
            "  adding: my_issues/KAFKA-3954 (deflated 55%)\n",
            "  adding: my_issues/KAFKA-9410 (deflated 60%)\n",
            "  adding: my_issues/KAFKA-10543 (deflated 30%)\n",
            "  adding: my_issues/KAFKA-10169 (deflated 53%)\n",
            "  adding: my_issues/KAFKA-6657 (deflated 63%)\n",
            "  adding: my_issues/KAFKA-3430 (deflated 52%)\n",
            "  adding: my_issues/KAFKA-13793 (deflated 59%)\n",
            "  adding: my_issues/KAFKA-7285 (deflated 63%)\n",
            "  adding: my_issues/KAFKA-7446 (deflated 59%)\n",
            "  adding: my_issues/KAFKA-6978 (deflated 61%)\n",
            "  adding: my_issues/KAFKA-7567 (deflated 65%)\n",
            "  adding: my_issues/KAFKA-9346 (deflated 62%)\n",
            "  adding: my_issues/KAFKA-5726 (deflated 55%)\n",
            "  adding: my_issues/KAFKA-7367 (deflated 64%)\n",
            "  adding: my_issues/KAFKA-5251 (deflated 52%)\n",
            "  adding: my_issues/KAFKA-2880 (deflated 60%)\n",
            "  adding: my_issues/KAFKA-10309 (deflated 43%)\n",
            "  adding: my_issues/KAFKA-6157 (deflated 51%)\n",
            "  adding: my_issues/KAFKA-3598 (deflated 50%)\n",
            "  adding: my_issues/KAFKA-7320 (deflated 47%)\n",
            "  adding: my_issues/KAFKA-12568 (deflated 16%)\n",
            "  adding: my_issues/KAFKA-4586 (deflated 63%)\n",
            "  adding: my_issues/KAFKA-9748 (deflated 77%)\n",
            "  adding: my_issues/KAFKA-7671 (deflated 61%)\n",
            "  adding: my_issues/KAFKA-4636 (deflated 52%)\n",
            "  adding: my_issues/KAFKA-12360 (deflated 61%)\n",
            "  adding: my_issues/KAFKA-7198 (deflated 60%)\n",
            "  adding: my_issues/KAFKA-9842 (deflated 62%)\n",
            "  adding: my_issues/KAFKA-2706 (deflated 55%)\n",
            "  adding: my_issues/KAFKA-2489 (deflated 53%)\n",
            "  adding: my_issues/KAFKA-10867 (deflated 19%)\n",
            "  adding: my_issues/KAFKA-3600 (deflated 59%)\n",
            "  adding: my_issues/KAFKA-14196 (deflated 56%)\n",
            "  adding: my_issues/KAFKA-2694 (deflated 50%)\n",
            "  adding: my_issues/KAFKA-9159 (deflated 54%)\n",
            "  adding: my_issues/KAFKA-9966 (deflated 83%)\n",
            "  adding: my_issues/KAFKA-9113 (deflated 66%)\n",
            "  adding: my_issues/KAFKA-14853 (deflated 23%)\n",
            "  adding: my_issues/KAFKA-10810 (deflated 33%)\n",
            "  adding: my_issues/KAFKA-8421 (deflated 55%)\n",
            "  adding: my_issues/KAFKA-5111 (deflated 55%)\n",
            "  adding: my_issues/KAFKA-5485 (deflated 51%)\n",
            "  adding: my_issues/KAFKA-10150 (deflated 50%)\n",
            "  adding: my_issues/KAFKA-6397 (deflated 55%)\n",
            "  adding: my_issues/KAFKA-14318 (deflated 39%)\n",
            "  adding: my_issues/KAFKA-4817 (deflated 51%)\n",
            "  adding: my_issues/KAFKA-4510 (deflated 52%)\n",
            "  adding: my_issues/KAFKA-9734 (deflated 64%)\n",
            "  adding: my_issues/KAFKA-6718 (deflated 53%)\n",
            "  adding: my_issues/KAFKA-6166 (deflated 65%)\n",
            "  adding: my_issues/KAFKA-5368 (deflated 59%)\n",
            "  adding: my_issues/KAFKA-4720 (deflated 49%)\n",
            "  adding: my_issues/KAFKA-6150 (deflated 55%)\n",
            "  adding: my_issues/KAFKA-8972 (deflated 60%)\n",
            "  adding: my_issues/KAFKA-4785 (deflated 57%)\n",
            "  adding: my_issues/KAFKA-12562 (deflated 24%)\n",
            "  adding: my_issues/KAFKA-6608 (deflated 65%)\n",
            "  adding: my_issues/KAFKA-10866 (deflated 17%)\n",
            "  adding: my_issues/KAFKA-9181 (deflated 79%)\n",
            "  adding: my_issues/KAFKA-5603 (deflated 62%)\n",
            "  adding: my_issues/KAFKA-8620 (deflated 71%)\n",
            "  adding: my_issues/KAFKA-5442 (deflated 52%)\n",
            "  adding: my_issues/KAFKA-5263 (deflated 58%)\n",
            "  adding: my_issues/KAFKA-7293 (deflated 54%)\n",
            "  adding: my_issues/KAFKA-9274 (deflated 54%)\n",
            "  adding: my_issues/KAFKA-2313 (deflated 47%)\n",
            "  adding: my_issues/KAFKA-9800 (deflated 56%)\n",
            "  adding: my_issues/KAFKA-3776 (deflated 66%)\n",
            "  adding: my_issues/KAFKA-4312 (deflated 53%)\n",
            "  adding: my_issues/KAFKA-4254 (deflated 54%)\n",
            "  adding: my_issues/KAFKA-14499 (deflated 32%)\n",
            "  adding: my_issues/KAFKA-6399 (deflated 55%)\n",
            "  adding: my_issues/KAFKA-9086 (deflated 63%)\n",
            "  adding: my_issues/KAFKA-12634 (deflated 51%)\n",
            "  adding: my_issues/KAFKA-1515 (deflated 55%)\n",
            "  adding: my_issues/KAFKA-8429 (deflated 48%)\n",
            "  adding: my_issues/KAFKA-9821 (deflated 52%)\n",
            "  adding: my_issues/KAFKA-7352 (deflated 48%)\n",
            "  adding: my_issues/KAFKA-5494 (deflated 54%)\n",
            "  adding: my_issues/KAFKA-2459 (deflated 58%)\n",
            "  adding: my_issues/KAFKA-8284 (deflated 60%)\n",
            "  adding: my_issues/KAFKA-6054 (deflated 61%)\n",
            "  adding: my_issues/KAFKA-10546 (deflated 35%)\n",
            "  adding: my_issues/KAFKA-6184 (deflated 60%)\n",
            "  adding: my_issues/KAFKA-13967 (deflated 40%)\n",
            "  adding: my_issues/KAFKA-3233 (deflated 75%)\n",
            "  adding: my_issues/KAFKA-2294 (deflated 34%)\n",
            "  adding: my_issues/KAFKA-4839 (deflated 43%)\n"
          ]
        }
      ]
    }
  ]
}