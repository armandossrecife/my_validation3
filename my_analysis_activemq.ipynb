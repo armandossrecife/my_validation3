{
  "nbformat": 4,
  "nbformat_minor": 0,
  "metadata": {
    "colab": {
      "provenance": [],
      "collapsed_sections": [
        "YTZHqwoh8KSf"
      ],
      "include_colab_link": true
    },
    "kernelspec": {
      "name": "python3",
      "display_name": "Python 3"
    },
    "language_info": {
      "name": "python"
    }
  },
  "cells": [
    {
      "cell_type": "markdown",
      "metadata": {
        "id": "view-in-github",
        "colab_type": "text"
      },
      "source": [
        "<a href=\"https://colab.research.google.com/github/armandossrecife/my_validation3/blob/main/my_analysis_activemq.ipynb\" target=\"_parent\"><img src=\"https://colab.research.google.com/assets/colab-badge.svg\" alt=\"Open In Colab\"/></a>"
      ]
    },
    {
      "cell_type": "markdown",
      "source": [
        "# Setup do Ambiente de Análise"
      ],
      "metadata": {
        "id": "3VXzbRhyK7hH"
      }
    },
    {
      "cell_type": "code",
      "source": [
        "!rm -rf *.log\n",
        "!rm -rf *.txt\n",
        "!rm -rf *.xlsx\n",
        "!rm -rf my_issues\n",
        "!rm -rf activemq"
      ],
      "metadata": {
        "id": "nPHCWuAukPhs"
      },
      "execution_count": null,
      "outputs": []
    },
    {
      "cell_type": "code",
      "source": [
        "print('Install Pydriller.')\n",
        "!pip install pydriller > install_pydriller.log\n",
        "print('Install gitpython.')\n",
        "!pip3 install gitpython > install_gitpython.log\n",
        "print('Install Jira Python lib.')\n",
        "!pip install jira > install_jira_python.log\n",
        "print('Install SQLite in Linux')\n",
        "!sudo apt install -y sqlite3 > install_sqlite.log\n",
        "print('All depenpencies installed!')\n",
        "!cat *.log > install.log\n",
        "print('Details in install.log')"
      ],
      "metadata": {
        "colab": {
          "base_uri": "https://localhost:8080/"
        },
        "id": "2wQ-xzYG4nqN",
        "outputId": "4f20d0c3-a1f1-41fd-8f8b-c4d4d5f13a84"
      },
      "execution_count": null,
      "outputs": [
        {
          "output_type": "stream",
          "name": "stdout",
          "text": [
            "Install Pydriller.\n",
            "Install gitpython.\n",
            "Install Jira Python lib.\n",
            "Install SQLite in Linux\n",
            "\n",
            "WARNING: apt does not have a stable CLI interface. Use with caution in scripts.\n",
            "\n",
            "debconf: unable to initialize frontend: Dialog\n",
            "debconf: (No usable dialog-like program is installed, so the dialog based frontend cannot be used. at /usr/share/perl5/Debconf/FrontEnd/Dialog.pm line 78, <> line 1.)\n",
            "debconf: falling back to frontend: Readline\n",
            "debconf: unable to initialize frontend: Readline\n",
            "debconf: (This frontend requires a controlling tty.)\n",
            "debconf: falling back to frontend: Teletype\n",
            "dpkg-preconfigure: unable to re-open stdin: \n",
            "All depenpencies installed!\n",
            "Details in install.log\n"
          ]
        }
      ]
    },
    {
      "cell_type": "markdown",
      "source": [
        "## Importa bibliotecas necessárias"
      ],
      "metadata": {
        "id": "eZ-7Eh0v7euY"
      }
    },
    {
      "cell_type": "code",
      "execution_count": null,
      "metadata": {
        "id": "XUVu8pQm4ifo"
      },
      "outputs": [],
      "source": [
        "import os\n",
        "from datetime import datetime, timedelta\n",
        "import tqdm\n",
        "from pydriller import Repository\n",
        "from jira import JIRA\n",
        "import pandas as pd\n",
        "import re\n",
        "import scipy.stats as stats\n",
        "import random\n",
        "import shutil\n",
        "import time"
      ]
    },
    {
      "cell_type": "markdown",
      "source": [
        "## Variáveis Globais"
      ],
      "metadata": {
        "id": "aln3JNKYAVgb"
      }
    },
    {
      "cell_type": "code",
      "source": [
        "my_repository = 'activemq'\n",
        "url_to_repository = 'https://github.com/apache/activemq.git'\n",
        "os.environ['MY_REPOSITORY'] = url_to_repository\n",
        "os.environ['MY_PATH_REPOSITORY'] = my_repository\n",
        "\n",
        "JIRA_SERVER = 'https://issues.apache.org/jira'\n",
        "ISSUE_TRACKER_PROJECT = 'AMQ'\n",
        "\n",
        "# Credentials\n",
        "os.environ['USERNAME'] = '?'\n",
        "os.environ['PASSWORD'] = '?'\n",
        "username = os.environ.get('USERNAME')\n",
        "password = os.environ.get('PASSWORD')\n",
        "\n",
        "arquivos_activemq_by_sysrepoanalysis = ['BrokerService.java',\n",
        " 'DemandForwardingBridgeSupport.java',\n",
        " 'MessageDatabase.java',\n",
        " 'Queue.java',\n",
        " 'TopicSubscription.java',\n",
        " 'TransportConnector.java']\n",
        "\n",
        "lista_arquivos_criticos = ['DemandForwardingBridgeSupport.java',\n",
        "'SubQueueSelectorCacheBroker.java',\n",
        "'BrokerServiceAware.java',\n",
        "'TransportConnector.java',\n",
        "'BrokerService.java',\n",
        "'TopicSubscription.java',\n",
        "'QueueBrowserSubscription.java',\n",
        "'Queue.java',\n",
        "'DurableTopicSubscription.java',\n",
        "'QueueSubscription.java',\n",
        "'QueueDispatchSelector.java',\n",
        "'PendingQueueMessageStoragePolicy.java',\n",
        "'MirroredQueue.java',\n",
        "'MessageQueue.java']\n"
      ],
      "metadata": {
        "id": "OEbrNLLn5wq5"
      },
      "execution_count": null,
      "outputs": []
    },
    {
      "cell_type": "markdown",
      "source": [
        "## Clona o Repositório"
      ],
      "metadata": {
        "id": "Ti5lAYXOAY1z"
      }
    },
    {
      "cell_type": "code",
      "source": [
        "print(f'Clona o repositório : {url_to_repository}')\n",
        "!git clone $MY_REPOSITORY"
      ],
      "metadata": {
        "colab": {
          "base_uri": "https://localhost:8080/"
        },
        "id": "MWfNScS_5uvT",
        "outputId": "a30cc9ed-eb2e-4648-9e41-ca1cef85a207"
      },
      "execution_count": null,
      "outputs": [
        {
          "output_type": "stream",
          "name": "stdout",
          "text": [
            "Clona o repositório : https://github.com/apache/activemq.git\n",
            "Cloning into 'activemq'...\n",
            "remote: Enumerating objects: 237396, done.\u001b[K\n",
            "remote: Counting objects: 100% (4162/4162), done.\u001b[K\n",
            "remote: Compressing objects: 100% (1954/1954), done.\u001b[K\n",
            "remote: Total 237396 (delta 1763), reused 3856 (delta 1586), pack-reused 233234\u001b[K\n",
            "Receiving objects: 100% (237396/237396), 61.57 MiB | 24.17 MiB/s, done.\n",
            "Resolving deltas: 100% (114761/114761), done.\n"
          ]
        }
      ]
    },
    {
      "cell_type": "code",
      "source": [
        "!cd $MY_PATH_REPOSITORY && git log --pretty=\"%H %s\" > all_commits_msg.txt\n",
        "!cd $MY_PATH_REPOSITORY && git log --pretty=\"%H;%ai;%s\" > all_commits_full.txt\n",
        "\n",
        "# Dados do 1o commit e do ultimo commit\n",
        "!echo \"Último commit: \"\n",
        "!head /content/$MY_PATH_REPOSITORY/all_commits_full.txt -n 1\n",
        "!echo \"Primeiro commit: \"\n",
        "!tail /content/$MY_PATH_REPOSITORY/all_commits_full.txt -n 1"
      ],
      "metadata": {
        "colab": {
          "base_uri": "https://localhost:8080/"
        },
        "id": "JCPikf0jzDX-",
        "outputId": "50546be7-8e55-4135-9607-78840fbccd0f"
      },
      "execution_count": null,
      "outputs": [
        {
          "output_type": "stream",
          "name": "stdout",
          "text": [
            "Último commit: \n",
            "5dbe5f1c410b4fef0e93a2534f3eeaa8f2349ae2;2023-11-01 14:51:01 +0100;Fix OSGi headers\n",
            "Primeiro commit: \n",
            "40a7d3b6ac35d2ecb34e85fc3403d2e48e33874e;2005-12-12 17:53:59 +0000;Moved the trunk code into the trunk sub directory\n"
          ]
        }
      ]
    },
    {
      "cell_type": "markdown",
      "source": [
        "## Funções de apoio"
      ],
      "metadata": {
        "id": "YTZHqwoh8KSf"
      }
    },
    {
      "cell_type": "code",
      "source": [
        "def get_all_commits_by_range(initial_date, final_date, repository_name):\n",
        "  \"\"\"Extracts information from a date range of commits\n",
        "  Args:\n",
        "      initial_date: inicial date of commits\n",
        "      final_date: final date of commits\n",
        "  Returns:\n",
        "        A dictionary of commits, where the keys are the commit hashes and the\n",
        "        values are tuples containing the commit message, commit's date, commit's line, commit's file, a list of files modified in the commit, a list of all diffs from modified files\n",
        "  \"\"\"\n",
        "  dict_commit_modified_files = {}\n",
        "  print('Wait...')\n",
        "  my_traverser_commits = Repository(repository_name, since=initial_date, to=final_date).traverse_commits()\n",
        "  total_commits = len(list(my_traverser_commits))\n",
        "  try:\n",
        "    for commit in tqdm.tqdm(Repository(repository_name, since=initial_date, to=final_date).traverse_commits(), total=total_commits, desc=\"Progress commit anlysis\"):\n",
        "      list_of_modified_files = []\n",
        "      list_dict_of_diff_modified_files = []\n",
        "      for m in commit.modified_files:\n",
        "        dict_m_diff = {}\n",
        "        if m is not None:\n",
        "          list_of_modified_files.append(m.filename)\n",
        "          dict_m_diff[m.filename] = m.diff\n",
        "          list_dict_of_diff_modified_files.append(dict_m_diff)\n",
        "      data_commit = str(commit.committer_date.day) + '/' + str(commit.committer_date.month) + '/' + str(commit.committer_date.year)\n",
        "      element = commit.msg, data_commit, commit.lines, commit.files, list_of_modified_files, list_dict_of_diff_modified_files\n",
        "      dict_commit_modified_files[commit.hash] = element\n",
        "  except Exception as ex:\n",
        "    print(f'Erro during travesse commits: {str(ex)}')\n",
        "  return dict_commit_modified_files, total_commits\n",
        "\n",
        "def get_commits_by_range_and_critical_files(initial_date, final_date, critical_files, repository_name):\n",
        "  \"\"\"Extracts information from a date range of commits, focusing on critical files.\n",
        "  Args:\n",
        "      initial_date: inicial date of commits\n",
        "      final_date: final date of commits\n",
        "      critical_files: A list of critical file paths. ex: ['StorageService.java', 'ColumnFamilyStore.java']\n",
        "  Returns:\n",
        "        A dictionary of commits, where the keys are the commit hashes and the\n",
        "        values are tuples containing the commit message, commits's date, commit's line, commit's file, a list of critical files modified in the commit, a list_of_modified_files, a dictionary of diff [filename]:filename.diff, a list of all diffs from modified files\n",
        "        commit.msg, data_commit, commit.lines, commit.files, list_of_critical_files_modified, list_of_modified_files, list_dict_of_diff_files, list_dict_of_diff_modified_files\n",
        "  \"\"\"\n",
        "\n",
        "  dict_commit_modified_files = {}\n",
        "  print('Wait...')\n",
        "  my_traverser_commits = Repository(repository_name, since=initial_date, to=final_date).traverse_commits()\n",
        "  total_commits = len(list(my_traverser_commits))\n",
        "  try:\n",
        "    for commit in tqdm.tqdm(Repository(repository_name, since=initial_date, to=final_date).traverse_commits(), total=total_commits, desc=\"Progress critical files commit anlysis\"):\n",
        "      list_of_critical_files_modified = []\n",
        "      list_of_modified_files = []\n",
        "      list_dict_of_diff_files = []\n",
        "      list_dict_of_diff_modified_files = []\n",
        "      for m in commit.modified_files:\n",
        "        dict_diff_file = {}\n",
        "        list_of_modified_files.append(m.filename)\n",
        "        list_dict_of_diff_modified_files.append(m.diff)\n",
        "        if m.filename in critical_files:\n",
        "          list_of_critical_files_modified.append(m.filename)\n",
        "          dict_diff_file[m.filename] = m.diff\n",
        "          list_dict_of_diff_files.append(dict_diff_file)\n",
        "      if len(list_of_critical_files_modified) > 0:\n",
        "        data_commit = str(commit.committer_date.day) + '/' + str(commit.committer_date.month) + '/' + str(commit.committer_date.year)\n",
        "        element = commit.msg, data_commit, commit.lines, commit.files, list_of_critical_files_modified, list_of_modified_files, list_dict_of_diff_files, list_dict_of_diff_modified_files\n",
        "        dict_commit_modified_files[commit.hash] = element\n",
        "  except Exception as ex:\n",
        "    print(f'Erro during travesse commits: {str(ex)}')\n",
        "  return dict_commit_modified_files, total_commits"
      ],
      "metadata": {
        "id": "blFSkQG57Uwo"
      },
      "execution_count": null,
      "outputs": []
    },
    {
      "cell_type": "code",
      "source": [
        "class JiraIssue:\n",
        "  def __init__(self, key, summary, issue_type, status, priority, description, comments, created_date=None, updated_date=None, resolved_date=None):\n",
        "    self.key = key\n",
        "    self.summary = summary\n",
        "    self.issue_type = issue_type\n",
        "    self.status = status\n",
        "    self.priority = priority\n",
        "    self.description = description\n",
        "    self.comments = comments\n",
        "    self.created_date = created_date\n",
        "    self.updated_date = updated_date\n",
        "    self.resolved_date = resolved_date\n",
        "\n",
        "  def get_comments(self):\n",
        "    return self.comments\n",
        "\n",
        "  def __str__(self):\n",
        "    return (f'Key: {self.key}, Summary: {self.summary}, Type: {self.issue_type}, Status: {self.status}')\n",
        "\n",
        "class JiraIssues:\n",
        "  def __init__(self,project, issues):\n",
        "    self.project = project\n",
        "    self.issues = issues\n",
        "\n",
        "  def add_issue(self, issue):\n",
        "    self.issues.append(issue)\n",
        "\n",
        "  def get_issues(self) -> list:\n",
        "    return self.issues\n",
        "\n",
        "  def update_issues(self, issues):\n",
        "    self.issues = issues\n",
        "\n",
        "  def __str__(self):\n",
        "    str_issues = \"\"\n",
        "    for issue in self.get_issues():\n",
        "      str_issues = str_issues + str(issue)\n",
        "      str_issues = str_issues + ', '\n",
        "    str_issues = '[' + str_issues + ']'\n",
        "    return (f'Project: {self.project}, Qdt of issues: {len(self.issues)}, Issues: {str_issues}')\n",
        "\n",
        "# Classe de utilidades para manipular o servidor Jira\n",
        "class JiraUtils:\n",
        "  def __init__(self, project, jira_instance):\n",
        "    self.project = project\n",
        "    self.jira_jira_instance = jira_instance\n",
        "\n",
        "  def generate_intervals_between_dates(self, date1: tuple, date2: tuple, distance=120) -> list:\n",
        "    start_date = datetime(date1[0], date1[1], date1[2])\n",
        "    end_date = datetime(date2[0], date2[1], date2[2])\n",
        "    interval_days = distance\n",
        "    # Initialize a list to store the intervals\n",
        "    intervals = []\n",
        "    # Initialize the current date as the start date\n",
        "    current_date = start_date\n",
        "    # Loop to generate intervals until the current date is less than or equal to the end date\n",
        "    while current_date < end_date:\n",
        "        interval = (current_date, current_date + timedelta(days=interval_days - 1))\n",
        "        intervals.append(interval)\n",
        "        current_date += timedelta(days=interval_days)\n",
        "    return intervals\n",
        "\n",
        "  def convert_interval_dates(self, dates: list) -> list:\n",
        "    list_interval_dates = []\n",
        "    for each in dates:\n",
        "      date1 = each[0]\n",
        "      # Convert the date to a string in the format \"YYYY/MM/DD\".\n",
        "      str_date1 = date1.strftime(\"%Y/%m/%d\")\n",
        "      date2 = each[1]\n",
        "      str_date2 = date2.strftime(\"%Y/%m/%d\")\n",
        "      elemento = str_date1, str_date2\n",
        "      list_interval_dates.append(elemento)\n",
        "    return list_interval_dates\n",
        "\n",
        "  def generate_list_of_sentences(self, dates: list) -> list:\n",
        "    lista_sentencas = []\n",
        "    for each in dates:\n",
        "      str_date1 = each[0].strftime(\"%Y/%m/%d\")\n",
        "      str_date2 = each[1].strftime(\"%Y/%m/%d\")\n",
        "      sentenca = f'project={self.project.upper()} and created>=\"{str_date1}\" and created<=\"{str_date2}\"'\n",
        "      lista_sentencas.append(sentenca)\n",
        "    return lista_sentencas\n",
        "\n",
        "  def get_list_of_block_issues_by_dates(self,date1, date2, distance=120) -> list:\n",
        "    print('Aguarde...')\n",
        "    t1 = datetime.now()\n",
        "    list_of_dates = self.generate_intervals_between_dates(date1,date2,distance)\n",
        "    lista_sentencas = self.generate_list_of_sentences(list_of_dates)\n",
        "    lista_bloco_issues_by_date = []\n",
        "    total_items = len(lista_sentencas)\n",
        "    i = 0\n",
        "    iterable_lista_sentencas = tqdm.tqdm(lista_sentencas, total=total_items)\n",
        "    for each in iterable_lista_sentencas:\n",
        "      issues_by_date_temp = self.jira_jira_instance.search_issues(each,maxResults=1000)\n",
        "      print(f'Range: {each}, qtd issues: {len(issues_by_date_temp)}')\n",
        "      lista_bloco_issues_by_date.append(issues_by_date_temp)\n",
        "      percentage = (i + 1) / total_items * 100\n",
        "      iterable_lista_sentencas.set_description(f\"Progress Message Analysis\")\n",
        "    i += 1\n",
        "    t2 = datetime.now()\n",
        "    print(t2)\n",
        "    print(f'Tempo da consulta: {t2-t1}')\n",
        "    return lista_bloco_issues_by_date\n",
        "\n",
        "  def concatenate_block_of_issues(self,block_of_issues):\n",
        "    concatenated_list = [item for sublist in block_of_issues for item in sublist]\n",
        "    print(f'Total de issues recuperados: {len(concatenated_list)}')\n",
        "    return concatenated_list\n",
        "\n",
        "def analyze_jira_all_issues(project, all_issues):\n",
        "    \"\"\"Extracts all issues from Issue Tracker\n",
        "        Args:\n",
        "          project: Issue Tracker Project name, example: CASSANDRA\n",
        "          all_issues: a block of issues\n",
        "        Returns:\n",
        "          A list of JiraIssues\n",
        "    \"\"\"\n",
        "    # Create an instance of JiraIssues to manage all issues\n",
        "    my_all_issues = JiraIssues(project, [])\n",
        "    total_items = len(all_issues)\n",
        "\n",
        "    # Iterate through the fetched issues\n",
        "    for issue in tqdm.tqdm(all_issues, total=total_items, desc='Progress jira all issues analysis'):\n",
        "        issue_key = issue.key\n",
        "        issue_summary = issue.fields.summary\n",
        "        issue_description = issue.fields.description\n",
        "        issue_comments = [comment.body for comment in issue.fields.comment.comments]\n",
        "        issue_created_date = issue.fields.created\n",
        "        issue_updated_date = None\n",
        "        issue_resolved_date = issue.fields.resolutiondate\n",
        "\n",
        "        # Check for SATD keywords in the issue's summary, description, and comments\n",
        "        if issue_summary is None:\n",
        "            issue_summary = \"\"\n",
        "        if issue_description is None:\n",
        "            issue_description = \"\"\n",
        "        if issue_comments is None:\n",
        "            issue_comments = \"\"\n",
        "        if issue_created_date == None:\n",
        "            issue_created_date = \"\"\n",
        "        if issue_updated_date == None:\n",
        "            issue_updated_date = \"\"\n",
        "        if issue_resolved_date == None:\n",
        "            issue_resolved_date = \"\"\n",
        "\n",
        "        issue_type = issue.fields.issuetype.name\n",
        "        issue_status = issue.fields.status.name\n",
        "        issue_priority = issue.fields.priority.name\n",
        "\n",
        "        # Create a JiraIssue instance for the SATD issue\n",
        "        my_issue = JiraIssue(issue_key, issue_summary, issue_type, issue_status, issue_priority, issue_description, issue_comments, issue_created_date, issue_updated_date, issue_resolved_date)\n",
        "\n",
        "        my_all_issues.add_issue(my_issue)\n",
        "\n",
        "    return my_all_issues\n",
        "\n",
        "def convert_date_jira_to_datetime(jira_date):\n",
        "  regex = r\"(\\d{4})-(\\d{2})-(\\d{2})\"\n",
        "  match = re.match(regex, jira_date)\n",
        "\n",
        "  if match:\n",
        "      year, month, day = match.groups()\n",
        "      datetime_object = datetime(year=int(year), month=int(month), day=int(day))\n",
        "      return datetime_object\n",
        "  else:\n",
        "      return None\n",
        "\n",
        "def convert_issues_to_dataframe(all_real_issues):\n",
        "  l_issue_key_aux, l_issue_type_aux, l_issue_summary_aux, l_issue_description_aux, l_issue_status_aux, l_issue_priority_aux, l_issue_comments_aux = [], [], [], [], [], [], []\n",
        "  l_issue_created_date, l_issue_resolved_date = [], []\n",
        "\n",
        "  for issue in all_real_issues.get_issues():\n",
        "    l_issue_key_aux.append(issue.key)\n",
        "    l_issue_type_aux.append(issue.issue_type)\n",
        "    l_issue_summary_aux.append(issue.summary)\n",
        "    l_issue_description_aux.append(issue.description)\n",
        "    l_issue_status_aux.append(issue.status)\n",
        "    l_issue_priority_aux.append(issue.priority)\n",
        "    texto_aux = \"\"\n",
        "    for item in issue.get_comments():\n",
        "      texto_aux = texto_aux + str(item) + \"\\n\"\n",
        "    l_issue_comments_aux.append(texto_aux)\n",
        "    created_date_temp = convert_date_jira_to_datetime(issue.created_date)\n",
        "    l_issue_created_date.append(created_date_temp)\n",
        "    resolved_date_temp = convert_date_jira_to_datetime(issue.resolved_date)\n",
        "    l_issue_resolved_date.append(resolved_date_temp)\n",
        "\n",
        "  dict_all_reall_issues_in_commits_detailed = {\n",
        "  'issue_key': l_issue_key_aux,\n",
        "  'issue_type':l_issue_type_aux,\n",
        "  'status':l_issue_status_aux,\n",
        "  'priority':l_issue_priority_aux,\n",
        "  'summary':l_issue_summary_aux,\n",
        "  'description':l_issue_description_aux,\n",
        "  'comments':l_issue_comments_aux,\n",
        "  'created_date': l_issue_created_date,\n",
        "  'resolved_date': l_issue_resolved_date\n",
        "  }\n",
        "\n",
        "  df_all_reall_issues_in_commits_detailed = pd.DataFrame(dict_all_reall_issues_in_commits_detailed)\n",
        "  return df_all_reall_issues_in_commits_detailed"
      ],
      "metadata": {
        "id": "SBj01vqNGR6L"
      },
      "execution_count": null,
      "outputs": []
    },
    {
      "cell_type": "code",
      "source": [
        "def convert_commits_to_dataframe(dict_of_commits):\n",
        "  '''\n",
        "  v[0] = commit.msg,\n",
        "  v[1] = data_commit,\n",
        "  v[2] = commit.lines,\n",
        "  v[3] = commit.files,\n",
        "  v[4] = list_of_critical_files_modified,\n",
        "  v[5] = list_of_modified_files,\n",
        "  v[6] = list_dict_of_diff_files,\n",
        "  v[7] = list_dict_of_diff_modified_files\n",
        "  '''\n",
        "  l_commit_hash, l_commit_msg, l_commit_data, l_commit_lines, l_commit_files, l_commit_critical_files, l_commit_modified_fies, l_commit_diff_files, l_commit_diff_modified_files = [], [], [], [], [], [], [], [], []\n",
        "  for k, v in dict_of_commits.items():\n",
        "    l_commit_hash.append(k)\n",
        "    l_commit_msg.append(v[0])\n",
        "    l_commit_data.append(v[1])\n",
        "    l_commit_lines.append(v[2])\n",
        "    l_commit_files.append(v[3])\n",
        "    l_commit_critical_files.append(v[4])\n",
        "    l_commit_modified_fies.append(v[5])\n",
        "    l_commit_diff_files.append(v[6])\n",
        "    l_commit_diff_modified_files.append(v[7])\n",
        "\n",
        "  dict_of_commits_aux = {\n",
        "      'hash': l_commit_hash,\n",
        "      'msg': l_commit_msg,\n",
        "      'date': l_commit_data,\n",
        "      'lines': l_commit_lines,\n",
        "      'files': l_commit_files,\n",
        "      'critical_files': l_commit_critical_files,\n",
        "      'modified_files': l_commit_modified_fies,\n",
        "      'diff_files': l_commit_diff_files,\n",
        "      'diff_files_modified_files': l_commit_diff_modified_files\n",
        "  }\n",
        "\n",
        "  df_commits = pd.DataFrame(dict_of_commits_aux)\n",
        "  return df_commits"
      ],
      "metadata": {
        "id": "_VIhIXRaNtVr"
      },
      "execution_count": null,
      "outputs": []
    },
    {
      "cell_type": "code",
      "source": [
        "def find_issues_id_by_project(input_string: str, project: str) -> list[str]:\n",
        "    \"\"\"Finds all Cassandra issue ID patterns in the input string.\n",
        "    Args:\n",
        "        input_string: The input string.\n",
        "        project: The pattern related to project name, for example: CASSANDRA project name\n",
        "    Returns:\n",
        "        A list of project issue IDs, if found; otherwise, an empty list.\n",
        "    \"\"\"\n",
        "    # Try to find all Cassandra issue ID patterns in the input string\n",
        "    matches = re.findall(r\"({0}-\\d+)\".format(project), input_string)\n",
        "    # Return an empty list if no matches are found\n",
        "    if not matches:\n",
        "        return []\n",
        "    # Convert the list of matches to a set to remove duplicates\n",
        "    set_matches = set(matches)\n",
        "    # Convert the set of matches back to a list\n",
        "    list_unique_matches = list(set_matches)\n",
        "\n",
        "    # Return the list of matched Cassandra issue IDs\n",
        "    return list_unique_matches\n",
        "\n",
        "def get_commits_with_critical_files_and_issues_in_this_commits(df_commits_with_critical_files):\n",
        "  dict_issues_in_commits = {}\n",
        "  for index in df_commits_with_critical_files.index:\n",
        "    l_issues_in_commit = find_issues_id_by_project(input_string=df_commits_with_critical_files.msg[index], project=ISSUE_TRACKER_PROJECT)\n",
        "    if len(l_issues_in_commit) > 0:\n",
        "      commit_hash = df_commits_with_critical_files.hash[index]\n",
        "      dict_issues_in_commits[commit_hash] = l_issues_in_commit\n",
        "\n",
        "  list_issue_commits, list_issue_issues = [], []\n",
        "  for k, v in dict_issues_in_commits.items():\n",
        "    list_issue_commits.append(k)\n",
        "    for issue in v:\n",
        "      if issue not in list_issue_issues:\n",
        "        list_issue_issues.append(issue)\n",
        "\n",
        "  df_aux  = df_all_reall_issues_in_commits_detailed.copy()\n",
        "  df_issues_in_commits_with_critical_classes = df_aux[df_aux['issue_key'].isin(list_issue_issues)]\n",
        "\n",
        "  return dict_issues_in_commits, df_issues_in_commits_with_critical_classes\n",
        "\n",
        "def calculate_sample_size(confidence_level, margin_of_error, population_proportion, population_size):\n",
        "    # Calculate the Z-score for the given confidence level\n",
        "    z_score = stats.norm.ppf(1 - (1 - confidence_level) / 2)\n",
        "\n",
        "    # Calculate the sample size formula\n",
        "    sample_size = ((z_score**2) * population_proportion * (1 - population_proportion)) / (margin_of_error**2)\n",
        "\n",
        "    # Adjust for finite population\n",
        "    if population_size:\n",
        "        sample_size = sample_size / (1 + ((sample_size - 1) / population_size))\n",
        "\n",
        "    return int(sample_size)"
      ],
      "metadata": {
        "id": "6nD0K5spOxBC"
      },
      "execution_count": null,
      "outputs": []
    },
    {
      "cell_type": "code",
      "source": [
        "def get_max_n_chars(text, max_n):\n",
        "  text_length = len(text)\n",
        "  if text_length <= max_n:\n",
        "    return text\n",
        "  else:\n",
        "    return text[:max_n]\n",
        "\n",
        "def create_new_file(filename, dir_name, issue_type, summary, description, status, comments):\n",
        "  try:\n",
        "    filename = dir_name + '/' + filename\n",
        "\n",
        "    if issue_type is None:\n",
        "      issue_type = ''\n",
        "    if summary is None:\n",
        "      summary = ''\n",
        "    if description is None:\n",
        "      description = ''\n",
        "    if status is None:\n",
        "      status = ''\n",
        "    if comments is None:\n",
        "      comments = ''\n",
        "\n",
        "    with open(filename, mode='w') as f_issue:\n",
        "      f_issue.write(f'issue_type: {issue_type} \\n')\n",
        "      f_issue.write(f'summary: {summary} \\n')\n",
        "      f_issue.write(f'description: {get_max_n_chars(text=description, max_n=1000)} \\n')\n",
        "      f_issue.write(f'status: {status} \\n')\n",
        "      f_issue.write(f'comments: {get_max_n_chars(text=comments, max_n=4000)} \\n')\n",
        "    print(f'File {filename} created with success!')\n",
        "\n",
        "  except Exception as ex:\n",
        "    print(f'Erro ao criar arquivo: {str(ex)}')\n"
      ],
      "metadata": {
        "id": "1wdhaFJxZMYF"
      },
      "execution_count": null,
      "outputs": []
    },
    {
      "cell_type": "code",
      "source": [
        "# Seleciona randomicamente os issues para inspeção\n",
        "def select_issues_to_inspection(sample_size, df_issues_in_commits_with_critical_classes, my_date='02/11/2023'):\n",
        "  lista_issues_inspecao = []\n",
        "  dict_issues_para_inspecao = {}\n",
        "  list_issue_key = df_issues_in_commits_with_critical_classes.issue_key.to_list()\n",
        "  list_issue_key = list(set(list_issue_key))\n",
        "  sample_issues = random.choices(list_issue_key, k=sample_size)\n",
        "  dict_issues_para_inspecao['02/11/2023'] = sample_issues\n",
        "  print(f'{len(sample_issues)} para inspeção manual')\n",
        "\n",
        "  date_file_name = my_date.split('/')\n",
        "  date_file_name = date_file_name[0] + date_file_name[1] + date_file_name[2]\n",
        "  file_name = 'issues_inspecao_' + date_file_name + '.txt'\n",
        "  with open(file_name, mode='w') as f_temp:\n",
        "    for v in dict_issues_para_inspecao[my_date]:\n",
        "      elemento = v + ','\n",
        "      f_temp.write(elemento)\n",
        "  print(f'Relação de Issues salvos em {my_date} para inspeção.')\n",
        "  return sample_issues\n",
        "\n",
        "# Gera os arquivos .txt de cada issue selecionado para inspeção\n",
        "def generate_files_issues_to_inspection(sample_issues, df_issues_in_commits_with_critical_classes):\n",
        "  contador = 0\n",
        "  my_dir_name = 'my_issues'\n",
        "  if not os.path.exists(my_dir_name):\n",
        "    os.makedirs(my_dir_name)\n",
        "\n",
        "  total_of_issues = df_issues_in_commits_with_critical_classes.shape[0]\n",
        "  for index in tqdm.tqdm(df_issues_in_commits_with_critical_classes.index, total=total_of_issues, desc='Analyzing issues'):\n",
        "    for issue in sample_issues:\n",
        "      if df_issues_in_commits_with_critical_classes.issue_key[index] == issue:\n",
        "        create_new_file(filename=df_issues_in_commits_with_critical_classes.issue_key[index], dir_name=my_dir_name, issue_type=df_issues_in_commits_with_critical_classes.issue_type[index], summary=df_issues_in_commits_with_critical_classes.summary[index], description=df_issues_in_commits_with_critical_classes.description[index], status=df_issues_in_commits_with_critical_classes.status[index], comments=df_issues_in_commits_with_critical_classes.comments[index])\n",
        "        contador += 1\n",
        "  print(f'Foram criados {contador} arquivos para inspeção')"
      ],
      "metadata": {
        "id": "6Tow6aFWiqXK"
      },
      "execution_count": null,
      "outputs": []
    },
    {
      "cell_type": "markdown",
      "source": [
        "# 1. Extrai commits de um repositório de código"
      ],
      "metadata": {
        "id": "Mu4GQlBW4jTM"
      }
    },
    {
      "cell_type": "code",
      "source": [
        "start_date = datetime(2009, 1, 1, 0, 0, 0)\n",
        "end_date = datetime(2023, 10, 4, 0, 0, 0)\n",
        "extract_all_commits = get_all_commits_by_range(initial_date=start_date, final_date=end_date, repository_name=my_repository)\n",
        "\n",
        "all_commits = extract_all_commits[0]\n",
        "total_all_commits = extract_all_commits[1]\n",
        "\n",
        "print(f'Total de commits extraídos: {total_all_commits}')"
      ],
      "metadata": {
        "colab": {
          "base_uri": "https://localhost:8080/"
        },
        "id": "PPY1F6V77MIW",
        "outputId": "6698e5ab-25c1-4712-8c93-cacea8081570"
      },
      "execution_count": null,
      "outputs": [
        {
          "output_type": "stream",
          "name": "stdout",
          "text": [
            "Wait...\n"
          ]
        },
        {
          "output_type": "stream",
          "name": "stderr",
          "text": [
            "Progress commit anlysis: 100%|██████████| 7941/7941 [01:40<00:00, 79.11it/s]"
          ]
        },
        {
          "output_type": "stream",
          "name": "stdout",
          "text": [
            "Total de commits extraídos: 7941\n"
          ]
        },
        {
          "output_type": "stream",
          "name": "stderr",
          "text": [
            "\n"
          ]
        }
      ]
    },
    {
      "cell_type": "markdown",
      "source": [
        "## Filtra os commits com classes críticas"
      ],
      "metadata": {
        "id": "bWPoDyA1Ld38"
      }
    },
    {
      "cell_type": "code",
      "source": [
        "print(f'Analisa a faixa de commits entre: initial_date={str(start_date)}, final_date={str(end_date)}')\n",
        "print('Registra apenas os commits que contem pelo menos um arquivo crítico')\n",
        "filter_commits_with_critical_files = get_commits_by_range_and_critical_files(initial_date=start_date, final_date=end_date, critical_files=lista_arquivos_criticos, repository_name=my_repository)\n",
        "commits_with_critical_files = filter_commits_with_critical_files[0]\n",
        "total_of_commits_with_critical_files = filter_commits_with_critical_files[1]\n",
        "\n",
        "print(f'Total de commits com classes críticas: {total_of_commits_with_critical_files}')"
      ],
      "metadata": {
        "colab": {
          "base_uri": "https://localhost:8080/"
        },
        "id": "xsFZ_4-PBMqb",
        "outputId": "99307b57-3b2a-4ac9-de11-67c1da9de3fb"
      },
      "execution_count": null,
      "outputs": [
        {
          "output_type": "stream",
          "name": "stdout",
          "text": [
            "Analisa a faixa de commits entre: initial_date=2009-01-01 00:00:00, final_date=2023-10-04 00:00:00\n",
            "Registra apenas os commits que contem pelo menos um arquivo crítico\n",
            "Wait...\n"
          ]
        },
        {
          "output_type": "stream",
          "name": "stderr",
          "text": [
            "Progress critical files commit anlysis: 100%|██████████| 7941/7941 [00:54<00:00, 144.52it/s]"
          ]
        },
        {
          "output_type": "stream",
          "name": "stdout",
          "text": [
            "Total de commits com classes críticas: 7941\n"
          ]
        },
        {
          "output_type": "stream",
          "name": "stderr",
          "text": [
            "\n"
          ]
        }
      ]
    },
    {
      "cell_type": "markdown",
      "source": [
        "### Converte os commits com classes críticas para dataframe"
      ],
      "metadata": {
        "id": "bWaZoj8hPxk4"
      }
    },
    {
      "cell_type": "code",
      "source": [
        "df_commits_with_critical_files = convert_commits_to_dataframe(dict_of_commits=commits_with_critical_files)\n",
        "df_commits_with_critical_files"
      ],
      "metadata": {
        "colab": {
          "base_uri": "https://localhost:8080/",
          "height": 617
        },
        "id": "8hxQYo8uSXgf",
        "outputId": "feda6fa8-7f04-4023-864f-e7f12d195416"
      },
      "execution_count": null,
      "outputs": [
        {
          "output_type": "execute_result",
          "data": {
            "text/plain": [
              "                                         hash  \\\n",
              "0    07b6a38336a62913d42817a89cdc821a89419b7f   \n",
              "1    807f64591dcd4e0e496dc5795405812129d0d062   \n",
              "2    a321204079f435deaf8d082fb3de95c5c792c7f2   \n",
              "3    977393d9e74364c21260f00d2fe0e314c77f9afa   \n",
              "4    39dd6b914a6954bf8f7114e97831482fd616e8bb   \n",
              "..                                        ...   \n",
              "716  9a5b61f6a28184cfe832871302ece16069ebb71d   \n",
              "717  901956d4ddb6a0ea9fe5fedf39732117ab68f087   \n",
              "718  95e3c2a1aa0d4962ad6a22a4422a9314875f824b   \n",
              "719  3ba93ed9579bbe90967312fba78726d96239110a   \n",
              "720  fa7d1347e91b89d9ceafde84b293ca8719033211   \n",
              "\n",
              "                                                   msg       date  lines  \\\n",
              "0    AMQ-2053 introduce methods to remove (closed) ...   7/1/2009    164   \n",
              "1    Recovery dispatch refactoring as the part of t...  22/1/2009     54   \n",
              "2    fix for http://issues.apache.org/activemq/brow...  23/1/2009    317   \n",
              "3    fix for http://issues.apache.org/activemq/brow...  23/1/2009    170   \n",
              "4    fix for https://issues.apache.org/activemq/bro...  27/1/2009    238   \n",
              "..                                                 ...        ...    ...   \n",
              "716  [AMQ-9257] Disabled expire message checking wh...  19/5/2023     75   \n",
              "717  AMQ-9262 - Fix network subscriptions for compo...   7/6/2023    619   \n",
              "718  [AMQ-9233] Prevent NPE in SubQueueSelectorCach...  22/6/2023      2   \n",
              "719               Remove unnecessary boxing / unboxing  23/7/2023   1307   \n",
              "720   [AMQ-9239] jakarta.jms - activemq-broker changes  24/8/2023    400   \n",
              "\n",
              "     files                                     critical_files  \\\n",
              "0       12                                       [Queue.java]   \n",
              "1        2           [Queue.java, QueueDispatchSelector.java]   \n",
              "2        3                                       [Queue.java]   \n",
              "3        4                       [QueueDispatchSelector.java]   \n",
              "4        4               [DemandForwardingBridgeSupport.java]   \n",
              "..     ...                                                ...   \n",
              "716      3           [Queue.java, QueueDispatchSelector.java]   \n",
              "717      5               [DemandForwardingBridgeSupport.java]   \n",
              "718      1                 [SubQueueSelectorCacheBroker.java]   \n",
              "719    111        [DurableTopicSubscription.java, Queue.java]   \n",
              "720     62  [BrokerService.java, DurableTopicSubscription....   \n",
              "\n",
              "                                        modified_files  \\\n",
              "0    [AbstractRegion.java, DestinationFactory.java,...   \n",
              "1             [Queue.java, QueueDispatchSelector.java]   \n",
              "2    [Queue.java, PolicyEntry.java, MessageGroupDel...   \n",
              "3    [QueueDispatchSelector.java, JmsTestSupport.ja...   \n",
              "4    [DemandForwardingBridgeSupport.java, TestBroke...   \n",
              "..                                                 ...   \n",
              "716  [Queue.java, QueueDispatchSelector.java, Expir...   \n",
              "717  [DemandForwardingBridgeSupport.java, Composite...   \n",
              "718                 [SubQueueSelectorCacheBroker.java]   \n",
              "719  [InboundTransformer.java, AmqpConnection.java,...   \n",
              "720  [pom.xml, BrokerService.java, TransactionBroke...   \n",
              "\n",
              "                                            diff_files  \\\n",
              "0    [{'Queue.java': '@@ -850,9 +850,9 @@ public cl...   \n",
              "1    [{'Queue.java': '@@ -233,16 +233,18 @@ public ...   \n",
              "2    [{'Queue.java': '@@ -27,12 +27,16 @@ import ja...   \n",
              "3    [{'QueueDispatchSelector.java': '@@ -70,7 +70,...   \n",
              "4    [{'DemandForwardingBridgeSupport.java': '@@ -4...   \n",
              "..                                                 ...   \n",
              "716  [{'Queue.java': '@@ -957,6 +957,11 @@ public c...   \n",
              "717  [{'DemandForwardingBridgeSupport.java': '@@ -2...   \n",
              "718  [{'SubQueueSelectorCacheBroker.java': '@@ -180...   \n",
              "719  [{'DurableTopicSubscription.java': '@@ -227,9 ...   \n",
              "720  [{'BrokerService.java': '@@ -40,8 +40,8 @@ imp...   \n",
              "\n",
              "                             diff_files_modified_files  \n",
              "0    [@@ -203,7 +203,7 @@ public abstract class Abs...  \n",
              "1    [@@ -233,16 +233,18 @@ public class Queue exte...  \n",
              "2    [@@ -27,12 +27,16 @@ import java.util.LinkedLi...  \n",
              "3    [@@ -70,7 +70,7 @@ public class QueueDispatchS...  \n",
              "4    [@@ -441,6 +441,9 @@ public abstract class Dem...  \n",
              "..                                                 ...  \n",
              "716  [@@ -957,6 +957,11 @@ public class Queue exten...  \n",
              "717  [@@ -24,6 +24,7 @@ import java.util.Collection...  \n",
              "718  [@@ -180,7 +180,7 @@ public class SubQueueSele...  \n",
              "719  [@@ -90,7 +90,7 @@ public abstract class Inbou...  \n",
              "720  [@@ -47,10 +47,10 @@\\n       <artifactId>activ...  \n",
              "\n",
              "[721 rows x 9 columns]"
            ],
            "text/html": [
              "\n",
              "  <div id=\"df-1e0e8895-ec4e-4d95-b1b7-103fb410f749\" class=\"colab-df-container\">\n",
              "    <div>\n",
              "<style scoped>\n",
              "    .dataframe tbody tr th:only-of-type {\n",
              "        vertical-align: middle;\n",
              "    }\n",
              "\n",
              "    .dataframe tbody tr th {\n",
              "        vertical-align: top;\n",
              "    }\n",
              "\n",
              "    .dataframe thead th {\n",
              "        text-align: right;\n",
              "    }\n",
              "</style>\n",
              "<table border=\"1\" class=\"dataframe\">\n",
              "  <thead>\n",
              "    <tr style=\"text-align: right;\">\n",
              "      <th></th>\n",
              "      <th>hash</th>\n",
              "      <th>msg</th>\n",
              "      <th>date</th>\n",
              "      <th>lines</th>\n",
              "      <th>files</th>\n",
              "      <th>critical_files</th>\n",
              "      <th>modified_files</th>\n",
              "      <th>diff_files</th>\n",
              "      <th>diff_files_modified_files</th>\n",
              "    </tr>\n",
              "  </thead>\n",
              "  <tbody>\n",
              "    <tr>\n",
              "      <th>0</th>\n",
              "      <td>07b6a38336a62913d42817a89cdc821a89419b7f</td>\n",
              "      <td>AMQ-2053 introduce methods to remove (closed) ...</td>\n",
              "      <td>7/1/2009</td>\n",
              "      <td>164</td>\n",
              "      <td>12</td>\n",
              "      <td>[Queue.java]</td>\n",
              "      <td>[AbstractRegion.java, DestinationFactory.java,...</td>\n",
              "      <td>[{'Queue.java': '@@ -850,9 +850,9 @@ public cl...</td>\n",
              "      <td>[@@ -203,7 +203,7 @@ public abstract class Abs...</td>\n",
              "    </tr>\n",
              "    <tr>\n",
              "      <th>1</th>\n",
              "      <td>807f64591dcd4e0e496dc5795405812129d0d062</td>\n",
              "      <td>Recovery dispatch refactoring as the part of t...</td>\n",
              "      <td>22/1/2009</td>\n",
              "      <td>54</td>\n",
              "      <td>2</td>\n",
              "      <td>[Queue.java, QueueDispatchSelector.java]</td>\n",
              "      <td>[Queue.java, QueueDispatchSelector.java]</td>\n",
              "      <td>[{'Queue.java': '@@ -233,16 +233,18 @@ public ...</td>\n",
              "      <td>[@@ -233,16 +233,18 @@ public class Queue exte...</td>\n",
              "    </tr>\n",
              "    <tr>\n",
              "      <th>2</th>\n",
              "      <td>a321204079f435deaf8d082fb3de95c5c792c7f2</td>\n",
              "      <td>fix for http://issues.apache.org/activemq/brow...</td>\n",
              "      <td>23/1/2009</td>\n",
              "      <td>317</td>\n",
              "      <td>3</td>\n",
              "      <td>[Queue.java]</td>\n",
              "      <td>[Queue.java, PolicyEntry.java, MessageGroupDel...</td>\n",
              "      <td>[{'Queue.java': '@@ -27,12 +27,16 @@ import ja...</td>\n",
              "      <td>[@@ -27,12 +27,16 @@ import java.util.LinkedLi...</td>\n",
              "    </tr>\n",
              "    <tr>\n",
              "      <th>3</th>\n",
              "      <td>977393d9e74364c21260f00d2fe0e314c77f9afa</td>\n",
              "      <td>fix for http://issues.apache.org/activemq/brow...</td>\n",
              "      <td>23/1/2009</td>\n",
              "      <td>170</td>\n",
              "      <td>4</td>\n",
              "      <td>[QueueDispatchSelector.java]</td>\n",
              "      <td>[QueueDispatchSelector.java, JmsTestSupport.ja...</td>\n",
              "      <td>[{'QueueDispatchSelector.java': '@@ -70,7 +70,...</td>\n",
              "      <td>[@@ -70,7 +70,7 @@ public class QueueDispatchS...</td>\n",
              "    </tr>\n",
              "    <tr>\n",
              "      <th>4</th>\n",
              "      <td>39dd6b914a6954bf8f7114e97831482fd616e8bb</td>\n",
              "      <td>fix for https://issues.apache.org/activemq/bro...</td>\n",
              "      <td>27/1/2009</td>\n",
              "      <td>238</td>\n",
              "      <td>4</td>\n",
              "      <td>[DemandForwardingBridgeSupport.java]</td>\n",
              "      <td>[DemandForwardingBridgeSupport.java, TestBroke...</td>\n",
              "      <td>[{'DemandForwardingBridgeSupport.java': '@@ -4...</td>\n",
              "      <td>[@@ -441,6 +441,9 @@ public abstract class Dem...</td>\n",
              "    </tr>\n",
              "    <tr>\n",
              "      <th>...</th>\n",
              "      <td>...</td>\n",
              "      <td>...</td>\n",
              "      <td>...</td>\n",
              "      <td>...</td>\n",
              "      <td>...</td>\n",
              "      <td>...</td>\n",
              "      <td>...</td>\n",
              "      <td>...</td>\n",
              "      <td>...</td>\n",
              "    </tr>\n",
              "    <tr>\n",
              "      <th>716</th>\n",
              "      <td>9a5b61f6a28184cfe832871302ece16069ebb71d</td>\n",
              "      <td>[AMQ-9257] Disabled expire message checking wh...</td>\n",
              "      <td>19/5/2023</td>\n",
              "      <td>75</td>\n",
              "      <td>3</td>\n",
              "      <td>[Queue.java, QueueDispatchSelector.java]</td>\n",
              "      <td>[Queue.java, QueueDispatchSelector.java, Expir...</td>\n",
              "      <td>[{'Queue.java': '@@ -957,6 +957,11 @@ public c...</td>\n",
              "      <td>[@@ -957,6 +957,11 @@ public class Queue exten...</td>\n",
              "    </tr>\n",
              "    <tr>\n",
              "      <th>717</th>\n",
              "      <td>901956d4ddb6a0ea9fe5fedf39732117ab68f087</td>\n",
              "      <td>AMQ-9262 - Fix network subscriptions for compo...</td>\n",
              "      <td>7/6/2023</td>\n",
              "      <td>619</td>\n",
              "      <td>5</td>\n",
              "      <td>[DemandForwardingBridgeSupport.java]</td>\n",
              "      <td>[DemandForwardingBridgeSupport.java, Composite...</td>\n",
              "      <td>[{'DemandForwardingBridgeSupport.java': '@@ -2...</td>\n",
              "      <td>[@@ -24,6 +24,7 @@ import java.util.Collection...</td>\n",
              "    </tr>\n",
              "    <tr>\n",
              "      <th>718</th>\n",
              "      <td>95e3c2a1aa0d4962ad6a22a4422a9314875f824b</td>\n",
              "      <td>[AMQ-9233] Prevent NPE in SubQueueSelectorCach...</td>\n",
              "      <td>22/6/2023</td>\n",
              "      <td>2</td>\n",
              "      <td>1</td>\n",
              "      <td>[SubQueueSelectorCacheBroker.java]</td>\n",
              "      <td>[SubQueueSelectorCacheBroker.java]</td>\n",
              "      <td>[{'SubQueueSelectorCacheBroker.java': '@@ -180...</td>\n",
              "      <td>[@@ -180,7 +180,7 @@ public class SubQueueSele...</td>\n",
              "    </tr>\n",
              "    <tr>\n",
              "      <th>719</th>\n",
              "      <td>3ba93ed9579bbe90967312fba78726d96239110a</td>\n",
              "      <td>Remove unnecessary boxing / unboxing</td>\n",
              "      <td>23/7/2023</td>\n",
              "      <td>1307</td>\n",
              "      <td>111</td>\n",
              "      <td>[DurableTopicSubscription.java, Queue.java]</td>\n",
              "      <td>[InboundTransformer.java, AmqpConnection.java,...</td>\n",
              "      <td>[{'DurableTopicSubscription.java': '@@ -227,9 ...</td>\n",
              "      <td>[@@ -90,7 +90,7 @@ public abstract class Inbou...</td>\n",
              "    </tr>\n",
              "    <tr>\n",
              "      <th>720</th>\n",
              "      <td>fa7d1347e91b89d9ceafde84b293ca8719033211</td>\n",
              "      <td>[AMQ-9239] jakarta.jms - activemq-broker changes</td>\n",
              "      <td>24/8/2023</td>\n",
              "      <td>400</td>\n",
              "      <td>62</td>\n",
              "      <td>[BrokerService.java, DurableTopicSubscription....</td>\n",
              "      <td>[pom.xml, BrokerService.java, TransactionBroke...</td>\n",
              "      <td>[{'BrokerService.java': '@@ -40,8 +40,8 @@ imp...</td>\n",
              "      <td>[@@ -47,10 +47,10 @@\\n       &lt;artifactId&gt;activ...</td>\n",
              "    </tr>\n",
              "  </tbody>\n",
              "</table>\n",
              "<p>721 rows × 9 columns</p>\n",
              "</div>\n",
              "    <div class=\"colab-df-buttons\">\n",
              "\n",
              "  <div class=\"colab-df-container\">\n",
              "    <button class=\"colab-df-convert\" onclick=\"convertToInteractive('df-1e0e8895-ec4e-4d95-b1b7-103fb410f749')\"\n",
              "            title=\"Convert this dataframe to an interactive table.\"\n",
              "            style=\"display:none;\">\n",
              "\n",
              "  <svg xmlns=\"http://www.w3.org/2000/svg\" height=\"24px\" viewBox=\"0 -960 960 960\">\n",
              "    <path d=\"M120-120v-720h720v720H120Zm60-500h600v-160H180v160Zm220 220h160v-160H400v160Zm0 220h160v-160H400v160ZM180-400h160v-160H180v160Zm440 0h160v-160H620v160ZM180-180h160v-160H180v160Zm440 0h160v-160H620v160Z\"/>\n",
              "  </svg>\n",
              "    </button>\n",
              "\n",
              "  <style>\n",
              "    .colab-df-container {\n",
              "      display:flex;\n",
              "      gap: 12px;\n",
              "    }\n",
              "\n",
              "    .colab-df-convert {\n",
              "      background-color: #E8F0FE;\n",
              "      border: none;\n",
              "      border-radius: 50%;\n",
              "      cursor: pointer;\n",
              "      display: none;\n",
              "      fill: #1967D2;\n",
              "      height: 32px;\n",
              "      padding: 0 0 0 0;\n",
              "      width: 32px;\n",
              "    }\n",
              "\n",
              "    .colab-df-convert:hover {\n",
              "      background-color: #E2EBFA;\n",
              "      box-shadow: 0px 1px 2px rgba(60, 64, 67, 0.3), 0px 1px 3px 1px rgba(60, 64, 67, 0.15);\n",
              "      fill: #174EA6;\n",
              "    }\n",
              "\n",
              "    .colab-df-buttons div {\n",
              "      margin-bottom: 4px;\n",
              "    }\n",
              "\n",
              "    [theme=dark] .colab-df-convert {\n",
              "      background-color: #3B4455;\n",
              "      fill: #D2E3FC;\n",
              "    }\n",
              "\n",
              "    [theme=dark] .colab-df-convert:hover {\n",
              "      background-color: #434B5C;\n",
              "      box-shadow: 0px 1px 3px 1px rgba(0, 0, 0, 0.15);\n",
              "      filter: drop-shadow(0px 1px 2px rgba(0, 0, 0, 0.3));\n",
              "      fill: #FFFFFF;\n",
              "    }\n",
              "  </style>\n",
              "\n",
              "    <script>\n",
              "      const buttonEl =\n",
              "        document.querySelector('#df-1e0e8895-ec4e-4d95-b1b7-103fb410f749 button.colab-df-convert');\n",
              "      buttonEl.style.display =\n",
              "        google.colab.kernel.accessAllowed ? 'block' : 'none';\n",
              "\n",
              "      async function convertToInteractive(key) {\n",
              "        const element = document.querySelector('#df-1e0e8895-ec4e-4d95-b1b7-103fb410f749');\n",
              "        const dataTable =\n",
              "          await google.colab.kernel.invokeFunction('convertToInteractive',\n",
              "                                                    [key], {});\n",
              "        if (!dataTable) return;\n",
              "\n",
              "        const docLinkHtml = 'Like what you see? Visit the ' +\n",
              "          '<a target=\"_blank\" href=https://colab.research.google.com/notebooks/data_table.ipynb>data table notebook</a>'\n",
              "          + ' to learn more about interactive tables.';\n",
              "        element.innerHTML = '';\n",
              "        dataTable['output_type'] = 'display_data';\n",
              "        await google.colab.output.renderOutput(dataTable, element);\n",
              "        const docLink = document.createElement('div');\n",
              "        docLink.innerHTML = docLinkHtml;\n",
              "        element.appendChild(docLink);\n",
              "      }\n",
              "    </script>\n",
              "  </div>\n",
              "\n",
              "\n",
              "<div id=\"df-e1247614-8c1b-4e7d-938f-5a90ce183d6f\">\n",
              "  <button class=\"colab-df-quickchart\" onclick=\"quickchart('df-e1247614-8c1b-4e7d-938f-5a90ce183d6f')\"\n",
              "            title=\"Suggest charts.\"\n",
              "            style=\"display:none;\">\n",
              "\n",
              "<svg xmlns=\"http://www.w3.org/2000/svg\" height=\"24px\"viewBox=\"0 0 24 24\"\n",
              "     width=\"24px\">\n",
              "    <g>\n",
              "        <path d=\"M19 3H5c-1.1 0-2 .9-2 2v14c0 1.1.9 2 2 2h14c1.1 0 2-.9 2-2V5c0-1.1-.9-2-2-2zM9 17H7v-7h2v7zm4 0h-2V7h2v10zm4 0h-2v-4h2v4z\"/>\n",
              "    </g>\n",
              "</svg>\n",
              "  </button>\n",
              "\n",
              "<style>\n",
              "  .colab-df-quickchart {\n",
              "      --bg-color: #E8F0FE;\n",
              "      --fill-color: #1967D2;\n",
              "      --hover-bg-color: #E2EBFA;\n",
              "      --hover-fill-color: #174EA6;\n",
              "      --disabled-fill-color: #AAA;\n",
              "      --disabled-bg-color: #DDD;\n",
              "  }\n",
              "\n",
              "  [theme=dark] .colab-df-quickchart {\n",
              "      --bg-color: #3B4455;\n",
              "      --fill-color: #D2E3FC;\n",
              "      --hover-bg-color: #434B5C;\n",
              "      --hover-fill-color: #FFFFFF;\n",
              "      --disabled-bg-color: #3B4455;\n",
              "      --disabled-fill-color: #666;\n",
              "  }\n",
              "\n",
              "  .colab-df-quickchart {\n",
              "    background-color: var(--bg-color);\n",
              "    border: none;\n",
              "    border-radius: 50%;\n",
              "    cursor: pointer;\n",
              "    display: none;\n",
              "    fill: var(--fill-color);\n",
              "    height: 32px;\n",
              "    padding: 0;\n",
              "    width: 32px;\n",
              "  }\n",
              "\n",
              "  .colab-df-quickchart:hover {\n",
              "    background-color: var(--hover-bg-color);\n",
              "    box-shadow: 0 1px 2px rgba(60, 64, 67, 0.3), 0 1px 3px 1px rgba(60, 64, 67, 0.15);\n",
              "    fill: var(--button-hover-fill-color);\n",
              "  }\n",
              "\n",
              "  .colab-df-quickchart-complete:disabled,\n",
              "  .colab-df-quickchart-complete:disabled:hover {\n",
              "    background-color: var(--disabled-bg-color);\n",
              "    fill: var(--disabled-fill-color);\n",
              "    box-shadow: none;\n",
              "  }\n",
              "\n",
              "  .colab-df-spinner {\n",
              "    border: 2px solid var(--fill-color);\n",
              "    border-color: transparent;\n",
              "    border-bottom-color: var(--fill-color);\n",
              "    animation:\n",
              "      spin 1s steps(1) infinite;\n",
              "  }\n",
              "\n",
              "  @keyframes spin {\n",
              "    0% {\n",
              "      border-color: transparent;\n",
              "      border-bottom-color: var(--fill-color);\n",
              "      border-left-color: var(--fill-color);\n",
              "    }\n",
              "    20% {\n",
              "      border-color: transparent;\n",
              "      border-left-color: var(--fill-color);\n",
              "      border-top-color: var(--fill-color);\n",
              "    }\n",
              "    30% {\n",
              "      border-color: transparent;\n",
              "      border-left-color: var(--fill-color);\n",
              "      border-top-color: var(--fill-color);\n",
              "      border-right-color: var(--fill-color);\n",
              "    }\n",
              "    40% {\n",
              "      border-color: transparent;\n",
              "      border-right-color: var(--fill-color);\n",
              "      border-top-color: var(--fill-color);\n",
              "    }\n",
              "    60% {\n",
              "      border-color: transparent;\n",
              "      border-right-color: var(--fill-color);\n",
              "    }\n",
              "    80% {\n",
              "      border-color: transparent;\n",
              "      border-right-color: var(--fill-color);\n",
              "      border-bottom-color: var(--fill-color);\n",
              "    }\n",
              "    90% {\n",
              "      border-color: transparent;\n",
              "      border-bottom-color: var(--fill-color);\n",
              "    }\n",
              "  }\n",
              "</style>\n",
              "\n",
              "  <script>\n",
              "    async function quickchart(key) {\n",
              "      const quickchartButtonEl =\n",
              "        document.querySelector('#' + key + ' button');\n",
              "      quickchartButtonEl.disabled = true;  // To prevent multiple clicks.\n",
              "      quickchartButtonEl.classList.add('colab-df-spinner');\n",
              "      try {\n",
              "        const charts = await google.colab.kernel.invokeFunction(\n",
              "            'suggestCharts', [key], {});\n",
              "      } catch (error) {\n",
              "        console.error('Error during call to suggestCharts:', error);\n",
              "      }\n",
              "      quickchartButtonEl.classList.remove('colab-df-spinner');\n",
              "      quickchartButtonEl.classList.add('colab-df-quickchart-complete');\n",
              "    }\n",
              "    (() => {\n",
              "      let quickchartButtonEl =\n",
              "        document.querySelector('#df-e1247614-8c1b-4e7d-938f-5a90ce183d6f button');\n",
              "      quickchartButtonEl.style.display =\n",
              "        google.colab.kernel.accessAllowed ? 'block' : 'none';\n",
              "    })();\n",
              "  </script>\n",
              "</div>\n",
              "    </div>\n",
              "  </div>\n"
            ]
          },
          "metadata": {},
          "execution_count": 15
        }
      ]
    },
    {
      "cell_type": "code",
      "source": [
        "df_commits_with_critical_files.info()"
      ],
      "metadata": {
        "colab": {
          "base_uri": "https://localhost:8080/"
        },
        "id": "lK1eaZ7Cmkot",
        "outputId": "8b728cc4-0f94-43bd-f016-f635daf51fcc"
      },
      "execution_count": null,
      "outputs": [
        {
          "output_type": "stream",
          "name": "stdout",
          "text": [
            "<class 'pandas.core.frame.DataFrame'>\n",
            "RangeIndex: 721 entries, 0 to 720\n",
            "Data columns (total 9 columns):\n",
            " #   Column                     Non-Null Count  Dtype \n",
            "---  ------                     --------------  ----- \n",
            " 0   hash                       721 non-null    object\n",
            " 1   msg                        721 non-null    object\n",
            " 2   date                       721 non-null    object\n",
            " 3   lines                      721 non-null    int64 \n",
            " 4   files                      721 non-null    int64 \n",
            " 5   critical_files             721 non-null    object\n",
            " 6   modified_files             721 non-null    object\n",
            " 7   diff_files                 721 non-null    object\n",
            " 8   diff_files_modified_files  721 non-null    object\n",
            "dtypes: int64(2), object(7)\n",
            "memory usage: 50.8+ KB\n"
          ]
        }
      ]
    },
    {
      "cell_type": "code",
      "source": [
        "df_commits_with_critical_files.to_excel('activemq_commits_with_critical_classes.xlsx', index=False)"
      ],
      "metadata": {
        "id": "EEOLXXjy46HZ"
      },
      "execution_count": null,
      "outputs": []
    },
    {
      "cell_type": "markdown",
      "source": [
        "# 2. Extrai issues de um issue tracker"
      ],
      "metadata": {
        "id": "xEXo9gvEFMOW"
      }
    },
    {
      "cell_type": "markdown",
      "source": [
        "## Configura ambiente para acessar Issue Tracker"
      ],
      "metadata": {
        "id": "m3Sj7vZBFZO7"
      }
    },
    {
      "cell_type": "code",
      "source": [
        "# Initialize the Jira connection\n",
        "print('Initialize the Jira connection')\n",
        "jira = JIRA(JIRA_SERVER, basic_auth=(username, password))\n",
        "\n",
        "# Create a JiraUtils instance\n",
        "print('Create a JiraUtils instance')\n",
        "jira_utils = JiraUtils(ISSUE_TRACKER_PROJECT, jira)\n",
        "\n",
        "date1 = (2009, 1, 1)\n",
        "date2 = (2023, 10, 4)\n",
        "distance = 120\n",
        "print('Define date intervals')\n",
        "print(f'From: {str(date1)} to: {date2}, by: {distance} days of distance.')"
      ],
      "metadata": {
        "colab": {
          "base_uri": "https://localhost:8080/"
        },
        "id": "OGz4teVIFcig",
        "outputId": "177e3e7b-c9ef-4c9b-d696-d95a0c5d2704"
      },
      "execution_count": null,
      "outputs": [
        {
          "output_type": "stream",
          "name": "stdout",
          "text": [
            "Initialize the Jira connection\n",
            "Create a JiraUtils instance\n",
            "Define date intervals\n",
            "From: (2009, 1, 1) to: (2023, 10, 4), by: 120 days of distance.\n"
          ]
        }
      ]
    },
    {
      "cell_type": "markdown",
      "source": [
        "## Recupera os issues do período dado"
      ],
      "metadata": {
        "id": "22RGuRI7JSjE"
      }
    },
    {
      "cell_type": "code",
      "source": [
        "# Fetch issues using date intervals\n",
        "print('Fetch issues using date intervals')\n",
        "block_of_issues = jira_utils.get_list_of_block_issues_by_dates(date1, date2, distance)"
      ],
      "metadata": {
        "colab": {
          "base_uri": "https://localhost:8080/"
        },
        "id": "iiTmhFaIC5Mg",
        "outputId": "a4d9d555-adc0-41de-89ec-8ccce70022fd"
      },
      "execution_count": null,
      "outputs": [
        {
          "output_type": "stream",
          "name": "stdout",
          "text": [
            "Fetch issues using date intervals\n",
            "Aguarde...\n"
          ]
        },
        {
          "output_type": "stream",
          "name": "stderr",
          "text": [
            "Progress Message Analysis:   2%|▏         | 1/45 [00:02<01:51,  2.53s/it]"
          ]
        },
        {
          "output_type": "stream",
          "name": "stdout",
          "text": [
            "Range: project=AMQ and created>=\"2009/01/01\" and created<=\"2009/04/30\", qtd issues: 184\n"
          ]
        },
        {
          "output_type": "stream",
          "name": "stderr",
          "text": [
            "Progress Message Analysis:   4%|▍         | 2/45 [00:04<01:27,  2.04s/it]"
          ]
        },
        {
          "output_type": "stream",
          "name": "stdout",
          "text": [
            "Range: project=AMQ and created>=\"2009/05/01\" and created<=\"2009/08/28\", qtd issues: 129\n"
          ]
        },
        {
          "output_type": "stream",
          "name": "stderr",
          "text": [
            "Progress Message Analysis:   7%|▋         | 3/45 [00:06<01:33,  2.24s/it]"
          ]
        },
        {
          "output_type": "stream",
          "name": "stdout",
          "text": [
            "Range: project=AMQ and created>=\"2009/08/29\" and created<=\"2009/12/26\", qtd issues: 183\n"
          ]
        },
        {
          "output_type": "stream",
          "name": "stderr",
          "text": [
            "Progress Message Analysis:   9%|▉         | 4/45 [00:08<01:28,  2.16s/it]"
          ]
        },
        {
          "output_type": "stream",
          "name": "stdout",
          "text": [
            "Range: project=AMQ and created>=\"2009/12/27\" and created<=\"2010/04/25\", qtd issues: 161\n"
          ]
        },
        {
          "output_type": "stream",
          "name": "stderr",
          "text": [
            "Progress Message Analysis:  11%|█         | 5/45 [00:11<01:29,  2.25s/it]"
          ]
        },
        {
          "output_type": "stream",
          "name": "stdout",
          "text": [
            "Range: project=AMQ and created>=\"2010/04/26\" and created<=\"2010/08/23\", qtd issues: 162\n"
          ]
        },
        {
          "output_type": "stream",
          "name": "stderr",
          "text": [
            "Progress Message Analysis:  13%|█▎        | 6/45 [00:14<01:37,  2.50s/it]"
          ]
        },
        {
          "output_type": "stream",
          "name": "stdout",
          "text": [
            "Range: project=AMQ and created>=\"2010/08/24\" and created<=\"2010/12/21\", qtd issues: 223\n"
          ]
        },
        {
          "output_type": "stream",
          "name": "stderr",
          "text": [
            "Progress Message Analysis:  16%|█▌        | 7/45 [00:16<01:34,  2.48s/it]"
          ]
        },
        {
          "output_type": "stream",
          "name": "stdout",
          "text": [
            "Range: project=AMQ and created>=\"2010/12/22\" and created<=\"2011/04/20\", qtd issues: 180\n"
          ]
        },
        {
          "output_type": "stream",
          "name": "stderr",
          "text": [
            "Progress Message Analysis:  18%|█▊        | 8/45 [00:18<01:28,  2.40s/it]"
          ]
        },
        {
          "output_type": "stream",
          "name": "stdout",
          "text": [
            "Range: project=AMQ and created>=\"2011/04/21\" and created<=\"2011/08/18\", qtd issues: 160\n"
          ]
        },
        {
          "output_type": "stream",
          "name": "stderr",
          "text": [
            "Progress Message Analysis:  20%|██        | 9/45 [00:21<01:26,  2.40s/it]"
          ]
        },
        {
          "output_type": "stream",
          "name": "stdout",
          "text": [
            "Range: project=AMQ and created>=\"2011/08/19\" and created<=\"2011/12/16\", qtd issues: 177\n"
          ]
        },
        {
          "output_type": "stream",
          "name": "stderr",
          "text": [
            "Progress Message Analysis:  22%|██▏       | 10/45 [00:23<01:23,  2.40s/it]"
          ]
        },
        {
          "output_type": "stream",
          "name": "stdout",
          "text": [
            "Range: project=AMQ and created>=\"2011/12/17\" and created<=\"2012/04/14\", qtd issues: 165\n"
          ]
        },
        {
          "output_type": "stream",
          "name": "stderr",
          "text": [
            "Progress Message Analysis:  24%|██▍       | 11/45 [00:25<01:20,  2.36s/it]"
          ]
        },
        {
          "output_type": "stream",
          "name": "stdout",
          "text": [
            "Range: project=AMQ and created>=\"2012/04/15\" and created<=\"2012/08/12\", qtd issues: 164\n"
          ]
        },
        {
          "output_type": "stream",
          "name": "stderr",
          "text": [
            "Progress Message Analysis:  27%|██▋       | 12/45 [00:29<01:26,  2.63s/it]"
          ]
        },
        {
          "output_type": "stream",
          "name": "stdout",
          "text": [
            "Range: project=AMQ and created>=\"2012/08/13\" and created<=\"2012/12/10\", qtd issues: 244\n"
          ]
        },
        {
          "output_type": "stream",
          "name": "stderr",
          "text": [
            "Progress Message Analysis:  29%|██▉       | 13/45 [00:31<01:25,  2.66s/it]"
          ]
        },
        {
          "output_type": "stream",
          "name": "stdout",
          "text": [
            "Range: project=AMQ and created>=\"2012/12/11\" and created<=\"2013/04/09\", qtd issues: 210\n"
          ]
        },
        {
          "output_type": "stream",
          "name": "stderr",
          "text": [
            "Progress Message Analysis:  31%|███       | 14/45 [00:34<01:22,  2.65s/it]"
          ]
        },
        {
          "output_type": "stream",
          "name": "stdout",
          "text": [
            "Range: project=AMQ and created>=\"2013/04/10\" and created<=\"2013/08/07\", qtd issues: 200\n"
          ]
        },
        {
          "output_type": "stream",
          "name": "stderr",
          "text": [
            "Progress Message Analysis:  33%|███▎      | 15/45 [00:37<01:23,  2.79s/it]"
          ]
        },
        {
          "output_type": "stream",
          "name": "stdout",
          "text": [
            "Range: project=AMQ and created>=\"2013/08/08\" and created<=\"2013/12/05\", qtd issues: 234\n"
          ]
        },
        {
          "output_type": "stream",
          "name": "stderr",
          "text": [
            "Progress Message Analysis:  36%|███▌      | 16/45 [00:40<01:20,  2.77s/it]"
          ]
        },
        {
          "output_type": "stream",
          "name": "stdout",
          "text": [
            "Range: project=AMQ and created>=\"2013/12/06\" and created<=\"2014/04/04\", qtd issues: 206\n"
          ]
        },
        {
          "output_type": "stream",
          "name": "stderr",
          "text": [
            "Progress Message Analysis:  38%|███▊      | 17/45 [00:42<01:12,  2.58s/it]"
          ]
        },
        {
          "output_type": "stream",
          "name": "stdout",
          "text": [
            "Range: project=AMQ and created>=\"2014/04/05\" and created<=\"2014/08/02\", qtd issues: 165\n"
          ]
        },
        {
          "output_type": "stream",
          "name": "stderr",
          "text": [
            "Progress Message Analysis:  40%|████      | 18/45 [00:44<01:05,  2.42s/it]"
          ]
        },
        {
          "output_type": "stream",
          "name": "stdout",
          "text": [
            "Range: project=AMQ and created>=\"2014/08/03\" and created<=\"2014/11/30\", qtd issues: 155\n"
          ]
        },
        {
          "output_type": "stream",
          "name": "stderr",
          "text": [
            "Progress Message Analysis:  42%|████▏     | 19/45 [00:47<01:06,  2.56s/it]"
          ]
        },
        {
          "output_type": "stream",
          "name": "stdout",
          "text": [
            "Range: project=AMQ and created>=\"2014/12/01\" and created<=\"2015/03/30\", qtd issues: 227\n"
          ]
        },
        {
          "output_type": "stream",
          "name": "stderr",
          "text": [
            "Progress Message Analysis:  44%|████▍     | 20/45 [00:50<01:05,  2.63s/it]"
          ]
        },
        {
          "output_type": "stream",
          "name": "stdout",
          "text": [
            "Range: project=AMQ and created>=\"2015/03/31\" and created<=\"2015/07/28\", qtd issues: 209\n"
          ]
        },
        {
          "output_type": "stream",
          "name": "stderr",
          "text": [
            "Progress Message Analysis:  47%|████▋     | 21/45 [00:52<01:00,  2.52s/it]"
          ]
        },
        {
          "output_type": "stream",
          "name": "stdout",
          "text": [
            "Range: project=AMQ and created>=\"2015/07/29\" and created<=\"2015/11/25\", qtd issues: 148\n"
          ]
        },
        {
          "output_type": "stream",
          "name": "stderr",
          "text": [
            "Progress Message Analysis:  49%|████▉     | 22/45 [00:54<00:56,  2.45s/it]"
          ]
        },
        {
          "output_type": "stream",
          "name": "stdout",
          "text": [
            "Range: project=AMQ and created>=\"2015/11/26\" and created<=\"2016/03/24\", qtd issues: 158\n"
          ]
        },
        {
          "output_type": "stream",
          "name": "stderr",
          "text": [
            "Progress Message Analysis:  51%|█████     | 23/45 [00:56<00:48,  2.22s/it]"
          ]
        },
        {
          "output_type": "stream",
          "name": "stdout",
          "text": [
            "Range: project=AMQ and created>=\"2016/03/25\" and created<=\"2016/07/22\", qtd issues: 137\n"
          ]
        },
        {
          "output_type": "stream",
          "name": "stderr",
          "text": [
            "Progress Message Analysis:  53%|█████▎    | 24/45 [00:58<00:45,  2.19s/it]"
          ]
        },
        {
          "output_type": "stream",
          "name": "stdout",
          "text": [
            "Range: project=AMQ and created>=\"2016/07/23\" and created<=\"2016/11/19\", qtd issues: 141\n"
          ]
        },
        {
          "output_type": "stream",
          "name": "stderr",
          "text": [
            "Progress Message Analysis:  56%|█████▌    | 25/45 [01:00<00:39,  2.00s/it]"
          ]
        },
        {
          "output_type": "stream",
          "name": "stdout",
          "text": [
            "Range: project=AMQ and created>=\"2016/11/20\" and created<=\"2017/03/19\", qtd issues: 116\n"
          ]
        },
        {
          "output_type": "stream",
          "name": "stderr",
          "text": [
            "Progress Message Analysis:  58%|█████▊    | 26/45 [01:01<00:35,  1.89s/it]"
          ]
        },
        {
          "output_type": "stream",
          "name": "stdout",
          "text": [
            "Range: project=AMQ and created>=\"2017/03/20\" and created<=\"2017/07/17\", qtd issues: 90\n"
          ]
        },
        {
          "output_type": "stream",
          "name": "stderr",
          "text": [
            "Progress Message Analysis:  60%|██████    | 27/45 [01:02<00:29,  1.66s/it]"
          ]
        },
        {
          "output_type": "stream",
          "name": "stdout",
          "text": [
            "Range: project=AMQ and created>=\"2017/07/18\" and created<=\"2017/11/14\", qtd issues: 87\n"
          ]
        },
        {
          "output_type": "stream",
          "name": "stderr",
          "text": [
            "Progress Message Analysis:  62%|██████▏   | 28/45 [01:03<00:24,  1.43s/it]"
          ]
        },
        {
          "output_type": "stream",
          "name": "stdout",
          "text": [
            "Range: project=AMQ and created>=\"2017/11/15\" and created<=\"2018/03/14\", qtd issues: 64\n"
          ]
        },
        {
          "output_type": "stream",
          "name": "stderr",
          "text": [
            "Progress Message Analysis:  64%|██████▍   | 29/45 [01:04<00:21,  1.36s/it]"
          ]
        },
        {
          "output_type": "stream",
          "name": "stdout",
          "text": [
            "Range: project=AMQ and created>=\"2018/03/15\" and created<=\"2018/07/12\", qtd issues: 80\n"
          ]
        },
        {
          "output_type": "stream",
          "name": "stderr",
          "text": [
            "Progress Message Analysis:  67%|██████▋   | 30/45 [01:06<00:19,  1.33s/it]"
          ]
        },
        {
          "output_type": "stream",
          "name": "stdout",
          "text": [
            "Range: project=AMQ and created>=\"2018/07/13\" and created<=\"2018/11/09\", qtd issues: 85\n"
          ]
        },
        {
          "output_type": "stream",
          "name": "stderr",
          "text": [
            "Progress Message Analysis:  69%|██████▉   | 31/45 [01:07<00:16,  1.21s/it]"
          ]
        },
        {
          "output_type": "stream",
          "name": "stdout",
          "text": [
            "Range: project=AMQ and created>=\"2018/11/10\" and created<=\"2019/03/09\", qtd issues: 68\n"
          ]
        },
        {
          "output_type": "stream",
          "name": "stderr",
          "text": [
            "Progress Message Analysis:  71%|███████   | 32/45 [01:08<00:14,  1.14s/it]"
          ]
        },
        {
          "output_type": "stream",
          "name": "stdout",
          "text": [
            "Range: project=AMQ and created>=\"2019/03/10\" and created<=\"2019/07/07\", qtd issues: 73\n"
          ]
        },
        {
          "output_type": "stream",
          "name": "stderr",
          "text": [
            "Progress Message Analysis:  73%|███████▎  | 33/45 [01:09<00:14,  1.22s/it]"
          ]
        },
        {
          "output_type": "stream",
          "name": "stdout",
          "text": [
            "Range: project=AMQ and created>=\"2019/07/08\" and created<=\"2019/11/04\", qtd issues: 94\n"
          ]
        },
        {
          "output_type": "stream",
          "name": "stderr",
          "text": [
            "Progress Message Analysis:  76%|███████▌  | 34/45 [01:10<00:13,  1.27s/it]"
          ]
        },
        {
          "output_type": "stream",
          "name": "stdout",
          "text": [
            "Range: project=AMQ and created>=\"2019/11/05\" and created<=\"2020/03/03\", qtd issues: 96\n"
          ]
        },
        {
          "output_type": "stream",
          "name": "stderr",
          "text": [
            "Progress Message Analysis:  78%|███████▊  | 35/45 [01:11<00:11,  1.18s/it]"
          ]
        },
        {
          "output_type": "stream",
          "name": "stdout",
          "text": [
            "Range: project=AMQ and created>=\"2020/03/04\" and created<=\"2020/07/01\", qtd issues: 67\n"
          ]
        },
        {
          "output_type": "stream",
          "name": "stderr",
          "text": [
            "Progress Message Analysis:  80%|████████  | 36/45 [01:13<00:11,  1.23s/it]"
          ]
        },
        {
          "output_type": "stream",
          "name": "stdout",
          "text": [
            "Range: project=AMQ and created>=\"2020/07/02\" and created<=\"2020/10/29\", qtd issues: 55\n"
          ]
        },
        {
          "output_type": "stream",
          "name": "stderr",
          "text": [
            "Progress Message Analysis:  82%|████████▏ | 37/45 [01:14<00:09,  1.20s/it]"
          ]
        },
        {
          "output_type": "stream",
          "name": "stdout",
          "text": [
            "Range: project=AMQ and created>=\"2020/10/30\" and created<=\"2021/02/26\", qtd issues: 72\n"
          ]
        },
        {
          "output_type": "stream",
          "name": "stderr",
          "text": [
            "Progress Message Analysis:  84%|████████▍ | 38/45 [01:15<00:08,  1.28s/it]"
          ]
        },
        {
          "output_type": "stream",
          "name": "stdout",
          "text": [
            "Range: project=AMQ and created>=\"2021/02/27\" and created<=\"2021/06/26\", qtd issues: 84\n"
          ]
        },
        {
          "output_type": "stream",
          "name": "stderr",
          "text": [
            "Progress Message Analysis:  87%|████████▋ | 39/45 [01:17<00:07,  1.27s/it]"
          ]
        },
        {
          "output_type": "stream",
          "name": "stdout",
          "text": [
            "Range: project=AMQ and created>=\"2021/06/27\" and created<=\"2021/10/24\", qtd issues: 81\n"
          ]
        },
        {
          "output_type": "stream",
          "name": "stderr",
          "text": [
            "Progress Message Analysis:  89%|████████▉ | 40/45 [01:17<00:05,  1.16s/it]"
          ]
        },
        {
          "output_type": "stream",
          "name": "stdout",
          "text": [
            "Range: project=AMQ and created>=\"2021/10/25\" and created<=\"2022/02/21\", qtd issues: 64\n"
          ]
        },
        {
          "output_type": "stream",
          "name": "stderr",
          "text": [
            "Progress Message Analysis:  91%|█████████ | 41/45 [01:19<00:04,  1.21s/it]"
          ]
        },
        {
          "output_type": "stream",
          "name": "stdout",
          "text": [
            "Range: project=AMQ and created>=\"2022/02/22\" and created<=\"2022/06/21\", qtd issues: 94\n"
          ]
        },
        {
          "output_type": "stream",
          "name": "stderr",
          "text": [
            "Progress Message Analysis:  93%|█████████▎| 42/45 [01:20<00:03,  1.20s/it]"
          ]
        },
        {
          "output_type": "stream",
          "name": "stdout",
          "text": [
            "Range: project=AMQ and created>=\"2022/06/22\" and created<=\"2022/10/19\", qtd issues: 97\n"
          ]
        },
        {
          "output_type": "stream",
          "name": "stderr",
          "text": [
            "Progress Message Analysis:  96%|█████████▌| 43/45 [01:21<00:02,  1.12s/it]"
          ]
        },
        {
          "output_type": "stream",
          "name": "stdout",
          "text": [
            "Range: project=AMQ and created>=\"2022/10/20\" and created<=\"2023/02/16\", qtd issues: 63\n"
          ]
        },
        {
          "output_type": "stream",
          "name": "stderr",
          "text": [
            "Progress Message Analysis:  98%|█████████▊| 44/45 [01:22<00:01,  1.04s/it]"
          ]
        },
        {
          "output_type": "stream",
          "name": "stdout",
          "text": [
            "Range: project=AMQ and created>=\"2023/02/17\" and created<=\"2023/06/16\", qtd issues: 56\n"
          ]
        },
        {
          "output_type": "stream",
          "name": "stderr",
          "text": [
            "Progress Message Analysis: 100%|██████████| 45/45 [01:23<00:00,  1.84s/it]"
          ]
        },
        {
          "output_type": "stream",
          "name": "stdout",
          "text": [
            "Range: project=AMQ and created>=\"2023/06/17\" and created<=\"2023/10/14\", qtd issues: 47\n",
            "2023-11-04 16:26:50.303982\n",
            "Tempo da consulta: 0:01:23.013814\n"
          ]
        },
        {
          "output_type": "stream",
          "name": "stderr",
          "text": [
            "\n"
          ]
        }
      ]
    },
    {
      "cell_type": "code",
      "source": [
        "# Concatenate the block of issues into a single list\n",
        "print('Concatenate the block of issues into a single list')\n",
        "all_issues = jira_utils.concatenate_block_of_issues(block_of_issues)"
      ],
      "metadata": {
        "colab": {
          "base_uri": "https://localhost:8080/"
        },
        "id": "3tOVa-DkJBci",
        "outputId": "0d114a78-2c6c-4d31-d969-21771e2ddeb3"
      },
      "execution_count": null,
      "outputs": [
        {
          "output_type": "stream",
          "name": "stdout",
          "text": [
            "Concatenate the block of issues into a single list\n",
            "Total de issues recuperados: 5955\n"
          ]
        }
      ]
    },
    {
      "cell_type": "code",
      "source": [
        "all_real_issues = analyze_jira_all_issues(ISSUE_TRACKER_PROJECT, all_issues)"
      ],
      "metadata": {
        "colab": {
          "base_uri": "https://localhost:8080/"
        },
        "id": "G7YEk2oZI1lL",
        "outputId": "52071c27-ce97-460d-f0d2-5ae716d9476d"
      },
      "execution_count": null,
      "outputs": [
        {
          "output_type": "stream",
          "name": "stderr",
          "text": [
            "Progress jira all issues analysis: 100%|██████████| 5955/5955 [00:00<00:00, 116114.14it/s]\n"
          ]
        }
      ]
    },
    {
      "cell_type": "markdown",
      "source": [
        "### Converte os issues recuperados para um dataframe"
      ],
      "metadata": {
        "id": "zNu-uRpoKtzy"
      }
    },
    {
      "cell_type": "code",
      "source": [
        "df_all_reall_issues_in_commits_detailed = convert_issues_to_dataframe(all_real_issues)\n",
        "df_all_reall_issues_in_commits_detailed"
      ],
      "metadata": {
        "colab": {
          "base_uri": "https://localhost:8080/",
          "height": 528
        },
        "id": "pg9TMgmwJgNY",
        "outputId": "a8c658c7-acaf-4217-9c27-a94dc00e0fd0"
      },
      "execution_count": null,
      "outputs": [
        {
          "output_type": "execute_result",
          "data": {
            "text/plain": [
              "     issue_key          issue_type    status priority  \\\n",
              "0     AMQ-2300         New Feature  Resolved    Major   \n",
              "1     AMQ-2234                 Bug    Closed    Major   \n",
              "2     AMQ-2233                 Bug  Resolved    Major   \n",
              "3     AMQ-2232                 Bug  Resolved    Minor   \n",
              "4     AMQ-2231         Improvement  Resolved  Trivial   \n",
              "...        ...                 ...       ...      ...   \n",
              "5950  AMQ-9288                Task      Open    Major   \n",
              "5951  AMQ-9287                 Bug  Resolved    Major   \n",
              "5952  AMQ-9286  Dependency upgrade  Resolved    Major   \n",
              "5953  AMQ-9285                 Bug  Resolved  Trivial   \n",
              "5954  AMQ-9284  Dependency upgrade  Resolved    Minor   \n",
              "\n",
              "                                                summary  \\\n",
              "0     Add a new property for the camel component Act...   \n",
              "1     ActiveMQ can not be stopped sometimes via acti...   \n",
              "2     After rollback received messages not re-presented   \n",
              "3     JMX Credentials Not Respected When Trying To M...   \n",
              "4     Adjust POM to remove \"platform dependent\" warn...   \n",
              "...                                                 ...   \n",
              "5950  TransportConnection Async error message needs ...   \n",
              "5951                        activemq 5.18.1 with jdk 17   \n",
              "5952                           Upgrade to Apache POM 30   \n",
              "5953  User is informed to inspect missing log4j.prop...   \n",
              "5954       Update to Proton-J 0.34.1 and Qpid JMS 1.9.0   \n",
              "\n",
              "                                            description  \\\n",
              "0     See discussion with James Strachan here : http...   \n",
              "1     I use activemq-admin.bat  for stopping activem...   \n",
              "2     After rollback received messages not re-presen...   \n",
              "3     On a secured broker, with secured JMX, and sec...   \n",
              "4     Attached is a patch that specifies the source ...   \n",
              "...                                                 ...   \n",
              "5950  This:\\r\\n{noformat}\\r\\nif (SERVICELOG.isDebugE...   \n",
              "5951  While attempting to use ActiveMQ 5.18.1 with J...   \n",
              "5952                                                      \n",
              "5953  The following is printed out when ActiveMQ is ...   \n",
              "5954       Update to Proton-J 0.34.1 and Qpid JMS 1.9.0   \n",
              "\n",
              "                                               comments created_date  \\\n",
              "0     Moved this ticket to AMQ as the camel-activemq...   2009-03-17   \n",
              "1     Conf files and logs\\nRecommend trying newer br...   2009-04-29   \n",
              "2     can you attach your test case (see the attach ...   2009-04-28   \n",
              "3     Fixed in svn revision 781022 by adding checks ...   2009-04-27   \n",
              "4                        Fixed by SVN revision 905967\\n   2009-04-27   \n",
              "...                                                 ...          ...   \n",
              "5950  Commit b751428ebbf1d202bfa007e1836fc2368a791ef...   2023-06-27   \n",
              "5951  ActiveMQ 5.18.x is JDK11 only.\\r\\n\\r\\nActiveMQ...   2023-06-26   \n",
              "5952  Commit d4011bc16431ef890a475ee876950c97d7cadb8...   2023-06-25   \n",
              "5953  Commit 58246c8a16aa5c55ee3da70113c21f9c98285d8...   2023-06-25   \n",
              "5954  Commit d4b16aef04f58bb8ccd412e922911219603547d...   2023-06-23   \n",
              "\n",
              "     resolved_date  \n",
              "0       2013-11-02  \n",
              "1       2012-12-13  \n",
              "2       2009-07-08  \n",
              "3       2009-06-02  \n",
              "4       2010-02-03  \n",
              "...            ...  \n",
              "5950           NaT  \n",
              "5951    2023-10-24  \n",
              "5952    2023-06-25  \n",
              "5953    2023-06-26  \n",
              "5954    2023-06-23  \n",
              "\n",
              "[5955 rows x 9 columns]"
            ],
            "text/html": [
              "\n",
              "  <div id=\"df-c81ee152-597a-420a-931c-c97940f28010\" class=\"colab-df-container\">\n",
              "    <div>\n",
              "<style scoped>\n",
              "    .dataframe tbody tr th:only-of-type {\n",
              "        vertical-align: middle;\n",
              "    }\n",
              "\n",
              "    .dataframe tbody tr th {\n",
              "        vertical-align: top;\n",
              "    }\n",
              "\n",
              "    .dataframe thead th {\n",
              "        text-align: right;\n",
              "    }\n",
              "</style>\n",
              "<table border=\"1\" class=\"dataframe\">\n",
              "  <thead>\n",
              "    <tr style=\"text-align: right;\">\n",
              "      <th></th>\n",
              "      <th>issue_key</th>\n",
              "      <th>issue_type</th>\n",
              "      <th>status</th>\n",
              "      <th>priority</th>\n",
              "      <th>summary</th>\n",
              "      <th>description</th>\n",
              "      <th>comments</th>\n",
              "      <th>created_date</th>\n",
              "      <th>resolved_date</th>\n",
              "    </tr>\n",
              "  </thead>\n",
              "  <tbody>\n",
              "    <tr>\n",
              "      <th>0</th>\n",
              "      <td>AMQ-2300</td>\n",
              "      <td>New Feature</td>\n",
              "      <td>Resolved</td>\n",
              "      <td>Major</td>\n",
              "      <td>Add a new property for the camel component Act...</td>\n",
              "      <td>See discussion with James Strachan here : http...</td>\n",
              "      <td>Moved this ticket to AMQ as the camel-activemq...</td>\n",
              "      <td>2009-03-17</td>\n",
              "      <td>2013-11-02</td>\n",
              "    </tr>\n",
              "    <tr>\n",
              "      <th>1</th>\n",
              "      <td>AMQ-2234</td>\n",
              "      <td>Bug</td>\n",
              "      <td>Closed</td>\n",
              "      <td>Major</td>\n",
              "      <td>ActiveMQ can not be stopped sometimes via acti...</td>\n",
              "      <td>I use activemq-admin.bat  for stopping activem...</td>\n",
              "      <td>Conf files and logs\\nRecommend trying newer br...</td>\n",
              "      <td>2009-04-29</td>\n",
              "      <td>2012-12-13</td>\n",
              "    </tr>\n",
              "    <tr>\n",
              "      <th>2</th>\n",
              "      <td>AMQ-2233</td>\n",
              "      <td>Bug</td>\n",
              "      <td>Resolved</td>\n",
              "      <td>Major</td>\n",
              "      <td>After rollback received messages not re-presented</td>\n",
              "      <td>After rollback received messages not re-presen...</td>\n",
              "      <td>can you attach your test case (see the attach ...</td>\n",
              "      <td>2009-04-28</td>\n",
              "      <td>2009-07-08</td>\n",
              "    </tr>\n",
              "    <tr>\n",
              "      <th>3</th>\n",
              "      <td>AMQ-2232</td>\n",
              "      <td>Bug</td>\n",
              "      <td>Resolved</td>\n",
              "      <td>Minor</td>\n",
              "      <td>JMX Credentials Not Respected When Trying To M...</td>\n",
              "      <td>On a secured broker, with secured JMX, and sec...</td>\n",
              "      <td>Fixed in svn revision 781022 by adding checks ...</td>\n",
              "      <td>2009-04-27</td>\n",
              "      <td>2009-06-02</td>\n",
              "    </tr>\n",
              "    <tr>\n",
              "      <th>4</th>\n",
              "      <td>AMQ-2231</td>\n",
              "      <td>Improvement</td>\n",
              "      <td>Resolved</td>\n",
              "      <td>Trivial</td>\n",
              "      <td>Adjust POM to remove \"platform dependent\" warn...</td>\n",
              "      <td>Attached is a patch that specifies the source ...</td>\n",
              "      <td>Fixed by SVN revision 905967\\n</td>\n",
              "      <td>2009-04-27</td>\n",
              "      <td>2010-02-03</td>\n",
              "    </tr>\n",
              "    <tr>\n",
              "      <th>...</th>\n",
              "      <td>...</td>\n",
              "      <td>...</td>\n",
              "      <td>...</td>\n",
              "      <td>...</td>\n",
              "      <td>...</td>\n",
              "      <td>...</td>\n",
              "      <td>...</td>\n",
              "      <td>...</td>\n",
              "      <td>...</td>\n",
              "    </tr>\n",
              "    <tr>\n",
              "      <th>5950</th>\n",
              "      <td>AMQ-9288</td>\n",
              "      <td>Task</td>\n",
              "      <td>Open</td>\n",
              "      <td>Major</td>\n",
              "      <td>TransportConnection Async error message needs ...</td>\n",
              "      <td>This:\\r\\n{noformat}\\r\\nif (SERVICELOG.isDebugE...</td>\n",
              "      <td>Commit b751428ebbf1d202bfa007e1836fc2368a791ef...</td>\n",
              "      <td>2023-06-27</td>\n",
              "      <td>NaT</td>\n",
              "    </tr>\n",
              "    <tr>\n",
              "      <th>5951</th>\n",
              "      <td>AMQ-9287</td>\n",
              "      <td>Bug</td>\n",
              "      <td>Resolved</td>\n",
              "      <td>Major</td>\n",
              "      <td>activemq 5.18.1 with jdk 17</td>\n",
              "      <td>While attempting to use ActiveMQ 5.18.1 with J...</td>\n",
              "      <td>ActiveMQ 5.18.x is JDK11 only.\\r\\n\\r\\nActiveMQ...</td>\n",
              "      <td>2023-06-26</td>\n",
              "      <td>2023-10-24</td>\n",
              "    </tr>\n",
              "    <tr>\n",
              "      <th>5952</th>\n",
              "      <td>AMQ-9286</td>\n",
              "      <td>Dependency upgrade</td>\n",
              "      <td>Resolved</td>\n",
              "      <td>Major</td>\n",
              "      <td>Upgrade to Apache POM 30</td>\n",
              "      <td></td>\n",
              "      <td>Commit d4011bc16431ef890a475ee876950c97d7cadb8...</td>\n",
              "      <td>2023-06-25</td>\n",
              "      <td>2023-06-25</td>\n",
              "    </tr>\n",
              "    <tr>\n",
              "      <th>5953</th>\n",
              "      <td>AMQ-9285</td>\n",
              "      <td>Bug</td>\n",
              "      <td>Resolved</td>\n",
              "      <td>Trivial</td>\n",
              "      <td>User is informed to inspect missing log4j.prop...</td>\n",
              "      <td>The following is printed out when ActiveMQ is ...</td>\n",
              "      <td>Commit 58246c8a16aa5c55ee3da70113c21f9c98285d8...</td>\n",
              "      <td>2023-06-25</td>\n",
              "      <td>2023-06-26</td>\n",
              "    </tr>\n",
              "    <tr>\n",
              "      <th>5954</th>\n",
              "      <td>AMQ-9284</td>\n",
              "      <td>Dependency upgrade</td>\n",
              "      <td>Resolved</td>\n",
              "      <td>Minor</td>\n",
              "      <td>Update to Proton-J 0.34.1 and Qpid JMS 1.9.0</td>\n",
              "      <td>Update to Proton-J 0.34.1 and Qpid JMS 1.9.0</td>\n",
              "      <td>Commit d4b16aef04f58bb8ccd412e922911219603547d...</td>\n",
              "      <td>2023-06-23</td>\n",
              "      <td>2023-06-23</td>\n",
              "    </tr>\n",
              "  </tbody>\n",
              "</table>\n",
              "<p>5955 rows × 9 columns</p>\n",
              "</div>\n",
              "    <div class=\"colab-df-buttons\">\n",
              "\n",
              "  <div class=\"colab-df-container\">\n",
              "    <button class=\"colab-df-convert\" onclick=\"convertToInteractive('df-c81ee152-597a-420a-931c-c97940f28010')\"\n",
              "            title=\"Convert this dataframe to an interactive table.\"\n",
              "            style=\"display:none;\">\n",
              "\n",
              "  <svg xmlns=\"http://www.w3.org/2000/svg\" height=\"24px\" viewBox=\"0 -960 960 960\">\n",
              "    <path d=\"M120-120v-720h720v720H120Zm60-500h600v-160H180v160Zm220 220h160v-160H400v160Zm0 220h160v-160H400v160ZM180-400h160v-160H180v160Zm440 0h160v-160H620v160ZM180-180h160v-160H180v160Zm440 0h160v-160H620v160Z\"/>\n",
              "  </svg>\n",
              "    </button>\n",
              "\n",
              "  <style>\n",
              "    .colab-df-container {\n",
              "      display:flex;\n",
              "      gap: 12px;\n",
              "    }\n",
              "\n",
              "    .colab-df-convert {\n",
              "      background-color: #E8F0FE;\n",
              "      border: none;\n",
              "      border-radius: 50%;\n",
              "      cursor: pointer;\n",
              "      display: none;\n",
              "      fill: #1967D2;\n",
              "      height: 32px;\n",
              "      padding: 0 0 0 0;\n",
              "      width: 32px;\n",
              "    }\n",
              "\n",
              "    .colab-df-convert:hover {\n",
              "      background-color: #E2EBFA;\n",
              "      box-shadow: 0px 1px 2px rgba(60, 64, 67, 0.3), 0px 1px 3px 1px rgba(60, 64, 67, 0.15);\n",
              "      fill: #174EA6;\n",
              "    }\n",
              "\n",
              "    .colab-df-buttons div {\n",
              "      margin-bottom: 4px;\n",
              "    }\n",
              "\n",
              "    [theme=dark] .colab-df-convert {\n",
              "      background-color: #3B4455;\n",
              "      fill: #D2E3FC;\n",
              "    }\n",
              "\n",
              "    [theme=dark] .colab-df-convert:hover {\n",
              "      background-color: #434B5C;\n",
              "      box-shadow: 0px 1px 3px 1px rgba(0, 0, 0, 0.15);\n",
              "      filter: drop-shadow(0px 1px 2px rgba(0, 0, 0, 0.3));\n",
              "      fill: #FFFFFF;\n",
              "    }\n",
              "  </style>\n",
              "\n",
              "    <script>\n",
              "      const buttonEl =\n",
              "        document.querySelector('#df-c81ee152-597a-420a-931c-c97940f28010 button.colab-df-convert');\n",
              "      buttonEl.style.display =\n",
              "        google.colab.kernel.accessAllowed ? 'block' : 'none';\n",
              "\n",
              "      async function convertToInteractive(key) {\n",
              "        const element = document.querySelector('#df-c81ee152-597a-420a-931c-c97940f28010');\n",
              "        const dataTable =\n",
              "          await google.colab.kernel.invokeFunction('convertToInteractive',\n",
              "                                                    [key], {});\n",
              "        if (!dataTable) return;\n",
              "\n",
              "        const docLinkHtml = 'Like what you see? Visit the ' +\n",
              "          '<a target=\"_blank\" href=https://colab.research.google.com/notebooks/data_table.ipynb>data table notebook</a>'\n",
              "          + ' to learn more about interactive tables.';\n",
              "        element.innerHTML = '';\n",
              "        dataTable['output_type'] = 'display_data';\n",
              "        await google.colab.output.renderOutput(dataTable, element);\n",
              "        const docLink = document.createElement('div');\n",
              "        docLink.innerHTML = docLinkHtml;\n",
              "        element.appendChild(docLink);\n",
              "      }\n",
              "    </script>\n",
              "  </div>\n",
              "\n",
              "\n",
              "<div id=\"df-7234186a-0900-4822-b326-c01eb8e6f535\">\n",
              "  <button class=\"colab-df-quickchart\" onclick=\"quickchart('df-7234186a-0900-4822-b326-c01eb8e6f535')\"\n",
              "            title=\"Suggest charts.\"\n",
              "            style=\"display:none;\">\n",
              "\n",
              "<svg xmlns=\"http://www.w3.org/2000/svg\" height=\"24px\"viewBox=\"0 0 24 24\"\n",
              "     width=\"24px\">\n",
              "    <g>\n",
              "        <path d=\"M19 3H5c-1.1 0-2 .9-2 2v14c0 1.1.9 2 2 2h14c1.1 0 2-.9 2-2V5c0-1.1-.9-2-2-2zM9 17H7v-7h2v7zm4 0h-2V7h2v10zm4 0h-2v-4h2v4z\"/>\n",
              "    </g>\n",
              "</svg>\n",
              "  </button>\n",
              "\n",
              "<style>\n",
              "  .colab-df-quickchart {\n",
              "      --bg-color: #E8F0FE;\n",
              "      --fill-color: #1967D2;\n",
              "      --hover-bg-color: #E2EBFA;\n",
              "      --hover-fill-color: #174EA6;\n",
              "      --disabled-fill-color: #AAA;\n",
              "      --disabled-bg-color: #DDD;\n",
              "  }\n",
              "\n",
              "  [theme=dark] .colab-df-quickchart {\n",
              "      --bg-color: #3B4455;\n",
              "      --fill-color: #D2E3FC;\n",
              "      --hover-bg-color: #434B5C;\n",
              "      --hover-fill-color: #FFFFFF;\n",
              "      --disabled-bg-color: #3B4455;\n",
              "      --disabled-fill-color: #666;\n",
              "  }\n",
              "\n",
              "  .colab-df-quickchart {\n",
              "    background-color: var(--bg-color);\n",
              "    border: none;\n",
              "    border-radius: 50%;\n",
              "    cursor: pointer;\n",
              "    display: none;\n",
              "    fill: var(--fill-color);\n",
              "    height: 32px;\n",
              "    padding: 0;\n",
              "    width: 32px;\n",
              "  }\n",
              "\n",
              "  .colab-df-quickchart:hover {\n",
              "    background-color: var(--hover-bg-color);\n",
              "    box-shadow: 0 1px 2px rgba(60, 64, 67, 0.3), 0 1px 3px 1px rgba(60, 64, 67, 0.15);\n",
              "    fill: var(--button-hover-fill-color);\n",
              "  }\n",
              "\n",
              "  .colab-df-quickchart-complete:disabled,\n",
              "  .colab-df-quickchart-complete:disabled:hover {\n",
              "    background-color: var(--disabled-bg-color);\n",
              "    fill: var(--disabled-fill-color);\n",
              "    box-shadow: none;\n",
              "  }\n",
              "\n",
              "  .colab-df-spinner {\n",
              "    border: 2px solid var(--fill-color);\n",
              "    border-color: transparent;\n",
              "    border-bottom-color: var(--fill-color);\n",
              "    animation:\n",
              "      spin 1s steps(1) infinite;\n",
              "  }\n",
              "\n",
              "  @keyframes spin {\n",
              "    0% {\n",
              "      border-color: transparent;\n",
              "      border-bottom-color: var(--fill-color);\n",
              "      border-left-color: var(--fill-color);\n",
              "    }\n",
              "    20% {\n",
              "      border-color: transparent;\n",
              "      border-left-color: var(--fill-color);\n",
              "      border-top-color: var(--fill-color);\n",
              "    }\n",
              "    30% {\n",
              "      border-color: transparent;\n",
              "      border-left-color: var(--fill-color);\n",
              "      border-top-color: var(--fill-color);\n",
              "      border-right-color: var(--fill-color);\n",
              "    }\n",
              "    40% {\n",
              "      border-color: transparent;\n",
              "      border-right-color: var(--fill-color);\n",
              "      border-top-color: var(--fill-color);\n",
              "    }\n",
              "    60% {\n",
              "      border-color: transparent;\n",
              "      border-right-color: var(--fill-color);\n",
              "    }\n",
              "    80% {\n",
              "      border-color: transparent;\n",
              "      border-right-color: var(--fill-color);\n",
              "      border-bottom-color: var(--fill-color);\n",
              "    }\n",
              "    90% {\n",
              "      border-color: transparent;\n",
              "      border-bottom-color: var(--fill-color);\n",
              "    }\n",
              "  }\n",
              "</style>\n",
              "\n",
              "  <script>\n",
              "    async function quickchart(key) {\n",
              "      const quickchartButtonEl =\n",
              "        document.querySelector('#' + key + ' button');\n",
              "      quickchartButtonEl.disabled = true;  // To prevent multiple clicks.\n",
              "      quickchartButtonEl.classList.add('colab-df-spinner');\n",
              "      try {\n",
              "        const charts = await google.colab.kernel.invokeFunction(\n",
              "            'suggestCharts', [key], {});\n",
              "      } catch (error) {\n",
              "        console.error('Error during call to suggestCharts:', error);\n",
              "      }\n",
              "      quickchartButtonEl.classList.remove('colab-df-spinner');\n",
              "      quickchartButtonEl.classList.add('colab-df-quickchart-complete');\n",
              "    }\n",
              "    (() => {\n",
              "      let quickchartButtonEl =\n",
              "        document.querySelector('#df-7234186a-0900-4822-b326-c01eb8e6f535 button');\n",
              "      quickchartButtonEl.style.display =\n",
              "        google.colab.kernel.accessAllowed ? 'block' : 'none';\n",
              "    })();\n",
              "  </script>\n",
              "</div>\n",
              "    </div>\n",
              "  </div>\n"
            ]
          },
          "metadata": {},
          "execution_count": 22
        }
      ]
    },
    {
      "cell_type": "code",
      "source": [
        "colunas = ['issue_key',\t'issue_type', 'status', 'priority', 'summary']\n",
        "df_all_reall_issues_in_commits_detailed[colunas].to_excel('activemq_all_issues_in_commits.xlsx', index=False)"
      ],
      "metadata": {
        "id": "vRoqpkZB5SPO"
      },
      "execution_count": null,
      "outputs": []
    },
    {
      "cell_type": "code",
      "source": [
        "df_all_reall_issues_in_commits_detailed['time_resolution'] = df_all_reall_issues_in_commits_detailed['resolved_date'] - df_all_reall_issues_in_commits_detailed['created_date']"
      ],
      "metadata": {
        "id": "V0Rgv_ZRIJ5j"
      },
      "execution_count": null,
      "outputs": []
    },
    {
      "cell_type": "code",
      "source": [
        "print('Gera arquivo .csv activemq_all_issues_in_commits')\n",
        "colunas = ['issue_key', 'issue_type', 'status', 'summary','created_date', 'resolved_date', 'time_resolution']\n",
        "df_all_reall_issues_in_commits_detailed[colunas].to_csv('activemq_all_issues_in_commits.csv', index=False)"
      ],
      "metadata": {
        "id": "eBb3K2rYIOZH",
        "outputId": "84785472-f40e-41fd-8ac6-5a28600c23cf",
        "colab": {
          "base_uri": "https://localhost:8080/"
        }
      },
      "execution_count": null,
      "outputs": [
        {
          "output_type": "stream",
          "name": "stdout",
          "text": [
            "Gera arquivo .csv activemq_all_issues_in_commits\n"
          ]
        }
      ]
    },
    {
      "cell_type": "markdown",
      "source": [
        "### Recupera Issues com referência nos commits com classes críticas"
      ],
      "metadata": {
        "id": "0AGqE-DqPgBC"
      }
    },
    {
      "cell_type": "code",
      "source": [
        "dict_issues_in_commits, df_issues_in_commits_with_critical_classes = get_commits_with_critical_files_and_issues_in_this_commits(df_commits_with_critical_files)\n",
        "df_issues_in_commits_with_critical_classes"
      ],
      "metadata": {
        "colab": {
          "base_uri": "https://localhost:8080/",
          "height": 597
        },
        "id": "s2Sdfa0pTrGd",
        "outputId": "e9d5c283-d655-4535-9383-c3166ccfb4ae"
      },
      "execution_count": null,
      "outputs": [
        {
          "output_type": "execute_result",
          "data": {
            "text/plain": [
              "     issue_key   issue_type    status priority  \\\n",
              "36    AMQ-2199          Bug  Resolved    Major   \n",
              "37    AMQ-2198  Improvement  Resolved    Major   \n",
              "52    AMQ-2183          Bug  Resolved    Major   \n",
              "55    AMQ-2180  Improvement  Resolved    Major   \n",
              "86    AMQ-2149          Bug  Resolved    Major   \n",
              "...        ...          ...       ...      ...   \n",
              "5846  AMQ-9153          Bug  Resolved    Major   \n",
              "5872  AMQ-9262          Bug  Resolved    Major   \n",
              "5877  AMQ-9257  Improvement  Resolved    Minor   \n",
              "5895  AMQ-9239  New Feature    Closed    Major   \n",
              "5901  AMQ-9233          Bug  Resolved    Major   \n",
              "\n",
              "                                                summary  \\\n",
              "36    NullPointerException during broker start on br...   \n",
              "37    Allow suppression of duplicate queue subscript...   \n",
              "52    Master/slave out of sync with multiple consume...   \n",
              "55                                 infinite networkTTL    \n",
              "86     Shared Filesystem Master Slave: missing messages   \n",
              "...                                                 ...   \n",
              "5846  Fix Slow Consumer Advisory for Queue subscript...   \n",
              "5872  Composite consumers do not work properly with ...   \n",
              "5877  Disabled expire message checking when pauseDis...   \n",
              "5895           Jakarta JMS package namespace for broker   \n",
              "5901  NPE in SubQueueSelectorCacheBroker.removeConsumer   \n",
              "\n",
              "                                            description  \\\n",
              "36    I have a configuration where I first start app...   \n",
              "37    in a cyclic network of brokers (where each bro...   \n",
              "52    1. producer of VirtualTopic.testTopic publish ...   \n",
              "55    Hello,\\n\\nI would like to set a networkTTL wit...   \n",
              "86    I'm finding occasionally messages are not deli...   \n",
              "...                                                 ...   \n",
              "5846  The {{AdvisoryTests}} class was not running du...   \n",
              "5872  I found an interesting edge case where consume...   \n",
              "5877  If pauseDispatch is set, the expiry checking s...   \n",
              "5895                                                      \n",
              "5901  This NPE occurs after a number of cascading er...   \n",
              "\n",
              "                                               comments created_date  \\\n",
              "36    Came across this behaviour using the debugger ...   2009-04-08   \n",
              "37    resolved in r762925\\n\\nAddition of suppressDup...   2009-04-07   \n",
              "52    Attached patch fix the issue. I create this ne...   2009-03-25   \n",
              "55    Set the NetworkTTL to a value as large as the ...   2009-03-24   \n",
              "86    I tried several more tests using the script an...   2009-03-06   \n",
              "...                                                 ...          ...   \n",
              "5846  It looks like this has been broken for 10 year...   2022-11-01   \n",
              "5872  Commit 901956d4ddb6a0ea9fe5fedf39732117ab68f08...   2023-06-06   \n",
              "5877  What is the background here? This ticket needs...   2023-05-10   \n",
              "5895  Commit 6b277a49037fd886e4b1c969c8cff97add335dc...   2023-03-30   \n",
              "5901  Commit 95e3c2a1aa0d4962ad6a22a4422a9314875f824...   2023-03-24   \n",
              "\n",
              "     resolved_date time_resolution  \n",
              "36      2009-04-09          1 days  \n",
              "37      2009-04-07          0 days  \n",
              "52      2010-04-27        398 days  \n",
              "55      2010-06-16        449 days  \n",
              "86      2009-05-23         78 days  \n",
              "...            ...             ...  \n",
              "5846    2022-11-01          0 days  \n",
              "5872    2023-06-07          1 days  \n",
              "5877    2023-06-19         40 days  \n",
              "5895    2023-08-30        153 days  \n",
              "5901    2023-06-24         92 days  \n",
              "\n",
              "[480 rows x 10 columns]"
            ],
            "text/html": [
              "\n",
              "  <div id=\"df-c0f76e36-e601-4f05-8a2e-7cd33eb7d4ce\" class=\"colab-df-container\">\n",
              "    <div>\n",
              "<style scoped>\n",
              "    .dataframe tbody tr th:only-of-type {\n",
              "        vertical-align: middle;\n",
              "    }\n",
              "\n",
              "    .dataframe tbody tr th {\n",
              "        vertical-align: top;\n",
              "    }\n",
              "\n",
              "    .dataframe thead th {\n",
              "        text-align: right;\n",
              "    }\n",
              "</style>\n",
              "<table border=\"1\" class=\"dataframe\">\n",
              "  <thead>\n",
              "    <tr style=\"text-align: right;\">\n",
              "      <th></th>\n",
              "      <th>issue_key</th>\n",
              "      <th>issue_type</th>\n",
              "      <th>status</th>\n",
              "      <th>priority</th>\n",
              "      <th>summary</th>\n",
              "      <th>description</th>\n",
              "      <th>comments</th>\n",
              "      <th>created_date</th>\n",
              "      <th>resolved_date</th>\n",
              "      <th>time_resolution</th>\n",
              "    </tr>\n",
              "  </thead>\n",
              "  <tbody>\n",
              "    <tr>\n",
              "      <th>36</th>\n",
              "      <td>AMQ-2199</td>\n",
              "      <td>Bug</td>\n",
              "      <td>Resolved</td>\n",
              "      <td>Major</td>\n",
              "      <td>NullPointerException during broker start on br...</td>\n",
              "      <td>I have a configuration where I first start app...</td>\n",
              "      <td>Came across this behaviour using the debugger ...</td>\n",
              "      <td>2009-04-08</td>\n",
              "      <td>2009-04-09</td>\n",
              "      <td>1 days</td>\n",
              "    </tr>\n",
              "    <tr>\n",
              "      <th>37</th>\n",
              "      <td>AMQ-2198</td>\n",
              "      <td>Improvement</td>\n",
              "      <td>Resolved</td>\n",
              "      <td>Major</td>\n",
              "      <td>Allow suppression of duplicate queue subscript...</td>\n",
              "      <td>in a cyclic network of brokers (where each bro...</td>\n",
              "      <td>resolved in r762925\\n\\nAddition of suppressDup...</td>\n",
              "      <td>2009-04-07</td>\n",
              "      <td>2009-04-07</td>\n",
              "      <td>0 days</td>\n",
              "    </tr>\n",
              "    <tr>\n",
              "      <th>52</th>\n",
              "      <td>AMQ-2183</td>\n",
              "      <td>Bug</td>\n",
              "      <td>Resolved</td>\n",
              "      <td>Major</td>\n",
              "      <td>Master/slave out of sync with multiple consume...</td>\n",
              "      <td>1. producer of VirtualTopic.testTopic publish ...</td>\n",
              "      <td>Attached patch fix the issue. I create this ne...</td>\n",
              "      <td>2009-03-25</td>\n",
              "      <td>2010-04-27</td>\n",
              "      <td>398 days</td>\n",
              "    </tr>\n",
              "    <tr>\n",
              "      <th>55</th>\n",
              "      <td>AMQ-2180</td>\n",
              "      <td>Improvement</td>\n",
              "      <td>Resolved</td>\n",
              "      <td>Major</td>\n",
              "      <td>infinite networkTTL</td>\n",
              "      <td>Hello,\\n\\nI would like to set a networkTTL wit...</td>\n",
              "      <td>Set the NetworkTTL to a value as large as the ...</td>\n",
              "      <td>2009-03-24</td>\n",
              "      <td>2010-06-16</td>\n",
              "      <td>449 days</td>\n",
              "    </tr>\n",
              "    <tr>\n",
              "      <th>86</th>\n",
              "      <td>AMQ-2149</td>\n",
              "      <td>Bug</td>\n",
              "      <td>Resolved</td>\n",
              "      <td>Major</td>\n",
              "      <td>Shared Filesystem Master Slave: missing messages</td>\n",
              "      <td>I'm finding occasionally messages are not deli...</td>\n",
              "      <td>I tried several more tests using the script an...</td>\n",
              "      <td>2009-03-06</td>\n",
              "      <td>2009-05-23</td>\n",
              "      <td>78 days</td>\n",
              "    </tr>\n",
              "    <tr>\n",
              "      <th>...</th>\n",
              "      <td>...</td>\n",
              "      <td>...</td>\n",
              "      <td>...</td>\n",
              "      <td>...</td>\n",
              "      <td>...</td>\n",
              "      <td>...</td>\n",
              "      <td>...</td>\n",
              "      <td>...</td>\n",
              "      <td>...</td>\n",
              "      <td>...</td>\n",
              "    </tr>\n",
              "    <tr>\n",
              "      <th>5846</th>\n",
              "      <td>AMQ-9153</td>\n",
              "      <td>Bug</td>\n",
              "      <td>Resolved</td>\n",
              "      <td>Major</td>\n",
              "      <td>Fix Slow Consumer Advisory for Queue subscript...</td>\n",
              "      <td>The {{AdvisoryTests}} class was not running du...</td>\n",
              "      <td>It looks like this has been broken for 10 year...</td>\n",
              "      <td>2022-11-01</td>\n",
              "      <td>2022-11-01</td>\n",
              "      <td>0 days</td>\n",
              "    </tr>\n",
              "    <tr>\n",
              "      <th>5872</th>\n",
              "      <td>AMQ-9262</td>\n",
              "      <td>Bug</td>\n",
              "      <td>Resolved</td>\n",
              "      <td>Major</td>\n",
              "      <td>Composite consumers do not work properly with ...</td>\n",
              "      <td>I found an interesting edge case where consume...</td>\n",
              "      <td>Commit 901956d4ddb6a0ea9fe5fedf39732117ab68f08...</td>\n",
              "      <td>2023-06-06</td>\n",
              "      <td>2023-06-07</td>\n",
              "      <td>1 days</td>\n",
              "    </tr>\n",
              "    <tr>\n",
              "      <th>5877</th>\n",
              "      <td>AMQ-9257</td>\n",
              "      <td>Improvement</td>\n",
              "      <td>Resolved</td>\n",
              "      <td>Minor</td>\n",
              "      <td>Disabled expire message checking when pauseDis...</td>\n",
              "      <td>If pauseDispatch is set, the expiry checking s...</td>\n",
              "      <td>What is the background here? This ticket needs...</td>\n",
              "      <td>2023-05-10</td>\n",
              "      <td>2023-06-19</td>\n",
              "      <td>40 days</td>\n",
              "    </tr>\n",
              "    <tr>\n",
              "      <th>5895</th>\n",
              "      <td>AMQ-9239</td>\n",
              "      <td>New Feature</td>\n",
              "      <td>Closed</td>\n",
              "      <td>Major</td>\n",
              "      <td>Jakarta JMS package namespace for broker</td>\n",
              "      <td></td>\n",
              "      <td>Commit 6b277a49037fd886e4b1c969c8cff97add335dc...</td>\n",
              "      <td>2023-03-30</td>\n",
              "      <td>2023-08-30</td>\n",
              "      <td>153 days</td>\n",
              "    </tr>\n",
              "    <tr>\n",
              "      <th>5901</th>\n",
              "      <td>AMQ-9233</td>\n",
              "      <td>Bug</td>\n",
              "      <td>Resolved</td>\n",
              "      <td>Major</td>\n",
              "      <td>NPE in SubQueueSelectorCacheBroker.removeConsumer</td>\n",
              "      <td>This NPE occurs after a number of cascading er...</td>\n",
              "      <td>Commit 95e3c2a1aa0d4962ad6a22a4422a9314875f824...</td>\n",
              "      <td>2023-03-24</td>\n",
              "      <td>2023-06-24</td>\n",
              "      <td>92 days</td>\n",
              "    </tr>\n",
              "  </tbody>\n",
              "</table>\n",
              "<p>480 rows × 10 columns</p>\n",
              "</div>\n",
              "    <div class=\"colab-df-buttons\">\n",
              "\n",
              "  <div class=\"colab-df-container\">\n",
              "    <button class=\"colab-df-convert\" onclick=\"convertToInteractive('df-c0f76e36-e601-4f05-8a2e-7cd33eb7d4ce')\"\n",
              "            title=\"Convert this dataframe to an interactive table.\"\n",
              "            style=\"display:none;\">\n",
              "\n",
              "  <svg xmlns=\"http://www.w3.org/2000/svg\" height=\"24px\" viewBox=\"0 -960 960 960\">\n",
              "    <path d=\"M120-120v-720h720v720H120Zm60-500h600v-160H180v160Zm220 220h160v-160H400v160Zm0 220h160v-160H400v160ZM180-400h160v-160H180v160Zm440 0h160v-160H620v160ZM180-180h160v-160H180v160Zm440 0h160v-160H620v160Z\"/>\n",
              "  </svg>\n",
              "    </button>\n",
              "\n",
              "  <style>\n",
              "    .colab-df-container {\n",
              "      display:flex;\n",
              "      gap: 12px;\n",
              "    }\n",
              "\n",
              "    .colab-df-convert {\n",
              "      background-color: #E8F0FE;\n",
              "      border: none;\n",
              "      border-radius: 50%;\n",
              "      cursor: pointer;\n",
              "      display: none;\n",
              "      fill: #1967D2;\n",
              "      height: 32px;\n",
              "      padding: 0 0 0 0;\n",
              "      width: 32px;\n",
              "    }\n",
              "\n",
              "    .colab-df-convert:hover {\n",
              "      background-color: #E2EBFA;\n",
              "      box-shadow: 0px 1px 2px rgba(60, 64, 67, 0.3), 0px 1px 3px 1px rgba(60, 64, 67, 0.15);\n",
              "      fill: #174EA6;\n",
              "    }\n",
              "\n",
              "    .colab-df-buttons div {\n",
              "      margin-bottom: 4px;\n",
              "    }\n",
              "\n",
              "    [theme=dark] .colab-df-convert {\n",
              "      background-color: #3B4455;\n",
              "      fill: #D2E3FC;\n",
              "    }\n",
              "\n",
              "    [theme=dark] .colab-df-convert:hover {\n",
              "      background-color: #434B5C;\n",
              "      box-shadow: 0px 1px 3px 1px rgba(0, 0, 0, 0.15);\n",
              "      filter: drop-shadow(0px 1px 2px rgba(0, 0, 0, 0.3));\n",
              "      fill: #FFFFFF;\n",
              "    }\n",
              "  </style>\n",
              "\n",
              "    <script>\n",
              "      const buttonEl =\n",
              "        document.querySelector('#df-c0f76e36-e601-4f05-8a2e-7cd33eb7d4ce button.colab-df-convert');\n",
              "      buttonEl.style.display =\n",
              "        google.colab.kernel.accessAllowed ? 'block' : 'none';\n",
              "\n",
              "      async function convertToInteractive(key) {\n",
              "        const element = document.querySelector('#df-c0f76e36-e601-4f05-8a2e-7cd33eb7d4ce');\n",
              "        const dataTable =\n",
              "          await google.colab.kernel.invokeFunction('convertToInteractive',\n",
              "                                                    [key], {});\n",
              "        if (!dataTable) return;\n",
              "\n",
              "        const docLinkHtml = 'Like what you see? Visit the ' +\n",
              "          '<a target=\"_blank\" href=https://colab.research.google.com/notebooks/data_table.ipynb>data table notebook</a>'\n",
              "          + ' to learn more about interactive tables.';\n",
              "        element.innerHTML = '';\n",
              "        dataTable['output_type'] = 'display_data';\n",
              "        await google.colab.output.renderOutput(dataTable, element);\n",
              "        const docLink = document.createElement('div');\n",
              "        docLink.innerHTML = docLinkHtml;\n",
              "        element.appendChild(docLink);\n",
              "      }\n",
              "    </script>\n",
              "  </div>\n",
              "\n",
              "\n",
              "<div id=\"df-037ffb22-0a24-4e2e-b462-b7e03503e093\">\n",
              "  <button class=\"colab-df-quickchart\" onclick=\"quickchart('df-037ffb22-0a24-4e2e-b462-b7e03503e093')\"\n",
              "            title=\"Suggest charts.\"\n",
              "            style=\"display:none;\">\n",
              "\n",
              "<svg xmlns=\"http://www.w3.org/2000/svg\" height=\"24px\"viewBox=\"0 0 24 24\"\n",
              "     width=\"24px\">\n",
              "    <g>\n",
              "        <path d=\"M19 3H5c-1.1 0-2 .9-2 2v14c0 1.1.9 2 2 2h14c1.1 0 2-.9 2-2V5c0-1.1-.9-2-2-2zM9 17H7v-7h2v7zm4 0h-2V7h2v10zm4 0h-2v-4h2v4z\"/>\n",
              "    </g>\n",
              "</svg>\n",
              "  </button>\n",
              "\n",
              "<style>\n",
              "  .colab-df-quickchart {\n",
              "      --bg-color: #E8F0FE;\n",
              "      --fill-color: #1967D2;\n",
              "      --hover-bg-color: #E2EBFA;\n",
              "      --hover-fill-color: #174EA6;\n",
              "      --disabled-fill-color: #AAA;\n",
              "      --disabled-bg-color: #DDD;\n",
              "  }\n",
              "\n",
              "  [theme=dark] .colab-df-quickchart {\n",
              "      --bg-color: #3B4455;\n",
              "      --fill-color: #D2E3FC;\n",
              "      --hover-bg-color: #434B5C;\n",
              "      --hover-fill-color: #FFFFFF;\n",
              "      --disabled-bg-color: #3B4455;\n",
              "      --disabled-fill-color: #666;\n",
              "  }\n",
              "\n",
              "  .colab-df-quickchart {\n",
              "    background-color: var(--bg-color);\n",
              "    border: none;\n",
              "    border-radius: 50%;\n",
              "    cursor: pointer;\n",
              "    display: none;\n",
              "    fill: var(--fill-color);\n",
              "    height: 32px;\n",
              "    padding: 0;\n",
              "    width: 32px;\n",
              "  }\n",
              "\n",
              "  .colab-df-quickchart:hover {\n",
              "    background-color: var(--hover-bg-color);\n",
              "    box-shadow: 0 1px 2px rgba(60, 64, 67, 0.3), 0 1px 3px 1px rgba(60, 64, 67, 0.15);\n",
              "    fill: var(--button-hover-fill-color);\n",
              "  }\n",
              "\n",
              "  .colab-df-quickchart-complete:disabled,\n",
              "  .colab-df-quickchart-complete:disabled:hover {\n",
              "    background-color: var(--disabled-bg-color);\n",
              "    fill: var(--disabled-fill-color);\n",
              "    box-shadow: none;\n",
              "  }\n",
              "\n",
              "  .colab-df-spinner {\n",
              "    border: 2px solid var(--fill-color);\n",
              "    border-color: transparent;\n",
              "    border-bottom-color: var(--fill-color);\n",
              "    animation:\n",
              "      spin 1s steps(1) infinite;\n",
              "  }\n",
              "\n",
              "  @keyframes spin {\n",
              "    0% {\n",
              "      border-color: transparent;\n",
              "      border-bottom-color: var(--fill-color);\n",
              "      border-left-color: var(--fill-color);\n",
              "    }\n",
              "    20% {\n",
              "      border-color: transparent;\n",
              "      border-left-color: var(--fill-color);\n",
              "      border-top-color: var(--fill-color);\n",
              "    }\n",
              "    30% {\n",
              "      border-color: transparent;\n",
              "      border-left-color: var(--fill-color);\n",
              "      border-top-color: var(--fill-color);\n",
              "      border-right-color: var(--fill-color);\n",
              "    }\n",
              "    40% {\n",
              "      border-color: transparent;\n",
              "      border-right-color: var(--fill-color);\n",
              "      border-top-color: var(--fill-color);\n",
              "    }\n",
              "    60% {\n",
              "      border-color: transparent;\n",
              "      border-right-color: var(--fill-color);\n",
              "    }\n",
              "    80% {\n",
              "      border-color: transparent;\n",
              "      border-right-color: var(--fill-color);\n",
              "      border-bottom-color: var(--fill-color);\n",
              "    }\n",
              "    90% {\n",
              "      border-color: transparent;\n",
              "      border-bottom-color: var(--fill-color);\n",
              "    }\n",
              "  }\n",
              "</style>\n",
              "\n",
              "  <script>\n",
              "    async function quickchart(key) {\n",
              "      const quickchartButtonEl =\n",
              "        document.querySelector('#' + key + ' button');\n",
              "      quickchartButtonEl.disabled = true;  // To prevent multiple clicks.\n",
              "      quickchartButtonEl.classList.add('colab-df-spinner');\n",
              "      try {\n",
              "        const charts = await google.colab.kernel.invokeFunction(\n",
              "            'suggestCharts', [key], {});\n",
              "      } catch (error) {\n",
              "        console.error('Error during call to suggestCharts:', error);\n",
              "      }\n",
              "      quickchartButtonEl.classList.remove('colab-df-spinner');\n",
              "      quickchartButtonEl.classList.add('colab-df-quickchart-complete');\n",
              "    }\n",
              "    (() => {\n",
              "      let quickchartButtonEl =\n",
              "        document.querySelector('#df-037ffb22-0a24-4e2e-b462-b7e03503e093 button');\n",
              "      quickchartButtonEl.style.display =\n",
              "        google.colab.kernel.accessAllowed ? 'block' : 'none';\n",
              "    })();\n",
              "  </script>\n",
              "</div>\n",
              "    </div>\n",
              "  </div>\n"
            ]
          },
          "metadata": {},
          "execution_count": 26
        }
      ]
    },
    {
      "cell_type": "code",
      "source": [
        "df_issues_in_commits_with_critical_classes.info()"
      ],
      "metadata": {
        "colab": {
          "base_uri": "https://localhost:8080/"
        },
        "id": "fGu-1BkUmbEx",
        "outputId": "cd9e6bbd-6aa4-43a3-9101-6f526f24d196"
      },
      "execution_count": null,
      "outputs": [
        {
          "output_type": "stream",
          "name": "stdout",
          "text": [
            "<class 'pandas.core.frame.DataFrame'>\n",
            "Int64Index: 480 entries, 36 to 5901\n",
            "Data columns (total 10 columns):\n",
            " #   Column           Non-Null Count  Dtype          \n",
            "---  ------           --------------  -----          \n",
            " 0   issue_key        480 non-null    object         \n",
            " 1   issue_type       480 non-null    object         \n",
            " 2   status           480 non-null    object         \n",
            " 3   priority         480 non-null    object         \n",
            " 4   summary          480 non-null    object         \n",
            " 5   description      480 non-null    object         \n",
            " 6   comments         480 non-null    object         \n",
            " 7   created_date     480 non-null    datetime64[ns] \n",
            " 8   resolved_date    476 non-null    datetime64[ns] \n",
            " 9   time_resolution  476 non-null    timedelta64[ns]\n",
            "dtypes: datetime64[ns](2), object(7), timedelta64[ns](1)\n",
            "memory usage: 41.2+ KB\n"
          ]
        }
      ]
    },
    {
      "cell_type": "code",
      "source": [
        "df_issues_in_commits_with_critical_classes['time_resolution'] = df_issues_in_commits_with_critical_classes['resolved_date'] - df_issues_in_commits_with_critical_classes['created_date']"
      ],
      "metadata": {
        "id": "4zzcrv4LIoFP"
      },
      "execution_count": null,
      "outputs": []
    },
    {
      "cell_type": "code",
      "source": [
        "print('Gera arquivo .csv activemq_issues_in_commits_arquivos_criticos')\n",
        "df_issues_in_commits_with_critical_classes[colunas].to_csv('activemq_issues_in_commits_with_critical_classes.csv', index=False)"
      ],
      "metadata": {
        "id": "2BbFY66II1ER",
        "outputId": "1a48014c-6f89-41b5-912c-19a895fdb6a2",
        "colab": {
          "base_uri": "https://localhost:8080/"
        }
      },
      "execution_count": null,
      "outputs": [
        {
          "output_type": "stream",
          "name": "stdout",
          "text": [
            "Gera arquivo .csv activemq_issues_in_commits_arquivos_criticos\n"
          ]
        }
      ]
    },
    {
      "cell_type": "code",
      "source": [
        "df_issues_in_commits_with_critical_classes[colunas].to_excel('activemq_issues_in_commits_with_critical_classes.xlsx', index=False)"
      ],
      "metadata": {
        "id": "eZHhxypY5qPm"
      },
      "execution_count": null,
      "outputs": []
    },
    {
      "cell_type": "markdown",
      "source": [
        "# Seleciona amostra dos Issues"
      ],
      "metadata": {
        "id": "tSu8U-M7XJdg"
      }
    },
    {
      "cell_type": "code",
      "source": [
        "confidence_level = 0.95\n",
        "margin_of_error = 0.05\n",
        "population_proportion = 0.8\n",
        "population_size = len(df_issues_in_commits_with_critical_classes)\n",
        "\n",
        "sample_size = calculate_sample_size(confidence_level, margin_of_error, population_proportion, population_size)\n",
        "print(f'População de issues: {population_size}')\n",
        "print(f\"Sample size para inspeção: {sample_size}\")"
      ],
      "metadata": {
        "colab": {
          "base_uri": "https://localhost:8080/"
        },
        "id": "YsrUjy68VaC_",
        "outputId": "f9e86093-35f8-40b8-880b-80cd1bc02831"
      },
      "execution_count": null,
      "outputs": [
        {
          "output_type": "stream",
          "name": "stdout",
          "text": [
            "População de issues: 480\n",
            "Sample size para inspeção: 162\n"
          ]
        }
      ]
    },
    {
      "cell_type": "code",
      "source": [
        "sample_issues = select_issues_to_inspection(sample_size, df_issues_in_commits_with_critical_classes, my_date='02/11/2023')"
      ],
      "metadata": {
        "colab": {
          "base_uri": "https://localhost:8080/"
        },
        "id": "bBfy--OYYLWS",
        "outputId": "b344de70-1722-43e7-dea3-5b8d852468fb"
      },
      "execution_count": null,
      "outputs": [
        {
          "output_type": "stream",
          "name": "stdout",
          "text": [
            "162 para inspeção manual\n",
            "Relação de Issues salvos em 02/11/2023 para inspeção.\n"
          ]
        }
      ]
    },
    {
      "cell_type": "code",
      "source": [
        "generate_files_issues_to_inspection(sample_issues, df_issues_in_commits_with_critical_classes)"
      ],
      "metadata": {
        "colab": {
          "base_uri": "https://localhost:8080/"
        },
        "id": "g5-WsdGzfQpH",
        "outputId": "5c273f8b-655e-4712-d19a-46f182f5ae8a"
      },
      "execution_count": null,
      "outputs": [
        {
          "output_type": "stream",
          "name": "stderr",
          "text": [
            "\rAnalyzing issues:   0%|          | 0/480 [00:00<?, ?it/s]"
          ]
        },
        {
          "output_type": "stream",
          "name": "stdout",
          "text": [
            "File my_issues/AMQ-2183 created with success!\n",
            "File my_issues/AMQ-2091 created with success!\n",
            "File my_issues/AMQ-2343 created with success!\n",
            "File my_issues/AMQ-2327 created with success!\n",
            "File my_issues/AMQ-2322 created with success!\n",
            "File my_issues/AMQ-2321 created with success!\n",
            "File my_issues/AMQ-2314 created with success!\n",
            "File my_issues/AMQ-2314 created with success!\n",
            "File my_issues/AMQ-2283 created with success!\n",
            "File my_issues/AMQ-2262 created with success!\n",
            "File my_issues/AMQ-2245 created with success!\n",
            "File my_issues/AMQ-2484 created with success!\n",
            "File my_issues/AMQ-2484 created with success!\n"
          ]
        },
        {
          "output_type": "stream",
          "name": "stderr",
          "text": [
            "\rAnalyzing issues:  11%|█         | 52/480 [00:00<00:00, 510.10it/s]"
          ]
        },
        {
          "output_type": "stream",
          "name": "stdout",
          "text": [
            "File my_issues/AMQ-2468 created with success!\n",
            "File my_issues/AMQ-2435 created with success!\n",
            "File my_issues/AMQ-2403 created with success!\n",
            "File my_issues/AMQ-2400 created with success!\n",
            "File my_issues/AMQ-2704 created with success!\n",
            "File my_issues/AMQ-2632 created with success!\n",
            "File my_issues/AMQ-2610 created with success!\n",
            "File my_issues/AMQ-2574 created with success!\n",
            "File my_issues/AMQ-2572 created with success!\n",
            "File my_issues/AMQ-2571 created with success!\n",
            "File my_issues/AMQ-2870 created with success!\n",
            "File my_issues/AMQ-2719 created with success!\n",
            "File my_issues/AMQ-3020 created with success!\n",
            "File my_issues/AMQ-3004 created with success!\n"
          ]
        },
        {
          "output_type": "stream",
          "name": "stderr",
          "text": [
            "\rAnalyzing issues:  22%|██▏       | 106/480 [00:00<00:00, 523.98it/s]"
          ]
        },
        {
          "output_type": "stream",
          "name": "stdout",
          "text": [
            "File my_issues/AMQ-2952 created with success!\n",
            "File my_issues/AMQ-3274 created with success!\n",
            "File my_issues/AMQ-3236 created with success!\n",
            "File my_issues/AMQ-3236 created with success!\n",
            "File my_issues/AMQ-3233 created with success!\n",
            "File my_issues/AMQ-3220 created with success!\n",
            "File my_issues/AMQ-3219 created with success!\n",
            "File my_issues/AMQ-3188 created with success!\n",
            "File my_issues/AMQ-3182 created with success!\n",
            "File my_issues/AMQ-3168 created with success!\n",
            "File my_issues/AMQ-3168 created with success!\n",
            "File my_issues/AMQ-3135 created with success!\n",
            "File my_issues/AMQ-3129 created with success!\n",
            "File my_issues/AMQ-3129 created with success!\n",
            "File my_issues/AMQ-3129 created with success!\n",
            "File my_issues/AMQ-3125 created with success!\n",
            "File my_issues/AMQ-3124 created with success!\n",
            "File my_issues/AMQ-3451 created with success!\n",
            "File my_issues/AMQ-3431 created with success!\n",
            "File my_issues/AMQ-3362 created with success!\n"
          ]
        },
        {
          "output_type": "stream",
          "name": "stderr",
          "text": [
            "\rAnalyzing issues:  33%|███▎      | 159/480 [00:00<00:00, 516.86it/s]"
          ]
        },
        {
          "output_type": "stream",
          "name": "stdout",
          "text": [
            "File my_issues/AMQ-3351 created with success!\n",
            "File my_issues/AMQ-3351 created with success!\n",
            "File my_issues/AMQ-3310 created with success!\n",
            "File my_issues/AMQ-3609 created with success!\n",
            "File my_issues/AMQ-3573 created with success!\n",
            "File my_issues/AMQ-3551 created with success!\n",
            "File my_issues/AMQ-3758 created with success!\n",
            "File my_issues/AMQ-3746 created with success!\n",
            "File my_issues/AMQ-3734 created with success!\n",
            "File my_issues/AMQ-3733 created with success!\n",
            "File my_issues/AMQ-3716 created with success!\n",
            "File my_issues/AMQ-3707 created with success!\n",
            "File my_issues/AMQ-3707 created with success!\n",
            "File my_issues/AMQ-3695 created with success!\n",
            "File my_issues/AMQ-3694 created with success!\n",
            "File my_issues/AMQ-3918 created with success!\n"
          ]
        },
        {
          "output_type": "stream",
          "name": "stderr",
          "text": [
            "\rAnalyzing issues:  45%|████▌     | 216/480 [00:00<00:00, 536.34it/s]"
          ]
        },
        {
          "output_type": "stream",
          "name": "stdout",
          "text": [
            "File my_issues/AMQ-3871 created with success!\n",
            "File my_issues/AMQ-4191 created with success!\n",
            "File my_issues/AMQ-4149 created with success!\n",
            "File my_issues/AMQ-4044 created with success!\n",
            "File my_issues/AMQ-4024 created with success!\n",
            "File my_issues/AMQ-4017 created with success!\n",
            "File my_issues/AMQ-4015 created with success!\n",
            "File my_issues/AMQ-4012 created with success!\n",
            "File my_issues/AMQ-4008 created with success!\n",
            "File my_issues/AMQ-4408 created with success!\n",
            "File my_issues/AMQ-4372 created with success!\n",
            "File my_issues/AMQ-4328 created with success!\n",
            "File my_issues/AMQ-4237 created with success!\n",
            "File my_issues/AMQ-4656 created with success!\n",
            "File my_issues/AMQ-4638 created with success!\n",
            "File my_issues/AMQ-4575 created with success!\n",
            "File my_issues/AMQ-4487 created with success!\n"
          ]
        },
        {
          "output_type": "stream",
          "name": "stderr",
          "text": [
            "\rAnalyzing issues:  58%|█████▊    | 277/480 [00:00<00:00, 558.60it/s]"
          ]
        },
        {
          "output_type": "stream",
          "name": "stdout",
          "text": [
            "File my_issues/AMQ-4825 created with success!\n",
            "File my_issues/AMQ-4823 created with success!\n",
            "File my_issues/AMQ-4689 created with success!\n",
            "File my_issues/AMQ-4689 created with success!\n",
            "File my_issues/AMQ-4676 created with success!\n",
            "File my_issues/AMQ-4676 created with success!\n",
            "File my_issues/AMQ-5086 created with success!\n",
            "File my_issues/AMQ-5070 created with success!\n",
            "File my_issues/AMQ-5052 created with success!\n",
            "File my_issues/AMQ-4924 created with success!\n",
            "File my_issues/AMQ-5274 created with success!\n",
            "File my_issues/AMQ-5266 created with success!\n",
            "File my_issues/AMQ-5229 created with success!\n",
            "File my_issues/AMQ-5160 created with success!\n",
            "File my_issues/AMQ-5160 created with success!\n",
            "File my_issues/AMQ-5149 created with success!\n",
            "File my_issues/AMQ-5433 created with success!\n",
            "File my_issues/AMQ-5433 created with success!\n",
            "File my_issues/AMQ-5417 created with success!\n",
            "File my_issues/AMQ-5393 created with success!\n",
            "File my_issues/AMQ-5689 created with success!\n",
            "File my_issues/AMQ-5672 created with success!\n",
            "File my_issues/AMQ-5672 created with success!\n",
            "File my_issues/AMQ-5659 created with success!\n"
          ]
        },
        {
          "output_type": "stream",
          "name": "stderr",
          "text": [
            "\rAnalyzing issues:  70%|███████   | 336/480 [00:00<00:00, 566.20it/s]"
          ]
        },
        {
          "output_type": "stream",
          "name": "stdout",
          "text": [
            "File my_issues/AMQ-5639 created with success!\n",
            "File my_issues/AMQ-5630 created with success!\n",
            "File my_issues/AMQ-5616 created with success!\n",
            "File my_issues/AMQ-5505 created with success!\n",
            "File my_issues/AMQ-5848 created with success!\n",
            "File my_issues/AMQ-5837 created with success!\n",
            "File my_issues/AMQ-5830 created with success!\n",
            "File my_issues/AMQ-5813 created with success!\n",
            "File my_issues/AMQ-5735 created with success!\n",
            "File my_issues/AMQ-6005 created with success!\n",
            "File my_issues/AMQ-6004 created with success!\n",
            "File my_issues/AMQ-5967 created with success!\n",
            "File my_issues/AMQ-5965 created with success!\n",
            "File my_issues/AMQ-6222 created with success!\n",
            "File my_issues/AMQ-6222 created with success!\n",
            "File my_issues/AMQ-6215 created with success!\n",
            "File my_issues/AMQ-6171 created with success!\n",
            "File my_issues/AMQ-6164 created with success!\n",
            "File my_issues/AMQ-6128 created with success!\n",
            "File my_issues/AMQ-6331 created with success!\n",
            "File my_issues/AMQ-6286 created with success!\n",
            "File my_issues/AMQ-6256 created with success!\n",
            "File my_issues/AMQ-6247 created with success!\n",
            "File my_issues/AMQ-6500 created with success!\n",
            "File my_issues/AMQ-6500 created with success!\n",
            "File my_issues/AMQ-6477 created with success!\n",
            "File my_issues/AMQ-6476 created with success!\n",
            "File my_issues/AMQ-6465 created with success!\n"
          ]
        },
        {
          "output_type": "stream",
          "name": "stderr",
          "text": [
            "\rAnalyzing issues:  82%|████████▏ | 393/480 [00:00<00:00, 565.75it/s]"
          ]
        },
        {
          "output_type": "stream",
          "name": "stdout",
          "text": [
            "File my_issues/AMQ-6441 created with success!\n",
            "File my_issues/AMQ-6406 created with success!\n",
            "File my_issues/AMQ-6381 created with success!\n",
            "File my_issues/AMQ-6577 created with success!\n",
            "File my_issues/AMQ-6707 created with success!\n",
            "File my_issues/AMQ-6703 created with success!\n",
            "File my_issues/AMQ-6703 created with success!\n",
            "File my_issues/AMQ-6687 created with success!\n",
            "File my_issues/AMQ-6667 created with success!\n",
            "File my_issues/AMQ-6665 created with success!\n",
            "File my_issues/AMQ-6849 created with success!\n",
            "File my_issues/AMQ-6847 created with success!\n",
            "File my_issues/AMQ-6788 created with success!\n",
            "File my_issues/AMQ-6788 created with success!\n",
            "File my_issues/AMQ-6880 created with success!\n",
            "File my_issues/AMQ-6947 created with success!\n",
            "File my_issues/AMQ-7035 created with success!\n",
            "File my_issues/AMQ-7142 created with success!\n"
          ]
        },
        {
          "output_type": "stream",
          "name": "stderr",
          "text": [
            "\rAnalyzing issues:  94%|█████████▍| 450/480 [00:00<00:00, 541.43it/s]"
          ]
        },
        {
          "output_type": "stream",
          "name": "stdout",
          "text": [
            "File my_issues/AMQ-7228 created with success!\n",
            "File my_issues/AMQ-7193 created with success!\n",
            "File my_issues/AMQ-7185 created with success!\n",
            "File my_issues/AMQ-7302 created with success!\n",
            "File my_issues/AMQ-7301 created with success!\n",
            "File my_issues/AMQ-7493 created with success!\n"
          ]
        },
        {
          "output_type": "stream",
          "name": "stderr",
          "text": [
            "\rAnalyzing issues: 100%|██████████| 480/480 [00:00<00:00, 547.15it/s]"
          ]
        },
        {
          "output_type": "stream",
          "name": "stdout",
          "text": [
            "File my_issues/AMQ-7438 created with success!\n",
            "File my_issues/AMQ-8117 created with success!\n",
            "File my_issues/AMQ-8316 created with success!\n",
            "File my_issues/AMQ-8413 created with success!\n",
            "File my_issues/AMQ-8976 created with success!\n",
            "File my_issues/AMQ-9157 created with success!\n",
            "Foram criados 162 arquivos para inspeção\n"
          ]
        },
        {
          "output_type": "stream",
          "name": "stderr",
          "text": [
            "\n"
          ]
        }
      ]
    },
    {
      "cell_type": "code",
      "source": [
        "!zip -r my_issues.zip my_issues"
      ],
      "metadata": {
        "colab": {
          "base_uri": "https://localhost:8080/"
        },
        "id": "JJfW2I7Jm_8T",
        "outputId": "179da7f0-f97c-478d-a5a4-88e41d2b2afd"
      },
      "execution_count": null,
      "outputs": [
        {
          "output_type": "stream",
          "name": "stdout",
          "text": [
            "  adding: my_issues/ (stored 0%)\n",
            "  adding: my_issues/AMQ-6171 (deflated 39%)\n",
            "  adding: my_issues/AMQ-4924 (deflated 58%)\n",
            "  adding: my_issues/AMQ-5659 (deflated 62%)\n",
            "  adding: my_issues/AMQ-5813 (deflated 53%)\n",
            "  adding: my_issues/AMQ-2183 (deflated 52%)\n",
            "  adding: my_issues/AMQ-6406 (deflated 53%)\n",
            "  adding: my_issues/AMQ-5417 (deflated 44%)\n",
            "  adding: my_issues/AMQ-6331 (deflated 52%)\n",
            "  adding: my_issues/AMQ-6247 (deflated 45%)\n",
            "  adding: my_issues/AMQ-5070 (deflated 38%)\n",
            "  adding: my_issues/AMQ-3020 (deflated 42%)\n",
            "  adding: my_issues/AMQ-3733 (deflated 47%)\n",
            "  adding: my_issues/AMQ-6256 (deflated 64%)\n",
            "  adding: my_issues/AMQ-8976 (deflated 29%)\n",
            "  adding: my_issues/AMQ-7438 (deflated 63%)\n",
            "  adding: my_issues/AMQ-4638 (deflated 26%)\n",
            "  adding: my_issues/AMQ-3362 (deflated 46%)\n",
            "  adding: my_issues/AMQ-6500 (deflated 61%)\n",
            "  adding: my_issues/AMQ-3609 (deflated 39%)\n",
            "  adding: my_issues/AMQ-2314 (deflated 49%)\n",
            "  adding: my_issues/AMQ-4656 (deflated 71%)\n",
            "  adding: my_issues/AMQ-2610 (deflated 48%)\n",
            "  adding: my_issues/AMQ-3188 (deflated 41%)\n",
            "  adding: my_issues/AMQ-8316 (deflated 34%)\n",
            "  adding: my_issues/AMQ-2321 (deflated 51%)\n",
            "  adding: my_issues/AMQ-6847 (deflated 60%)\n",
            "  adding: my_issues/AMQ-2262 (deflated 47%)\n",
            "  adding: my_issues/AMQ-2091 (deflated 69%)\n",
            "  adding: my_issues/AMQ-4149 (deflated 50%)\n",
            "  adding: my_issues/AMQ-4825 (deflated 47%)\n",
            "  adding: my_issues/AMQ-4408 (deflated 39%)\n",
            "  adding: my_issues/AMQ-2343 (deflated 42%)\n",
            "  adding: my_issues/AMQ-5433 (deflated 53%)\n",
            "  adding: my_issues/AMQ-5689 (deflated 45%)\n",
            "  adding: my_issues/AMQ-3573 (deflated 54%)\n",
            "  adding: my_issues/AMQ-9157 (deflated 60%)\n",
            "  adding: my_issues/AMQ-5630 (deflated 39%)\n",
            "  adding: my_issues/AMQ-7193 (deflated 55%)\n",
            "  adding: my_issues/AMQ-6477 (deflated 57%)\n",
            "  adding: my_issues/AMQ-6707 (deflated 60%)\n",
            "  adding: my_issues/AMQ-4487 (deflated 56%)\n",
            "  adding: my_issues/AMQ-2435 (deflated 57%)\n",
            "  adding: my_issues/AMQ-6577 (deflated 66%)\n",
            "  adding: my_issues/AMQ-3004 (deflated 52%)\n",
            "  adding: my_issues/AMQ-5160 (deflated 53%)\n",
            "  adding: my_issues/AMQ-3135 (deflated 65%)\n",
            "  adding: my_issues/AMQ-3182 (deflated 38%)\n",
            "  adding: my_issues/AMQ-5505 (deflated 50%)\n",
            "  adding: my_issues/AMQ-6465 (deflated 64%)\n",
            "  adding: my_issues/AMQ-7228 (deflated 53%)\n",
            "  adding: my_issues/AMQ-3716 (deflated 35%)\n",
            "  adding: my_issues/AMQ-3758 (deflated 54%)\n",
            "  adding: my_issues/AMQ-7301 (deflated 72%)\n",
            "  adding: my_issues/AMQ-2870 (deflated 47%)\n",
            "  adding: my_issues/AMQ-4575 (deflated 64%)\n",
            "  adding: my_issues/AMQ-2327 (deflated 41%)\n",
            "  adding: my_issues/AMQ-2245 (deflated 60%)\n",
            "  adding: my_issues/AMQ-6222 (deflated 64%)\n",
            "  adding: my_issues/AMQ-7185 (deflated 51%)\n",
            "  adding: my_issues/AMQ-6687 (deflated 47%)\n",
            "  adding: my_issues/AMQ-3451 (deflated 56%)\n",
            "  adding: my_issues/AMQ-4024 (deflated 45%)\n",
            "  adding: my_issues/AMQ-4689 (deflated 47%)\n",
            "  adding: my_issues/AMQ-6788 (deflated 52%)\n",
            "  adding: my_issues/AMQ-8117 (deflated 59%)\n",
            "  adding: my_issues/AMQ-3125 (deflated 40%)\n",
            "  adding: my_issues/AMQ-6005 (deflated 53%)\n",
            "  adding: my_issues/AMQ-5967 (deflated 56%)\n",
            "  adding: my_issues/AMQ-6441 (deflated 54%)\n",
            "  adding: my_issues/AMQ-3431 (deflated 27%)\n",
            "  adding: my_issues/AMQ-2719 (deflated 43%)\n",
            "  adding: my_issues/AMQ-2572 (deflated 49%)\n",
            "  adding: my_issues/AMQ-3707 (deflated 58%)\n",
            "  adding: my_issues/AMQ-5616 (deflated 47%)\n",
            "  adding: my_issues/AMQ-6665 (deflated 49%)\n",
            "  adding: my_issues/AMQ-5274 (deflated 49%)\n",
            "  adding: my_issues/AMQ-3746 (deflated 62%)\n",
            "  adding: my_issues/AMQ-4676 (deflated 49%)\n",
            "  adding: my_issues/AMQ-5639 (deflated 49%)\n",
            "  adding: my_issues/AMQ-7302 (deflated 45%)\n",
            "  adding: my_issues/AMQ-2403 (deflated 36%)\n",
            "  adding: my_issues/AMQ-2322 (deflated 60%)\n",
            "  adding: my_issues/AMQ-4017 (deflated 52%)\n",
            "  adding: my_issues/AMQ-5848 (deflated 54%)\n",
            "  adding: my_issues/AMQ-7142 (deflated 62%)\n",
            "  adding: my_issues/AMQ-2704 (deflated 50%)\n",
            "  adding: my_issues/AMQ-4237 (deflated 54%)\n",
            "  adding: my_issues/AMQ-6849 (deflated 50%)\n",
            "  adding: my_issues/AMQ-8413 (deflated 63%)\n",
            "  adding: my_issues/AMQ-6286 (deflated 62%)\n",
            "  adding: my_issues/AMQ-3219 (deflated 25%)\n",
            "  adding: my_issues/AMQ-5830 (deflated 53%)\n",
            "  adding: my_issues/AMQ-5149 (deflated 44%)\n",
            "  adding: my_issues/AMQ-4008 (deflated 48%)\n",
            "  adding: my_issues/AMQ-3871 (deflated 50%)\n",
            "  adding: my_issues/AMQ-6947 (deflated 70%)\n",
            "  adding: my_issues/AMQ-6703 (deflated 51%)\n",
            "  adding: my_issues/AMQ-3694 (deflated 48%)\n",
            "  adding: my_issues/AMQ-2283 (deflated 54%)\n",
            "  adding: my_issues/AMQ-3236 (deflated 63%)\n",
            "  adding: my_issues/AMQ-4191 (deflated 43%)\n",
            "  adding: my_issues/AMQ-7493 (deflated 64%)\n",
            "  adding: my_issues/AMQ-6128 (deflated 38%)\n",
            "  adding: my_issues/AMQ-2632 (deflated 62%)\n",
            "  adding: my_issues/AMQ-2952 (deflated 53%)\n",
            "  adding: my_issues/AMQ-6164 (deflated 52%)\n",
            "  adding: my_issues/AMQ-4012 (deflated 26%)\n",
            "  adding: my_issues/AMQ-2484 (deflated 47%)\n",
            "  adding: my_issues/AMQ-7035 (deflated 55%)\n",
            "  adding: my_issues/AMQ-3220 (deflated 31%)\n",
            "  adding: my_issues/AMQ-5837 (deflated 57%)\n",
            "  adding: my_issues/AMQ-3695 (deflated 49%)\n",
            "  adding: my_issues/AMQ-3129 (deflated 42%)\n",
            "  adding: my_issues/AMQ-5965 (deflated 53%)\n",
            "  adding: my_issues/AMQ-2468 (deflated 49%)\n",
            "  adding: my_issues/AMQ-4015 (deflated 33%)\n",
            "  adding: my_issues/AMQ-5735 (deflated 50%)\n",
            "  adding: my_issues/AMQ-4328 (deflated 57%)\n",
            "  adding: my_issues/AMQ-5229 (deflated 50%)\n",
            "  adding: my_issues/AMQ-3310 (deflated 58%)\n",
            "  adding: my_issues/AMQ-3274 (deflated 59%)\n",
            "  adding: my_issues/AMQ-5672 (deflated 56%)\n",
            "  adding: my_issues/AMQ-3351 (deflated 49%)\n",
            "  adding: my_issues/AMQ-6381 (deflated 41%)\n",
            "  adding: my_issues/AMQ-5393 (deflated 58%)\n",
            "  adding: my_issues/AMQ-4372 (deflated 56%)\n",
            "  adding: my_issues/AMQ-5052 (deflated 62%)\n",
            "  adding: my_issues/AMQ-6215 (deflated 57%)\n",
            "  adding: my_issues/AMQ-3124 (deflated 47%)\n",
            "  adding: my_issues/AMQ-2574 (deflated 55%)\n",
            "  adding: my_issues/AMQ-5266 (deflated 46%)\n",
            "  adding: my_issues/AMQ-2400 (deflated 51%)\n",
            "  adding: my_issues/AMQ-3918 (deflated 42%)\n",
            "  adding: my_issues/AMQ-4044 (deflated 67%)\n",
            "  adding: my_issues/AMQ-6476 (deflated 58%)\n",
            "  adding: my_issues/AMQ-6880 (deflated 44%)\n",
            "  adding: my_issues/AMQ-3168 (deflated 46%)\n",
            "  adding: my_issues/AMQ-6667 (deflated 46%)\n",
            "  adding: my_issues/AMQ-6004 (deflated 56%)\n",
            "  adding: my_issues/AMQ-3551 (deflated 42%)\n",
            "  adding: my_issues/AMQ-3734 (deflated 48%)\n",
            "  adding: my_issues/AMQ-3233 (deflated 46%)\n",
            "  adding: my_issues/AMQ-5086 (deflated 52%)\n",
            "  adding: my_issues/AMQ-4823 (deflated 34%)\n",
            "  adding: my_issues/AMQ-2571 (deflated 50%)\n"
          ]
        }
      ]
    }
  ]
}