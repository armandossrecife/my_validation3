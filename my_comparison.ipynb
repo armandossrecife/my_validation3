{
  "cells": [
    {
      "cell_type": "markdown",
      "metadata": {
        "colab_type": "text",
        "id": "view-in-github"
      },
      "source": [
        "<a href=\"https://colab.research.google.com/github/armandossrecife/my_validation3/blob/main/my_comparison.ipynb\" target=\"_parent\"><img src=\"https://colab.research.google.com/assets/colab-badge.svg\" alt=\"Open In Colab\"/></a>"
      ]
    },
    {
      "cell_type": "markdown",
      "metadata": {
        "id": "YNo-FsAFnvcw"
      },
      "source": [
        "# Compara os Repositórios\n",
        "\n",
        "## Analisa os commits e issues dos Repositórios para checar as  classes impactadas por ATD:\n",
        "\n",
        "| id | Property | RP1 | RP2 | RP3 | RP4 |\n",
        "|---|---|---|---|---|---|\n",
        "| 1 | name | Cassandra | Kafka | ActiveMQ | Hadoop |\n",
        "| 2 | files | 4998 | 5648 | 5174 | 14970 |\n",
        "| 3 | LOC files | 1055561 | 874543 | 466706 | 4323485 |\n",
        "| 4 | java files | 4459 | 4350 | 4367 | 11811 |\n",
        "| 5 | LOC java | 680827 | 649612 | 417291 | 1889967 |\n",
        "| 6 | QTD commits | 29142 | 11810 | 11537 | 26945 |\n",
        "| 7 | QTD releases | 297 | 65 | 85 | 374 |\n",
        "| 8 | Life span | 14.53 | 12 | 14 | 14 |\n",
        "| 9 | stars | 8200 | 26100 | 2200 | 13900 |\n",
        "| 10 | forks | 3500 | 13000 | 1400 | 8600 |\n",
        "| 11 | colaborators | 426 | 1062 | 130 | 552 |"
      ]
    },
    {
      "cell_type": "markdown",
      "metadata": {
        "id": "cMYvGim4bJgu"
      },
      "source": [
        "# Import Dataset\n",
        "\n",
        "Cassandra\n",
        "\n",
        "Kakfa\n",
        "\n",
        "ActiveMQ"
      ]
    },
    {
      "cell_type": "code",
      "execution_count": null,
      "metadata": {
        "colab": {
          "base_uri": "https://localhost:8080/"
        },
        "id": "SefR5oozYWVz",
        "outputId": "8a5ce27e-df26-4849-c386-8747701f92b4"
      },
      "outputs": [],
      "source": [
        "# Dataset Cassandra\n",
        "!wget https://raw.githubusercontent.com/armandossrecife/my_validation3/main/cassandra/cassandra_commits_arquivos_criticos.xlsx\n",
        "!wget https://raw.githubusercontent.com/armandossrecife/my_validation3/main/cassandra/cassandra_issues_in_commits_arquivos_criticos.xlsx\n",
        "!wget https://raw.githubusercontent.com/armandossrecife/my_validation3/main/cassandra/my_issues_to_inspection_cassandra.zip\n",
        "!wget https://raw.githubusercontent.com/armandossrecife/my_validation3/main/cassandra/my_results_inspection_cassandra.zip\n",
        "!wget https://raw.githubusercontent.com/armandossrecife/my_validation3/main/cassandra/cassandra_issues_inspected.xlsx\n",
        "\n",
        "\n",
        "# Dataset Kafka\n",
        "!wget https://raw.githubusercontent.com/armandossrecife/my_validation3/main/kafka/kafka_commits_with_critical_classes.xlsx\n",
        "!wget https://raw.githubusercontent.com/armandossrecife/my_validation3/main/kafka/kafka_issues_in_commits_with_critical_classes.xlsx\n",
        "!wget https://raw.githubusercontent.com/armandossrecife/my_validation3/main/kafka/my_issues_to_inspection_kafka.zip\n",
        "\n",
        "# Dataset ActiveMQ\n",
        "!wget https://raw.githubusercontent.com/armandossrecife/my_validation3/main/activemq/activemq_commits_with_critical_classes.xlsx\n",
        "!wget https://raw.githubusercontent.com/armandossrecife/my_validation3/main/activemq/activemq_issues_in_commits_with_critical_classes.xlsx\n",
        "!wget https://raw.githubusercontent.com/armandossrecife/my_validation3/main/activemq/my_issues_to_inspection_activemq.zip\n",
        "!wget https://raw.githubusercontent.com/armandossrecife/my_validation3/main/cassandra/my_results_inspection_activemq.zip\n",
        "!wget https://raw.githubusercontent.com/armandossrecife/my_validation3/main/cassandra/activemq_issues_inspected.xlsx"
      ]
    },
    {
      "cell_type": "code",
      "execution_count": null,
      "metadata": {
        "id": "mn6AODIdZr1I"
      },
      "outputs": [],
      "source": [
        "#!rm -rf *.xlsx"
      ]
    },
    {
      "cell_type": "markdown",
      "metadata": {
        "id": "g_d3ha8zbXk0"
      },
      "source": [
        "# Cria os Dataframes para análises"
      ]
    },
    {
      "cell_type": "code",
      "execution_count": null,
      "metadata": {
        "id": "G-y_HreVbjDo"
      },
      "outputs": [],
      "source": [
        "import pandas as pd\n",
        "\n",
        "df_cassandra_commits_critical_classes = pd.read_excel('cassandra_commits_arquivos_criticos.xlsx')\n",
        "df_kafka_commits_critical_classes = pd.read_excel('kafka_commits_with_critical_classes.xlsx')\n",
        "df_activemq_commits_critical_classes = pd.read_excel('activemq_commits_with_critical_classes.xlsx')\n",
        "\n",
        "df_cassandra_issues_commits_critical_classes = pd.read_excel('cassandra_issues_in_commits_arquivos_criticos.xlsx')\n",
        "df_kafka_issues_commits_critical_classes = pd.read_excel('kafka_issues_in_commits_with_critical_classes.xlsx')\n",
        "df_activemq_issues_commits_critical_classes = pd.read_excel('activemq_issues_in_commits_with_critical_classes.xlsx')\n",
        "\n",
        "df_cassandra_issues_inspected = pd.read_excel('cassandra_issues_inspected.xlsx')\n",
        "df_activemq_issues_inspected = pd.read_excel('activemq_issues_inspected.xlsx')"
      ]
    },
    {
      "cell_type": "markdown",
      "metadata": {
        "id": "gJdGsurthOhi"
      },
      "source": [
        "# Importa arquivos de inspeção"
      ]
    },
    {
      "cell_type": "markdown",
      "metadata": {
        "id": "Nj_cPcJ4f0X5"
      },
      "source": [
        "## Importa os arquivos com os issues para inspecionar"
      ]
    },
    {
      "cell_type": "code",
      "execution_count": null,
      "metadata": {
        "id": "Ar_3EPPheQbX"
      },
      "outputs": [],
      "source": [
        "#!rm -rf my_issues_cassandra\n",
        "#!rm -rf my_issues_kafka\n",
        "#!rm -rf my_issues_activemq"
      ]
    },
    {
      "cell_type": "code",
      "execution_count": null,
      "metadata": {
        "colab": {
          "base_uri": "https://localhost:8080/"
        },
        "id": "PFKTacnadaDa",
        "outputId": "5ff7b01e-05a6-40f5-bbf3-12ece4753dea"
      },
      "outputs": [
        {
          "name": "stdout",
          "output_type": "stream",
          "text": [
            "Qtd de issues do Cassandra para inspecionar: 226\n",
            "Qtd de issues do Kafka para inspecionar: 179\n",
            "Qtd de issues do ActiveMQ para inspecionar: 132\n"
          ]
        }
      ],
      "source": [
        "!mkdir my_issues_cassandra\n",
        "!unzip -q -d my_issues_cassandra my_issues_to_inspection_cassandra.zip\n",
        "qtd_t1 = !ls -l my_issues_cassandra/my_issues\n",
        "print(f'Qtd de issues do Cassandra para inspecionar: {len(qtd_t1)-1}')\n",
        "\n",
        "!mkdir my_issues_kafka\n",
        "!unzip -q -d my_issues_kafka my_issues_to_inspection_kafka.zip\n",
        "qtd_t2 = !ls -l my_issues_kafka/my_issues\n",
        "print(f'Qtd de issues do Kafka para inspecionar: {len(qtd_t2)-1}')\n",
        "\n",
        "!mkdir my_issues_activemq\n",
        "!unzip -q -d my_issues_activemq my_issues_to_inspection_activemq.zip\n",
        "qtd_t3 = !ls -l my_issues_activemq/my_issues\n",
        "print(f'Qtd de issues do ActiveMQ para inspecionar: {len(qtd_t3)-1}')"
      ]
    },
    {
      "cell_type": "markdown",
      "metadata": {
        "id": "A0aC4lwrf7qV"
      },
      "source": [
        "## Importa os resultados e justificativas dos issues inspecionados"
      ]
    },
    {
      "cell_type": "code",
      "execution_count": null,
      "metadata": {
        "id": "lDxvD8uYfLEN"
      },
      "outputs": [],
      "source": [
        "!mkdir my_inspected_issues_cassandra\n",
        "!unzip -q -d my_inspected_issues_cassandra my_results_inspection_cassandra.zip\n",
        "qtd_i1 = !ls -l my_inspected_issues_cassandra/merge_i1_i2\n",
        "print(f'Qtd de issues do Cassandra inspecionados: {len(qtd_i1)-1}')"
      ]
    },
    {
      "cell_type": "code",
      "execution_count": null,
      "metadata": {},
      "outputs": [],
      "source": [
        "!mkdir my_inspected_issues_activemq\n",
        "!unzip -q -d my_inspected_issues_activemq my_results_inspection_activemq.zip\n",
        "qtd_i2 = !ls -l my_inspected_issues_activemq/my_inspection\n",
        "print(f'Qtd de issues do ActiveMQ inspecionados: {len(qtd_i2)-1}')"
      ]
    }
  ],
  "metadata": {
    "colab": {
      "authorship_tag": "ABX9TyO20ZscJ8ELGpOMNdATaXA5",
      "collapsed_sections": [
        "cMYvGim4bJgu",
        "g_d3ha8zbXk0",
        "Nj_cPcJ4f0X5",
        "A0aC4lwrf7qV"
      ],
      "include_colab_link": true,
      "provenance": []
    },
    "kernelspec": {
      "display_name": "Python 3",
      "name": "python3"
    },
    "language_info": {
      "codemirror_mode": {
        "name": "ipython",
        "version": 3
      },
      "file_extension": ".py",
      "mimetype": "text/x-python",
      "name": "python",
      "nbconvert_exporter": "python",
      "pygments_lexer": "ipython3",
      "version": "3.10.8"
    }
  },
  "nbformat": 4,
  "nbformat_minor": 0
}
