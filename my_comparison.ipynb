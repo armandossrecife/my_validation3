{
  "nbformat": 4,
  "nbformat_minor": 0,
  "metadata": {
    "colab": {
      "provenance": [],
      "collapsed_sections": [
        "cMYvGim4bJgu",
        "g_d3ha8zbXk0",
        "Nj_cPcJ4f0X5",
        "A0aC4lwrf7qV"
      ],
      "authorship_tag": "ABX9TyO20ZscJ8ELGpOMNdATaXA5",
      "include_colab_link": true
    },
    "kernelspec": {
      "name": "python3",
      "display_name": "Python 3"
    },
    "language_info": {
      "name": "python"
    }
  },
  "cells": [
    {
      "cell_type": "markdown",
      "metadata": {
        "id": "view-in-github",
        "colab_type": "text"
      },
      "source": [
        "<a href=\"https://colab.research.google.com/github/armandossrecife/my_validation3/blob/main/my_comparison.ipynb\" target=\"_parent\"><img src=\"https://colab.research.google.com/assets/colab-badge.svg\" alt=\"Open In Colab\"/></a>"
      ]
    },
    {
      "cell_type": "markdown",
      "source": [
        "# Compara os Repositórios\n",
        "\n",
        "## Analisa os commits e issues dos Repositórios para checar as  classes impactadas por ATD:\n",
        "\n",
        "| id | Property | RP1 | RP2 | RP3 | RP4 |\n",
        "|---|---|---|---|---|---|\n",
        "| 1 | name | Cassandra | Kafka | ActiveMQ | Hadoop |\n",
        "| 2 | files | 4998 | 5648 | 5174 | 14970 |\n",
        "| 3 | LOC files | 1055561 | 874543 | 466706 | 4323485 |\n",
        "| 4 | java files | 4459 | 4350 | 4367 | 11811 |\n",
        "| 5 | LOC java | 680827 | 649612 | 417291 | 1889967 |\n",
        "| 6 | QTD commits | 29142 | 11810 | 11537 | 26945 |\n",
        "| 7 | QTD releases | 297 | 65 | 85 | 374 |\n",
        "| 8 | Life span | 14.53 | 12 | 14 | 14 |\n",
        "| 9 | stars | 8200 | 26100 | 2200 | 13900 |\n",
        "| 10 | forks | 3500 | 13000 | 1400 | 8600 |\n",
        "| 11 | colaborators | 426 | 1062 | 130 | 552 |"
      ],
      "metadata": {
        "id": "YNo-FsAFnvcw"
      }
    },
    {
      "cell_type": "markdown",
      "source": [
        "# Import Dataset\n",
        "\n",
        "Cassandra\n",
        "\n",
        "Kakfa\n",
        "\n",
        "ActiveMQ"
      ],
      "metadata": {
        "id": "cMYvGim4bJgu"
      }
    },
    {
      "cell_type": "code",
      "execution_count": null,
      "metadata": {
        "colab": {
          "base_uri": "https://localhost:8080/"
        },
        "id": "SefR5oozYWVz",
        "outputId": "8a5ce27e-df26-4849-c386-8747701f92b4"
      },
      "outputs": [
        {
          "output_type": "stream",
          "name": "stdout",
          "text": [
            "--2023-11-02 19:32:47--  https://raw.githubusercontent.com/armandossrecife/my_validation3/main/cassandra_commits_arquivos_criticos.xlsx\n",
            "Resolving raw.githubusercontent.com (raw.githubusercontent.com)... 185.199.110.133, 185.199.111.133, 185.199.108.133, ...\n",
            "Connecting to raw.githubusercontent.com (raw.githubusercontent.com)|185.199.110.133|:443... connected.\n",
            "HTTP request sent, awaiting response... 200 OK\n",
            "Length: 13233731 (13M) [application/octet-stream]\n",
            "Saving to: ‘cassandra_commits_arquivos_criticos.xlsx’\n",
            "\n",
            "\r          cassandra   0%[                    ]       0  --.-KB/s               \rcassandra_commits_a 100%[===================>]  12.62M  --.-KB/s    in 0.08s   \n",
            "\n",
            "2023-11-02 19:32:47 (158 MB/s) - ‘cassandra_commits_arquivos_criticos.xlsx’ saved [13233731/13233731]\n",
            "\n",
            "--2023-11-02 19:32:47--  https://raw.githubusercontent.com/armandossrecife/my_validation3/main/cassandra_issues_in_commits_arquivos_criticos.xlsx\n",
            "Resolving raw.githubusercontent.com (raw.githubusercontent.com)... 185.199.108.133, 185.199.109.133, 185.199.110.133, ...\n",
            "Connecting to raw.githubusercontent.com (raw.githubusercontent.com)|185.199.108.133|:443... connected.\n",
            "HTTP request sent, awaiting response... 200 OK\n",
            "Length: 5978537 (5.7M) [application/octet-stream]\n",
            "Saving to: ‘cassandra_issues_in_commits_arquivos_criticos.xlsx’\n",
            "\n",
            "cassandra_issues_in 100%[===================>]   5.70M  --.-KB/s    in 0.06s   \n",
            "\n",
            "2023-11-02 19:32:47 (90.1 MB/s) - ‘cassandra_issues_in_commits_arquivos_criticos.xlsx’ saved [5978537/5978537]\n",
            "\n",
            "--2023-11-02 19:32:47--  https://raw.githubusercontent.com/armandossrecife/my_validation3/main/my_issues_to_inspection_cassandra.zip\n",
            "Resolving raw.githubusercontent.com (raw.githubusercontent.com)... 185.199.108.133, 185.199.109.133, 185.199.110.133, ...\n",
            "Connecting to raw.githubusercontent.com (raw.githubusercontent.com)|185.199.108.133|:443... connected.\n",
            "HTTP request sent, awaiting response... 200 OK\n",
            "Length: 394310 (385K) [application/zip]\n",
            "Saving to: ‘my_issues_to_inspection_cassandra.zip.2’\n",
            "\n",
            "my_issues_to_inspec 100%[===================>] 385.07K  --.-KB/s    in 0.03s   \n",
            "\n",
            "2023-11-02 19:32:47 (12.5 MB/s) - ‘my_issues_to_inspection_cassandra.zip.2’ saved [394310/394310]\n",
            "\n",
            "--2023-11-02 19:32:47--  https://raw.githubusercontent.com/armandossrecife/my_validation3/main/my_results_inspection_cassandra.zip\n",
            "Resolving raw.githubusercontent.com (raw.githubusercontent.com)... 185.199.108.133, 185.199.109.133, 185.199.110.133, ...\n",
            "Connecting to raw.githubusercontent.com (raw.githubusercontent.com)|185.199.108.133|:443... connected.\n",
            "HTTP request sent, awaiting response... 200 OK\n",
            "Length: 227685 (222K) [application/zip]\n",
            "Saving to: ‘my_results_inspection_cassandra.zip.1’\n",
            "\n",
            "my_results_inspecti 100%[===================>] 222.35K  --.-KB/s    in 0.03s   \n",
            "\n",
            "2023-11-02 19:32:47 (8.44 MB/s) - ‘my_results_inspection_cassandra.zip.1’ saved [227685/227685]\n",
            "\n",
            "--2023-11-02 19:32:47--  https://raw.githubusercontent.com/armandossrecife/my_validation3/main/kafka_commits_with_critical_classes.xlsx\n",
            "Resolving raw.githubusercontent.com (raw.githubusercontent.com)... 185.199.108.133, 185.199.109.133, 185.199.110.133, ...\n",
            "Connecting to raw.githubusercontent.com (raw.githubusercontent.com)|185.199.108.133|:443... connected.\n",
            "HTTP request sent, awaiting response... 200 OK\n",
            "Length: 5962720 (5.7M) [application/octet-stream]\n",
            "Saving to: ‘kafka_commits_with_critical_classes.xlsx’\n",
            "\n",
            "kafka_commits_with_ 100%[===================>]   5.69M  --.-KB/s    in 0.06s   \n",
            "\n",
            "2023-11-02 19:32:48 (93.8 MB/s) - ‘kafka_commits_with_critical_classes.xlsx’ saved [5962720/5962720]\n",
            "\n",
            "--2023-11-02 19:32:48--  https://raw.githubusercontent.com/armandossrecife/my_validation3/main/kafka_issues_in_commits_with_critical_classes.xlsx\n",
            "Resolving raw.githubusercontent.com (raw.githubusercontent.com)... 185.199.111.133, 185.199.109.133, 185.199.110.133, ...\n",
            "Connecting to raw.githubusercontent.com (raw.githubusercontent.com)|185.199.111.133|:443... connected.\n",
            "HTTP request sent, awaiting response... 200 OK\n",
            "Length: 749928 (732K) [application/octet-stream]\n",
            "Saving to: ‘kafka_issues_in_commits_with_critical_classes.xlsx’\n",
            "\n",
            "kafka_issues_in_com 100%[===================>] 732.35K  --.-KB/s    in 0.04s   \n",
            "\n",
            "2023-11-02 19:32:48 (19.0 MB/s) - ‘kafka_issues_in_commits_with_critical_classes.xlsx’ saved [749928/749928]\n",
            "\n",
            "--2023-11-02 19:32:48--  https://raw.githubusercontent.com/armandossrecife/my_validation3/main/my_issues_to_inspection_kafka.zip\n",
            "Resolving raw.githubusercontent.com (raw.githubusercontent.com)... 185.199.108.133, 185.199.109.133, 185.199.110.133, ...\n",
            "Connecting to raw.githubusercontent.com (raw.githubusercontent.com)|185.199.108.133|:443... connected.\n",
            "HTTP request sent, awaiting response... 200 OK\n",
            "Length: 231784 (226K) [application/zip]\n",
            "Saving to: ‘my_issues_to_inspection_kafka.zip.2’\n",
            "\n",
            "my_issues_to_inspec 100%[===================>] 226.35K  --.-KB/s    in 0.02s   \n",
            "\n",
            "2023-11-02 19:32:48 (10.7 MB/s) - ‘my_issues_to_inspection_kafka.zip.2’ saved [231784/231784]\n",
            "\n",
            "--2023-11-02 19:32:48--  https://raw.githubusercontent.com/armandossrecife/my_validation3/main/activemq_commits_with_critical_classes.xlsx\n",
            "Resolving raw.githubusercontent.com (raw.githubusercontent.com)... 185.199.110.133, 185.199.108.133, 185.199.111.133, ...\n",
            "Connecting to raw.githubusercontent.com (raw.githubusercontent.com)|185.199.110.133|:443... connected.\n",
            "HTTP request sent, awaiting response... 200 OK\n",
            "Length: 1721867 (1.6M) [application/octet-stream]\n",
            "Saving to: ‘activemq_commits_with_critical_classes.xlsx’\n",
            "\n",
            "activemq_commits_wi 100%[===================>]   1.64M  --.-KB/s    in 0.05s   \n",
            "\n",
            "2023-11-02 19:32:48 (31.9 MB/s) - ‘activemq_commits_with_critical_classes.xlsx’ saved [1721867/1721867]\n",
            "\n",
            "--2023-11-02 19:32:48--  https://raw.githubusercontent.com/armandossrecife/my_validation3/main/activemq_issues_in_commits_with_critical_classes.xlsx\n",
            "Resolving raw.githubusercontent.com (raw.githubusercontent.com)... 185.199.109.133, 185.199.111.133, 185.199.108.133, ...\n",
            "Connecting to raw.githubusercontent.com (raw.githubusercontent.com)|185.199.109.133|:443... connected.\n",
            "HTTP request sent, awaiting response... 200 OK\n",
            "Length: 319983 (312K) [application/octet-stream]\n",
            "Saving to: ‘activemq_issues_in_commits_with_critical_classes.xlsx’\n",
            "\n",
            "activemq_issues_in_ 100%[===================>] 312.48K  --.-KB/s    in 0.03s   \n",
            "\n",
            "2023-11-02 19:32:48 (10.5 MB/s) - ‘activemq_issues_in_commits_with_critical_classes.xlsx’ saved [319983/319983]\n",
            "\n",
            "--2023-11-02 19:32:48--  https://raw.githubusercontent.com/armandossrecife/my_validation3/main/my_issues_to_inspection_activemq.zip\n",
            "Resolving raw.githubusercontent.com (raw.githubusercontent.com)... 185.199.109.133, 185.199.108.133, 185.199.110.133, ...\n",
            "Connecting to raw.githubusercontent.com (raw.githubusercontent.com)|185.199.109.133|:443... connected.\n",
            "HTTP request sent, awaiting response... 200 OK\n",
            "Length: 137512 (134K) [application/zip]\n",
            "Saving to: ‘my_issues_to_inspection_activemq.zip.2’\n",
            "\n",
            "my_issues_to_inspec 100%[===================>] 134.29K  --.-KB/s    in 0.02s   \n",
            "\n",
            "2023-11-02 19:32:48 (6.61 MB/s) - ‘my_issues_to_inspection_activemq.zip.2’ saved [137512/137512]\n",
            "\n"
          ]
        }
      ],
      "source": [
        "# Dataset Cassandra\n",
        "!wget https://raw.githubusercontent.com/armandossrecife/my_validation3/main/cassandra_commits_arquivos_criticos.xlsx\n",
        "!wget https://raw.githubusercontent.com/armandossrecife/my_validation3/main/cassandra_issues_in_commits_arquivos_criticos.xlsx\n",
        "!wget https://raw.githubusercontent.com/armandossrecife/my_validation3/main/my_issues_to_inspection_cassandra.zip\n",
        "!wget https://raw.githubusercontent.com/armandossrecife/my_validation3/main/my_results_inspection_cassandra.zip\n",
        "\n",
        "# Dataset Kafka\n",
        "!wget https://raw.githubusercontent.com/armandossrecife/my_validation3/main/kafka_commits_with_critical_classes.xlsx\n",
        "!wget https://raw.githubusercontent.com/armandossrecife/my_validation3/main/kafka_issues_in_commits_with_critical_classes.xlsx\n",
        "!wget https://raw.githubusercontent.com/armandossrecife/my_validation3/main/my_issues_to_inspection_kafka.zip\n",
        "\n",
        "# Dataset ActiveMQ\n",
        "!wget https://raw.githubusercontent.com/armandossrecife/my_validation3/main/activemq_commits_with_critical_classes.xlsx\n",
        "!wget https://raw.githubusercontent.com/armandossrecife/my_validation3/main/activemq_issues_in_commits_with_critical_classes.xlsx\n",
        "!wget https://raw.githubusercontent.com/armandossrecife/my_validation3/main/my_issues_to_inspection_activemq.zip"
      ]
    },
    {
      "cell_type": "code",
      "source": [
        "#!rm -rf *.xlsx"
      ],
      "metadata": {
        "id": "mn6AODIdZr1I"
      },
      "execution_count": null,
      "outputs": []
    },
    {
      "cell_type": "markdown",
      "source": [
        "# Cria os Dataframes para análises"
      ],
      "metadata": {
        "id": "g_d3ha8zbXk0"
      }
    },
    {
      "cell_type": "code",
      "source": [
        "import pandas as pd\n",
        "\n",
        "df_cassandra_commits_critical_classes = pd.read_excel('cassandra_commits_arquivos_criticos.xlsx')\n",
        "df_kafka_commits_critical_classes = pd.read_excel('kafka_commits_with_critical_classes.xlsx')\n",
        "df_activemq_commits_critical_classes = pd.read_excel('activemq_commits_with_critical_classes.xlsx')\n",
        "df_cassandra_issues_commits_critical_classes = pd.read_excel('cassandra_issues_in_commits_arquivos_criticos.xlsx')\n",
        "df_kafka_issues_commits_critical_classes = pd.read_excel('kafka_issues_in_commits_with_critical_classes.xlsx')\n",
        "df_activemq_issues_commits_critical_classes = pd.read_excel('activemq_issues_in_commits_with_critical_classes.xlsx')"
      ],
      "metadata": {
        "id": "G-y_HreVbjDo"
      },
      "execution_count": null,
      "outputs": []
    },
    {
      "cell_type": "markdown",
      "source": [
        "# Importa arquivos de inspeção"
      ],
      "metadata": {
        "id": "gJdGsurthOhi"
      }
    },
    {
      "cell_type": "markdown",
      "source": [
        "## Importa os arquivos com os issues para inspecionar"
      ],
      "metadata": {
        "id": "Nj_cPcJ4f0X5"
      }
    },
    {
      "cell_type": "code",
      "source": [
        "#!rm -rf my_issues_cassandra\n",
        "#!rm -rf my_issues_kafka\n",
        "#!rm -rf my_issues_activemq"
      ],
      "metadata": {
        "id": "Ar_3EPPheQbX"
      },
      "execution_count": null,
      "outputs": []
    },
    {
      "cell_type": "code",
      "source": [
        "!mkdir my_issues_cassandra\n",
        "!unzip -q -d my_issues_cassandra my_issues_to_inspection_cassandra.zip\n",
        "qtd_t1 = !ls -l my_issues_cassandra/my_issues\n",
        "print(f'Qtd de issues do Cassandra para inspecionar: {len(qtd_t1)-1}')\n",
        "\n",
        "!mkdir my_issues_kafka\n",
        "!unzip -q -d my_issues_kafka my_issues_to_inspection_kafka.zip\n",
        "qtd_t2 = !ls -l my_issues_kafka/my_issues\n",
        "print(f'Qtd de issues do Kafka para inspecionar: {len(qtd_t2)-1}')\n",
        "\n",
        "!mkdir my_issues_activemq\n",
        "!unzip -q -d my_issues_activemq my_issues_to_inspection_activemq.zip\n",
        "qtd_t3 = !ls -l my_issues_activemq/my_issues\n",
        "print(f'Qtd de issues do ActiveMQ para inspecionar: {len(qtd_t3)-1}')"
      ],
      "metadata": {
        "colab": {
          "base_uri": "https://localhost:8080/"
        },
        "id": "PFKTacnadaDa",
        "outputId": "5ff7b01e-05a6-40f5-bbf3-12ece4753dea"
      },
      "execution_count": null,
      "outputs": [
        {
          "output_type": "stream",
          "name": "stdout",
          "text": [
            "Qtd de issues do Cassandra para inspecionar: 226\n",
            "Qtd de issues do Kafka para inspecionar: 179\n",
            "Qtd de issues do ActiveMQ para inspecionar: 132\n"
          ]
        }
      ]
    },
    {
      "cell_type": "markdown",
      "source": [
        "## Importa os resultados dos issues inspecionados"
      ],
      "metadata": {
        "id": "A0aC4lwrf7qV"
      }
    },
    {
      "cell_type": "code",
      "source": [
        "!mkdir my_inspected_issues_cassandra\n",
        "!unzip -q -d my_inspected_issues_cassandra my_results_inspection_cassandra.zip\n",
        "qtd_i1 = !ls -l my_inspected_issues_cassandra/merge_i1_i2\n",
        "print(f'Qtd de issues do Cassandra inspecionados: {len(qtd_i1)-1}')"
      ],
      "metadata": {
        "id": "lDxvD8uYfLEN"
      },
      "execution_count": null,
      "outputs": []
    }
  ]
}